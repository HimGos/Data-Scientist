{
 "cells": [
  {
   "cell_type": "code",
   "execution_count": 21,
   "outputs": [
    {
     "name": "stderr",
     "output_type": "stream",
     "text": [
      "100%|██████████| 29/29 [00:00<00:00, 45.11it/s]\n"
     ]
    },
    {
     "data": {
      "text/plain": "                               Accuracy  Balanced Accuracy ROC AUC  F1 Score  \\\nModel                                                                          \nAdaBoostClassifier                 1.00               1.00    None      1.00   \nLinearDiscriminantAnalysis         1.00               1.00    None      1.00   \nXGBClassifier                      1.00               1.00    None      1.00   \nSVC                                1.00               1.00    None      1.00   \nRandomForestClassifier             1.00               1.00    None      1.00   \nQuadraticDiscriminantAnalysis      1.00               1.00    None      1.00   \nPassiveAggressiveClassifier        1.00               1.00    None      1.00   \nNuSVC                              1.00               1.00    None      1.00   \nLogisticRegression                 1.00               1.00    None      1.00   \nBaggingClassifier                  1.00               1.00    None      1.00   \nLGBMClassifier                     1.00               1.00    None      1.00   \nKNeighborsClassifier               1.00               1.00    None      1.00   \nExtraTreesClassifier               1.00               1.00    None      1.00   \nDecisionTreeClassifier             1.00               1.00    None      1.00   \nLabelSpreading                     0.98               0.97    None      0.98   \nLabelPropagation                   0.98               0.97    None      0.98   \nGaussianNB                         0.98               0.97    None      0.98   \nExtraTreeClassifier                0.96               0.95    None      0.96   \nLinearSVC                          0.96               0.95    None      0.96   \nSGDClassifier                      0.91               0.90    None      0.91   \nCalibratedClassifierCV             0.91               0.90    None      0.91   \nPerceptron                         0.89               0.87    None      0.88   \nNearestCentroid                    0.82               0.79    None      0.82   \nRidgeClassifier                    0.82               0.79    None      0.82   \nRidgeClassifierCV                  0.82               0.79    None      0.82   \nBernoulliNB                        0.80               0.77    None      0.78   \nDummyClassifier                    0.29               0.33    None      0.13   \n\n                               Time Taken  \nModel                                      \nAdaBoostClassifier                   0.07  \nLinearDiscriminantAnalysis           0.01  \nXGBClassifier                        0.06  \nSVC                                  0.01  \nRandomForestClassifier               0.14  \nQuadraticDiscriminantAnalysis        0.01  \nPassiveAggressiveClassifier          0.01  \nNuSVC                                0.01  \nLogisticRegression                   0.01  \nBaggingClassifier                    0.02  \nLGBMClassifier                       0.05  \nKNeighborsClassifier                 0.01  \nExtraTreesClassifier                 0.09  \nDecisionTreeClassifier               0.01  \nLabelSpreading                       0.01  \nLabelPropagation                     0.01  \nGaussianNB                           0.01  \nExtraTreeClassifier                  0.01  \nLinearSVC                            0.01  \nSGDClassifier                        0.01  \nCalibratedClassifierCV               0.04  \nPerceptron                           0.01  \nNearestCentroid                      0.01  \nRidgeClassifier                      0.01  \nRidgeClassifierCV                    0.01  \nBernoulliNB                          0.01  \nDummyClassifier                      0.01  ",
      "text/html": "<div>\n<style scoped>\n    .dataframe tbody tr th:only-of-type {\n        vertical-align: middle;\n    }\n\n    .dataframe tbody tr th {\n        vertical-align: top;\n    }\n\n    .dataframe thead th {\n        text-align: right;\n    }\n</style>\n<table border=\"1\" class=\"dataframe\">\n  <thead>\n    <tr style=\"text-align: right;\">\n      <th></th>\n      <th>Accuracy</th>\n      <th>Balanced Accuracy</th>\n      <th>ROC AUC</th>\n      <th>F1 Score</th>\n      <th>Time Taken</th>\n    </tr>\n    <tr>\n      <th>Model</th>\n      <th></th>\n      <th></th>\n      <th></th>\n      <th></th>\n      <th></th>\n    </tr>\n  </thead>\n  <tbody>\n    <tr>\n      <th>AdaBoostClassifier</th>\n      <td>1.00</td>\n      <td>1.00</td>\n      <td>None</td>\n      <td>1.00</td>\n      <td>0.07</td>\n    </tr>\n    <tr>\n      <th>LinearDiscriminantAnalysis</th>\n      <td>1.00</td>\n      <td>1.00</td>\n      <td>None</td>\n      <td>1.00</td>\n      <td>0.01</td>\n    </tr>\n    <tr>\n      <th>XGBClassifier</th>\n      <td>1.00</td>\n      <td>1.00</td>\n      <td>None</td>\n      <td>1.00</td>\n      <td>0.06</td>\n    </tr>\n    <tr>\n      <th>SVC</th>\n      <td>1.00</td>\n      <td>1.00</td>\n      <td>None</td>\n      <td>1.00</td>\n      <td>0.01</td>\n    </tr>\n    <tr>\n      <th>RandomForestClassifier</th>\n      <td>1.00</td>\n      <td>1.00</td>\n      <td>None</td>\n      <td>1.00</td>\n      <td>0.14</td>\n    </tr>\n    <tr>\n      <th>QuadraticDiscriminantAnalysis</th>\n      <td>1.00</td>\n      <td>1.00</td>\n      <td>None</td>\n      <td>1.00</td>\n      <td>0.01</td>\n    </tr>\n    <tr>\n      <th>PassiveAggressiveClassifier</th>\n      <td>1.00</td>\n      <td>1.00</td>\n      <td>None</td>\n      <td>1.00</td>\n      <td>0.01</td>\n    </tr>\n    <tr>\n      <th>NuSVC</th>\n      <td>1.00</td>\n      <td>1.00</td>\n      <td>None</td>\n      <td>1.00</td>\n      <td>0.01</td>\n    </tr>\n    <tr>\n      <th>LogisticRegression</th>\n      <td>1.00</td>\n      <td>1.00</td>\n      <td>None</td>\n      <td>1.00</td>\n      <td>0.01</td>\n    </tr>\n    <tr>\n      <th>BaggingClassifier</th>\n      <td>1.00</td>\n      <td>1.00</td>\n      <td>None</td>\n      <td>1.00</td>\n      <td>0.02</td>\n    </tr>\n    <tr>\n      <th>LGBMClassifier</th>\n      <td>1.00</td>\n      <td>1.00</td>\n      <td>None</td>\n      <td>1.00</td>\n      <td>0.05</td>\n    </tr>\n    <tr>\n      <th>KNeighborsClassifier</th>\n      <td>1.00</td>\n      <td>1.00</td>\n      <td>None</td>\n      <td>1.00</td>\n      <td>0.01</td>\n    </tr>\n    <tr>\n      <th>ExtraTreesClassifier</th>\n      <td>1.00</td>\n      <td>1.00</td>\n      <td>None</td>\n      <td>1.00</td>\n      <td>0.09</td>\n    </tr>\n    <tr>\n      <th>DecisionTreeClassifier</th>\n      <td>1.00</td>\n      <td>1.00</td>\n      <td>None</td>\n      <td>1.00</td>\n      <td>0.01</td>\n    </tr>\n    <tr>\n      <th>LabelSpreading</th>\n      <td>0.98</td>\n      <td>0.97</td>\n      <td>None</td>\n      <td>0.98</td>\n      <td>0.01</td>\n    </tr>\n    <tr>\n      <th>LabelPropagation</th>\n      <td>0.98</td>\n      <td>0.97</td>\n      <td>None</td>\n      <td>0.98</td>\n      <td>0.01</td>\n    </tr>\n    <tr>\n      <th>GaussianNB</th>\n      <td>0.98</td>\n      <td>0.97</td>\n      <td>None</td>\n      <td>0.98</td>\n      <td>0.01</td>\n    </tr>\n    <tr>\n      <th>ExtraTreeClassifier</th>\n      <td>0.96</td>\n      <td>0.95</td>\n      <td>None</td>\n      <td>0.96</td>\n      <td>0.01</td>\n    </tr>\n    <tr>\n      <th>LinearSVC</th>\n      <td>0.96</td>\n      <td>0.95</td>\n      <td>None</td>\n      <td>0.96</td>\n      <td>0.01</td>\n    </tr>\n    <tr>\n      <th>SGDClassifier</th>\n      <td>0.91</td>\n      <td>0.90</td>\n      <td>None</td>\n      <td>0.91</td>\n      <td>0.01</td>\n    </tr>\n    <tr>\n      <th>CalibratedClassifierCV</th>\n      <td>0.91</td>\n      <td>0.90</td>\n      <td>None</td>\n      <td>0.91</td>\n      <td>0.04</td>\n    </tr>\n    <tr>\n      <th>Perceptron</th>\n      <td>0.89</td>\n      <td>0.87</td>\n      <td>None</td>\n      <td>0.88</td>\n      <td>0.01</td>\n    </tr>\n    <tr>\n      <th>NearestCentroid</th>\n      <td>0.82</td>\n      <td>0.79</td>\n      <td>None</td>\n      <td>0.82</td>\n      <td>0.01</td>\n    </tr>\n    <tr>\n      <th>RidgeClassifier</th>\n      <td>0.82</td>\n      <td>0.79</td>\n      <td>None</td>\n      <td>0.82</td>\n      <td>0.01</td>\n    </tr>\n    <tr>\n      <th>RidgeClassifierCV</th>\n      <td>0.82</td>\n      <td>0.79</td>\n      <td>None</td>\n      <td>0.82</td>\n      <td>0.01</td>\n    </tr>\n    <tr>\n      <th>BernoulliNB</th>\n      <td>0.80</td>\n      <td>0.77</td>\n      <td>None</td>\n      <td>0.78</td>\n      <td>0.01</td>\n    </tr>\n    <tr>\n      <th>DummyClassifier</th>\n      <td>0.29</td>\n      <td>0.33</td>\n      <td>None</td>\n      <td>0.13</td>\n      <td>0.01</td>\n    </tr>\n  </tbody>\n</table>\n</div>"
     },
     "execution_count": 21,
     "metadata": {},
     "output_type": "execute_result"
    }
   ],
   "source": [
    "from lazypredict.Supervised import LazyClassifier\n",
    "from sklearn.model_selection import train_test_split\n",
    "from sklearn.datasets import load_iris\n",
    "\n",
    "df = load_iris()\n",
    "X = df.data\n",
    "y = df.target\n",
    "\n",
    "X_train, X_test, y_train, y_test = train_test_split(X, y, test_size=0.3, random_state=42)\n",
    "\n",
    "reg = LazyClassifier(verbose=0, ignore_warnings=True, custom_metric=None)\n",
    "models, predictions = reg.fit(X_train, X_test, y_train, y_test)\n",
    "\n",
    "print(models)"
   ],
   "metadata": {
    "collapsed": false,
    "pycharm": {
     "name": "#%%\n"
    }
   }
  },
  {
   "cell_type": "code",
   "execution_count": null,
   "outputs": [],
   "source": [],
   "metadata": {
    "collapsed": false,
    "pycharm": {
     "name": "#%%\n"
    }
   }
  }
 ],
 "metadata": {
  "kernelspec": {
   "display_name": "Python 3",
   "language": "python",
   "name": "python3"
  },
  "language_info": {
   "codemirror_mode": {
    "name": "ipython",
    "version": 2
   },
   "file_extension": ".py",
   "mimetype": "text/x-python",
   "name": "python",
   "nbconvert_exporter": "python",
   "pygments_lexer": "ipython2",
   "version": "2.7.6"
  }
 },
 "nbformat": 4,
 "nbformat_minor": 0
}