{
 "cells": [
  {
   "cell_type": "code",
   "execution_count": 1,
   "metadata": {
    "collapsed": true,
    "pycharm": {
     "name": "#%%\n"
    },
    "id": "BjP6nhz62Zpd"
   },
   "outputs": [],
   "source": [
    "import pandas as pd\n",
    "import numpy as np\n",
    "\n",
    "df = pd.read_csv(\"winequality-red.csv\")"
   ]
  },
  {
   "cell_type": "code",
   "execution_count": 2,
   "outputs": [
    {
     "output_type": "execute_result",
     "data": {
      "text/plain": [
       "   fixed acidity  volatile acidity  citric acid  residual sugar  chlorides  \\\n",
       "0            7.4              0.70         0.00             1.9      0.076   \n",
       "1            7.8              0.88         0.00             2.6      0.098   \n",
       "2            7.8              0.76         0.04             2.3      0.092   \n",
       "3           11.2              0.28         0.56             1.9      0.075   \n",
       "4            7.4              0.70         0.00             1.9      0.076   \n",
       "\n",
       "   free sulfur dioxide  total sulfur dioxide  density    pH  sulphates  \\\n",
       "0                 11.0                  34.0   0.9978  3.51       0.56   \n",
       "1                 25.0                  67.0   0.9968  3.20       0.68   \n",
       "2                 15.0                  54.0   0.9970  3.26       0.65   \n",
       "3                 17.0                  60.0   0.9980  3.16       0.58   \n",
       "4                 11.0                  34.0   0.9978  3.51       0.56   \n",
       "\n",
       "   alcohol  quality  \n",
       "0      9.4        5  \n",
       "1      9.8        5  \n",
       "2      9.8        5  \n",
       "3      9.8        6  \n",
       "4      9.4        5  "
      ],
      "text/html": [
       "\n",
       "  <div id=\"df-0af64876-37f9-4828-834a-8038fdfda8a3\">\n",
       "    <div class=\"colab-df-container\">\n",
       "      <div>\n",
       "<style scoped>\n",
       "    .dataframe tbody tr th:only-of-type {\n",
       "        vertical-align: middle;\n",
       "    }\n",
       "\n",
       "    .dataframe tbody tr th {\n",
       "        vertical-align: top;\n",
       "    }\n",
       "\n",
       "    .dataframe thead th {\n",
       "        text-align: right;\n",
       "    }\n",
       "</style>\n",
       "<table border=\"1\" class=\"dataframe\">\n",
       "  <thead>\n",
       "    <tr style=\"text-align: right;\">\n",
       "      <th></th>\n",
       "      <th>fixed acidity</th>\n",
       "      <th>volatile acidity</th>\n",
       "      <th>citric acid</th>\n",
       "      <th>residual sugar</th>\n",
       "      <th>chlorides</th>\n",
       "      <th>free sulfur dioxide</th>\n",
       "      <th>total sulfur dioxide</th>\n",
       "      <th>density</th>\n",
       "      <th>pH</th>\n",
       "      <th>sulphates</th>\n",
       "      <th>alcohol</th>\n",
       "      <th>quality</th>\n",
       "    </tr>\n",
       "  </thead>\n",
       "  <tbody>\n",
       "    <tr>\n",
       "      <th>0</th>\n",
       "      <td>7.4</td>\n",
       "      <td>0.70</td>\n",
       "      <td>0.00</td>\n",
       "      <td>1.9</td>\n",
       "      <td>0.076</td>\n",
       "      <td>11.0</td>\n",
       "      <td>34.0</td>\n",
       "      <td>0.9978</td>\n",
       "      <td>3.51</td>\n",
       "      <td>0.56</td>\n",
       "      <td>9.4</td>\n",
       "      <td>5</td>\n",
       "    </tr>\n",
       "    <tr>\n",
       "      <th>1</th>\n",
       "      <td>7.8</td>\n",
       "      <td>0.88</td>\n",
       "      <td>0.00</td>\n",
       "      <td>2.6</td>\n",
       "      <td>0.098</td>\n",
       "      <td>25.0</td>\n",
       "      <td>67.0</td>\n",
       "      <td>0.9968</td>\n",
       "      <td>3.20</td>\n",
       "      <td>0.68</td>\n",
       "      <td>9.8</td>\n",
       "      <td>5</td>\n",
       "    </tr>\n",
       "    <tr>\n",
       "      <th>2</th>\n",
       "      <td>7.8</td>\n",
       "      <td>0.76</td>\n",
       "      <td>0.04</td>\n",
       "      <td>2.3</td>\n",
       "      <td>0.092</td>\n",
       "      <td>15.0</td>\n",
       "      <td>54.0</td>\n",
       "      <td>0.9970</td>\n",
       "      <td>3.26</td>\n",
       "      <td>0.65</td>\n",
       "      <td>9.8</td>\n",
       "      <td>5</td>\n",
       "    </tr>\n",
       "    <tr>\n",
       "      <th>3</th>\n",
       "      <td>11.2</td>\n",
       "      <td>0.28</td>\n",
       "      <td>0.56</td>\n",
       "      <td>1.9</td>\n",
       "      <td>0.075</td>\n",
       "      <td>17.0</td>\n",
       "      <td>60.0</td>\n",
       "      <td>0.9980</td>\n",
       "      <td>3.16</td>\n",
       "      <td>0.58</td>\n",
       "      <td>9.8</td>\n",
       "      <td>6</td>\n",
       "    </tr>\n",
       "    <tr>\n",
       "      <th>4</th>\n",
       "      <td>7.4</td>\n",
       "      <td>0.70</td>\n",
       "      <td>0.00</td>\n",
       "      <td>1.9</td>\n",
       "      <td>0.076</td>\n",
       "      <td>11.0</td>\n",
       "      <td>34.0</td>\n",
       "      <td>0.9978</td>\n",
       "      <td>3.51</td>\n",
       "      <td>0.56</td>\n",
       "      <td>9.4</td>\n",
       "      <td>5</td>\n",
       "    </tr>\n",
       "  </tbody>\n",
       "</table>\n",
       "</div>\n",
       "      <button class=\"colab-df-convert\" onclick=\"convertToInteractive('df-0af64876-37f9-4828-834a-8038fdfda8a3')\"\n",
       "              title=\"Convert this dataframe to an interactive table.\"\n",
       "              style=\"display:none;\">\n",
       "        \n",
       "  <svg xmlns=\"http://www.w3.org/2000/svg\" height=\"24px\"viewBox=\"0 0 24 24\"\n",
       "       width=\"24px\">\n",
       "    <path d=\"M0 0h24v24H0V0z\" fill=\"none\"/>\n",
       "    <path d=\"M18.56 5.44l.94 2.06.94-2.06 2.06-.94-2.06-.94-.94-2.06-.94 2.06-2.06.94zm-11 1L8.5 8.5l.94-2.06 2.06-.94-2.06-.94L8.5 2.5l-.94 2.06-2.06.94zm10 10l.94 2.06.94-2.06 2.06-.94-2.06-.94-.94-2.06-.94 2.06-2.06.94z\"/><path d=\"M17.41 7.96l-1.37-1.37c-.4-.4-.92-.59-1.43-.59-.52 0-1.04.2-1.43.59L10.3 9.45l-7.72 7.72c-.78.78-.78 2.05 0 2.83L4 21.41c.39.39.9.59 1.41.59.51 0 1.02-.2 1.41-.59l7.78-7.78 2.81-2.81c.8-.78.8-2.07 0-2.86zM5.41 20L4 18.59l7.72-7.72 1.47 1.35L5.41 20z\"/>\n",
       "  </svg>\n",
       "      </button>\n",
       "      \n",
       "  <style>\n",
       "    .colab-df-container {\n",
       "      display:flex;\n",
       "      flex-wrap:wrap;\n",
       "      gap: 12px;\n",
       "    }\n",
       "\n",
       "    .colab-df-convert {\n",
       "      background-color: #E8F0FE;\n",
       "      border: none;\n",
       "      border-radius: 50%;\n",
       "      cursor: pointer;\n",
       "      display: none;\n",
       "      fill: #1967D2;\n",
       "      height: 32px;\n",
       "      padding: 0 0 0 0;\n",
       "      width: 32px;\n",
       "    }\n",
       "\n",
       "    .colab-df-convert:hover {\n",
       "      background-color: #E2EBFA;\n",
       "      box-shadow: 0px 1px 2px rgba(60, 64, 67, 0.3), 0px 1px 3px 1px rgba(60, 64, 67, 0.15);\n",
       "      fill: #174EA6;\n",
       "    }\n",
       "\n",
       "    [theme=dark] .colab-df-convert {\n",
       "      background-color: #3B4455;\n",
       "      fill: #D2E3FC;\n",
       "    }\n",
       "\n",
       "    [theme=dark] .colab-df-convert:hover {\n",
       "      background-color: #434B5C;\n",
       "      box-shadow: 0px 1px 3px 1px rgba(0, 0, 0, 0.15);\n",
       "      filter: drop-shadow(0px 1px 2px rgba(0, 0, 0, 0.3));\n",
       "      fill: #FFFFFF;\n",
       "    }\n",
       "  </style>\n",
       "\n",
       "      <script>\n",
       "        const buttonEl =\n",
       "          document.querySelector('#df-0af64876-37f9-4828-834a-8038fdfda8a3 button.colab-df-convert');\n",
       "        buttonEl.style.display =\n",
       "          google.colab.kernel.accessAllowed ? 'block' : 'none';\n",
       "\n",
       "        async function convertToInteractive(key) {\n",
       "          const element = document.querySelector('#df-0af64876-37f9-4828-834a-8038fdfda8a3');\n",
       "          const dataTable =\n",
       "            await google.colab.kernel.invokeFunction('convertToInteractive',\n",
       "                                                     [key], {});\n",
       "          if (!dataTable) return;\n",
       "\n",
       "          const docLinkHtml = 'Like what you see? Visit the ' +\n",
       "            '<a target=\"_blank\" href=https://colab.research.google.com/notebooks/data_table.ipynb>data table notebook</a>'\n",
       "            + ' to learn more about interactive tables.';\n",
       "          element.innerHTML = '';\n",
       "          dataTable['output_type'] = 'display_data';\n",
       "          await google.colab.output.renderOutput(dataTable, element);\n",
       "          const docLink = document.createElement('div');\n",
       "          docLink.innerHTML = docLinkHtml;\n",
       "          element.appendChild(docLink);\n",
       "        }\n",
       "      </script>\n",
       "    </div>\n",
       "  </div>\n",
       "  "
      ]
     },
     "metadata": {},
     "execution_count": 2
    }
   ],
   "source": [
    "df.head()"
   ],
   "metadata": {
    "pycharm": {
     "name": "#%%\n"
    },
    "colab": {
     "base_uri": "https://localhost:8080/",
     "height": 285
    },
    "id": "3B99_NtL2Zpe",
    "outputId": "c7e58eee-dfce-44f3-c4b2-7ae15e34ed25"
   }
  },
  {
   "cell_type": "code",
   "execution_count": 3,
   "outputs": [
    {
     "output_type": "execute_result",
     "data": {
      "text/plain": [
       "array([5, 6, 7, 4, 8, 3])"
      ]
     },
     "metadata": {},
     "execution_count": 3
    }
   ],
   "source": [
    "df['quality'].unique()"
   ],
   "metadata": {
    "pycharm": {
     "name": "#%%\n"
    },
    "colab": {
     "base_uri": "https://localhost:8080/"
    },
    "id": "OOMa4QRw2Zpf",
    "outputId": "c8d7e767-0cd9-4dd8-db5d-8df35acbd1cf"
   }
  },
  {
   "cell_type": "code",
   "execution_count": 4,
   "outputs": [
    {
     "output_type": "execute_result",
     "data": {
      "text/plain": [
       "5    681\n",
       "6    638\n",
       "7    199\n",
       "4     53\n",
       "8     18\n",
       "3     10\n",
       "Name: quality, dtype: int64"
      ]
     },
     "metadata": {},
     "execution_count": 4
    }
   ],
   "source": [
    "df['quality'].value_counts()"
   ],
   "metadata": {
    "pycharm": {
     "name": "#%%\n"
    },
    "colab": {
     "base_uri": "https://localhost:8080/"
    },
    "id": "vuOR_FCx2Zpf",
    "outputId": "48b2c476-8d30-4c8a-cc5e-99f754d2ed95"
   }
  },
  {
   "cell_type": "code",
   "execution_count": 5,
   "outputs": [
    {
     "output_type": "execute_result",
     "data": {
      "text/plain": [
       "                       count       mean        std      min      25%  \\\n",
       "fixed acidity         1599.0   8.319637   1.741096  4.60000   7.1000   \n",
       "volatile acidity      1599.0   0.527821   0.179060  0.12000   0.3900   \n",
       "citric acid           1599.0   0.270976   0.194801  0.00000   0.0900   \n",
       "residual sugar        1599.0   2.538806   1.409928  0.90000   1.9000   \n",
       "chlorides             1599.0   0.087467   0.047065  0.01200   0.0700   \n",
       "free sulfur dioxide   1599.0  15.874922  10.460157  1.00000   7.0000   \n",
       "total sulfur dioxide  1599.0  46.467792  32.895324  6.00000  22.0000   \n",
       "density               1599.0   0.996747   0.001887  0.99007   0.9956   \n",
       "pH                    1599.0   3.311113   0.154386  2.74000   3.2100   \n",
       "sulphates             1599.0   0.658149   0.169507  0.33000   0.5500   \n",
       "alcohol               1599.0  10.422983   1.065668  8.40000   9.5000   \n",
       "quality               1599.0   5.636023   0.807569  3.00000   5.0000   \n",
       "\n",
       "                           50%        75%        max  \n",
       "fixed acidity          7.90000   9.200000   15.90000  \n",
       "volatile acidity       0.52000   0.640000    1.58000  \n",
       "citric acid            0.26000   0.420000    1.00000  \n",
       "residual sugar         2.20000   2.600000   15.50000  \n",
       "chlorides              0.07900   0.090000    0.61100  \n",
       "free sulfur dioxide   14.00000  21.000000   72.00000  \n",
       "total sulfur dioxide  38.00000  62.000000  289.00000  \n",
       "density                0.99675   0.997835    1.00369  \n",
       "pH                     3.31000   3.400000    4.01000  \n",
       "sulphates              0.62000   0.730000    2.00000  \n",
       "alcohol               10.20000  11.100000   14.90000  \n",
       "quality                6.00000   6.000000    8.00000  "
      ],
      "text/html": [
       "\n",
       "  <div id=\"df-86e16f93-776a-49df-bc95-4549e842438e\">\n",
       "    <div class=\"colab-df-container\">\n",
       "      <div>\n",
       "<style scoped>\n",
       "    .dataframe tbody tr th:only-of-type {\n",
       "        vertical-align: middle;\n",
       "    }\n",
       "\n",
       "    .dataframe tbody tr th {\n",
       "        vertical-align: top;\n",
       "    }\n",
       "\n",
       "    .dataframe thead th {\n",
       "        text-align: right;\n",
       "    }\n",
       "</style>\n",
       "<table border=\"1\" class=\"dataframe\">\n",
       "  <thead>\n",
       "    <tr style=\"text-align: right;\">\n",
       "      <th></th>\n",
       "      <th>count</th>\n",
       "      <th>mean</th>\n",
       "      <th>std</th>\n",
       "      <th>min</th>\n",
       "      <th>25%</th>\n",
       "      <th>50%</th>\n",
       "      <th>75%</th>\n",
       "      <th>max</th>\n",
       "    </tr>\n",
       "  </thead>\n",
       "  <tbody>\n",
       "    <tr>\n",
       "      <th>fixed acidity</th>\n",
       "      <td>1599.0</td>\n",
       "      <td>8.319637</td>\n",
       "      <td>1.741096</td>\n",
       "      <td>4.60000</td>\n",
       "      <td>7.1000</td>\n",
       "      <td>7.90000</td>\n",
       "      <td>9.200000</td>\n",
       "      <td>15.90000</td>\n",
       "    </tr>\n",
       "    <tr>\n",
       "      <th>volatile acidity</th>\n",
       "      <td>1599.0</td>\n",
       "      <td>0.527821</td>\n",
       "      <td>0.179060</td>\n",
       "      <td>0.12000</td>\n",
       "      <td>0.3900</td>\n",
       "      <td>0.52000</td>\n",
       "      <td>0.640000</td>\n",
       "      <td>1.58000</td>\n",
       "    </tr>\n",
       "    <tr>\n",
       "      <th>citric acid</th>\n",
       "      <td>1599.0</td>\n",
       "      <td>0.270976</td>\n",
       "      <td>0.194801</td>\n",
       "      <td>0.00000</td>\n",
       "      <td>0.0900</td>\n",
       "      <td>0.26000</td>\n",
       "      <td>0.420000</td>\n",
       "      <td>1.00000</td>\n",
       "    </tr>\n",
       "    <tr>\n",
       "      <th>residual sugar</th>\n",
       "      <td>1599.0</td>\n",
       "      <td>2.538806</td>\n",
       "      <td>1.409928</td>\n",
       "      <td>0.90000</td>\n",
       "      <td>1.9000</td>\n",
       "      <td>2.20000</td>\n",
       "      <td>2.600000</td>\n",
       "      <td>15.50000</td>\n",
       "    </tr>\n",
       "    <tr>\n",
       "      <th>chlorides</th>\n",
       "      <td>1599.0</td>\n",
       "      <td>0.087467</td>\n",
       "      <td>0.047065</td>\n",
       "      <td>0.01200</td>\n",
       "      <td>0.0700</td>\n",
       "      <td>0.07900</td>\n",
       "      <td>0.090000</td>\n",
       "      <td>0.61100</td>\n",
       "    </tr>\n",
       "    <tr>\n",
       "      <th>free sulfur dioxide</th>\n",
       "      <td>1599.0</td>\n",
       "      <td>15.874922</td>\n",
       "      <td>10.460157</td>\n",
       "      <td>1.00000</td>\n",
       "      <td>7.0000</td>\n",
       "      <td>14.00000</td>\n",
       "      <td>21.000000</td>\n",
       "      <td>72.00000</td>\n",
       "    </tr>\n",
       "    <tr>\n",
       "      <th>total sulfur dioxide</th>\n",
       "      <td>1599.0</td>\n",
       "      <td>46.467792</td>\n",
       "      <td>32.895324</td>\n",
       "      <td>6.00000</td>\n",
       "      <td>22.0000</td>\n",
       "      <td>38.00000</td>\n",
       "      <td>62.000000</td>\n",
       "      <td>289.00000</td>\n",
       "    </tr>\n",
       "    <tr>\n",
       "      <th>density</th>\n",
       "      <td>1599.0</td>\n",
       "      <td>0.996747</td>\n",
       "      <td>0.001887</td>\n",
       "      <td>0.99007</td>\n",
       "      <td>0.9956</td>\n",
       "      <td>0.99675</td>\n",
       "      <td>0.997835</td>\n",
       "      <td>1.00369</td>\n",
       "    </tr>\n",
       "    <tr>\n",
       "      <th>pH</th>\n",
       "      <td>1599.0</td>\n",
       "      <td>3.311113</td>\n",
       "      <td>0.154386</td>\n",
       "      <td>2.74000</td>\n",
       "      <td>3.2100</td>\n",
       "      <td>3.31000</td>\n",
       "      <td>3.400000</td>\n",
       "      <td>4.01000</td>\n",
       "    </tr>\n",
       "    <tr>\n",
       "      <th>sulphates</th>\n",
       "      <td>1599.0</td>\n",
       "      <td>0.658149</td>\n",
       "      <td>0.169507</td>\n",
       "      <td>0.33000</td>\n",
       "      <td>0.5500</td>\n",
       "      <td>0.62000</td>\n",
       "      <td>0.730000</td>\n",
       "      <td>2.00000</td>\n",
       "    </tr>\n",
       "    <tr>\n",
       "      <th>alcohol</th>\n",
       "      <td>1599.0</td>\n",
       "      <td>10.422983</td>\n",
       "      <td>1.065668</td>\n",
       "      <td>8.40000</td>\n",
       "      <td>9.5000</td>\n",
       "      <td>10.20000</td>\n",
       "      <td>11.100000</td>\n",
       "      <td>14.90000</td>\n",
       "    </tr>\n",
       "    <tr>\n",
       "      <th>quality</th>\n",
       "      <td>1599.0</td>\n",
       "      <td>5.636023</td>\n",
       "      <td>0.807569</td>\n",
       "      <td>3.00000</td>\n",
       "      <td>5.0000</td>\n",
       "      <td>6.00000</td>\n",
       "      <td>6.000000</td>\n",
       "      <td>8.00000</td>\n",
       "    </tr>\n",
       "  </tbody>\n",
       "</table>\n",
       "</div>\n",
       "      <button class=\"colab-df-convert\" onclick=\"convertToInteractive('df-86e16f93-776a-49df-bc95-4549e842438e')\"\n",
       "              title=\"Convert this dataframe to an interactive table.\"\n",
       "              style=\"display:none;\">\n",
       "        \n",
       "  <svg xmlns=\"http://www.w3.org/2000/svg\" height=\"24px\"viewBox=\"0 0 24 24\"\n",
       "       width=\"24px\">\n",
       "    <path d=\"M0 0h24v24H0V0z\" fill=\"none\"/>\n",
       "    <path d=\"M18.56 5.44l.94 2.06.94-2.06 2.06-.94-2.06-.94-.94-2.06-.94 2.06-2.06.94zm-11 1L8.5 8.5l.94-2.06 2.06-.94-2.06-.94L8.5 2.5l-.94 2.06-2.06.94zm10 10l.94 2.06.94-2.06 2.06-.94-2.06-.94-.94-2.06-.94 2.06-2.06.94z\"/><path d=\"M17.41 7.96l-1.37-1.37c-.4-.4-.92-.59-1.43-.59-.52 0-1.04.2-1.43.59L10.3 9.45l-7.72 7.72c-.78.78-.78 2.05 0 2.83L4 21.41c.39.39.9.59 1.41.59.51 0 1.02-.2 1.41-.59l7.78-7.78 2.81-2.81c.8-.78.8-2.07 0-2.86zM5.41 20L4 18.59l7.72-7.72 1.47 1.35L5.41 20z\"/>\n",
       "  </svg>\n",
       "      </button>\n",
       "      \n",
       "  <style>\n",
       "    .colab-df-container {\n",
       "      display:flex;\n",
       "      flex-wrap:wrap;\n",
       "      gap: 12px;\n",
       "    }\n",
       "\n",
       "    .colab-df-convert {\n",
       "      background-color: #E8F0FE;\n",
       "      border: none;\n",
       "      border-radius: 50%;\n",
       "      cursor: pointer;\n",
       "      display: none;\n",
       "      fill: #1967D2;\n",
       "      height: 32px;\n",
       "      padding: 0 0 0 0;\n",
       "      width: 32px;\n",
       "    }\n",
       "\n",
       "    .colab-df-convert:hover {\n",
       "      background-color: #E2EBFA;\n",
       "      box-shadow: 0px 1px 2px rgba(60, 64, 67, 0.3), 0px 1px 3px 1px rgba(60, 64, 67, 0.15);\n",
       "      fill: #174EA6;\n",
       "    }\n",
       "\n",
       "    [theme=dark] .colab-df-convert {\n",
       "      background-color: #3B4455;\n",
       "      fill: #D2E3FC;\n",
       "    }\n",
       "\n",
       "    [theme=dark] .colab-df-convert:hover {\n",
       "      background-color: #434B5C;\n",
       "      box-shadow: 0px 1px 3px 1px rgba(0, 0, 0, 0.15);\n",
       "      filter: drop-shadow(0px 1px 2px rgba(0, 0, 0, 0.3));\n",
       "      fill: #FFFFFF;\n",
       "    }\n",
       "  </style>\n",
       "\n",
       "      <script>\n",
       "        const buttonEl =\n",
       "          document.querySelector('#df-86e16f93-776a-49df-bc95-4549e842438e button.colab-df-convert');\n",
       "        buttonEl.style.display =\n",
       "          google.colab.kernel.accessAllowed ? 'block' : 'none';\n",
       "\n",
       "        async function convertToInteractive(key) {\n",
       "          const element = document.querySelector('#df-86e16f93-776a-49df-bc95-4549e842438e');\n",
       "          const dataTable =\n",
       "            await google.colab.kernel.invokeFunction('convertToInteractive',\n",
       "                                                     [key], {});\n",
       "          if (!dataTable) return;\n",
       "\n",
       "          const docLinkHtml = 'Like what you see? Visit the ' +\n",
       "            '<a target=\"_blank\" href=https://colab.research.google.com/notebooks/data_table.ipynb>data table notebook</a>'\n",
       "            + ' to learn more about interactive tables.';\n",
       "          element.innerHTML = '';\n",
       "          dataTable['output_type'] = 'display_data';\n",
       "          await google.colab.output.renderOutput(dataTable, element);\n",
       "          const docLink = document.createElement('div');\n",
       "          docLink.innerHTML = docLinkHtml;\n",
       "          element.appendChild(docLink);\n",
       "        }\n",
       "      </script>\n",
       "    </div>\n",
       "  </div>\n",
       "  "
      ]
     },
     "metadata": {},
     "execution_count": 5
    }
   ],
   "source": [
    "df.describe().T"
   ],
   "metadata": {
    "pycharm": {
     "name": "#%%\n"
    },
    "colab": {
     "base_uri": "https://localhost:8080/",
     "height": 426
    },
    "id": "Pt86avaX2Zpg",
    "outputId": "7fd5ba43-d5f7-478b-9e81-357aacd451de"
   }
  },
  {
   "cell_type": "code",
   "execution_count": 6,
   "outputs": [
    {
     "output_type": "execute_result",
     "data": {
      "text/plain": [
       "240"
      ]
     },
     "metadata": {},
     "execution_count": 6
    }
   ],
   "source": [
    "df.duplicated().sum()"
   ],
   "metadata": {
    "pycharm": {
     "name": "#%%\n"
    },
    "colab": {
     "base_uri": "https://localhost:8080/"
    },
    "id": "2dHt5njv2Zpg",
    "outputId": "e59603a3-c8f8-48e3-95af-5f5171527717"
   }
  },
  {
   "cell_type": "code",
   "execution_count": 7,
   "outputs": [],
   "source": [
    "df.drop_duplicates(inplace=True)"
   ],
   "metadata": {
    "pycharm": {
     "name": "#%%\n"
    },
    "id": "gLcMP_LR2Zpg"
   }
  },
  {
   "cell_type": "code",
   "execution_count": 8,
   "outputs": [
    {
     "output_type": "execute_result",
     "data": {
      "text/plain": [
       "0"
      ]
     },
     "metadata": {},
     "execution_count": 8
    }
   ],
   "source": [
    "df.duplicated().sum()"
   ],
   "metadata": {
    "pycharm": {
     "name": "#%%\n"
    },
    "colab": {
     "base_uri": "https://localhost:8080/"
    },
    "id": "iaET2zOD2Zpg",
    "outputId": "a3b25551-7338-47e4-ff43-09ab73c68551"
   }
  },
  {
   "cell_type": "markdown",
   "source": [
    "## Scaling not required in Decision Tree\n",
    "\n",
    "Because it doesn't affect"
   ],
   "metadata": {
    "collapsed": false,
    "pycharm": {
     "name": "#%% md\n"
    },
    "id": "iBNKS4Yi2Zpg"
   }
  },
  {
   "cell_type": "code",
   "execution_count": 9,
   "outputs": [
    {
     "output_type": "execute_result",
     "data": {
      "text/plain": [
       "'from sklearn.preprocessing import StandardScaler\\n\\nscaler = StandardScaler()\\nscaler.fit()\\nscaler.transform()'"
      ],
      "application/vnd.google.colaboratory.intrinsic+json": {
       "type": "string"
      }
     },
     "metadata": {},
     "execution_count": 9
    }
   ],
   "source": [
    "\"\"\"from sklearn.preprocessing import StandardScaler\n",
    "\n",
    "scaler = StandardScaler()\n",
    "scaler.fit()\n",
    "scaler.transform()\"\"\""
   ],
   "metadata": {
    "pycharm": {
     "name": "#%%\n"
    },
    "colab": {
     "base_uri": "https://localhost:8080/",
     "height": 53
    },
    "id": "x4SQ9LlB2Zpi",
    "outputId": "96d2776b-e610-468b-ed88-22afe225393d"
   }
  },
  {
   "cell_type": "code",
   "execution_count": 10,
   "outputs": [],
   "source": [
    "from sklearn.model_selection import train_test_split\n",
    "\n",
    "X = df.drop('quality', axis=1)\n",
    "y = df['quality']\n",
    "\n",
    "X_train, X_test, y_train, y_test = train_test_split(X,y,test_size=0.33, random_state=42)"
   ],
   "metadata": {
    "pycharm": {
     "name": "#%%\n"
    },
    "id": "pJFkDWOu2Zpi"
   }
  },
  {
   "cell_type": "code",
   "execution_count": 11,
   "outputs": [
    {
     "output_type": "execute_result",
     "data": {
      "text/plain": [
       "DecisionTreeClassifier()"
      ]
     },
     "metadata": {},
     "execution_count": 11
    }
   ],
   "source": [
    "from sklearn.tree import DecisionTreeClassifier\n",
    "\n",
    "model = DecisionTreeClassifier()\n",
    "\n",
    "model.fit(X_train, y_train)"
   ],
   "metadata": {
    "pycharm": {
     "name": "#%%\n"
    },
    "colab": {
     "base_uri": "https://localhost:8080/"
    },
    "id": "Zyusn0g22Zpj",
    "outputId": "630a2f14-7a62-4f2c-a57a-388f9947a22e"
   }
  },
  {
   "cell_type": "code",
   "execution_count": 12,
   "outputs": [
    {
     "output_type": "execute_result",
     "data": {
      "text/plain": [
       "1.0"
      ]
     },
     "metadata": {},
     "execution_count": 12
    }
   ],
   "source": [
    "model.score(X_train, y_train)"
   ],
   "metadata": {
    "pycharm": {
     "name": "#%%\n"
    },
    "colab": {
     "base_uri": "https://localhost:8080/"
    },
    "id": "Nazeby_J2Zpj",
    "outputId": "a32ac703-fd3a-43c3-e19f-cc34f0188a83"
   }
  },
  {
   "cell_type": "markdown",
   "source": [
    "> Model is overfitted"
   ],
   "metadata": {
    "collapsed": false,
    "pycharm": {
     "name": "#%% md\n"
    },
    "id": "NiLTffVr2Zpk"
   }
  },
  {
   "cell_type": "code",
   "execution_count": 13,
   "outputs": [
    {
     "output_type": "execute_result",
     "data": {
      "text/plain": [
       "[Text(0.49521226025132276, 0.9761904761904762, 'X[10] <= 10.15\\ngini = 0.652\\nsamples = 910\\nvalue = [5, 38, 385, 354, 115, 13]'),\n",
       " Text(0.3010395998677249, 0.9285714285714286, 'X[6] <= 91.5\\ngini = 0.53\\nsamples = 462\\nvalue = [4, 24, 288, 129, 15, 2]'),\n",
       " Text(0.15551835317460316, 0.8809523809523809, 'X[1] <= 0.417\\ngini = 0.575\\nsamples = 377\\nvalue = [4, 23, 212, 121, 15, 2]'),\n",
       " Text(0.06772486772486773, 0.8333333333333334, 'X[9] <= 0.655\\ngini = 0.622\\nsamples = 84\\nvalue = [0, 2, 30, 41, 9, 2]'),\n",
       " Text(0.031746031746031744, 0.7857142857142857, 'X[4] <= 0.079\\ngini = 0.52\\nsamples = 47\\nvalue = [0, 1, 24, 22, 0, 0]'),\n",
       " Text(0.016931216931216932, 0.7380952380952381, 'X[5] <= 31.5\\ngini = 0.475\\nsamples = 18\\nvalue = [0, 1, 5, 12, 0, 0]'),\n",
       " Text(0.012698412698412698, 0.6904761904761905, 'X[0] <= 6.25\\ngini = 0.398\\nsamples = 16\\nvalue = [0, 1, 3, 12, 0, 0]'),\n",
       " Text(0.008465608465608466, 0.6428571428571429, 'gini = 0.0\\nsamples = 1\\nvalue = [0, 0, 1, 0, 0, 0]'),\n",
       " Text(0.016931216931216932, 0.6428571428571429, 'X[9] <= 0.645\\ngini = 0.338\\nsamples = 15\\nvalue = [0, 1, 2, 12, 0, 0]'),\n",
       " Text(0.012698412698412698, 0.5952380952380952, 'X[3] <= 2.85\\ngini = 0.255\\nsamples = 14\\nvalue = [0, 1, 1, 12, 0, 0]'),\n",
       " Text(0.008465608465608466, 0.5476190476190477, 'X[10] <= 9.95\\ngini = 0.142\\nsamples = 13\\nvalue = [0, 1, 0, 12, 0, 0]'),\n",
       " Text(0.004232804232804233, 0.5, 'gini = 0.0\\nsamples = 11\\nvalue = [0, 0, 0, 11, 0, 0]'),\n",
       " Text(0.012698412698412698, 0.5, 'X[9] <= 0.59\\ngini = 0.5\\nsamples = 2\\nvalue = [0, 1, 0, 1, 0, 0]'),\n",
       " Text(0.008465608465608466, 0.4523809523809524, 'gini = 0.0\\nsamples = 1\\nvalue = [0, 1, 0, 0, 0, 0]'),\n",
       " Text(0.016931216931216932, 0.4523809523809524, 'gini = 0.0\\nsamples = 1\\nvalue = [0, 0, 0, 1, 0, 0]'),\n",
       " Text(0.016931216931216932, 0.5476190476190477, 'gini = 0.0\\nsamples = 1\\nvalue = [0, 0, 1, 0, 0, 0]'),\n",
       " Text(0.021164021164021163, 0.5952380952380952, 'gini = 0.0\\nsamples = 1\\nvalue = [0, 0, 1, 0, 0, 0]'),\n",
       " Text(0.021164021164021163, 0.6904761904761905, 'gini = 0.0\\nsamples = 2\\nvalue = [0, 0, 2, 0, 0, 0]'),\n",
       " Text(0.04656084656084656, 0.7380952380952381, 'X[8] <= 3.37\\ngini = 0.452\\nsamples = 29\\nvalue = [0, 0, 19, 10, 0, 0]'),\n",
       " Text(0.0380952380952381, 0.6904761904761905, 'X[4] <= 0.191\\ngini = 0.231\\nsamples = 15\\nvalue = [0, 0, 13, 2, 0, 0]'),\n",
       " Text(0.033862433862433865, 0.6428571428571429, 'X[10] <= 9.1\\ngini = 0.133\\nsamples = 14\\nvalue = [0, 0, 13, 1, 0, 0]'),\n",
       " Text(0.02962962962962963, 0.5952380952380952, 'X[5] <= 19.5\\ngini = 0.5\\nsamples = 2\\nvalue = [0, 0, 1, 1, 0, 0]'),\n",
       " Text(0.025396825396825397, 0.5476190476190477, 'gini = 0.0\\nsamples = 1\\nvalue = [0, 0, 0, 1, 0, 0]'),\n",
       " Text(0.033862433862433865, 0.5476190476190477, 'gini = 0.0\\nsamples = 1\\nvalue = [0, 0, 1, 0, 0, 0]'),\n",
       " Text(0.0380952380952381, 0.5952380952380952, 'gini = 0.0\\nsamples = 12\\nvalue = [0, 0, 12, 0, 0, 0]'),\n",
       " Text(0.042328042328042326, 0.6428571428571429, 'gini = 0.0\\nsamples = 1\\nvalue = [0, 0, 0, 1, 0, 0]'),\n",
       " Text(0.05502645502645503, 0.6904761904761905, 'X[10] <= 9.45\\ngini = 0.49\\nsamples = 14\\nvalue = [0, 0, 6, 8, 0, 0]'),\n",
       " Text(0.050793650793650794, 0.6428571428571429, 'gini = 0.0\\nsamples = 5\\nvalue = [0, 0, 5, 0, 0, 0]'),\n",
       " Text(0.05925925925925926, 0.6428571428571429, 'X[8] <= 3.495\\ngini = 0.198\\nsamples = 9\\nvalue = [0, 0, 1, 8, 0, 0]'),\n",
       " Text(0.05502645502645503, 0.5952380952380952, 'gini = 0.0\\nsamples = 8\\nvalue = [0, 0, 0, 8, 0, 0]'),\n",
       " Text(0.06349206349206349, 0.5952380952380952, 'gini = 0.0\\nsamples = 1\\nvalue = [0, 0, 1, 0, 0, 0]'),\n",
       " Text(0.1037037037037037, 0.7857142857142857, 'X[6] <= 31.5\\ngini = 0.647\\nsamples = 37\\nvalue = [0, 1, 6, 19, 9, 2]'),\n",
       " Text(0.08465608465608465, 0.7380952380952381, 'X[5] <= 9.5\\ngini = 0.706\\nsamples = 17\\nvalue = [0, 0, 4, 4, 7, 2]'),\n",
       " Text(0.07195767195767196, 0.6904761904761905, 'X[4] <= 0.073\\ngini = 0.691\\nsamples = 9\\nvalue = [0, 0, 2, 4, 1, 2]'),\n",
       " Text(0.06772486772486773, 0.6428571428571429, 'gini = 0.0\\nsamples = 2\\nvalue = [0, 0, 0, 0, 0, 2]'),\n",
       " Text(0.0761904761904762, 0.6428571428571429, 'X[3] <= 1.9\\ngini = 0.571\\nsamples = 7\\nvalue = [0, 0, 2, 4, 1, 0]'),\n",
       " Text(0.07195767195767196, 0.5952380952380952, 'gini = 0.0\\nsamples = 4\\nvalue = [0, 0, 0, 4, 0, 0]'),\n",
       " Text(0.08042328042328042, 0.5952380952380952, 'X[7] <= 0.998\\ngini = 0.444\\nsamples = 3\\nvalue = [0, 0, 2, 0, 1, 0]'),\n",
       " Text(0.0761904761904762, 0.5476190476190477, 'gini = 0.0\\nsamples = 1\\nvalue = [0, 0, 0, 0, 1, 0]'),\n",
       " Text(0.08465608465608465, 0.5476190476190477, 'gini = 0.0\\nsamples = 2\\nvalue = [0, 0, 2, 0, 0, 0]'),\n",
       " Text(0.09735449735449736, 0.6904761904761905, 'X[7] <= 1.0\\ngini = 0.375\\nsamples = 8\\nvalue = [0, 0, 2, 0, 6, 0]'),\n",
       " Text(0.09312169312169312, 0.6428571428571429, 'X[4] <= 0.062\\ngini = 0.245\\nsamples = 7\\nvalue = [0, 0, 1, 0, 6, 0]'),\n",
       " Text(0.08888888888888889, 0.5952380952380952, 'gini = 0.0\\nsamples = 1\\nvalue = [0, 0, 1, 0, 0, 0]'),\n",
       " Text(0.09735449735449736, 0.5952380952380952, 'gini = 0.0\\nsamples = 6\\nvalue = [0, 0, 0, 0, 6, 0]'),\n",
       " Text(0.10158730158730159, 0.6428571428571429, 'gini = 0.0\\nsamples = 1\\nvalue = [0, 0, 1, 0, 0, 0]'),\n",
       " Text(0.12275132275132275, 0.7380952380952381, 'X[6] <= 82.5\\ngini = 0.415\\nsamples = 20\\nvalue = [0, 1, 2, 15, 2, 0]'),\n",
       " Text(0.11428571428571428, 0.6904761904761905, 'X[4] <= 0.476\\ngini = 0.29\\nsamples = 18\\nvalue = [0, 0, 1, 15, 2, 0]'),\n",
       " Text(0.11005291005291006, 0.6428571428571429, 'X[8] <= 3.025\\ngini = 0.208\\nsamples = 17\\nvalue = [0, 0, 0, 15, 2, 0]'),\n",
       " Text(0.10582010582010581, 0.5952380952380952, 'gini = 0.0\\nsamples = 1\\nvalue = [0, 0, 0, 0, 1, 0]'),\n",
       " Text(0.11428571428571428, 0.5952380952380952, 'X[2] <= 0.37\\ngini = 0.117\\nsamples = 16\\nvalue = [0, 0, 0, 15, 1, 0]'),\n",
       " Text(0.11005291005291006, 0.5476190476190477, 'X[7] <= 0.998\\ngini = 0.375\\nsamples = 4\\nvalue = [0, 0, 0, 3, 1, 0]'),\n",
       " Text(0.10582010582010581, 0.5, 'gini = 0.0\\nsamples = 3\\nvalue = [0, 0, 0, 3, 0, 0]'),\n",
       " Text(0.11428571428571428, 0.5, 'gini = 0.0\\nsamples = 1\\nvalue = [0, 0, 0, 0, 1, 0]'),\n",
       " Text(0.11851851851851852, 0.5476190476190477, 'gini = 0.0\\nsamples = 12\\nvalue = [0, 0, 0, 12, 0, 0]'),\n",
       " Text(0.11851851851851852, 0.6428571428571429, 'gini = 0.0\\nsamples = 1\\nvalue = [0, 0, 1, 0, 0, 0]'),\n",
       " Text(0.1312169312169312, 0.6904761904761905, 'X[5] <= 25.0\\ngini = 0.5\\nsamples = 2\\nvalue = [0, 1, 1, 0, 0, 0]'),\n",
       " Text(0.12698412698412698, 0.6428571428571429, 'gini = 0.0\\nsamples = 1\\nvalue = [0, 1, 0, 0, 0, 0]'),\n",
       " Text(0.13544973544973546, 0.6428571428571429, 'gini = 0.0\\nsamples = 1\\nvalue = [0, 0, 1, 0, 0, 0]'),\n",
       " Text(0.2433118386243386, 0.8333333333333334, 'X[9] <= 0.535\\ngini = 0.534\\nsamples = 293\\nvalue = [4, 21, 182, 80, 6, 0]'),\n",
       " Text(0.15873015873015872, 0.7857142857142857, 'X[10] <= 9.05\\ngini = 0.456\\nsamples = 80\\nvalue = [1, 13, 57, 8, 1, 0]'),\n",
       " Text(0.1544973544973545, 0.7380952380952381, 'gini = 0.0\\nsamples = 2\\nvalue = [0, 2, 0, 0, 0, 0]'),\n",
       " Text(0.16296296296296298, 0.7380952380952381, 'X[1] <= 0.877\\ngini = 0.435\\nsamples = 78\\nvalue = [1, 11, 57, 8, 1, 0]'),\n",
       " Text(0.1523809523809524, 0.6904761904761905, 'X[3] <= 1.25\\ngini = 0.399\\nsamples = 71\\nvalue = [1, 7, 54, 8, 1, 0]'),\n",
       " Text(0.1439153439153439, 0.6428571428571429, 'X[9] <= 0.49\\ngini = 0.5\\nsamples = 2\\nvalue = [1, 0, 0, 0, 1, 0]'),\n",
       " Text(0.13968253968253969, 0.5952380952380952, 'gini = 0.0\\nsamples = 1\\nvalue = [0, 0, 0, 0, 1, 0]'),\n",
       " Text(0.14814814814814814, 0.5952380952380952, 'gini = 0.0\\nsamples = 1\\nvalue = [1, 0, 0, 0, 0, 0]'),\n",
       " Text(0.16084656084656085, 0.6428571428571429, 'X[7] <= 0.996\\ngini = 0.364\\nsamples = 69\\nvalue = [0, 7, 54, 8, 0, 0]'),\n",
       " Text(0.15661375661375662, 0.5952380952380952, 'gini = 0.0\\nsamples = 23\\nvalue = [0, 0, 23, 0, 0, 0]'),\n",
       " Text(0.16507936507936508, 0.5952380952380952, 'X[4] <= 0.08\\ngini = 0.492\\nsamples = 46\\nvalue = [0, 7, 31, 8, 0, 0]'),\n",
       " Text(0.14603174603174604, 0.5476190476190477, 'X[10] <= 9.35\\ngini = 0.498\\nsamples = 15\\nvalue = [0, 0, 8, 7, 0, 0]'),\n",
       " Text(0.14179894179894179, 0.5, 'gini = 0.0\\nsamples = 5\\nvalue = [0, 0, 5, 0, 0, 0]'),\n",
       " Text(0.15026455026455027, 0.5, 'X[2] <= 0.105\\ngini = 0.42\\nsamples = 10\\nvalue = [0, 0, 3, 7, 0, 0]'),\n",
       " Text(0.14179894179894179, 0.4523809523809524, 'X[9] <= 0.525\\ngini = 0.444\\nsamples = 3\\nvalue = [0, 0, 2, 1, 0, 0]'),\n",
       " Text(0.13756613756613756, 0.40476190476190477, 'gini = 0.0\\nsamples = 2\\nvalue = [0, 0, 2, 0, 0, 0]'),\n",
       " Text(0.14603174603174604, 0.40476190476190477, 'gini = 0.0\\nsamples = 1\\nvalue = [0, 0, 0, 1, 0, 0]'),\n",
       " Text(0.15873015873015872, 0.4523809523809524, 'X[1] <= 0.772\\ngini = 0.245\\nsamples = 7\\nvalue = [0, 0, 1, 6, 0, 0]'),\n",
       " Text(0.1544973544973545, 0.40476190476190477, 'gini = 0.0\\nsamples = 6\\nvalue = [0, 0, 0, 6, 0, 0]'),\n",
       " Text(0.16296296296296298, 0.40476190476190477, 'gini = 0.0\\nsamples = 1\\nvalue = [0, 0, 1, 0, 0, 0]'),\n",
       " Text(0.18412698412698414, 0.5476190476190477, 'X[7] <= 0.998\\ngini = 0.398\\nsamples = 31\\nvalue = [0, 7, 23, 1, 0, 0]'),\n",
       " Text(0.17989417989417988, 0.5, 'X[8] <= 3.385\\ngini = 0.492\\nsamples = 22\\nvalue = [0, 7, 14, 1, 0, 0]'),\n",
       " Text(0.17566137566137566, 0.4523809523809524, 'X[8] <= 3.255\\ngini = 0.555\\nsamples = 16\\nvalue = [0, 7, 8, 1, 0, 0]'),\n",
       " Text(0.17142857142857143, 0.40476190476190477, 'gini = 0.0\\nsamples = 5\\nvalue = [0, 0, 5, 0, 0, 0]'),\n",
       " Text(0.17989417989417988, 0.40476190476190477, 'X[10] <= 9.5\\ngini = 0.512\\nsamples = 11\\nvalue = [0, 7, 3, 1, 0, 0]'),\n",
       " Text(0.17566137566137566, 0.35714285714285715, 'X[7] <= 0.998\\ngini = 0.611\\nsamples = 6\\nvalue = [0, 2, 3, 1, 0, 0]'),\n",
       " Text(0.17142857142857143, 0.30952380952380953, 'X[1] <= 0.59\\ngini = 0.375\\nsamples = 4\\nvalue = [0, 0, 3, 1, 0, 0]'),\n",
       " Text(0.1671957671957672, 0.2619047619047619, 'gini = 0.0\\nsamples = 1\\nvalue = [0, 0, 0, 1, 0, 0]'),\n",
       " Text(0.17566137566137566, 0.2619047619047619, 'gini = 0.0\\nsamples = 3\\nvalue = [0, 0, 3, 0, 0, 0]'),\n",
       " Text(0.17989417989417988, 0.30952380952380953, 'gini = 0.0\\nsamples = 2\\nvalue = [0, 2, 0, 0, 0, 0]'),\n",
       " Text(0.18412698412698414, 0.35714285714285715, 'gini = 0.0\\nsamples = 5\\nvalue = [0, 5, 0, 0, 0, 0]'),\n",
       " Text(0.18412698412698414, 0.4523809523809524, 'gini = 0.0\\nsamples = 6\\nvalue = [0, 0, 6, 0, 0, 0]'),\n",
       " Text(0.18835978835978837, 0.5, 'gini = 0.0\\nsamples = 9\\nvalue = [0, 0, 9, 0, 0, 0]'),\n",
       " Text(0.17354497354497356, 0.6904761904761905, 'X[1] <= 0.96\\ngini = 0.49\\nsamples = 7\\nvalue = [0, 4, 3, 0, 0, 0]'),\n",
       " Text(0.1693121693121693, 0.6428571428571429, 'gini = 0.0\\nsamples = 3\\nvalue = [0, 3, 0, 0, 0, 0]'),\n",
       " Text(0.17777777777777778, 0.6428571428571429, 'X[1] <= 1.082\\ngini = 0.375\\nsamples = 4\\nvalue = [0, 1, 3, 0, 0, 0]'),\n",
       " Text(0.17354497354497356, 0.5952380952380952, 'gini = 0.0\\nsamples = 3\\nvalue = [0, 0, 3, 0, 0, 0]'),\n",
       " Text(0.182010582010582, 0.5952380952380952, 'gini = 0.0\\nsamples = 1\\nvalue = [0, 1, 0, 0, 0, 0]'),\n",
       " Text(0.3278935185185185, 0.7857142857142857, 'X[7] <= 0.998\\ngini = 0.539\\nsamples = 213\\nvalue = [3, 8, 125, 72, 5, 0]'),\n",
       " Text(0.2655753968253968, 0.7380952380952381, 'X[7] <= 0.995\\ngini = 0.477\\nsamples = 151\\nvalue = [1, 3, 99, 46, 2, 0]'),\n",
       " Text(0.24616402116402117, 0.6904761904761905, 'X[4] <= 0.078\\ngini = 0.32\\nsamples = 5\\nvalue = [0, 1, 0, 4, 0, 0]'),\n",
       " Text(0.24193121693121694, 0.6428571428571429, 'gini = 0.0\\nsamples = 4\\nvalue = [0, 0, 0, 4, 0, 0]'),\n",
       " Text(0.2503968253968254, 0.6428571428571429, 'gini = 0.0\\nsamples = 1\\nvalue = [0, 1, 0, 0, 0, 0]'),\n",
       " Text(0.2849867724867725, 0.6904761904761905, 'X[1] <= 0.652\\ngini = 0.457\\nsamples = 146\\nvalue = [1, 2, 99, 42, 2, 0]'),\n",
       " Text(0.25886243386243385, 0.6428571428571429, 'X[7] <= 0.997\\ngini = 0.494\\nsamples = 89\\nvalue = [0, 0, 54, 33, 2, 0]'),\n",
       " Text(0.23677248677248677, 0.5952380952380952, 'X[2] <= 0.045\\ngini = 0.471\\nsamples = 80\\nvalue = [0, 0, 52, 26, 2, 0]'),\n",
       " Text(0.2052910052910053, 0.5476190476190477, 'X[5] <= 17.5\\ngini = 0.537\\nsamples = 18\\nvalue = [0, 0, 7, 10, 1, 0]'),\n",
       " Text(0.20105820105820105, 0.5, 'X[0] <= 6.8\\ngini = 0.439\\nsamples = 14\\nvalue = [0, 0, 3, 10, 1, 0]'),\n",
       " Text(0.1925925925925926, 0.4523809523809524, 'X[3] <= 2.15\\ngini = 0.444\\nsamples = 3\\nvalue = [0, 0, 2, 1, 0, 0]'),\n",
       " Text(0.18835978835978837, 0.40476190476190477, 'gini = 0.0\\nsamples = 2\\nvalue = [0, 0, 2, 0, 0, 0]'),\n",
       " Text(0.19682539682539682, 0.40476190476190477, 'gini = 0.0\\nsamples = 1\\nvalue = [0, 0, 0, 1, 0, 0]'),\n",
       " Text(0.20952380952380953, 0.4523809523809524, 'X[1] <= 0.525\\ngini = 0.314\\nsamples = 11\\nvalue = [0, 0, 1, 9, 1, 0]'),\n",
       " Text(0.2052910052910053, 0.40476190476190477, 'gini = 0.0\\nsamples = 1\\nvalue = [0, 0, 1, 0, 0, 0]'),\n",
       " Text(0.21375661375661376, 0.40476190476190477, 'X[9] <= 0.575\\ngini = 0.18\\nsamples = 10\\nvalue = [0, 0, 0, 9, 1, 0]'),\n",
       " Text(0.20952380952380953, 0.35714285714285715, 'X[7] <= 0.997\\ngini = 0.5\\nsamples = 2\\nvalue = [0, 0, 0, 1, 1, 0]'),\n",
       " Text(0.2052910052910053, 0.30952380952380953, 'gini = 0.0\\nsamples = 1\\nvalue = [0, 0, 0, 1, 0, 0]'),\n",
       " Text(0.21375661375661376, 0.30952380952380953, 'gini = 0.0\\nsamples = 1\\nvalue = [0, 0, 0, 0, 1, 0]'),\n",
       " Text(0.21798941798941798, 0.35714285714285715, 'gini = 0.0\\nsamples = 8\\nvalue = [0, 0, 0, 8, 0, 0]'),\n",
       " Text(0.20952380952380953, 0.5, 'gini = 0.0\\nsamples = 4\\nvalue = [0, 0, 4, 0, 0, 0]'),\n",
       " Text(0.26825396825396824, 0.5476190476190477, 'X[7] <= 0.997\\ngini = 0.406\\nsamples = 62\\nvalue = [0, 0, 45, 16, 1, 0]'),\n",
       " Text(0.26402116402116405, 0.5, 'X[7] <= 0.997\\ngini = 0.452\\nsamples = 52\\nvalue = [0, 0, 35, 16, 1, 0]'),\n",
       " Text(0.2507936507936508, 0.4523809523809524, 'X[6] <= 73.5\\ngini = 0.395\\nsamples = 48\\nvalue = [0, 0, 35, 13, 0, 0]'),\n",
       " Text(0.23703703703703705, 0.40476190476190477, 'X[4] <= 0.066\\ngini = 0.343\\nsamples = 41\\nvalue = [0, 0, 32, 9, 0, 0]'),\n",
       " Text(0.22645502645502646, 0.35714285714285715, 'X[8] <= 3.315\\ngini = 0.444\\nsamples = 3\\nvalue = [0, 0, 1, 2, 0, 0]'),\n",
       " Text(0.2222222222222222, 0.30952380952380953, 'gini = 0.0\\nsamples = 2\\nvalue = [0, 0, 0, 2, 0, 0]'),\n",
       " Text(0.2306878306878307, 0.30952380952380953, 'gini = 0.0\\nsamples = 1\\nvalue = [0, 0, 1, 0, 0, 0]'),\n",
       " Text(0.24761904761904763, 0.35714285714285715, 'X[10] <= 10.017\\ngini = 0.301\\nsamples = 38\\nvalue = [0, 0, 31, 7, 0, 0]'),\n",
       " Text(0.23915343915343915, 0.30952380952380953, 'X[2] <= 0.635\\ngini = 0.245\\nsamples = 35\\nvalue = [0, 0, 30, 5, 0, 0]'),\n",
       " Text(0.23492063492063492, 0.2619047619047619, 'X[8] <= 3.49\\ngini = 0.208\\nsamples = 34\\nvalue = [0, 0, 30, 4, 0, 0]'),\n",
       " Text(0.22645502645502646, 0.21428571428571427, 'X[4] <= 0.089\\ngini = 0.124\\nsamples = 30\\nvalue = [0, 0, 28, 2, 0, 0]'),\n",
       " Text(0.2222222222222222, 0.16666666666666666, 'gini = 0.0\\nsamples = 18\\nvalue = [0, 0, 18, 0, 0, 0]'),\n",
       " Text(0.2306878306878307, 0.16666666666666666, 'X[8] <= 3.32\\ngini = 0.278\\nsamples = 12\\nvalue = [0, 0, 10, 2, 0, 0]'),\n",
       " Text(0.22645502645502646, 0.11904761904761904, 'X[3] <= 2.35\\ngini = 0.165\\nsamples = 11\\nvalue = [0, 0, 10, 1, 0, 0]'),\n",
       " Text(0.2222222222222222, 0.07142857142857142, 'gini = 0.0\\nsamples = 10\\nvalue = [0, 0, 10, 0, 0, 0]'),\n",
       " Text(0.2306878306878307, 0.07142857142857142, 'gini = 0.0\\nsamples = 1\\nvalue = [0, 0, 0, 1, 0, 0]'),\n",
       " Text(0.23492063492063492, 0.11904761904761904, 'gini = 0.0\\nsamples = 1\\nvalue = [0, 0, 0, 1, 0, 0]'),\n",
       " Text(0.24338624338624337, 0.21428571428571427, 'X[8] <= 3.53\\ngini = 0.5\\nsamples = 4\\nvalue = [0, 0, 2, 2, 0, 0]'),\n",
       " Text(0.23915343915343915, 0.16666666666666666, 'gini = 0.0\\nsamples = 2\\nvalue = [0, 0, 0, 2, 0, 0]'),\n",
       " Text(0.24761904761904763, 0.16666666666666666, 'gini = 0.0\\nsamples = 2\\nvalue = [0, 0, 2, 0, 0, 0]'),\n",
       " Text(0.24338624338624337, 0.2619047619047619, 'gini = 0.0\\nsamples = 1\\nvalue = [0, 0, 0, 1, 0, 0]'),\n",
       " Text(0.2560846560846561, 0.30952380952380953, 'X[9] <= 0.605\\ngini = 0.444\\nsamples = 3\\nvalue = [0, 0, 1, 2, 0, 0]'),\n",
       " Text(0.2518518518518518, 0.2619047619047619, 'gini = 0.0\\nsamples = 1\\nvalue = [0, 0, 1, 0, 0, 0]'),\n",
       " Text(0.26031746031746034, 0.2619047619047619, 'gini = 0.0\\nsamples = 2\\nvalue = [0, 0, 0, 2, 0, 0]'),\n",
       " Text(0.26455026455026454, 0.40476190476190477, 'X[6] <= 83.0\\ngini = 0.49\\nsamples = 7\\nvalue = [0, 0, 3, 4, 0, 0]'),\n",
       " Text(0.26031746031746034, 0.35714285714285715, 'gini = 0.0\\nsamples = 3\\nvalue = [0, 0, 0, 3, 0, 0]'),\n",
       " Text(0.2687830687830688, 0.35714285714285715, 'X[7] <= 0.996\\ngini = 0.375\\nsamples = 4\\nvalue = [0, 0, 3, 1, 0, 0]'),\n",
       " Text(0.26455026455026454, 0.30952380952380953, 'gini = 0.0\\nsamples = 1\\nvalue = [0, 0, 0, 1, 0, 0]'),\n",
       " Text(0.273015873015873, 0.30952380952380953, 'gini = 0.0\\nsamples = 3\\nvalue = [0, 0, 3, 0, 0, 0]'),\n",
       " Text(0.27724867724867724, 0.4523809523809524, 'X[4] <= 0.067\\ngini = 0.375\\nsamples = 4\\nvalue = [0, 0, 0, 3, 1, 0]'),\n",
       " Text(0.273015873015873, 0.40476190476190477, 'gini = 0.0\\nsamples = 1\\nvalue = [0, 0, 0, 0, 1, 0]'),\n",
       " Text(0.2814814814814815, 0.40476190476190477, 'gini = 0.0\\nsamples = 3\\nvalue = [0, 0, 0, 3, 0, 0]'),\n",
       " Text(0.2724867724867725, 0.5, 'gini = 0.0\\nsamples = 10\\nvalue = [0, 0, 10, 0, 0, 0]'),\n",
       " Text(0.28095238095238095, 0.5952380952380952, 'X[0] <= 8.85\\ngini = 0.346\\nsamples = 9\\nvalue = [0, 0, 2, 7, 0, 0]'),\n",
       " Text(0.2767195767195767, 0.5476190476190477, 'gini = 0.0\\nsamples = 6\\nvalue = [0, 0, 0, 6, 0, 0]'),\n",
       " Text(0.2851851851851852, 0.5476190476190477, 'X[6] <= 19.5\\ngini = 0.444\\nsamples = 3\\nvalue = [0, 0, 2, 1, 0, 0]'),\n",
       " Text(0.28095238095238095, 0.5, 'gini = 0.0\\nsamples = 1\\nvalue = [0, 0, 0, 1, 0, 0]'),\n",
       " Text(0.2894179894179894, 0.5, 'gini = 0.0\\nsamples = 2\\nvalue = [0, 0, 2, 0, 0, 0]'),\n",
       " Text(0.3111111111111111, 0.6428571428571429, 'X[1] <= 0.943\\ngini = 0.35\\nsamples = 57\\nvalue = [1, 2, 45, 9, 0, 0]'),\n",
       " Text(0.30264550264550266, 0.5952380952380952, 'X[3] <= 1.35\\ngini = 0.309\\nsamples = 55\\nvalue = [1, 1, 45, 8, 0, 0]'),\n",
       " Text(0.2984126984126984, 0.5476190476190477, 'gini = 0.0\\nsamples = 1\\nvalue = [0, 1, 0, 0, 0, 0]'),\n",
       " Text(0.30687830687830686, 0.5476190476190477, 'X[2] <= 0.075\\ngini = 0.283\\nsamples = 54\\nvalue = [1, 0, 45, 8, 0, 0]'),\n",
       " Text(0.2984126984126984, 0.5, 'X[6] <= 12.5\\ngini = 0.077\\nsamples = 25\\nvalue = [1, 0, 24, 0, 0, 0]'),\n",
       " Text(0.29417989417989415, 0.4523809523809524, 'X[5] <= 5.5\\ngini = 0.5\\nsamples = 2\\nvalue = [1, 0, 1, 0, 0, 0]'),\n",
       " Text(0.28994708994708995, 0.40476190476190477, 'gini = 0.0\\nsamples = 1\\nvalue = [0, 0, 1, 0, 0, 0]'),\n",
       " Text(0.2984126984126984, 0.40476190476190477, 'gini = 0.0\\nsamples = 1\\nvalue = [1, 0, 0, 0, 0, 0]'),\n",
       " Text(0.30264550264550266, 0.4523809523809524, 'gini = 0.0\\nsamples = 23\\nvalue = [0, 0, 23, 0, 0, 0]'),\n",
       " Text(0.31534391534391537, 0.5, 'X[2] <= 0.09\\ngini = 0.4\\nsamples = 29\\nvalue = [0, 0, 21, 8, 0, 0]'),\n",
       " Text(0.3111111111111111, 0.4523809523809524, 'gini = 0.0\\nsamples = 2\\nvalue = [0, 0, 0, 2, 0, 0]'),\n",
       " Text(0.31957671957671957, 0.4523809523809524, 'X[2] <= 0.615\\ngini = 0.346\\nsamples = 27\\nvalue = [0, 0, 21, 6, 0, 0]'),\n",
       " Text(0.31534391534391537, 0.40476190476190477, 'X[5] <= 3.5\\ngini = 0.311\\nsamples = 26\\nvalue = [0, 0, 21, 5, 0, 0]'),\n",
       " Text(0.3111111111111111, 0.35714285714285715, 'gini = 0.0\\nsamples = 1\\nvalue = [0, 0, 0, 1, 0, 0]'),\n",
       " Text(0.31957671957671957, 0.35714285714285715, 'X[9] <= 0.6\\ngini = 0.269\\nsamples = 25\\nvalue = [0, 0, 21, 4, 0, 0]'),\n",
       " Text(0.31534391534391537, 0.30952380952380953, 'X[6] <= 41.5\\ngini = 0.444\\nsamples = 12\\nvalue = [0, 0, 8, 4, 0, 0]'),\n",
       " Text(0.3111111111111111, 0.2619047619047619, 'gini = 0.0\\nsamples = 4\\nvalue = [0, 0, 4, 0, 0, 0]'),\n",
       " Text(0.31957671957671957, 0.2619047619047619, 'X[1] <= 0.76\\ngini = 0.5\\nsamples = 8\\nvalue = [0, 0, 4, 4, 0, 0]'),\n",
       " Text(0.31534391534391537, 0.21428571428571427, 'X[5] <= 23.0\\ngini = 0.32\\nsamples = 5\\nvalue = [0, 0, 1, 4, 0, 0]'),\n",
       " Text(0.3111111111111111, 0.16666666666666666, 'gini = 0.0\\nsamples = 4\\nvalue = [0, 0, 0, 4, 0, 0]'),\n",
       " Text(0.31957671957671957, 0.16666666666666666, 'gini = 0.0\\nsamples = 1\\nvalue = [0, 0, 1, 0, 0, 0]'),\n",
       " Text(0.3238095238095238, 0.21428571428571427, 'gini = 0.0\\nsamples = 3\\nvalue = [0, 0, 3, 0, 0, 0]'),\n",
       " Text(0.3238095238095238, 0.30952380952380953, 'gini = 0.0\\nsamples = 13\\nvalue = [0, 0, 13, 0, 0, 0]'),\n",
       " Text(0.3238095238095238, 0.40476190476190477, 'gini = 0.0\\nsamples = 1\\nvalue = [0, 0, 0, 1, 0, 0]'),\n",
       " Text(0.31957671957671957, 0.5952380952380952, 'X[4] <= 0.085\\ngini = 0.5\\nsamples = 2\\nvalue = [0, 1, 0, 1, 0, 0]'),\n",
       " Text(0.31534391534391537, 0.5476190476190477, 'gini = 0.0\\nsamples = 1\\nvalue = [0, 0, 0, 1, 0, 0]'),\n",
       " Text(0.3238095238095238, 0.5476190476190477, 'gini = 0.0\\nsamples = 1\\nvalue = [0, 1, 0, 0, 0, 0]'),\n",
       " Text(0.39021164021164023, 0.7380952380952381, 'X[9] <= 0.695\\ngini = 0.638\\nsamples = 62\\nvalue = [2, 5, 26, 26, 3, 0]'),\n",
       " Text(0.36772486772486773, 0.6904761904761905, 'X[5] <= 15.0\\ngini = 0.609\\nsamples = 42\\nvalue = [2, 3, 23, 12, 2, 0]'),\n",
       " Text(0.34814814814814815, 0.6428571428571429, 'X[2] <= 0.135\\ngini = 0.685\\nsamples = 25\\nvalue = [2, 2, 8, 11, 2, 0]'),\n",
       " Text(0.33650793650793653, 0.5952380952380952, 'X[4] <= 0.079\\ngini = 0.278\\nsamples = 6\\nvalue = [0, 1, 0, 5, 0, 0]'),\n",
       " Text(0.3322751322751323, 0.5476190476190477, 'gini = 0.0\\nsamples = 1\\nvalue = [0, 1, 0, 0, 0, 0]'),\n",
       " Text(0.34074074074074073, 0.5476190476190477, 'gini = 0.0\\nsamples = 5\\nvalue = [0, 0, 0, 5, 0, 0]'),\n",
       " Text(0.35978835978835977, 0.5952380952380952, 'X[6] <= 18.5\\ngini = 0.698\\nsamples = 19\\nvalue = [2, 1, 8, 6, 2, 0]'),\n",
       " Text(0.3492063492063492, 0.5476190476190477, 'X[10] <= 8.7\\ngini = 0.32\\nsamples = 5\\nvalue = [1, 0, 0, 4, 0, 0]'),\n",
       " Text(0.344973544973545, 0.5, 'gini = 0.0\\nsamples = 1\\nvalue = [1, 0, 0, 0, 0, 0]'),\n",
       " Text(0.35343915343915344, 0.5, 'gini = 0.0\\nsamples = 4\\nvalue = [0, 0, 0, 4, 0, 0]'),\n",
       " Text(0.37037037037037035, 0.5476190476190477, 'X[1] <= 0.53\\ngini = 0.622\\nsamples = 14\\nvalue = [1, 1, 8, 2, 2, 0]'),\n",
       " Text(0.3619047619047619, 0.5, 'X[6] <= 41.5\\ngini = 0.64\\nsamples = 5\\nvalue = [0, 0, 1, 2, 2, 0]'),\n",
       " Text(0.3576719576719577, 0.4523809523809524, 'X[5] <= 6.5\\ngini = 0.444\\nsamples = 3\\nvalue = [0, 0, 1, 2, 0, 0]'),\n",
       " Text(0.35343915343915344, 0.40476190476190477, 'gini = 0.0\\nsamples = 1\\nvalue = [0, 0, 1, 0, 0, 0]'),\n",
       " Text(0.3619047619047619, 0.40476190476190477, 'gini = 0.0\\nsamples = 2\\nvalue = [0, 0, 0, 2, 0, 0]'),\n",
       " Text(0.36613756613756615, 0.4523809523809524, 'gini = 0.0\\nsamples = 2\\nvalue = [0, 0, 0, 0, 2, 0]'),\n",
       " Text(0.37883597883597886, 0.5, 'X[3] <= 2.25\\ngini = 0.37\\nsamples = 9\\nvalue = [1, 1, 7, 0, 0, 0]'),\n",
       " Text(0.3746031746031746, 0.4523809523809524, 'X[10] <= 9.3\\ngini = 0.5\\nsamples = 2\\nvalue = [1, 1, 0, 0, 0, 0]'),\n",
       " Text(0.37037037037037035, 0.40476190476190477, 'gini = 0.0\\nsamples = 1\\nvalue = [1, 0, 0, 0, 0, 0]'),\n",
       " Text(0.37883597883597886, 0.40476190476190477, 'gini = 0.0\\nsamples = 1\\nvalue = [0, 1, 0, 0, 0, 0]'),\n",
       " Text(0.38306878306878306, 0.4523809523809524, 'gini = 0.0\\nsamples = 7\\nvalue = [0, 0, 7, 0, 0, 0]'),\n",
       " Text(0.3873015873015873, 0.6428571428571429, 'X[8] <= 3.11\\ngini = 0.215\\nsamples = 17\\nvalue = [0, 1, 15, 1, 0, 0]'),\n",
       " Text(0.38306878306878306, 0.5952380952380952, 'X[10] <= 9.85\\ngini = 0.5\\nsamples = 2\\nvalue = [0, 1, 0, 1, 0, 0]'),\n",
       " Text(0.37883597883597886, 0.5476190476190477, 'gini = 0.0\\nsamples = 1\\nvalue = [0, 1, 0, 0, 0, 0]'),\n",
       " Text(0.3873015873015873, 0.5476190476190477, 'gini = 0.0\\nsamples = 1\\nvalue = [0, 0, 0, 1, 0, 0]'),\n",
       " Text(0.3915343915343915, 0.5952380952380952, 'gini = 0.0\\nsamples = 15\\nvalue = [0, 0, 15, 0, 0, 0]'),\n",
       " Text(0.4126984126984127, 0.6904761904761905, 'X[4] <= 0.095\\ngini = 0.475\\nsamples = 20\\nvalue = [0, 2, 3, 14, 1, 0]'),\n",
       " Text(0.4042328042328042, 0.6428571428571429, 'X[2] <= 0.605\\ngini = 0.381\\nsamples = 17\\nvalue = [0, 0, 3, 13, 1, 0]'),\n",
       " Text(0.4, 0.5952380952380952, 'X[8] <= 3.415\\ngini = 0.305\\nsamples = 16\\nvalue = [0, 0, 3, 13, 0, 0]'),\n",
       " Text(0.39576719576719577, 0.5476190476190477, 'gini = 0.0\\nsamples = 8\\nvalue = [0, 0, 0, 8, 0, 0]'),\n",
       " Text(0.4042328042328042, 0.5476190476190477, 'X[4] <= 0.08\\ngini = 0.469\\nsamples = 8\\nvalue = [0, 0, 3, 5, 0, 0]'),\n",
       " Text(0.4, 0.5, 'gini = 0.0\\nsamples = 4\\nvalue = [0, 0, 0, 4, 0, 0]'),\n",
       " Text(0.4084656084656085, 0.5, 'X[5] <= 7.0\\ngini = 0.375\\nsamples = 4\\nvalue = [0, 0, 3, 1, 0, 0]'),\n",
       " Text(0.4042328042328042, 0.4523809523809524, 'gini = 0.0\\nsamples = 1\\nvalue = [0, 0, 0, 1, 0, 0]'),\n",
       " Text(0.4126984126984127, 0.4523809523809524, 'gini = 0.0\\nsamples = 3\\nvalue = [0, 0, 3, 0, 0, 0]'),\n",
       " Text(0.4084656084656085, 0.5952380952380952, 'gini = 0.0\\nsamples = 1\\nvalue = [0, 0, 0, 0, 1, 0]'),\n",
       " Text(0.4211640211640212, 0.6428571428571429, 'X[8] <= 3.33\\ngini = 0.444\\nsamples = 3\\nvalue = [0, 2, 0, 1, 0, 0]'),\n",
       " Text(0.41693121693121693, 0.5952380952380952, 'gini = 0.0\\nsamples = 1\\nvalue = [0, 0, 0, 1, 0, 0]'),\n",
       " Text(0.4253968253968254, 0.5952380952380952, 'gini = 0.0\\nsamples = 2\\nvalue = [0, 2, 0, 0, 0, 0]'),\n",
       " Text(0.44656084656084655, 0.8809523809523809, 'X[2] <= 0.315\\ngini = 0.192\\nsamples = 85\\nvalue = [0, 1, 76, 8, 0, 0]'),\n",
       " Text(0.44232804232804235, 0.8333333333333334, 'X[8] <= 3.225\\ngini = 0.302\\nsamples = 50\\nvalue = [0, 1, 41, 8, 0, 0]'),\n",
       " Text(0.43386243386243384, 0.7857142857142857, 'X[7] <= 0.997\\ngini = 0.539\\nsamples = 16\\nvalue = [0, 1, 9, 6, 0, 0]'),\n",
       " Text(0.42962962962962964, 0.7380952380952381, 'X[9] <= 0.62\\ngini = 0.494\\nsamples = 9\\nvalue = [0, 1, 2, 6, 0, 0]'),\n",
       " Text(0.4253968253968254, 0.6904761904761905, 'gini = 0.0\\nsamples = 5\\nvalue = [0, 0, 0, 5, 0, 0]'),\n",
       " Text(0.43386243386243384, 0.6904761904761905, 'X[5] <= 19.5\\ngini = 0.625\\nsamples = 4\\nvalue = [0, 1, 2, 1, 0, 0]'),\n",
       " Text(0.42962962962962964, 0.6428571428571429, 'gini = 0.0\\nsamples = 2\\nvalue = [0, 0, 2, 0, 0, 0]'),\n",
       " Text(0.4380952380952381, 0.6428571428571429, 'X[8] <= 3.045\\ngini = 0.5\\nsamples = 2\\nvalue = [0, 1, 0, 1, 0, 0]'),\n",
       " Text(0.43386243386243384, 0.5952380952380952, 'gini = 0.0\\nsamples = 1\\nvalue = [0, 0, 0, 1, 0, 0]'),\n",
       " Text(0.44232804232804235, 0.5952380952380952, 'gini = 0.0\\nsamples = 1\\nvalue = [0, 1, 0, 0, 0, 0]'),\n",
       " Text(0.4380952380952381, 0.7380952380952381, 'gini = 0.0\\nsamples = 7\\nvalue = [0, 0, 7, 0, 0, 0]'),\n",
       " Text(0.4507936507936508, 0.7857142857142857, 'X[1] <= 0.535\\ngini = 0.111\\nsamples = 34\\nvalue = [0, 0, 32, 2, 0, 0]'),\n",
       " Text(0.44656084656084655, 0.7380952380952381, 'X[5] <= 20.0\\ngini = 0.32\\nsamples = 10\\nvalue = [0, 0, 8, 2, 0, 0]'),\n",
       " Text(0.44232804232804235, 0.6904761904761905, 'gini = 0.0\\nsamples = 2\\nvalue = [0, 0, 0, 2, 0, 0]'),\n",
       " Text(0.4507936507936508, 0.6904761904761905, 'gini = 0.0\\nsamples = 8\\nvalue = [0, 0, 8, 0, 0, 0]'),\n",
       " Text(0.455026455026455, 0.7380952380952381, 'gini = 0.0\\nsamples = 24\\nvalue = [0, 0, 24, 0, 0, 0]'),\n",
       " Text(0.4507936507936508, 0.8333333333333334, 'gini = 0.0\\nsamples = 35\\nvalue = [0, 0, 35, 0, 0, 0]'),\n",
       " Text(0.6893849206349206, 0.9285714285714286, 'X[1] <= 0.375\\ngini = 0.649\\nsamples = 448\\nvalue = [1, 14, 97, 225, 100, 11]'),\n",
       " Text(0.5136574074074074, 0.8809523809523809, 'X[9] <= 0.565\\ngini = 0.656\\nsamples = 127\\nvalue = [0, 0, 20, 48, 53, 6]'),\n",
       " Text(0.47195767195767196, 0.8333333333333334, 'X[7] <= 0.995\\ngini = 0.459\\nsamples = 22\\nvalue = [0, 0, 1, 15, 6, 0]'),\n",
       " Text(0.4677248677248677, 0.7857142857142857, 'X[1] <= 0.25\\ngini = 0.569\\nsamples = 12\\nvalue = [0, 0, 1, 5, 6, 0]'),\n",
       " Text(0.4634920634920635, 0.7380952380952381, 'gini = 0.0\\nsamples = 3\\nvalue = [0, 0, 0, 3, 0, 0]'),\n",
       " Text(0.47195767195767196, 0.7380952380952381, 'X[8] <= 3.28\\ngini = 0.494\\nsamples = 9\\nvalue = [0, 0, 1, 2, 6, 0]'),\n",
       " Text(0.4634920634920635, 0.6904761904761905, 'X[3] <= 1.85\\ngini = 0.278\\nsamples = 6\\nvalue = [0, 0, 1, 0, 5, 0]'),\n",
       " Text(0.45925925925925926, 0.6428571428571429, 'X[6] <= 12.5\\ngini = 0.5\\nsamples = 2\\nvalue = [0, 0, 1, 0, 1, 0]'),\n",
       " Text(0.455026455026455, 0.5952380952380952, 'gini = 0.0\\nsamples = 1\\nvalue = [0, 0, 0, 0, 1, 0]'),\n",
       " Text(0.4634920634920635, 0.5952380952380952, 'gini = 0.0\\nsamples = 1\\nvalue = [0, 0, 1, 0, 0, 0]'),\n",
       " Text(0.4677248677248677, 0.6428571428571429, 'gini = 0.0\\nsamples = 4\\nvalue = [0, 0, 0, 0, 4, 0]'),\n",
       " Text(0.4804232804232804, 0.6904761904761905, 'X[4] <= 0.067\\ngini = 0.444\\nsamples = 3\\nvalue = [0, 0, 0, 2, 1, 0]'),\n",
       " Text(0.47619047619047616, 0.6428571428571429, 'gini = 0.0\\nsamples = 2\\nvalue = [0, 0, 0, 2, 0, 0]'),\n",
       " Text(0.4846560846560847, 0.6428571428571429, 'gini = 0.0\\nsamples = 1\\nvalue = [0, 0, 0, 0, 1, 0]'),\n",
       " Text(0.47619047619047616, 0.7857142857142857, 'gini = 0.0\\nsamples = 10\\nvalue = [0, 0, 0, 10, 0, 0]'),\n",
       " Text(0.5553571428571429, 0.8333333333333334, 'X[9] <= 0.705\\ngini = 0.665\\nsamples = 105\\nvalue = [0, 0, 19, 33, 47, 6]'),\n",
       " Text(0.5079365079365079, 0.7857142857142857, 'X[10] <= 11.15\\ngini = 0.699\\nsamples = 34\\nvalue = [0, 0, 13, 7, 11, 3]'),\n",
       " Text(0.4931216931216931, 0.7380952380952381, 'X[2] <= 0.385\\ngini = 0.48\\nsamples = 15\\nvalue = [0, 0, 10, 0, 4, 1]'),\n",
       " Text(0.4888888888888889, 0.6904761904761905, 'gini = 0.0\\nsamples = 3\\nvalue = [0, 0, 0, 0, 3, 0]'),\n",
       " Text(0.4973544973544973, 0.6904761904761905, 'X[0] <= 11.5\\ngini = 0.292\\nsamples = 12\\nvalue = [0, 0, 10, 0, 1, 1]'),\n",
       " Text(0.4931216931216931, 0.6428571428571429, 'X[0] <= 10.45\\ngini = 0.165\\nsamples = 11\\nvalue = [0, 0, 10, 0, 0, 1]'),\n",
       " Text(0.4888888888888889, 0.5952380952380952, 'gini = 0.0\\nsamples = 9\\nvalue = [0, 0, 9, 0, 0, 0]'),\n",
       " Text(0.4973544973544973, 0.5952380952380952, 'X[1] <= 0.36\\ngini = 0.5\\nsamples = 2\\nvalue = [0, 0, 1, 0, 0, 1]'),\n",
       " Text(0.4931216931216931, 0.5476190476190477, 'gini = 0.0\\nsamples = 1\\nvalue = [0, 0, 0, 0, 0, 1]'),\n",
       " Text(0.5015873015873016, 0.5476190476190477, 'gini = 0.0\\nsamples = 1\\nvalue = [0, 0, 1, 0, 0, 0]'),\n",
       " Text(0.5015873015873016, 0.6428571428571429, 'gini = 0.0\\nsamples = 1\\nvalue = [0, 0, 0, 0, 1, 0]'),\n",
       " Text(0.5227513227513227, 0.7380952380952381, 'X[10] <= 12.0\\ngini = 0.693\\nsamples = 19\\nvalue = [0, 0, 3, 7, 7, 2]'),\n",
       " Text(0.5185185185185185, 0.6904761904761905, 'X[7] <= 0.995\\ngini = 0.684\\nsamples = 15\\nvalue = [0, 0, 3, 7, 3, 2]'),\n",
       " Text(0.5100529100529101, 0.6428571428571429, 'X[4] <= 0.065\\ngini = 0.444\\nsamples = 3\\nvalue = [0, 0, 0, 0, 1, 2]'),\n",
       " Text(0.5058201058201058, 0.5952380952380952, 'gini = 0.0\\nsamples = 1\\nvalue = [0, 0, 0, 0, 1, 0]'),\n",
       " Text(0.5142857142857142, 0.5952380952380952, 'gini = 0.0\\nsamples = 2\\nvalue = [0, 0, 0, 0, 0, 2]'),\n",
       " Text(0.526984126984127, 0.6428571428571429, 'X[1] <= 0.312\\ngini = 0.569\\nsamples = 12\\nvalue = [0, 0, 3, 7, 2, 0]'),\n",
       " Text(0.5227513227513227, 0.5952380952380952, 'X[3] <= 2.475\\ngini = 0.656\\nsamples = 8\\nvalue = [0, 0, 3, 3, 2, 0]'),\n",
       " Text(0.5142857142857142, 0.5476190476190477, 'X[6] <= 13.5\\ngini = 0.56\\nsamples = 5\\nvalue = [0, 0, 1, 3, 1, 0]'),\n",
       " Text(0.5100529100529101, 0.5, 'gini = 0.0\\nsamples = 1\\nvalue = [0, 0, 0, 0, 1, 0]'),\n",
       " Text(0.5185185185185185, 0.5, 'X[5] <= 25.0\\ngini = 0.375\\nsamples = 4\\nvalue = [0, 0, 1, 3, 0, 0]'),\n",
       " Text(0.5142857142857142, 0.4523809523809524, 'gini = 0.0\\nsamples = 3\\nvalue = [0, 0, 0, 3, 0, 0]'),\n",
       " Text(0.5227513227513227, 0.4523809523809524, 'gini = 0.0\\nsamples = 1\\nvalue = [0, 0, 1, 0, 0, 0]'),\n",
       " Text(0.5312169312169313, 0.5476190476190477, 'X[8] <= 3.11\\ngini = 0.444\\nsamples = 3\\nvalue = [0, 0, 2, 0, 1, 0]'),\n",
       " Text(0.526984126984127, 0.5, 'gini = 0.0\\nsamples = 1\\nvalue = [0, 0, 0, 0, 1, 0]'),\n",
       " Text(0.5354497354497354, 0.5, 'gini = 0.0\\nsamples = 2\\nvalue = [0, 0, 2, 0, 0, 0]'),\n",
       " Text(0.5312169312169313, 0.5952380952380952, 'gini = 0.0\\nsamples = 4\\nvalue = [0, 0, 0, 4, 0, 0]'),\n",
       " Text(0.526984126984127, 0.6904761904761905, 'gini = 0.0\\nsamples = 4\\nvalue = [0, 0, 0, 0, 4, 0]'),\n",
       " Text(0.6027777777777777, 0.7857142857142857, 'X[5] <= 21.5\\ngini = 0.6\\nsamples = 71\\nvalue = [0, 0, 6, 26, 36, 3]'),\n",
       " Text(0.5664021164021164, 0.7380952380952381, 'X[7] <= 0.995\\ngini = 0.544\\nsamples = 48\\nvalue = [0, 0, 2, 14, 29, 3]'),\n",
       " Text(0.5502645502645502, 0.6904761904761905, 'X[6] <= 56.5\\ngini = 0.266\\nsamples = 19\\nvalue = [0, 0, 0, 3, 16, 0]'),\n",
       " Text(0.546031746031746, 0.6428571428571429, 'X[4] <= 0.153\\ngini = 0.111\\nsamples = 17\\nvalue = [0, 0, 0, 1, 16, 0]'),\n",
       " Text(0.5417989417989418, 0.5952380952380952, 'gini = 0.0\\nsamples = 16\\nvalue = [0, 0, 0, 0, 16, 0]'),\n",
       " Text(0.5502645502645502, 0.5952380952380952, 'gini = 0.0\\nsamples = 1\\nvalue = [0, 0, 0, 1, 0, 0]'),\n",
       " Text(0.5544973544973545, 0.6428571428571429, 'gini = 0.0\\nsamples = 2\\nvalue = [0, 0, 0, 2, 0, 0]'),\n",
       " Text(0.5825396825396826, 0.6904761904761905, 'X[4] <= 0.082\\ngini = 0.64\\nsamples = 29\\nvalue = [0, 0, 2, 11, 13, 3]'),\n",
       " Text(0.5703703703703704, 0.6428571428571429, 'X[3] <= 2.7\\ngini = 0.635\\nsamples = 20\\nvalue = [0, 0, 1, 10, 6, 3]'),\n",
       " Text(0.5587301587301587, 0.5952380952380952, 'X[1] <= 0.265\\ngini = 0.539\\nsamples = 16\\nvalue = [0, 0, 1, 9, 6, 0]'),\n",
       " Text(0.5481481481481482, 0.5476190476190477, 'X[6] <= 20.5\\ngini = 0.375\\nsamples = 4\\nvalue = [0, 0, 0, 1, 3, 0]'),\n",
       " Text(0.5439153439153439, 0.5, 'gini = 0.0\\nsamples = 1\\nvalue = [0, 0, 0, 1, 0, 0]'),\n",
       " Text(0.5523809523809524, 0.5, 'gini = 0.0\\nsamples = 3\\nvalue = [0, 0, 0, 0, 3, 0]'),\n",
       " Text(0.5693121693121693, 0.5476190476190477, 'X[10] <= 10.55\\ngini = 0.486\\nsamples = 12\\nvalue = [0, 0, 1, 8, 3, 0]'),\n",
       " Text(0.5608465608465608, 0.5, 'X[4] <= 0.052\\ngini = 0.375\\nsamples = 4\\nvalue = [0, 0, 0, 1, 3, 0]'),\n",
       " Text(0.5566137566137566, 0.4523809523809524, 'gini = 0.0\\nsamples = 1\\nvalue = [0, 0, 0, 1, 0, 0]'),\n",
       " Text(0.5650793650793651, 0.4523809523809524, 'gini = 0.0\\nsamples = 3\\nvalue = [0, 0, 0, 0, 3, 0]'),\n",
       " Text(0.5777777777777777, 0.5, 'X[6] <= 14.5\\ngini = 0.219\\nsamples = 8\\nvalue = [0, 0, 1, 7, 0, 0]'),\n",
       " Text(0.5735449735449736, 0.4523809523809524, 'gini = 0.0\\nsamples = 1\\nvalue = [0, 0, 1, 0, 0, 0]'),\n",
       " Text(0.582010582010582, 0.4523809523809524, 'gini = 0.0\\nsamples = 7\\nvalue = [0, 0, 0, 7, 0, 0]'),\n",
       " Text(0.582010582010582, 0.5952380952380952, 'X[4] <= 0.067\\ngini = 0.375\\nsamples = 4\\nvalue = [0, 0, 0, 1, 0, 3]'),\n",
       " Text(0.5777777777777777, 0.5476190476190477, 'gini = 0.0\\nsamples = 1\\nvalue = [0, 0, 0, 1, 0, 0]'),\n",
       " Text(0.5862433862433862, 0.5476190476190477, 'gini = 0.0\\nsamples = 3\\nvalue = [0, 0, 0, 0, 0, 3]'),\n",
       " Text(0.5947089947089947, 0.6428571428571429, 'X[4] <= 0.152\\ngini = 0.37\\nsamples = 9\\nvalue = [0, 0, 1, 1, 7, 0]'),\n",
       " Text(0.5904761904761905, 0.5952380952380952, 'gini = 0.0\\nsamples = 7\\nvalue = [0, 0, 0, 0, 7, 0]'),\n",
       " Text(0.5989417989417989, 0.5952380952380952, 'X[2] <= 0.385\\ngini = 0.5\\nsamples = 2\\nvalue = [0, 0, 1, 1, 0, 0]'),\n",
       " Text(0.5947089947089947, 0.5476190476190477, 'gini = 0.0\\nsamples = 1\\nvalue = [0, 0, 0, 1, 0, 0]'),\n",
       " Text(0.6031746031746031, 0.5476190476190477, 'gini = 0.0\\nsamples = 1\\nvalue = [0, 0, 1, 0, 0, 0]'),\n",
       " Text(0.6391534391534391, 0.7380952380952381, 'X[6] <= 65.0\\ngini = 0.605\\nsamples = 23\\nvalue = [0, 0, 4, 12, 7, 0]'),\n",
       " Text(0.6285714285714286, 0.6904761904761905, 'X[5] <= 28.5\\ngini = 0.338\\nsamples = 15\\nvalue = [0, 0, 1, 12, 2, 0]'),\n",
       " Text(0.6201058201058202, 0.6428571428571429, 'X[0] <= 6.4\\ngini = 0.165\\nsamples = 11\\nvalue = [0, 0, 1, 10, 0, 0]'),\n",
       " Text(0.6158730158730159, 0.5952380952380952, 'X[8] <= 3.55\\ngini = 0.5\\nsamples = 2\\nvalue = [0, 0, 1, 1, 0, 0]'),\n",
       " Text(0.6116402116402117, 0.5476190476190477, 'gini = 0.0\\nsamples = 1\\nvalue = [0, 0, 1, 0, 0, 0]'),\n",
       " Text(0.6201058201058202, 0.5476190476190477, 'gini = 0.0\\nsamples = 1\\nvalue = [0, 0, 0, 1, 0, 0]'),\n",
       " Text(0.6243386243386243, 0.5952380952380952, 'gini = 0.0\\nsamples = 9\\nvalue = [0, 0, 0, 9, 0, 0]'),\n",
       " Text(0.6370370370370371, 0.6428571428571429, 'X[6] <= 49.5\\ngini = 0.5\\nsamples = 4\\nvalue = [0, 0, 0, 2, 2, 0]'),\n",
       " Text(0.6328042328042328, 0.5952380952380952, 'gini = 0.0\\nsamples = 2\\nvalue = [0, 0, 0, 0, 2, 0]'),\n",
       " Text(0.6412698412698413, 0.5952380952380952, 'gini = 0.0\\nsamples = 2\\nvalue = [0, 0, 0, 2, 0, 0]'),\n",
       " Text(0.6497354497354497, 0.6904761904761905, 'X[1] <= 0.335\\ngini = 0.469\\nsamples = 8\\nvalue = [0, 0, 3, 0, 5, 0]'),\n",
       " Text(0.6455026455026455, 0.6428571428571429, 'gini = 0.0\\nsamples = 5\\nvalue = [0, 0, 0, 0, 5, 0]'),\n",
       " Text(0.653968253968254, 0.6428571428571429, 'gini = 0.0\\nsamples = 3\\nvalue = [0, 0, 3, 0, 0, 0]'),\n",
       " Text(0.8651124338624339, 0.8809523809523809, 'X[10] <= 11.45\\ngini = 0.615\\nsamples = 321\\nvalue = [1, 14, 77, 177, 47, 5]'),\n",
       " Text(0.8090608465608465, 0.8333333333333334, 'X[1] <= 0.923\\ngini = 0.582\\nsamples = 211\\nvalue = [1, 11, 64, 119, 15, 1]'),\n",
       " Text(0.7832010582010582, 0.7857142857142857, 'X[7] <= 1.0\\ngini = 0.561\\nsamples = 204\\nvalue = [0, 7, 62, 119, 15, 1]'),\n",
       " Text(0.7441798941798942, 0.7380952380952381, 'X[9] <= 0.575\\ngini = 0.544\\nsamples = 194\\nvalue = [0, 7, 55, 118, 13, 1]'),\n",
       " Text(0.6873015873015873, 0.6904761904761905, 'X[6] <= 13.5\\ngini = 0.616\\nsamples = 51\\nvalue = [0, 5, 21, 23, 2, 0]'),\n",
       " Text(0.6624338624338625, 0.6428571428571429, 'X[2] <= 0.355\\ngini = 0.46\\nsamples = 10\\nvalue = [0, 2, 7, 1, 0, 0]'),\n",
       " Text(0.653968253968254, 0.5952380952380952, 'X[6] <= 10.0\\ngini = 0.219\\nsamples = 8\\nvalue = [0, 1, 7, 0, 0, 0]'),\n",
       " Text(0.6497354497354497, 0.5476190476190477, 'X[8] <= 3.365\\ngini = 0.5\\nsamples = 2\\nvalue = [0, 1, 1, 0, 0, 0]'),\n",
       " Text(0.6455026455026455, 0.5, 'gini = 0.0\\nsamples = 1\\nvalue = [0, 0, 1, 0, 0, 0]'),\n",
       " Text(0.653968253968254, 0.5, 'gini = 0.0\\nsamples = 1\\nvalue = [0, 1, 0, 0, 0, 0]'),\n",
       " Text(0.6582010582010582, 0.5476190476190477, 'gini = 0.0\\nsamples = 6\\nvalue = [0, 0, 6, 0, 0, 0]'),\n",
       " Text(0.6708994708994709, 0.5952380952380952, 'X[8] <= 3.345\\ngini = 0.5\\nsamples = 2\\nvalue = [0, 1, 0, 1, 0, 0]'),\n",
       " Text(0.6666666666666666, 0.5476190476190477, 'gini = 0.0\\nsamples = 1\\nvalue = [0, 1, 0, 0, 0, 0]'),\n",
       " Text(0.6751322751322751, 0.5476190476190477, 'gini = 0.0\\nsamples = 1\\nvalue = [0, 0, 0, 1, 0, 0]'),\n",
       " Text(0.7121693121693121, 0.6428571428571429, 'X[3] <= 2.25\\ngini = 0.588\\nsamples = 41\\nvalue = [0, 3, 14, 22, 2, 0]'),\n",
       " Text(0.6878306878306878, 0.5952380952380952, 'X[2] <= 0.015\\ngini = 0.394\\nsamples = 17\\nvalue = [0, 1, 2, 13, 1, 0]'),\n",
       " Text(0.6835978835978836, 0.5476190476190477, 'gini = 0.0\\nsamples = 1\\nvalue = [0, 0, 0, 0, 1, 0]'),\n",
       " Text(0.692063492063492, 0.5476190476190477, 'X[3] <= 1.6\\ngini = 0.32\\nsamples = 16\\nvalue = [0, 1, 2, 13, 0, 0]'),\n",
       " Text(0.6878306878306878, 0.5, 'gini = 0.0\\nsamples = 1\\nvalue = [0, 0, 1, 0, 0, 0]'),\n",
       " Text(0.6962962962962963, 0.5, 'X[6] <= 44.5\\ngini = 0.24\\nsamples = 15\\nvalue = [0, 1, 1, 13, 0, 0]'),\n",
       " Text(0.692063492063492, 0.4523809523809524, 'gini = 0.0\\nsamples = 10\\nvalue = [0, 0, 0, 10, 0, 0]'),\n",
       " Text(0.7005291005291006, 0.4523809523809524, 'X[5] <= 17.0\\ngini = 0.56\\nsamples = 5\\nvalue = [0, 1, 1, 3, 0, 0]'),\n",
       " Text(0.6962962962962963, 0.40476190476190477, 'X[3] <= 1.9\\ngini = 0.5\\nsamples = 2\\nvalue = [0, 1, 1, 0, 0, 0]'),\n",
       " Text(0.692063492063492, 0.35714285714285715, 'gini = 0.0\\nsamples = 1\\nvalue = [0, 0, 1, 0, 0, 0]'),\n",
       " Text(0.7005291005291006, 0.35714285714285715, 'gini = 0.0\\nsamples = 1\\nvalue = [0, 1, 0, 0, 0, 0]'),\n",
       " Text(0.7047619047619048, 0.40476190476190477, 'gini = 0.0\\nsamples = 3\\nvalue = [0, 0, 0, 3, 0, 0]'),\n",
       " Text(0.7365079365079366, 0.5952380952380952, 'X[3] <= 3.3\\ngini = 0.601\\nsamples = 24\\nvalue = [0, 2, 12, 9, 1, 0]'),\n",
       " Text(0.7216931216931217, 0.5476190476190477, 'X[2] <= 0.015\\ngini = 0.444\\nsamples = 18\\nvalue = [0, 0, 12, 6, 0, 0]'),\n",
       " Text(0.7132275132275132, 0.5, 'X[9] <= 0.525\\ngini = 0.32\\nsamples = 5\\nvalue = [0, 0, 1, 4, 0, 0]'),\n",
       " Text(0.708994708994709, 0.4523809523809524, 'gini = 0.0\\nsamples = 1\\nvalue = [0, 0, 1, 0, 0, 0]'),\n",
       " Text(0.7174603174603175, 0.4523809523809524, 'gini = 0.0\\nsamples = 4\\nvalue = [0, 0, 0, 4, 0, 0]'),\n",
       " Text(0.7301587301587301, 0.5, 'X[10] <= 10.35\\ngini = 0.26\\nsamples = 13\\nvalue = [0, 0, 11, 2, 0, 0]'),\n",
       " Text(0.725925925925926, 0.4523809523809524, 'gini = 0.0\\nsamples = 2\\nvalue = [0, 0, 0, 2, 0, 0]'),\n",
       " Text(0.7343915343915344, 0.4523809523809524, 'gini = 0.0\\nsamples = 11\\nvalue = [0, 0, 11, 0, 0, 0]'),\n",
       " Text(0.7513227513227513, 0.5476190476190477, 'X[8] <= 3.38\\ngini = 0.611\\nsamples = 6\\nvalue = [0, 2, 0, 3, 1, 0]'),\n",
       " Text(0.7470899470899471, 0.5, 'X[7] <= 0.994\\ngini = 0.375\\nsamples = 4\\nvalue = [0, 0, 0, 3, 1, 0]'),\n",
       " Text(0.7428571428571429, 0.4523809523809524, 'gini = 0.0\\nsamples = 1\\nvalue = [0, 0, 0, 0, 1, 0]'),\n",
       " Text(0.7513227513227513, 0.4523809523809524, 'gini = 0.0\\nsamples = 3\\nvalue = [0, 0, 0, 3, 0, 0]'),\n",
       " Text(0.7555555555555555, 0.5, 'gini = 0.0\\nsamples = 2\\nvalue = [0, 2, 0, 0, 0, 0]'),\n",
       " Text(0.801058201058201, 0.6904761904761905, 'X[6] <= 86.0\\ngini = 0.496\\nsamples = 143\\nvalue = [0, 2, 34, 95, 11, 1]'),\n",
       " Text(0.7968253968253968, 0.6428571428571429, 'X[8] <= 3.445\\ngini = 0.475\\nsamples = 138\\nvalue = [0, 2, 29, 95, 11, 1]'),\n",
       " Text(0.7767195767195767, 0.5952380952380952, 'X[8] <= 3.025\\ngini = 0.428\\nsamples = 116\\nvalue = [0, 2, 20, 85, 8, 1]'),\n",
       " Text(0.7682539682539683, 0.5476190476190477, 'X[5] <= 15.0\\ngini = 0.444\\nsamples = 3\\nvalue = [0, 0, 2, 0, 1, 0]'),\n",
       " Text(0.764021164021164, 0.5, 'gini = 0.0\\nsamples = 2\\nvalue = [0, 0, 2, 0, 0, 0]'),\n",
       " Text(0.7724867724867724, 0.5, 'gini = 0.0\\nsamples = 1\\nvalue = [0, 0, 0, 0, 1, 0]'),\n",
       " Text(0.7851851851851852, 0.5476190476190477, 'X[2] <= 0.715\\ngini = 0.405\\nsamples = 113\\nvalue = [0, 2, 18, 85, 7, 1]'),\n",
       " Text(0.780952380952381, 0.5, 'X[6] <= 6.5\\ngini = 0.397\\nsamples = 112\\nvalue = [0, 2, 17, 85, 7, 1]'),\n",
       " Text(0.7767195767195767, 0.4523809523809524, 'gini = 0.0\\nsamples = 1\\nvalue = [0, 0, 1, 0, 0, 0]'),\n",
       " Text(0.7851851851851852, 0.4523809523809524, 'X[9] <= 1.18\\ngini = 0.388\\nsamples = 111\\nvalue = [0, 2, 16, 85, 7, 1]'),\n",
       " Text(0.780952380952381, 0.40476190476190477, 'X[4] <= 0.068\\ngini = 0.38\\nsamples = 110\\nvalue = [0, 2, 15, 85, 7, 1]'),\n",
       " Text(0.7420634920634921, 0.35714285714285715, 'X[4] <= 0.065\\ngini = 0.548\\nsamples = 19\\nvalue = [0, 1, 1, 12, 4, 1]'),\n",
       " Text(0.7293650793650793, 0.30952380952380953, 'X[9] <= 0.595\\ngini = 0.367\\nsamples = 14\\nvalue = [0, 0, 1, 11, 1, 1]'),\n",
       " Text(0.7251322751322752, 0.2619047619047619, 'gini = 0.0\\nsamples = 1\\nvalue = [0, 0, 0, 0, 1, 0]'),\n",
       " Text(0.7335978835978836, 0.2619047619047619, 'X[10] <= 11.15\\ngini = 0.272\\nsamples = 13\\nvalue = [0, 0, 1, 11, 0, 1]'),\n",
       " Text(0.7293650793650793, 0.21428571428571427, 'gini = 0.0\\nsamples = 10\\nvalue = [0, 0, 0, 10, 0, 0]'),\n",
       " Text(0.7378306878306878, 0.21428571428571427, 'X[1] <= 0.41\\ngini = 0.667\\nsamples = 3\\nvalue = [0, 0, 1, 1, 0, 1]'),\n",
       " Text(0.7335978835978836, 0.16666666666666666, 'gini = 0.0\\nsamples = 1\\nvalue = [0, 0, 0, 0, 0, 1]'),\n",
       " Text(0.7420634920634921, 0.16666666666666666, 'X[7] <= 0.995\\ngini = 0.5\\nsamples = 2\\nvalue = [0, 0, 1, 1, 0, 0]'),\n",
       " Text(0.7378306878306878, 0.11904761904761904, 'gini = 0.0\\nsamples = 1\\nvalue = [0, 0, 0, 1, 0, 0]'),\n",
       " Text(0.7462962962962963, 0.11904761904761904, 'gini = 0.0\\nsamples = 1\\nvalue = [0, 0, 1, 0, 0, 0]'),\n",
       " Text(0.7547619047619047, 0.30952380952380953, 'X[4] <= 0.067\\ngini = 0.56\\nsamples = 5\\nvalue = [0, 1, 0, 1, 3, 0]'),\n",
       " Text(0.7505291005291005, 0.2619047619047619, 'X[7] <= 0.997\\ngini = 0.375\\nsamples = 4\\nvalue = [0, 0, 0, 1, 3, 0]'),\n",
       " Text(0.7462962962962963, 0.21428571428571427, 'gini = 0.0\\nsamples = 3\\nvalue = [0, 0, 0, 0, 3, 0]'),\n",
       " Text(0.7547619047619047, 0.21428571428571427, 'gini = 0.0\\nsamples = 1\\nvalue = [0, 0, 0, 1, 0, 0]'),\n",
       " Text(0.758994708994709, 0.2619047619047619, 'gini = 0.0\\nsamples = 1\\nvalue = [0, 1, 0, 0, 0, 0]'),\n",
       " Text(0.8198412698412698, 0.35714285714285715, 'X[9] <= 0.74\\ngini = 0.332\\nsamples = 91\\nvalue = [0, 1, 14, 73, 3, 0]'),\n",
       " Text(0.7917989417989418, 0.30952380952380953, 'X[2] <= 0.235\\ngini = 0.372\\nsamples = 68\\nvalue = [0, 1, 14, 52, 1, 0]'),\n",
       " Text(0.7716931216931217, 0.2619047619047619, 'X[1] <= 0.695\\ngini = 0.245\\nsamples = 36\\nvalue = [0, 0, 4, 31, 1, 0]'),\n",
       " Text(0.7632275132275133, 0.21428571428571427, 'X[3] <= 2.1\\ngini = 0.135\\nsamples = 28\\nvalue = [0, 0, 1, 26, 1, 0]'),\n",
       " Text(0.758994708994709, 0.16666666666666666, 'X[10] <= 10.35\\ngini = 0.406\\nsamples = 8\\nvalue = [0, 0, 1, 6, 1, 0]'),\n",
       " Text(0.7547619047619047, 0.11904761904761904, 'gini = 0.0\\nsamples = 1\\nvalue = [0, 0, 1, 0, 0, 0]'),\n",
       " Text(0.7632275132275133, 0.11904761904761904, 'X[2] <= 0.02\\ngini = 0.245\\nsamples = 7\\nvalue = [0, 0, 0, 6, 1, 0]'),\n",
       " Text(0.758994708994709, 0.07142857142857142, 'X[5] <= 20.5\\ngini = 0.5\\nsamples = 2\\nvalue = [0, 0, 0, 1, 1, 0]'),\n",
       " Text(0.7547619047619047, 0.023809523809523808, 'gini = 0.0\\nsamples = 1\\nvalue = [0, 0, 0, 0, 1, 0]'),\n",
       " Text(0.7632275132275133, 0.023809523809523808, 'gini = 0.0\\nsamples = 1\\nvalue = [0, 0, 0, 1, 0, 0]'),\n",
       " Text(0.7674603174603175, 0.07142857142857142, 'gini = 0.0\\nsamples = 5\\nvalue = [0, 0, 0, 5, 0, 0]'),\n",
       " Text(0.7674603174603175, 0.16666666666666666, 'gini = 0.0\\nsamples = 20\\nvalue = [0, 0, 0, 20, 0, 0]'),\n",
       " Text(0.7801587301587302, 0.21428571428571427, 'X[1] <= 0.757\\ngini = 0.469\\nsamples = 8\\nvalue = [0, 0, 3, 5, 0, 0]'),\n",
       " Text(0.7759259259259259, 0.16666666666666666, 'X[10] <= 11.0\\ngini = 0.375\\nsamples = 4\\nvalue = [0, 0, 3, 1, 0, 0]'),\n",
       " Text(0.7716931216931217, 0.11904761904761904, 'gini = 0.0\\nsamples = 3\\nvalue = [0, 0, 3, 0, 0, 0]'),\n",
       " Text(0.7801587301587302, 0.11904761904761904, 'gini = 0.0\\nsamples = 1\\nvalue = [0, 0, 0, 1, 0, 0]'),\n",
       " Text(0.7843915343915344, 0.16666666666666666, 'gini = 0.0\\nsamples = 4\\nvalue = [0, 0, 0, 4, 0, 0]'),\n",
       " Text(0.8119047619047619, 0.2619047619047619, 'X[0] <= 7.9\\ngini = 0.471\\nsamples = 32\\nvalue = [0, 1, 10, 21, 0, 0]'),\n",
       " Text(0.7970899470899471, 0.21428571428571427, 'X[2] <= 0.245\\ngini = 0.531\\nsamples = 8\\nvalue = [0, 1, 5, 2, 0, 0]'),\n",
       " Text(0.7928571428571428, 0.16666666666666666, 'gini = 0.0\\nsamples = 1\\nvalue = [0, 1, 0, 0, 0, 0]'),\n",
       " Text(0.8013227513227513, 0.16666666666666666, 'X[6] <= 62.0\\ngini = 0.408\\nsamples = 7\\nvalue = [0, 0, 5, 2, 0, 0]'),\n",
       " Text(0.7970899470899471, 0.11904761904761904, 'gini = 0.0\\nsamples = 4\\nvalue = [0, 0, 4, 0, 0, 0]'),\n",
       " Text(0.8055555555555556, 0.11904761904761904, 'X[6] <= 73.5\\ngini = 0.444\\nsamples = 3\\nvalue = [0, 0, 1, 2, 0, 0]'),\n",
       " Text(0.8013227513227513, 0.07142857142857142, 'gini = 0.0\\nsamples = 2\\nvalue = [0, 0, 0, 2, 0, 0]'),\n",
       " Text(0.8097883597883598, 0.07142857142857142, 'gini = 0.0\\nsamples = 1\\nvalue = [0, 0, 1, 0, 0, 0]'),\n",
       " Text(0.8267195767195767, 0.21428571428571427, 'X[4] <= 0.098\\ngini = 0.33\\nsamples = 24\\nvalue = [0, 0, 5, 19, 0, 0]'),\n",
       " Text(0.8182539682539682, 0.16666666666666666, 'X[5] <= 5.5\\ngini = 0.18\\nsamples = 20\\nvalue = [0, 0, 2, 18, 0, 0]'),\n",
       " Text(0.814021164021164, 0.11904761904761904, 'gini = 0.0\\nsamples = 1\\nvalue = [0, 0, 1, 0, 0, 0]'),\n",
       " Text(0.8224867724867725, 0.11904761904761904, 'X[5] <= 28.5\\ngini = 0.1\\nsamples = 19\\nvalue = [0, 0, 1, 18, 0, 0]'),\n",
       " Text(0.8182539682539682, 0.07142857142857142, 'gini = 0.0\\nsamples = 18\\nvalue = [0, 0, 0, 18, 0, 0]'),\n",
       " Text(0.8267195767195767, 0.07142857142857142, 'gini = 0.0\\nsamples = 1\\nvalue = [0, 0, 1, 0, 0, 0]'),\n",
       " Text(0.8351851851851851, 0.16666666666666666, 'X[9] <= 0.715\\ngini = 0.375\\nsamples = 4\\nvalue = [0, 0, 3, 1, 0, 0]'),\n",
       " Text(0.830952380952381, 0.11904761904761904, 'gini = 0.0\\nsamples = 3\\nvalue = [0, 0, 3, 0, 0, 0]'),\n",
       " Text(0.8394179894179894, 0.11904761904761904, 'gini = 0.0\\nsamples = 1\\nvalue = [0, 0, 0, 1, 0, 0]'),\n",
       " Text(0.8478835978835979, 0.30952380952380953, 'X[4] <= 0.071\\ngini = 0.159\\nsamples = 23\\nvalue = [0, 0, 0, 21, 2, 0]'),\n",
       " Text(0.8394179894179894, 0.2619047619047619, 'X[0] <= 9.9\\ngini = 0.444\\nsamples = 3\\nvalue = [0, 0, 0, 2, 1, 0]'),\n",
       " Text(0.8351851851851851, 0.21428571428571427, 'gini = 0.0\\nsamples = 2\\nvalue = [0, 0, 0, 2, 0, 0]'),\n",
       " Text(0.8436507936507937, 0.21428571428571427, 'gini = 0.0\\nsamples = 1\\nvalue = [0, 0, 0, 0, 1, 0]'),\n",
       " Text(0.8563492063492063, 0.2619047619047619, 'X[2] <= 0.11\\ngini = 0.095\\nsamples = 20\\nvalue = [0, 0, 0, 19, 1, 0]'),\n",
       " Text(0.8521164021164022, 0.21428571428571427, 'X[0] <= 8.35\\ngini = 0.375\\nsamples = 4\\nvalue = [0, 0, 0, 3, 1, 0]'),\n",
       " Text(0.8478835978835979, 0.16666666666666666, 'gini = 0.0\\nsamples = 3\\nvalue = [0, 0, 0, 3, 0, 0]'),\n",
       " Text(0.8563492063492063, 0.16666666666666666, 'gini = 0.0\\nsamples = 1\\nvalue = [0, 0, 0, 0, 1, 0]'),\n",
       " Text(0.8605820105820106, 0.21428571428571427, 'gini = 0.0\\nsamples = 16\\nvalue = [0, 0, 0, 16, 0, 0]'),\n",
       " Text(0.7894179894179895, 0.40476190476190477, 'gini = 0.0\\nsamples = 1\\nvalue = [0, 0, 1, 0, 0, 0]'),\n",
       " Text(0.7894179894179895, 0.5, 'gini = 0.0\\nsamples = 1\\nvalue = [0, 0, 1, 0, 0, 0]'),\n",
       " Text(0.816931216931217, 0.5952380952380952, 'X[10] <= 10.65\\ngini = 0.607\\nsamples = 22\\nvalue = [0, 0, 9, 10, 3, 0]'),\n",
       " Text(0.8021164021164021, 0.5476190476190477, 'X[1] <= 0.485\\ngini = 0.43\\nsamples = 11\\nvalue = [0, 0, 8, 2, 1, 0]'),\n",
       " Text(0.7978835978835979, 0.5, 'gini = 0.0\\nsamples = 2\\nvalue = [0, 0, 0, 2, 0, 0]'),\n",
       " Text(0.8063492063492064, 0.5, 'X[4] <= 0.082\\ngini = 0.198\\nsamples = 9\\nvalue = [0, 0, 8, 0, 1, 0]'),\n",
       " Text(0.8021164021164021, 0.4523809523809524, 'gini = 0.0\\nsamples = 7\\nvalue = [0, 0, 7, 0, 0, 0]'),\n",
       " Text(0.8105820105820106, 0.4523809523809524, 'X[0] <= 6.8\\ngini = 0.5\\nsamples = 2\\nvalue = [0, 0, 1, 0, 1, 0]'),\n",
       " Text(0.8063492063492064, 0.40476190476190477, 'gini = 0.0\\nsamples = 1\\nvalue = [0, 0, 1, 0, 0, 0]'),\n",
       " Text(0.8148148148148148, 0.40476190476190477, 'gini = 0.0\\nsamples = 1\\nvalue = [0, 0, 0, 0, 1, 0]'),\n",
       " Text(0.8317460317460318, 0.5476190476190477, 'X[7] <= 0.994\\ngini = 0.43\\nsamples = 11\\nvalue = [0, 0, 1, 8, 2, 0]'),\n",
       " Text(0.8232804232804233, 0.5, 'X[7] <= 0.994\\ngini = 0.5\\nsamples = 2\\nvalue = [0, 0, 1, 0, 1, 0]'),\n",
       " Text(0.819047619047619, 0.4523809523809524, 'gini = 0.0\\nsamples = 1\\nvalue = [0, 0, 1, 0, 0, 0]'),\n",
       " Text(0.8275132275132275, 0.4523809523809524, 'gini = 0.0\\nsamples = 1\\nvalue = [0, 0, 0, 0, 1, 0]'),\n",
       " Text(0.8402116402116402, 0.5, 'X[7] <= 0.997\\ngini = 0.198\\nsamples = 9\\nvalue = [0, 0, 0, 8, 1, 0]'),\n",
       " Text(0.8359788359788359, 0.4523809523809524, 'gini = 0.0\\nsamples = 8\\nvalue = [0, 0, 0, 8, 0, 0]'),\n",
       " Text(0.8444444444444444, 0.4523809523809524, 'gini = 0.0\\nsamples = 1\\nvalue = [0, 0, 0, 0, 1, 0]'),\n",
       " Text(0.8052910052910053, 0.6428571428571429, 'gini = 0.0\\nsamples = 5\\nvalue = [0, 0, 5, 0, 0, 0]'),\n",
       " Text(0.8222222222222222, 0.7380952380952381, 'X[2] <= 0.59\\ngini = 0.46\\nsamples = 10\\nvalue = [0, 0, 7, 1, 2, 0]'),\n",
       " Text(0.817989417989418, 0.6904761904761905, 'X[9] <= 0.995\\ngini = 0.219\\nsamples = 8\\nvalue = [0, 0, 7, 1, 0, 0]'),\n",
       " Text(0.8137566137566138, 0.6428571428571429, 'gini = 0.0\\nsamples = 7\\nvalue = [0, 0, 7, 0, 0, 0]'),\n",
       " Text(0.8222222222222222, 0.6428571428571429, 'gini = 0.0\\nsamples = 1\\nvalue = [0, 0, 0, 1, 0, 0]'),\n",
       " Text(0.8264550264550264, 0.6904761904761905, 'gini = 0.0\\nsamples = 2\\nvalue = [0, 0, 0, 0, 2, 0]'),\n",
       " Text(0.834920634920635, 0.7857142857142857, 'X[1] <= 1.147\\ngini = 0.571\\nsamples = 7\\nvalue = [1, 4, 2, 0, 0, 0]'),\n",
       " Text(0.8306878306878307, 0.7380952380952381, 'gini = 0.0\\nsamples = 4\\nvalue = [0, 4, 0, 0, 0, 0]'),\n",
       " Text(0.8391534391534392, 0.7380952380952381, 'X[1] <= 1.455\\ngini = 0.444\\nsamples = 3\\nvalue = [1, 0, 2, 0, 0, 0]'),\n",
       " Text(0.834920634920635, 0.6904761904761905, 'gini = 0.0\\nsamples = 2\\nvalue = [0, 0, 2, 0, 0, 0]'),\n",
       " Text(0.8433862433862434, 0.6904761904761905, 'gini = 0.0\\nsamples = 1\\nvalue = [1, 0, 0, 0, 0, 0]'),\n",
       " Text(0.9211640211640212, 0.8333333333333334, 'X[9] <= 0.705\\ngini = 0.621\\nsamples = 110\\nvalue = [0, 3, 13, 58, 32, 4]'),\n",
       " Text(0.8804232804232804, 0.7857142857142857, 'X[6] <= 15.5\\ngini = 0.57\\nsamples = 70\\nvalue = [0, 3, 12, 43, 10, 2]'),\n",
       " Text(0.8560846560846561, 0.7380952380952381, 'X[9] <= 0.525\\ngini = 0.713\\nsamples = 17\\nvalue = [0, 1, 4, 4, 7, 1]'),\n",
       " Text(0.8518518518518519, 0.6904761904761905, 'gini = 0.0\\nsamples = 3\\nvalue = [0, 0, 3, 0, 0, 0]'),\n",
       " Text(0.8603174603174604, 0.6904761904761905, 'X[10] <= 12.15\\ngini = 0.653\\nsamples = 14\\nvalue = [0, 1, 1, 4, 7, 1]'),\n",
       " Text(0.8476190476190476, 0.6428571428571429, 'X[0] <= 6.8\\ngini = 0.449\\nsamples = 7\\nvalue = [0, 1, 0, 0, 5, 1]'),\n",
       " Text(0.8433862433862434, 0.5952380952380952, 'gini = 0.0\\nsamples = 1\\nvalue = [0, 1, 0, 0, 0, 0]'),\n",
       " Text(0.8518518518518519, 0.5952380952380952, 'X[9] <= 0.67\\ngini = 0.278\\nsamples = 6\\nvalue = [0, 0, 0, 0, 5, 1]'),\n",
       " Text(0.8476190476190476, 0.5476190476190477, 'gini = 0.0\\nsamples = 5\\nvalue = [0, 0, 0, 0, 5, 0]'),\n",
       " Text(0.8560846560846561, 0.5476190476190477, 'gini = 0.0\\nsamples = 1\\nvalue = [0, 0, 0, 0, 0, 1]'),\n",
       " Text(0.873015873015873, 0.6428571428571429, 'X[9] <= 0.625\\ngini = 0.571\\nsamples = 7\\nvalue = [0, 0, 1, 4, 2, 0]'),\n",
       " Text(0.8687830687830688, 0.5952380952380952, 'X[6] <= 13.5\\ngini = 0.32\\nsamples = 5\\nvalue = [0, 0, 1, 4, 0, 0]'),\n",
       " Text(0.8645502645502645, 0.5476190476190477, 'gini = 0.0\\nsamples = 4\\nvalue = [0, 0, 0, 4, 0, 0]'),\n",
       " Text(0.873015873015873, 0.5476190476190477, 'gini = 0.0\\nsamples = 1\\nvalue = [0, 0, 1, 0, 0, 0]'),\n",
       " Text(0.8772486772486773, 0.5952380952380952, 'gini = 0.0\\nsamples = 2\\nvalue = [0, 0, 0, 0, 2, 0]'),\n",
       " Text(0.9047619047619048, 0.7380952380952381, 'X[8] <= 3.515\\ngini = 0.431\\nsamples = 53\\nvalue = [0, 2, 8, 39, 3, 1]'),\n",
       " Text(0.8941798941798942, 0.6904761904761905, 'X[3] <= 4.9\\ngini = 0.266\\nsamples = 34\\nvalue = [0, 1, 2, 29, 1, 1]'),\n",
       " Text(0.8899470899470899, 0.6428571428571429, 'X[6] <= 23.0\\ngini = 0.222\\nsamples = 33\\nvalue = [0, 1, 2, 29, 1, 0]'),\n",
       " Text(0.8857142857142857, 0.5952380952380952, 'X[1] <= 0.46\\ngini = 0.485\\nsamples = 13\\nvalue = [0, 1, 2, 9, 1, 0]'),\n",
       " Text(0.8814814814814815, 0.5476190476190477, 'gini = 0.0\\nsamples = 1\\nvalue = [0, 0, 0, 0, 1, 0]'),\n",
       " Text(0.8899470899470899, 0.5476190476190477, 'X[6] <= 21.0\\ngini = 0.403\\nsamples = 12\\nvalue = [0, 1, 2, 9, 0, 0]'),\n",
       " Text(0.8857142857142857, 0.5, 'X[3] <= 3.025\\ngini = 0.314\\nsamples = 11\\nvalue = [0, 1, 1, 9, 0, 0]'),\n",
       " Text(0.8814814814814815, 0.4523809523809524, 'gini = 0.0\\nsamples = 7\\nvalue = [0, 0, 0, 7, 0, 0]'),\n",
       " Text(0.8899470899470899, 0.4523809523809524, 'X[10] <= 11.75\\ngini = 0.625\\nsamples = 4\\nvalue = [0, 1, 1, 2, 0, 0]'),\n",
       " Text(0.8857142857142857, 0.40476190476190477, 'gini = 0.0\\nsamples = 2\\nvalue = [0, 0, 0, 2, 0, 0]'),\n",
       " Text(0.8941798941798942, 0.40476190476190477, 'X[5] <= 9.5\\ngini = 0.5\\nsamples = 2\\nvalue = [0, 1, 1, 0, 0, 0]'),\n",
       " Text(0.8899470899470899, 0.35714285714285715, 'gini = 0.0\\nsamples = 1\\nvalue = [0, 0, 1, 0, 0, 0]'),\n",
       " Text(0.8984126984126984, 0.35714285714285715, 'gini = 0.0\\nsamples = 1\\nvalue = [0, 1, 0, 0, 0, 0]'),\n",
       " Text(0.8941798941798942, 0.5, 'gini = 0.0\\nsamples = 1\\nvalue = [0, 0, 1, 0, 0, 0]'),\n",
       " Text(0.8941798941798942, 0.5952380952380952, 'gini = 0.0\\nsamples = 20\\nvalue = [0, 0, 0, 20, 0, 0]'),\n",
       " Text(0.8984126984126984, 0.6428571428571429, 'gini = 0.0\\nsamples = 1\\nvalue = [0, 0, 0, 0, 0, 1]'),\n",
       " Text(0.9153439153439153, 0.6904761904761905, 'X[6] <= 27.5\\ngini = 0.609\\nsamples = 19\\nvalue = [0, 1, 6, 10, 2, 0]'),\n",
       " Text(0.9068783068783068, 0.6428571428571429, 'X[8] <= 3.62\\ngini = 0.278\\nsamples = 6\\nvalue = [0, 0, 5, 1, 0, 0]'),\n",
       " Text(0.9026455026455027, 0.5952380952380952, 'gini = 0.0\\nsamples = 5\\nvalue = [0, 0, 5, 0, 0, 0]'),\n",
       " Text(0.9111111111111111, 0.5952380952380952, 'gini = 0.0\\nsamples = 1\\nvalue = [0, 0, 0, 1, 0, 0]'),\n",
       " Text(0.9238095238095239, 0.6428571428571429, 'X[8] <= 3.545\\ngini = 0.485\\nsamples = 13\\nvalue = [0, 1, 1, 9, 2, 0]'),\n",
       " Text(0.9195767195767196, 0.5952380952380952, 'gini = 0.0\\nsamples = 2\\nvalue = [0, 0, 0, 0, 2, 0]'),\n",
       " Text(0.928042328042328, 0.5952380952380952, 'X[10] <= 12.95\\ngini = 0.314\\nsamples = 11\\nvalue = [0, 1, 1, 9, 0, 0]'),\n",
       " Text(0.9238095238095239, 0.5476190476190477, 'gini = 0.0\\nsamples = 9\\nvalue = [0, 0, 0, 9, 0, 0]'),\n",
       " Text(0.9322751322751323, 0.5476190476190477, 'X[4] <= 0.052\\ngini = 0.5\\nsamples = 2\\nvalue = [0, 1, 1, 0, 0, 0]'),\n",
       " Text(0.928042328042328, 0.5, 'gini = 0.0\\nsamples = 1\\nvalue = [0, 0, 1, 0, 0, 0]'),\n",
       " Text(0.9365079365079365, 0.5, 'gini = 0.0\\nsamples = 1\\nvalue = [0, 1, 0, 0, 0, 0]'),\n",
       " Text(0.9619047619047619, 0.7857142857142857, 'X[6] <= 22.5\\ngini = 0.554\\nsamples = 40\\nvalue = [0, 0, 1, 15, 22, 2]'),\n",
       " Text(0.944973544973545, 0.7380952380952381, 'X[10] <= 11.55\\ngini = 0.486\\nsamples = 12\\nvalue = [0, 0, 1, 8, 3, 0]'),\n",
       " Text(0.9365079365079365, 0.6904761904761905, 'X[9] <= 0.785\\ngini = 0.444\\nsamples = 3\\nvalue = [0, 0, 1, 0, 2, 0]'),\n",
       " Text(0.9322751322751323, 0.6428571428571429, 'gini = 0.0\\nsamples = 2\\nvalue = [0, 0, 0, 0, 2, 0]'),\n",
       " Text(0.9407407407407408, 0.6428571428571429, 'gini = 0.0\\nsamples = 1\\nvalue = [0, 0, 1, 0, 0, 0]'),\n",
       " Text(0.9534391534391534, 0.6904761904761905, 'X[3] <= 4.35\\ngini = 0.198\\nsamples = 9\\nvalue = [0, 0, 0, 8, 1, 0]'),\n",
       " Text(0.9492063492063492, 0.6428571428571429, 'gini = 0.0\\nsamples = 8\\nvalue = [0, 0, 0, 8, 0, 0]'),\n",
       " Text(0.9576719576719577, 0.6428571428571429, 'gini = 0.0\\nsamples = 1\\nvalue = [0, 0, 0, 0, 1, 0]'),\n",
       " Text(0.9788359788359788, 0.7380952380952381, 'X[5] <= 18.5\\ngini = 0.472\\nsamples = 28\\nvalue = [0, 0, 0, 7, 19, 2]'),\n",
       " Text(0.9703703703703703, 0.6904761904761905, 'X[1] <= 0.833\\ngini = 0.153\\nsamples = 12\\nvalue = [0, 0, 0, 0, 11, 1]'),\n",
       " Text(0.9661375661375662, 0.6428571428571429, 'gini = 0.0\\nsamples = 11\\nvalue = [0, 0, 0, 0, 11, 0]'),\n",
       " Text(0.9746031746031746, 0.6428571428571429, 'gini = 0.0\\nsamples = 1\\nvalue = [0, 0, 0, 0, 0, 1]'),\n",
       " Text(0.9873015873015873, 0.6904761904761905, 'X[3] <= 2.7\\ngini = 0.555\\nsamples = 16\\nvalue = [0, 0, 0, 7, 8, 1]'),\n",
       " Text(0.9830687830687831, 0.6428571428571429, 'X[0] <= 9.1\\ngini = 0.542\\nsamples = 12\\nvalue = [0, 0, 0, 7, 4, 1]'),\n",
       " Text(0.9746031746031746, 0.5952380952380952, 'X[5] <= 19.5\\ngini = 0.406\\nsamples = 8\\nvalue = [0, 0, 0, 6, 1, 1]'),\n",
       " Text(0.9703703703703703, 0.5476190476190477, 'gini = 0.0\\nsamples = 1\\nvalue = [0, 0, 0, 0, 0, 1]'),\n",
       " Text(0.9788359788359788, 0.5476190476190477, 'X[2] <= 0.045\\ngini = 0.245\\nsamples = 7\\nvalue = [0, 0, 0, 6, 1, 0]'),\n",
       " Text(0.9746031746031746, 0.5, 'X[7] <= 0.992\\ngini = 0.5\\nsamples = 2\\nvalue = [0, 0, 0, 1, 1, 0]'),\n",
       " Text(0.9703703703703703, 0.4523809523809524, 'gini = 0.0\\nsamples = 1\\nvalue = [0, 0, 0, 1, 0, 0]'),\n",
       " Text(0.9788359788359788, 0.4523809523809524, 'gini = 0.0\\nsamples = 1\\nvalue = [0, 0, 0, 0, 1, 0]'),\n",
       " Text(0.9830687830687831, 0.5, 'gini = 0.0\\nsamples = 5\\nvalue = [0, 0, 0, 5, 0, 0]'),\n",
       " Text(0.9915343915343915, 0.5952380952380952, 'X[9] <= 0.725\\ngini = 0.375\\nsamples = 4\\nvalue = [0, 0, 0, 1, 3, 0]'),\n",
       " Text(0.9873015873015873, 0.5476190476190477, 'gini = 0.0\\nsamples = 1\\nvalue = [0, 0, 0, 1, 0, 0]'),\n",
       " Text(0.9957671957671957, 0.5476190476190477, 'gini = 0.0\\nsamples = 3\\nvalue = [0, 0, 0, 0, 3, 0]'),\n",
       " Text(0.9915343915343915, 0.6428571428571429, 'gini = 0.0\\nsamples = 4\\nvalue = [0, 0, 0, 0, 4, 0]')]"
      ]
     },
     "metadata": {},
     "execution_count": 13
    },
    {
     "output_type": "display_data",
     "data": {
      "text/plain": [
       "<Figure size 1800x1080 with 1 Axes>"
      ],
      "image/png": "[encoded data removed]"
     },
     "metadata": {
      "needs_background": "light"
     }
    }
   ],
   "source": [
    "from sklearn import tree\n",
    "import matplotlib.pyplot as plt\n",
    "fig = plt.figure(figsize=(25,15))\n",
    "tree.plot_tree(model,filled=True)"
   ],
   "metadata": {
    "pycharm": {
     "name": "#%%\n"
    },
    "colab": {
     "base_uri": "https://localhost:8080/",
     "height": 1000
    },
    "id": "Y61flzel2Zpk",
    "outputId": "1322c121-311a-4dc3-f0b2-f052f223fb93"
   }
  },
  {
   "cell_type": "code",
   "execution_count": 14,
   "outputs": [],
   "source": [
    "y_pred = model.predict(X_test)"
   ],
   "metadata": {
    "pycharm": {
     "name": "#%%\n"
    },
    "id": "iPxfTbAc2Zpk"
   }
  },
  {
   "cell_type": "code",
   "execution_count": 15,
   "outputs": [
    {
     "output_type": "execute_result",
     "data": {
      "text/plain": [
       "0.47438752783964366"
      ]
     },
     "metadata": {},
     "execution_count": 15
    }
   ],
   "source": [
    "from sklearn.metrics import accuracy_score\n",
    "\n",
    "accuracy_score(y_test, y_pred)"
   ],
   "metadata": {
    "pycharm": {
     "name": "#%%\n"
    },
    "colab": {
     "base_uri": "https://localhost:8080/"
    },
    "id": "nKUjJe7y2Zpk",
    "outputId": "92f3e949-24ac-4922-9c84-0668b5e8111d"
   }
  },
  {
   "cell_type": "markdown",
   "source": [
    "> Dummy model!\n",
    "\n",
    "It's an overfit model because training accuracy is very high and test accuracy is very low"
   ],
   "metadata": {
    "collapsed": false,
    "pycharm": {
     "name": "#%% md\n"
    },
    "id": "fFb3BRJN2Zpl"
   }
  },
  {
   "cell_type": "markdown",
   "source": [
    "# Hyperparameter Tuning"
   ],
   "metadata": {
    "collapsed": false,
    "pycharm": {
     "name": "#%% md\n"
    },
    "id": "H_enaHI72Zpl"
   }
  },
  {
   "cell_type": "code",
   "execution_count": null,
   "outputs": [],
   "source": [
    "grid_param = {\n",
    "    'criterion': ['gini', 'entropy'],\n",
    "    'max_depth' : range(2,32,1),\n",
    "    'min_samples_leaf': range(1,10,1),\n",
    "    'min_samples_split': range(2,10,1),\n",
    "    'splitter': ['best', 'random']\n",
    "}\n"
   ],
   "metadata": {
    "pycharm": {
     "name": "#%%\n"
    },
    "id": "oibxiLQ32Zpl"
   }
  },
  {
   "cell_type": "code",
   "execution_count": null,
   "outputs": [],
   "source": [
    "from sklearn.model_selection import GridSearchCV\n",
    "\n",
    "grid_search = GridSearchCV(estimator=model, param_grid=grid_param, cv=5)"
   ],
   "metadata": {
    "pycharm": {
     "name": "#%%\n"
    },
    "id": "I6p6twpw2Zpl"
   }
  },
  {
   "cell_type": "code",
   "execution_count": null,
   "outputs": [
    {
     "data": {
      "text/plain": "GridSearchCV(cv=5, estimator=DecisionTreeClassifier(),\n             param_grid={'criterion': ['gini', 'entropy'],\n                         'max_depth': range(2, 32),\n                         'min_samples_leaf': range(1, 10),\n                         'min_samples_split': range(2, 10),\n                         'splitter': ['best', 'random']})",
      "text/html": "<style>#sk-container-id-2 {color: black;background-color: white;}#sk-container-id-2 pre{padding: 0;}#sk-container-id-2 div.sk-toggleable {background-color: white;}#sk-container-id-2 label.sk-toggleable__label {cursor: pointer;display: block;width: 100%;margin-bottom: 0;padding: 0.3em;box-sizing: border-box;text-align: center;}#sk-container-id-2 label.sk-toggleable__label-arrow:before {content: \"▸\";float: left;margin-right: 0.25em;color: #696969;}#sk-container-id-2 label.sk-toggleable__label-arrow:hover:before {color: black;}#sk-container-id-2 div.sk-estimator:hover label.sk-toggleable__label-arrow:before {color: black;}#sk-container-id-2 div.sk-toggleable__content {max-height: 0;max-width: 0;overflow: hidden;text-align: left;background-color: #f0f8ff;}#sk-container-id-2 div.sk-toggleable__content pre {margin: 0.2em;color: black;border-radius: 0.25em;background-color: #f0f8ff;}#sk-container-id-2 input.sk-toggleable__control:checked~div.sk-toggleable__content {max-height: 200px;max-width: 100%;overflow: auto;}#sk-container-id-2 input.sk-toggleable__control:checked~label.sk-toggleable__label-arrow:before {content: \"▾\";}#sk-container-id-2 div.sk-estimator input.sk-toggleable__control:checked~label.sk-toggleable__label {background-color: #d4ebff;}#sk-container-id-2 div.sk-label input.sk-toggleable__control:checked~label.sk-toggleable__label {background-color: #d4ebff;}#sk-container-id-2 input.sk-hidden--visually {border: 0;clip: rect(1px 1px 1px 1px);clip: rect(1px, 1px, 1px, 1px);height: 1px;margin: -1px;overflow: hidden;padding: 0;position: absolute;width: 1px;}#sk-container-id-2 div.sk-estimator {font-family: monospace;background-color: #f0f8ff;border: 1px dotted black;border-radius: 0.25em;box-sizing: border-box;margin-bottom: 0.5em;}#sk-container-id-2 div.sk-estimator:hover {background-color: #d4ebff;}#sk-container-id-2 div.sk-parallel-item::after {content: \"\";width: 100%;border-bottom: 1px solid gray;flex-grow: 1;}#sk-container-id-2 div.sk-label:hover label.sk-toggleable__label {background-color: #d4ebff;}#sk-container-id-2 div.sk-serial::before {content: \"\";position: absolute;border-left: 1px solid gray;box-sizing: border-box;top: 0;bottom: 0;left: 50%;z-index: 0;}#sk-container-id-2 div.sk-serial {display: flex;flex-direction: column;align-items: center;background-color: white;padding-right: 0.2em;padding-left: 0.2em;position: relative;}#sk-container-id-2 div.sk-item {position: relative;z-index: 1;}#sk-container-id-2 div.sk-parallel {display: flex;align-items: stretch;justify-content: center;background-color: white;position: relative;}#sk-container-id-2 div.sk-item::before, #sk-container-id-2 div.sk-parallel-item::before {content: \"\";position: absolute;border-left: 1px solid gray;box-sizing: border-box;top: 0;bottom: 0;left: 50%;z-index: -1;}#sk-container-id-2 div.sk-parallel-item {display: flex;flex-direction: column;z-index: 1;position: relative;background-color: white;}#sk-container-id-2 div.sk-parallel-item:first-child::after {align-self: flex-end;width: 50%;}#sk-container-id-2 div.sk-parallel-item:last-child::after {align-self: flex-start;width: 50%;}#sk-container-id-2 div.sk-parallel-item:only-child::after {width: 0;}#sk-container-id-2 div.sk-dashed-wrapped {border: 1px dashed gray;margin: 0 0.4em 0.5em 0.4em;box-sizing: border-box;padding-bottom: 0.4em;background-color: white;}#sk-container-id-2 div.sk-label label {font-family: monospace;font-weight: bold;display: inline-block;line-height: 1.2em;}#sk-container-id-2 div.sk-label-container {text-align: center;}#sk-container-id-2 div.sk-container {/* jupyter's `normalize.less` sets `[hidden] { display: none; }` but bootstrap.min.css set `[hidden] { display: none !important; }` so we also need the `!important` here to be able to override the default hidden behavior on the sphinx rendered scikit-learn.org. See: https://github.com/scikit-learn/scikit-learn/issues/21755 */display: inline-block !important;position: relative;}#sk-container-id-2 div.sk-text-repr-fallback {display: none;}</style><div id=\"sk-container-id-2\" class=\"sk-top-container\"><div class=\"sk-text-repr-fallback\"><pre>GridSearchCV(cv=5, estimator=DecisionTreeClassifier(),\n             param_grid={&#x27;criterion&#x27;: [&#x27;gini&#x27;, &#x27;entropy&#x27;],\n                         &#x27;max_depth&#x27;: range(2, 32),\n                         &#x27;min_samples_leaf&#x27;: range(1, 10),\n                         &#x27;min_samples_split&#x27;: range(2, 10),\n                         &#x27;splitter&#x27;: [&#x27;best&#x27;, &#x27;random&#x27;]})</pre><b>In a Jupyter environment, please rerun this cell to show the HTML representation or trust the notebook. <br />On GitHub, the HTML representation is unable to render, please try loading this page with nbviewer.org.</b></div><div class=\"sk-container\" hidden><div class=\"sk-item sk-dashed-wrapped\"><div class=\"sk-label-container\"><div class=\"sk-label sk-toggleable\"><input class=\"sk-toggleable__control sk-hidden--visually\" id=\"sk-estimator-id-2\" type=\"checkbox\" ><label for=\"sk-estimator-id-2\" class=\"sk-toggleable__label sk-toggleable__label-arrow\">GridSearchCV</label><div class=\"sk-toggleable__content\"><pre>GridSearchCV(cv=5, estimator=DecisionTreeClassifier(),\n             param_grid={&#x27;criterion&#x27;: [&#x27;gini&#x27;, &#x27;entropy&#x27;],\n                         &#x27;max_depth&#x27;: range(2, 32),\n                         &#x27;min_samples_leaf&#x27;: range(1, 10),\n                         &#x27;min_samples_split&#x27;: range(2, 10),\n                         &#x27;splitter&#x27;: [&#x27;best&#x27;, &#x27;random&#x27;]})</pre></div></div></div><div class=\"sk-parallel\"><div class=\"sk-parallel-item\"><div class=\"sk-item\"><div class=\"sk-label-container\"><div class=\"sk-label sk-toggleable\"><input class=\"sk-toggleable__control sk-hidden--visually\" id=\"sk-estimator-id-3\" type=\"checkbox\" ><label for=\"sk-estimator-id-3\" class=\"sk-toggleable__label sk-toggleable__label-arrow\">estimator: DecisionTreeClassifier</label><div class=\"sk-toggleable__content\"><pre>DecisionTreeClassifier()</pre></div></div></div><div class=\"sk-serial\"><div class=\"sk-item\"><div class=\"sk-estimator sk-toggleable\"><input class=\"sk-toggleable__control sk-hidden--visually\" id=\"sk-estimator-id-4\" type=\"checkbox\" ><label for=\"sk-estimator-id-4\" class=\"sk-toggleable__label sk-toggleable__label-arrow\">DecisionTreeClassifier</label><div class=\"sk-toggleable__content\"><pre>DecisionTreeClassifier()</pre></div></div></div></div></div></div></div></div></div></div>"
     },
     "execution_count": 18,
     "metadata": {},
     "output_type": "execute_result"
    }
   ],
   "source": [
    "grid_search.fit(X_train,y_train)"
   ],
   "metadata": {
    "pycharm": {
     "name": "#%%\n"
    },
    "id": "mVWbnNp42Zpl",
    "outputId": "010695df-1945-4ae8-c036-a9d83518a046"
   }
  },
  {
   "cell_type": "code",
   "execution_count": null,
   "outputs": [
    {
     "data": {
      "text/plain": "{'criterion': 'entropy',\n 'max_depth': 4,\n 'min_samples_leaf': 9,\n 'min_samples_split': 3,\n 'splitter': 'random'}"
     },
     "execution_count": 19,
     "metadata": {},
     "output_type": "execute_result"
    }
   ],
   "source": [
    "grid_search.best_params_"
   ],
   "metadata": {
    "pycharm": {
     "name": "#%%\n"
    },
    "id": "pgTZLkuS2Zpm",
    "outputId": "5f781d76-f878-4aef-f6cc-4262a034d55a"
   }
  },
  {
   "cell_type": "code",
   "execution_count": null,
   "outputs": [],
   "source": [
    "model_with_best_params = DecisionTreeClassifier(criterion='entropy',\n",
    "                                                max_depth=4,\n",
    "                                                min_samples_leaf=2,\n",
    "                                                min_samples_split=8,\n",
    "                                                splitter='random')"
   ],
   "metadata": {
    "pycharm": {
     "name": "#%%\n"
    },
    "id": "jUaMK-K92Zpm"
   }
  },
  {
   "cell_type": "code",
   "execution_count": null,
   "outputs": [
    {
     "data": {
      "text/plain": "DecisionTreeClassifier(criterion='entropy', max_depth=4, min_samples_leaf=2,\n                       min_samples_split=8, splitter='random')",
      "text/html": "<style>#sk-container-id-3 {color: black;background-color: white;}#sk-container-id-3 pre{padding: 0;}#sk-container-id-3 div.sk-toggleable {background-color: white;}#sk-container-id-3 label.sk-toggleable__label {cursor: pointer;display: block;width: 100%;margin-bottom: 0;padding: 0.3em;box-sizing: border-box;text-align: center;}#sk-container-id-3 label.sk-toggleable__label-arrow:before {content: \"▸\";float: left;margin-right: 0.25em;color: #696969;}#sk-container-id-3 label.sk-toggleable__label-arrow:hover:before {color: black;}#sk-container-id-3 div.sk-estimator:hover label.sk-toggleable__label-arrow:before {color: black;}#sk-container-id-3 div.sk-toggleable__content {max-height: 0;max-width: 0;overflow: hidden;text-align: left;background-color: #f0f8ff;}#sk-container-id-3 div.sk-toggleable__content pre {margin: 0.2em;color: black;border-radius: 0.25em;background-color: #f0f8ff;}#sk-container-id-3 input.sk-toggleable__control:checked~div.sk-toggleable__content {max-height: 200px;max-width: 100%;overflow: auto;}#sk-container-id-3 input.sk-toggleable__control:checked~label.sk-toggleable__label-arrow:before {content: \"▾\";}#sk-container-id-3 div.sk-estimator input.sk-toggleable__control:checked~label.sk-toggleable__label {background-color: #d4ebff;}#sk-container-id-3 div.sk-label input.sk-toggleable__control:checked~label.sk-toggleable__label {background-color: #d4ebff;}#sk-container-id-3 input.sk-hidden--visually {border: 0;clip: rect(1px 1px 1px 1px);clip: rect(1px, 1px, 1px, 1px);height: 1px;margin: -1px;overflow: hidden;padding: 0;position: absolute;width: 1px;}#sk-container-id-3 div.sk-estimator {font-family: monospace;background-color: #f0f8ff;border: 1px dotted black;border-radius: 0.25em;box-sizing: border-box;margin-bottom: 0.5em;}#sk-container-id-3 div.sk-estimator:hover {background-color: #d4ebff;}#sk-container-id-3 div.sk-parallel-item::after {content: \"\";width: 100%;border-bottom: 1px solid gray;flex-grow: 1;}#sk-container-id-3 div.sk-label:hover label.sk-toggleable__label {background-color: #d4ebff;}#sk-container-id-3 div.sk-serial::before {content: \"\";position: absolute;border-left: 1px solid gray;box-sizing: border-box;top: 0;bottom: 0;left: 50%;z-index: 0;}#sk-container-id-3 div.sk-serial {display: flex;flex-direction: column;align-items: center;background-color: white;padding-right: 0.2em;padding-left: 0.2em;position: relative;}#sk-container-id-3 div.sk-item {position: relative;z-index: 1;}#sk-container-id-3 div.sk-parallel {display: flex;align-items: stretch;justify-content: center;background-color: white;position: relative;}#sk-container-id-3 div.sk-item::before, #sk-container-id-3 div.sk-parallel-item::before {content: \"\";position: absolute;border-left: 1px solid gray;box-sizing: border-box;top: 0;bottom: 0;left: 50%;z-index: -1;}#sk-container-id-3 div.sk-parallel-item {display: flex;flex-direction: column;z-index: 1;position: relative;background-color: white;}#sk-container-id-3 div.sk-parallel-item:first-child::after {align-self: flex-end;width: 50%;}#sk-container-id-3 div.sk-parallel-item:last-child::after {align-self: flex-start;width: 50%;}#sk-container-id-3 div.sk-parallel-item:only-child::after {width: 0;}#sk-container-id-3 div.sk-dashed-wrapped {border: 1px dashed gray;margin: 0 0.4em 0.5em 0.4em;box-sizing: border-box;padding-bottom: 0.4em;background-color: white;}#sk-container-id-3 div.sk-label label {font-family: monospace;font-weight: bold;display: inline-block;line-height: 1.2em;}#sk-container-id-3 div.sk-label-container {text-align: center;}#sk-container-id-3 div.sk-container {/* jupyter's `normalize.less` sets `[hidden] { display: none; }` but bootstrap.min.css set `[hidden] { display: none !important; }` so we also need the `!important` here to be able to override the default hidden behavior on the sphinx rendered scikit-learn.org. See: https://github.com/scikit-learn/scikit-learn/issues/21755 */display: inline-block !important;position: relative;}#sk-container-id-3 div.sk-text-repr-fallback {display: none;}</style><div id=\"sk-container-id-3\" class=\"sk-top-container\"><div class=\"sk-text-repr-fallback\"><pre>DecisionTreeClassifier(criterion=&#x27;entropy&#x27;, max_depth=4, min_samples_leaf=2,\n                       min_samples_split=8, splitter=&#x27;random&#x27;)</pre><b>In a Jupyter environment, please rerun this cell to show the HTML representation or trust the notebook. <br />On GitHub, the HTML representation is unable to render, please try loading this page with nbviewer.org.</b></div><div class=\"sk-container\" hidden><div class=\"sk-item\"><div class=\"sk-estimator sk-toggleable\"><input class=\"sk-toggleable__control sk-hidden--visually\" id=\"sk-estimator-id-5\" type=\"checkbox\" checked><label for=\"sk-estimator-id-5\" class=\"sk-toggleable__label sk-toggleable__label-arrow\">DecisionTreeClassifier</label><div class=\"sk-toggleable__content\"><pre>DecisionTreeClassifier(criterion=&#x27;entropy&#x27;, max_depth=4, min_samples_leaf=2,\n                       min_samples_split=8, splitter=&#x27;random&#x27;)</pre></div></div></div></div></div>"
     },
     "execution_count": 21,
     "metadata": {},
     "output_type": "execute_result"
    }
   ],
   "source": [
    "model_with_best_params.fit(X_train, y_train)"
   ],
   "metadata": {
    "pycharm": {
     "name": "#%%\n"
    },
    "id": "I5x5u5MQ2Zpm",
    "outputId": "8f5ffc0e-c296-48da-83ab-d5cc810d6a4c"
   }
  },
  {
   "cell_type": "code",
   "execution_count": null,
   "outputs": [],
   "source": [
    "y_pred2 = model_with_best_params.predict(X_test)"
   ],
   "metadata": {
    "pycharm": {
     "name": "#%%\n"
    },
    "id": "4VSGMOmG2Zpm"
   }
  },
  {
   "cell_type": "code",
   "execution_count": null,
   "outputs": [
    {
     "data": {
      "text/plain": "0.6013363028953229"
     },
     "execution_count": 23,
     "metadata": {},
     "output_type": "execute_result"
    }
   ],
   "source": [
    "accuracy_score(y_test, y_pred2)"
   ],
   "metadata": {
    "pycharm": {
     "name": "#%%\n"
    },
    "id": "dzwQEPMJ2Zpm",
    "outputId": "8d535fd3-46f6-4215-e94c-9b316d2c155a"
   }
  },
  {
   "cell_type": "markdown",
   "source": [
    "# Our Accuracy improved!"
   ],
   "metadata": {
    "collapsed": false,
    "pycharm": {
     "name": "#%% md\n"
    },
    "id": "2jqlLGE82Zpn"
   }
  },
  {
   "cell_type": "markdown",
   "source": [
    "# PLotting Tree"
   ],
   "metadata": {
    "collapsed": false,
    "pycharm": {
     "name": "#%% md\n"
    },
    "id": "A7HCeN152Zpn"
   }
  },
  {
   "cell_type": "markdown",
   "source": [
    "Controlling the depth of tree"
   ],
   "metadata": {
    "collapsed": false,
    "pycharm": {
     "name": "#%% md\n"
    },
    "id": "DJIIp8uj2Zpn"
   }
  },
  {
   "cell_type": "code",
   "execution_count": null,
   "outputs": [
    {
     "data": {
      "text/plain": "[Text(0.5648148148148148, 0.9, 'X[10] <= 11.558\\nentropy = 1.752\\nsamples = 910\\nvalue = [5, 38, 385, 354, 115, 13]'),\n Text(0.2962962962962963, 0.7, 'X[1] <= 0.566\\nentropy = 1.638\\nsamples = 767\\nvalue = [5, 36, 371, 286, 64, 5]'),\n Text(0.14814814814814814, 0.5, 'X[9] <= 0.622\\nentropy = 1.612\\nsamples = 421\\nvalue = [0, 8, 178, 177, 53, 5]'),\n Text(0.07407407407407407, 0.3, 'X[6] <= 17.928\\nentropy = 1.313\\nsamples = 188\\nvalue = [0, 6, 111, 64, 7, 0]'),\n Text(0.037037037037037035, 0.1, 'entropy = 1.797\\nsamples = 28\\nvalue = [0, 3, 12, 9, 4, 0]'),\n Text(0.1111111111111111, 0.1, 'entropy = 1.173\\nsamples = 160\\nvalue = [0, 3, 99, 55, 3, 0]'),\n Text(0.2222222222222222, 0.3, 'X[10] <= 9.794\\nentropy = 1.663\\nsamples = 233\\nvalue = [0, 2, 67, 113, 46, 5]'),\n Text(0.18518518518518517, 0.1, 'entropy = 1.272\\nsamples = 63\\nvalue = [0, 1, 30, 30, 2, 0]'),\n Text(0.25925925925925924, 0.1, 'entropy = 1.682\\nsamples = 170\\nvalue = [0, 1, 37, 83, 44, 5]'),\n Text(0.4444444444444444, 0.5, 'X[10] <= 10.444\\nentropy = 1.535\\nsamples = 346\\nvalue = [5, 28, 193, 109, 11, 0]'),\n Text(0.37037037037037035, 0.3, 'X[6] <= 70.711\\nentropy = 1.365\\nsamples = 269\\nvalue = [4, 20, 174, 67, 4, 0]'),\n Text(0.3333333333333333, 0.1, 'entropy = 1.511\\nsamples = 192\\nvalue = [4, 19, 115, 50, 4, 0]'),\n Text(0.4074074074074074, 0.1, 'entropy = 0.857\\nsamples = 77\\nvalue = [0, 1, 59, 17, 0, 0]'),\n Text(0.5185185185185185, 0.3, 'X[1] <= 0.956\\nentropy = 1.71\\nsamples = 77\\nvalue = [1, 8, 19, 42, 7, 0]'),\n Text(0.48148148148148145, 0.1, 'entropy = 1.552\\nsamples = 70\\nvalue = [0, 5, 17, 41, 7, 0]'),\n Text(0.5555555555555556, 0.1, 'entropy = 1.842\\nsamples = 7\\nvalue = [1, 3, 2, 1, 0, 0]'),\n Text(0.8333333333333334, 0.7, 'X[3] <= 4.833\\nentropy = 1.688\\nsamples = 143\\nvalue = [0, 2, 14, 68, 51, 8]'),\n Text(0.7407407407407407, 0.5, 'X[9] <= 0.75\\nentropy = 1.629\\nsamples = 134\\nvalue = [0, 2, 12, 68, 46, 6]'),\n Text(0.6666666666666666, 0.3, 'X[2] <= 0.295\\nentropy = 1.634\\nsamples = 90\\nvalue = [0, 2, 12, 51, 22, 3]'),\n Text(0.6296296296296297, 0.1, 'entropy = 1.731\\nsamples = 43\\nvalue = [0, 2, 10, 23, 7, 1]'),\n Text(0.7037037037037037, 0.1, 'entropy = 1.359\\nsamples = 47\\nvalue = [0, 0, 2, 28, 15, 2]'),\n Text(0.8148148148148148, 0.3, 'X[9] <= 0.911\\nentropy = 1.271\\nsamples = 44\\nvalue = [0, 0, 0, 17, 24, 3]'),\n Text(0.7777777777777778, 0.1, 'entropy = 1.191\\nsamples = 38\\nvalue = [0, 0, 0, 13, 23, 2]'),\n Text(0.8518518518518519, 0.1, 'entropy = 1.252\\nsamples = 6\\nvalue = [0, 0, 0, 4, 1, 1]'),\n Text(0.9259259259259259, 0.5, 'X[3] <= 6.656\\nentropy = 1.436\\nsamples = 9\\nvalue = [0, 0, 2, 0, 5, 2]'),\n Text(0.8888888888888888, 0.3, 'entropy = 0.918\\nsamples = 6\\nvalue = [0, 0, 0, 0, 4, 2]'),\n Text(0.9629629629629629, 0.3, 'entropy = 0.918\\nsamples = 3\\nvalue = [0, 0, 2, 0, 1, 0]')]"
     },
     "execution_count": 24,
     "metadata": {},
     "output_type": "execute_result"
    },
    {
     "data": {
      "text/plain": "<Figure size 2500x1500 with 1 Axes>",
      "image/png": "[encoded data removed]"
     },
     "metadata": {},
     "output_type": "display_data"
    }
   ],
   "source": [
    "from sklearn import tree\n",
    "import matplotlib.pyplot as plt\n",
    "fig = plt.figure(figsize=(25,15))\n",
    "tree.plot_tree(model_with_best_params, filled=True, fontsize=12)"
   ],
   "metadata": {
    "pycharm": {
     "name": "#%%\n"
    },
    "id": "WaPii6nd2Zpn",
    "outputId": "a77682e9-e8a8-4365-b41c-a603071ea1c3"
   }
  },
  {
   "cell_type": "code",
   "execution_count": null,
   "outputs": [],
   "source": [
    "fig.savefig(\"Decision_Tree_Classifier.png\")"
   ],
   "metadata": {
    "pycharm": {
     "name": "#%%\n"
    },
    "id": "l5QncGYW2Zpn"
   }
  },
  {
   "cell_type": "markdown",
   "source": [],
   "metadata": {
    "collapsed": false,
    "pycharm": {
     "name": "#%% md\n"
    },
    "id": "Kw6jsy_K2Zpn"
   }
  },
  {
   "cell_type": "markdown",
   "source": [
    "# Random Forest CLassifier"
   ],
   "metadata": {
    "collapsed": false,
    "pycharm": {
     "name": "#%% md\n"
    },
    "id": "HxdVZ2xd2Zpn"
   }
  },
  {
   "cell_type": "code",
   "execution_count": null,
   "outputs": [],
   "source": [
    "from sklearn.ensemble import RandomForestClassifier\n",
    "Rf_model = RandomForestClassifier()"
   ],
   "metadata": {
    "pycharm": {
     "name": "#%%\n"
    },
    "id": "COyuyTCs2Zpo"
   }
  },
  {
   "cell_type": "code",
   "execution_count": null,
   "outputs": [
    {
     "data": {
      "text/plain": "RandomForestClassifier()",
      "text/html": "<style>#sk-container-id-4 {color: black;background-color: white;}#sk-container-id-4 pre{padding: 0;}#sk-container-id-4 div.sk-toggleable {background-color: white;}#sk-container-id-4 label.sk-toggleable__label {cursor: pointer;display: block;width: 100%;margin-bottom: 0;padding: 0.3em;box-sizing: border-box;text-align: center;}#sk-container-id-4 label.sk-toggleable__label-arrow:before {content: \"▸\";float: left;margin-right: 0.25em;color: #696969;}#sk-container-id-4 label.sk-toggleable__label-arrow:hover:before {color: black;}#sk-container-id-4 div.sk-estimator:hover label.sk-toggleable__label-arrow:before {color: black;}#sk-container-id-4 div.sk-toggleable__content {max-height: 0;max-width: 0;overflow: hidden;text-align: left;background-color: #f0f8ff;}#sk-container-id-4 div.sk-toggleable__content pre {margin: 0.2em;color: black;border-radius: 0.25em;background-color: #f0f8ff;}#sk-container-id-4 input.sk-toggleable__control:checked~div.sk-toggleable__content {max-height: 200px;max-width: 100%;overflow: auto;}#sk-container-id-4 input.sk-toggleable__control:checked~label.sk-toggleable__label-arrow:before {content: \"▾\";}#sk-container-id-4 div.sk-estimator input.sk-toggleable__control:checked~label.sk-toggleable__label {background-color: #d4ebff;}#sk-container-id-4 div.sk-label input.sk-toggleable__control:checked~label.sk-toggleable__label {background-color: #d4ebff;}#sk-container-id-4 input.sk-hidden--visually {border: 0;clip: rect(1px 1px 1px 1px);clip: rect(1px, 1px, 1px, 1px);height: 1px;margin: -1px;overflow: hidden;padding: 0;position: absolute;width: 1px;}#sk-container-id-4 div.sk-estimator {font-family: monospace;background-color: #f0f8ff;border: 1px dotted black;border-radius: 0.25em;box-sizing: border-box;margin-bottom: 0.5em;}#sk-container-id-4 div.sk-estimator:hover {background-color: #d4ebff;}#sk-container-id-4 div.sk-parallel-item::after {content: \"\";width: 100%;border-bottom: 1px solid gray;flex-grow: 1;}#sk-container-id-4 div.sk-label:hover label.sk-toggleable__label {background-color: #d4ebff;}#sk-container-id-4 div.sk-serial::before {content: \"\";position: absolute;border-left: 1px solid gray;box-sizing: border-box;top: 0;bottom: 0;left: 50%;z-index: 0;}#sk-container-id-4 div.sk-serial {display: flex;flex-direction: column;align-items: center;background-color: white;padding-right: 0.2em;padding-left: 0.2em;position: relative;}#sk-container-id-4 div.sk-item {position: relative;z-index: 1;}#sk-container-id-4 div.sk-parallel {display: flex;align-items: stretch;justify-content: center;background-color: white;position: relative;}#sk-container-id-4 div.sk-item::before, #sk-container-id-4 div.sk-parallel-item::before {content: \"\";position: absolute;border-left: 1px solid gray;box-sizing: border-box;top: 0;bottom: 0;left: 50%;z-index: -1;}#sk-container-id-4 div.sk-parallel-item {display: flex;flex-direction: column;z-index: 1;position: relative;background-color: white;}#sk-container-id-4 div.sk-parallel-item:first-child::after {align-self: flex-end;width: 50%;}#sk-container-id-4 div.sk-parallel-item:last-child::after {align-self: flex-start;width: 50%;}#sk-container-id-4 div.sk-parallel-item:only-child::after {width: 0;}#sk-container-id-4 div.sk-dashed-wrapped {border: 1px dashed gray;margin: 0 0.4em 0.5em 0.4em;box-sizing: border-box;padding-bottom: 0.4em;background-color: white;}#sk-container-id-4 div.sk-label label {font-family: monospace;font-weight: bold;display: inline-block;line-height: 1.2em;}#sk-container-id-4 div.sk-label-container {text-align: center;}#sk-container-id-4 div.sk-container {/* jupyter's `normalize.less` sets `[hidden] { display: none; }` but bootstrap.min.css set `[hidden] { display: none !important; }` so we also need the `!important` here to be able to override the default hidden behavior on the sphinx rendered scikit-learn.org. See: https://github.com/scikit-learn/scikit-learn/issues/21755 */display: inline-block !important;position: relative;}#sk-container-id-4 div.sk-text-repr-fallback {display: none;}</style><div id=\"sk-container-id-4\" class=\"sk-top-container\"><div class=\"sk-text-repr-fallback\"><pre>RandomForestClassifier()</pre><b>In a Jupyter environment, please rerun this cell to show the HTML representation or trust the notebook. <br />On GitHub, the HTML representation is unable to render, please try loading this page with nbviewer.org.</b></div><div class=\"sk-container\" hidden><div class=\"sk-item\"><div class=\"sk-estimator sk-toggleable\"><input class=\"sk-toggleable__control sk-hidden--visually\" id=\"sk-estimator-id-6\" type=\"checkbox\" checked><label for=\"sk-estimator-id-6\" class=\"sk-toggleable__label sk-toggleable__label-arrow\">RandomForestClassifier</label><div class=\"sk-toggleable__content\"><pre>RandomForestClassifier()</pre></div></div></div></div></div>"
     },
     "execution_count": 27,
     "metadata": {},
     "output_type": "execute_result"
    }
   ],
   "source": [
    "Rf_model.fit(X_train, y_train)"
   ],
   "metadata": {
    "pycharm": {
     "name": "#%%\n"
    },
    "id": "mKfBzViG2Zpo",
    "outputId": "07fabf30-a094-4a6a-dd3d-13e7bceb0ea2"
   }
  },
  {
   "cell_type": "code",
   "execution_count": null,
   "outputs": [],
   "source": [
    "y_pred_rf = Rf_model.predict(X_test)"
   ],
   "metadata": {
    "pycharm": {
     "name": "#%%\n"
    },
    "id": "8-EYWKhH2Zpo"
   }
  },
  {
   "cell_type": "code",
   "execution_count": null,
   "outputs": [
    {
     "data": {
      "text/plain": "0.6146993318485523"
     },
     "execution_count": 29,
     "metadata": {},
     "output_type": "execute_result"
    }
   ],
   "source": [
    "accuracy_score(y_test, y_pred_rf)"
   ],
   "metadata": {
    "pycharm": {
     "name": "#%%\n"
    },
    "id": "RjE9OOMj2Zpo",
    "outputId": "6a03d628-3027-46d1-cb8b-ca6aa3521980"
   }
  },
  {
   "cell_type": "markdown",
   "source": [
    "### Accuracy is more as compared to Decision Tree"
   ],
   "metadata": {
    "collapsed": false,
    "pycharm": {
     "name": "#%% md\n"
    },
    "id": "yz9h9R3b2Zpo"
   }
  },
  {
   "cell_type": "code",
   "execution_count": null,
   "outputs": [],
   "source": [
    "grid_param_rf = {\n",
    "    'n_estimators' : [90,100],\n",
    "    'criterion': ['gini', 'entropy'],\n",
    "    'max_depth': range(2,20,1),\n",
    "    'min_samples_leaf': range(1,10,1),\n",
    "    'min_samples_split': range(2,10,1),\n",
    "    'max_features': ['auto', 'log2']\n",
    "}"
   ],
   "metadata": {
    "pycharm": {
     "name": "#%%\n"
    },
    "id": "pkn4Cwi82Zpo"
   }
  },
  {
   "cell_type": "code",
   "execution_count": null,
   "outputs": [],
   "source": [
    "from sklearn.model_selection import GridSearchCV\n",
    "\n",
    "grid_search_rf = GridSearchCV(estimator=Rf_model, param_grid=grid_param_rf, cv=3, verbose=2, n_jobs=-1)   # n_jobs shows the power it will use of system"
   ],
   "metadata": {
    "pycharm": {
     "name": "#%%\n"
    },
    "id": "ARRzKLUP2Zpp"
   }
  },
  {
   "cell_type": "code",
   "execution_count": null,
   "outputs": [
    {
     "name": "stdout",
     "output_type": "stream",
     "text": [
      "Fitting 3 folds for each of 10368 candidates, totalling 31104 fits\n"
     ]
    },
    {
     "name": "stderr",
     "output_type": "stream",
     "text": [
      "C:\\Users\\Himz\\anaconda3\\envs\\EDA\\lib\\site-packages\\sklearn\\ensemble\\_forest.py:427: FutureWarning: `max_features='auto'` has been deprecated in 1.1 and will be removed in 1.3. To keep the past behaviour, explicitly set `max_features='sqrt'` or remove this parameter as it is also the default value for RandomForestClassifiers and ExtraTreesClassifiers.\n",
      "  warn(\n"
     ]
    },
    {
     "data": {
      "text/plain": "GridSearchCV(cv=3, estimator=RandomForestClassifier(), n_jobs=-1,\n             param_grid={'criterion': ['gini', 'entropy'],\n                         'max_depth': range(2, 20),\n                         'max_features': ['auto', 'log2'],\n                         'min_samples_leaf': range(1, 10),\n                         'min_samples_split': range(2, 10),\n                         'n_estimators': [90, 100]},\n             verbose=2)",
      "text/html": "<style>#sk-container-id-5 {color: black;background-color: white;}#sk-container-id-5 pre{padding: 0;}#sk-container-id-5 div.sk-toggleable {background-color: white;}#sk-container-id-5 label.sk-toggleable__label {cursor: pointer;display: block;width: 100%;margin-bottom: 0;padding: 0.3em;box-sizing: border-box;text-align: center;}#sk-container-id-5 label.sk-toggleable__label-arrow:before {content: \"▸\";float: left;margin-right: 0.25em;color: #696969;}#sk-container-id-5 label.sk-toggleable__label-arrow:hover:before {color: black;}#sk-container-id-5 div.sk-estimator:hover label.sk-toggleable__label-arrow:before {color: black;}#sk-container-id-5 div.sk-toggleable__content {max-height: 0;max-width: 0;overflow: hidden;text-align: left;background-color: #f0f8ff;}#sk-container-id-5 div.sk-toggleable__content pre {margin: 0.2em;color: black;border-radius: 0.25em;background-color: #f0f8ff;}#sk-container-id-5 input.sk-toggleable__control:checked~div.sk-toggleable__content {max-height: 200px;max-width: 100%;overflow: auto;}#sk-container-id-5 input.sk-toggleable__control:checked~label.sk-toggleable__label-arrow:before {content: \"▾\";}#sk-container-id-5 div.sk-estimator input.sk-toggleable__control:checked~label.sk-toggleable__label {background-color: #d4ebff;}#sk-container-id-5 div.sk-label input.sk-toggleable__control:checked~label.sk-toggleable__label {background-color: #d4ebff;}#sk-container-id-5 input.sk-hidden--visually {border: 0;clip: rect(1px 1px 1px 1px);clip: rect(1px, 1px, 1px, 1px);height: 1px;margin: -1px;overflow: hidden;padding: 0;position: absolute;width: 1px;}#sk-container-id-5 div.sk-estimator {font-family: monospace;background-color: #f0f8ff;border: 1px dotted black;border-radius: 0.25em;box-sizing: border-box;margin-bottom: 0.5em;}#sk-container-id-5 div.sk-estimator:hover {background-color: #d4ebff;}#sk-container-id-5 div.sk-parallel-item::after {content: \"\";width: 100%;border-bottom: 1px solid gray;flex-grow: 1;}#sk-container-id-5 div.sk-label:hover label.sk-toggleable__label {background-color: #d4ebff;}#sk-container-id-5 div.sk-serial::before {content: \"\";position: absolute;border-left: 1px solid gray;box-sizing: border-box;top: 0;bottom: 0;left: 50%;z-index: 0;}#sk-container-id-5 div.sk-serial {display: flex;flex-direction: column;align-items: center;background-color: white;padding-right: 0.2em;padding-left: 0.2em;position: relative;}#sk-container-id-5 div.sk-item {position: relative;z-index: 1;}#sk-container-id-5 div.sk-parallel {display: flex;align-items: stretch;justify-content: center;background-color: white;position: relative;}#sk-container-id-5 div.sk-item::before, #sk-container-id-5 div.sk-parallel-item::before {content: \"\";position: absolute;border-left: 1px solid gray;box-sizing: border-box;top: 0;bottom: 0;left: 50%;z-index: -1;}#sk-container-id-5 div.sk-parallel-item {display: flex;flex-direction: column;z-index: 1;position: relative;background-color: white;}#sk-container-id-5 div.sk-parallel-item:first-child::after {align-self: flex-end;width: 50%;}#sk-container-id-5 div.sk-parallel-item:last-child::after {align-self: flex-start;width: 50%;}#sk-container-id-5 div.sk-parallel-item:only-child::after {width: 0;}#sk-container-id-5 div.sk-dashed-wrapped {border: 1px dashed gray;margin: 0 0.4em 0.5em 0.4em;box-sizing: border-box;padding-bottom: 0.4em;background-color: white;}#sk-container-id-5 div.sk-label label {font-family: monospace;font-weight: bold;display: inline-block;line-height: 1.2em;}#sk-container-id-5 div.sk-label-container {text-align: center;}#sk-container-id-5 div.sk-container {/* jupyter's `normalize.less` sets `[hidden] { display: none; }` but bootstrap.min.css set `[hidden] { display: none !important; }` so we also need the `!important` here to be able to override the default hidden behavior on the sphinx rendered scikit-learn.org. See: https://github.com/scikit-learn/scikit-learn/issues/21755 */display: inline-block !important;position: relative;}#sk-container-id-5 div.sk-text-repr-fallback {display: none;}</style><div id=\"sk-container-id-5\" class=\"sk-top-container\"><div class=\"sk-text-repr-fallback\"><pre>GridSearchCV(cv=3, estimator=RandomForestClassifier(), n_jobs=-1,\n             param_grid={&#x27;criterion&#x27;: [&#x27;gini&#x27;, &#x27;entropy&#x27;],\n                         &#x27;max_depth&#x27;: range(2, 20),\n                         &#x27;max_features&#x27;: [&#x27;auto&#x27;, &#x27;log2&#x27;],\n                         &#x27;min_samples_leaf&#x27;: range(1, 10),\n                         &#x27;min_samples_split&#x27;: range(2, 10),\n                         &#x27;n_estimators&#x27;: [90, 100]},\n             verbose=2)</pre><b>In a Jupyter environment, please rerun this cell to show the HTML representation or trust the notebook. <br />On GitHub, the HTML representation is unable to render, please try loading this page with nbviewer.org.</b></div><div class=\"sk-container\" hidden><div class=\"sk-item sk-dashed-wrapped\"><div class=\"sk-label-container\"><div class=\"sk-label sk-toggleable\"><input class=\"sk-toggleable__control sk-hidden--visually\" id=\"sk-estimator-id-7\" type=\"checkbox\" ><label for=\"sk-estimator-id-7\" class=\"sk-toggleable__label sk-toggleable__label-arrow\">GridSearchCV</label><div class=\"sk-toggleable__content\"><pre>GridSearchCV(cv=3, estimator=RandomForestClassifier(), n_jobs=-1,\n             param_grid={&#x27;criterion&#x27;: [&#x27;gini&#x27;, &#x27;entropy&#x27;],\n                         &#x27;max_depth&#x27;: range(2, 20),\n                         &#x27;max_features&#x27;: [&#x27;auto&#x27;, &#x27;log2&#x27;],\n                         &#x27;min_samples_leaf&#x27;: range(1, 10),\n                         &#x27;min_samples_split&#x27;: range(2, 10),\n                         &#x27;n_estimators&#x27;: [90, 100]},\n             verbose=2)</pre></div></div></div><div class=\"sk-parallel\"><div class=\"sk-parallel-item\"><div class=\"sk-item\"><div class=\"sk-label-container\"><div class=\"sk-label sk-toggleable\"><input class=\"sk-toggleable__control sk-hidden--visually\" id=\"sk-estimator-id-8\" type=\"checkbox\" ><label for=\"sk-estimator-id-8\" class=\"sk-toggleable__label sk-toggleable__label-arrow\">estimator: RandomForestClassifier</label><div class=\"sk-toggleable__content\"><pre>RandomForestClassifier()</pre></div></div></div><div class=\"sk-serial\"><div class=\"sk-item\"><div class=\"sk-estimator sk-toggleable\"><input class=\"sk-toggleable__control sk-hidden--visually\" id=\"sk-estimator-id-9\" type=\"checkbox\" ><label for=\"sk-estimator-id-9\" class=\"sk-toggleable__label sk-toggleable__label-arrow\">RandomForestClassifier</label><div class=\"sk-toggleable__content\"><pre>RandomForestClassifier()</pre></div></div></div></div></div></div></div></div></div></div>"
     },
     "execution_count": 32,
     "metadata": {},
     "output_type": "execute_result"
    }
   ],
   "source": [
    "grid_search_rf.fit(X_train, y_train)"
   ],
   "metadata": {
    "pycharm": {
     "name": "#%%\n"
    },
    "id": "fsVuNXVJ2Zpp",
    "outputId": "c948cc7a-9a85-4a47-91d4-b7e65f8abb19"
   }
  },
  {
   "cell_type": "code",
   "execution_count": null,
   "outputs": [
    {
     "data": {
      "text/plain": "{'criterion': 'gini',\n 'max_depth': 7,\n 'max_features': 'auto',\n 'min_samples_leaf': 9,\n 'min_samples_split': 9,\n 'n_estimators': 90}"
     },
     "execution_count": 33,
     "metadata": {},
     "output_type": "execute_result"
    }
   ],
   "source": [
    "grid_search_rf.best_params_"
   ],
   "metadata": {
    "pycharm": {
     "name": "#%%\n"
    },
    "id": "Ymsh688c2Zpp",
    "outputId": "68079b9c-bb10-4190-afff-0ca2f41b648d"
   }
  },
  {
   "cell_type": "code",
   "execution_count": null,
   "outputs": [],
   "source": [
    "model_rf_better = RandomForestClassifier(criterion='gini', max_depth=13,\n",
    "                                         max_features='auto', min_samples_leaf=7,\n",
    "                                         min_samples_split=6, n_estimators=90)"
   ],
   "metadata": {
    "pycharm": {
     "name": "#%%\n"
    },
    "id": "OZvlG86x2Zpp"
   }
  },
  {
   "cell_type": "code",
   "execution_count": null,
   "outputs": [
    {
     "name": "stderr",
     "output_type": "stream",
     "text": [
      "C:\\Users\\Himz\\anaconda3\\envs\\EDA\\lib\\site-packages\\sklearn\\ensemble\\_forest.py:427: FutureWarning: `max_features='auto'` has been deprecated in 1.1 and will be removed in 1.3. To keep the past behaviour, explicitly set `max_features='sqrt'` or remove this parameter as it is also the default value for RandomForestClassifiers and ExtraTreesClassifiers.\n",
      "  warn(\n"
     ]
    },
    {
     "data": {
      "text/plain": "RandomForestClassifier(max_depth=13, max_features='auto', min_samples_leaf=7,\n                       min_samples_split=6, n_estimators=90)",
      "text/html": "<style>#sk-container-id-6 {color: black;background-color: white;}#sk-container-id-6 pre{padding: 0;}#sk-container-id-6 div.sk-toggleable {background-color: white;}#sk-container-id-6 label.sk-toggleable__label {cursor: pointer;display: block;width: 100%;margin-bottom: 0;padding: 0.3em;box-sizing: border-box;text-align: center;}#sk-container-id-6 label.sk-toggleable__label-arrow:before {content: \"▸\";float: left;margin-right: 0.25em;color: #696969;}#sk-container-id-6 label.sk-toggleable__label-arrow:hover:before {color: black;}#sk-container-id-6 div.sk-estimator:hover label.sk-toggleable__label-arrow:before {color: black;}#sk-container-id-6 div.sk-toggleable__content {max-height: 0;max-width: 0;overflow: hidden;text-align: left;background-color: #f0f8ff;}#sk-container-id-6 div.sk-toggleable__content pre {margin: 0.2em;color: black;border-radius: 0.25em;background-color: #f0f8ff;}#sk-container-id-6 input.sk-toggleable__control:checked~div.sk-toggleable__content {max-height: 200px;max-width: 100%;overflow: auto;}#sk-container-id-6 input.sk-toggleable__control:checked~label.sk-toggleable__label-arrow:before {content: \"▾\";}#sk-container-id-6 div.sk-estimator input.sk-toggleable__control:checked~label.sk-toggleable__label {background-color: #d4ebff;}#sk-container-id-6 div.sk-label input.sk-toggleable__control:checked~label.sk-toggleable__label {background-color: #d4ebff;}#sk-container-id-6 input.sk-hidden--visually {border: 0;clip: rect(1px 1px 1px 1px);clip: rect(1px, 1px, 1px, 1px);height: 1px;margin: -1px;overflow: hidden;padding: 0;position: absolute;width: 1px;}#sk-container-id-6 div.sk-estimator {font-family: monospace;background-color: #f0f8ff;border: 1px dotted black;border-radius: 0.25em;box-sizing: border-box;margin-bottom: 0.5em;}#sk-container-id-6 div.sk-estimator:hover {background-color: #d4ebff;}#sk-container-id-6 div.sk-parallel-item::after {content: \"\";width: 100%;border-bottom: 1px solid gray;flex-grow: 1;}#sk-container-id-6 div.sk-label:hover label.sk-toggleable__label {background-color: #d4ebff;}#sk-container-id-6 div.sk-serial::before {content: \"\";position: absolute;border-left: 1px solid gray;box-sizing: border-box;top: 0;bottom: 0;left: 50%;z-index: 0;}#sk-container-id-6 div.sk-serial {display: flex;flex-direction: column;align-items: center;background-color: white;padding-right: 0.2em;padding-left: 0.2em;position: relative;}#sk-container-id-6 div.sk-item {position: relative;z-index: 1;}#sk-container-id-6 div.sk-parallel {display: flex;align-items: stretch;justify-content: center;background-color: white;position: relative;}#sk-container-id-6 div.sk-item::before, #sk-container-id-6 div.sk-parallel-item::before {content: \"\";position: absolute;border-left: 1px solid gray;box-sizing: border-box;top: 0;bottom: 0;left: 50%;z-index: -1;}#sk-container-id-6 div.sk-parallel-item {display: flex;flex-direction: column;z-index: 1;position: relative;background-color: white;}#sk-container-id-6 div.sk-parallel-item:first-child::after {align-self: flex-end;width: 50%;}#sk-container-id-6 div.sk-parallel-item:last-child::after {align-self: flex-start;width: 50%;}#sk-container-id-6 div.sk-parallel-item:only-child::after {width: 0;}#sk-container-id-6 div.sk-dashed-wrapped {border: 1px dashed gray;margin: 0 0.4em 0.5em 0.4em;box-sizing: border-box;padding-bottom: 0.4em;background-color: white;}#sk-container-id-6 div.sk-label label {font-family: monospace;font-weight: bold;display: inline-block;line-height: 1.2em;}#sk-container-id-6 div.sk-label-container {text-align: center;}#sk-container-id-6 div.sk-container {/* jupyter's `normalize.less` sets `[hidden] { display: none; }` but bootstrap.min.css set `[hidden] { display: none !important; }` so we also need the `!important` here to be able to override the default hidden behavior on the sphinx rendered scikit-learn.org. See: https://github.com/scikit-learn/scikit-learn/issues/21755 */display: inline-block !important;position: relative;}#sk-container-id-6 div.sk-text-repr-fallback {display: none;}</style><div id=\"sk-container-id-6\" class=\"sk-top-container\"><div class=\"sk-text-repr-fallback\"><pre>RandomForestClassifier(max_depth=13, max_features=&#x27;auto&#x27;, min_samples_leaf=7,\n                       min_samples_split=6, n_estimators=90)</pre><b>In a Jupyter environment, please rerun this cell to show the HTML representation or trust the notebook. <br />On GitHub, the HTML representation is unable to render, please try loading this page with nbviewer.org.</b></div><div class=\"sk-container\" hidden><div class=\"sk-item\"><div class=\"sk-estimator sk-toggleable\"><input class=\"sk-toggleable__control sk-hidden--visually\" id=\"sk-estimator-id-10\" type=\"checkbox\" checked><label for=\"sk-estimator-id-10\" class=\"sk-toggleable__label sk-toggleable__label-arrow\">RandomForestClassifier</label><div class=\"sk-toggleable__content\"><pre>RandomForestClassifier(max_depth=13, max_features=&#x27;auto&#x27;, min_samples_leaf=7,\n                       min_samples_split=6, n_estimators=90)</pre></div></div></div></div></div>"
     },
     "execution_count": 35,
     "metadata": {},
     "output_type": "execute_result"
    }
   ],
   "source": [
    "model_rf_better.fit(X_train, y_train)"
   ],
   "metadata": {
    "pycharm": {
     "name": "#%%\n"
    },
    "id": "zYMCr_zo2Zpp",
    "outputId": "11d5e91b-d25d-4b0d-a694-cb622d9e9458"
   }
  },
  {
   "cell_type": "code",
   "execution_count": null,
   "outputs": [],
   "source": [
    "y_pred_rf_better = model_rf_better.predict(X_test)"
   ],
   "metadata": {
    "pycharm": {
     "name": "#%%\n"
    },
    "id": "008uodfJ2Zpp"
   }
  },
  {
   "cell_type": "code",
   "execution_count": null,
   "outputs": [
    {
     "data": {
      "text/plain": "0.621380846325167"
     },
     "execution_count": 37,
     "metadata": {},
     "output_type": "execute_result"
    }
   ],
   "source": [
    "accuracy_score(y_test, y_pred_rf_better)"
   ],
   "metadata": {
    "pycharm": {
     "name": "#%%\n"
    },
    "id": "Nu_Y7hZw2Zpp",
    "outputId": "b4614ffc-e2dd-422e-9be1-9557d5204efd"
   }
  },
  {
   "cell_type": "markdown",
   "source": [
    "## Better Accuracy after Hyperparameter Tuning"
   ],
   "metadata": {
    "collapsed": false,
    "pycharm": {
     "name": "#%% md\n"
    },
    "id": "sOAprsYp2Zpq"
   }
  },
  {
   "cell_type": "markdown",
   "source": [
    "> ## For ensembling we can use BaggingClassifier to ensemble various models"
   ],
   "metadata": {
    "collapsed": false,
    "pycharm": {
     "name": "#%% md\n"
    },
    "id": "82ykQ9NA2Zpq"
   }
  },
  {
   "cell_type": "code",
   "execution_count": null,
   "outputs": [],
   "source": [
    "from sklearn.svm import SVC\n",
    "from sklearn.ensemble import BaggingClassifier\n",
    "\n",
    "modelbagging_svc = BaggingClassifier(\n",
    "    base_estimator=SVC(),\n",
    "    n_estimators=50,\n",
    "    random_state=0\n",
    ")"
   ],
   "metadata": {
    "pycharm": {
     "name": "#%%\n"
    },
    "id": "4hr-HEtr2Zpq"
   }
  },
  {
   "cell_type": "code",
   "execution_count": null,
   "outputs": [],
   "source": [
    "modelbagging_svc.fit(X_train, y_train)\n",
    "y_pred_bag = modelbagging_svc.predict(X_test)"
   ],
   "metadata": {
    "pycharm": {
     "name": "#%%\n"
    },
    "id": "30Fy0LDi2Zpq"
   }
  },
  {
   "cell_type": "code",
   "execution_count": null,
   "outputs": [
    {
     "data": {
      "text/plain": "0.5100222717149221"
     },
     "execution_count": 40,
     "metadata": {},
     "output_type": "execute_result"
    }
   ],
   "source": [
    "accuracy_score(y_test, y_pred_bag)"
   ],
   "metadata": {
    "pycharm": {
     "name": "#%%\n"
    },
    "id": "zHTsItla2Zpq",
    "outputId": "6f4d7b1d-be0a-4685-f64b-18f8b94ae612"
   }
  },
  {
   "cell_type": "markdown",
   "source": [
    "### We got 51% Accuracy with SVC Ensembling"
   ],
   "metadata": {
    "collapsed": false,
    "pycharm": {
     "name": "#%% md\n"
    },
    "id": "2oYcv1Wi2Zpq"
   }
  },
  {
   "cell_type": "markdown",
   "source": [
    "# In order to use multiple models for ensembling use VotingClassifier"
   ],
   "metadata": {
    "collapsed": false,
    "pycharm": {
     "name": "#%% md\n"
    },
    "id": "f9nHuI7F2Zpq"
   }
  },
  {
   "cell_type": "markdown",
   "source": [
    "------------------------"
   ],
   "metadata": {
    "collapsed": false,
    "pycharm": {
     "name": "#%% md\n"
    },
    "id": "kid-rjwV2Zpq"
   }
  },
  {
   "cell_type": "markdown",
   "source": [
    "# ADABOOST"
   ],
   "metadata": {
    "collapsed": false,
    "pycharm": {
     "name": "#%% md\n"
    },
    "id": "O8AWPeqb2Zpr"
   }
  },
  {
   "cell_type": "code",
   "execution_count": null,
   "outputs": [],
   "source": [
    "from sklearn.ensemble import AdaBoostClassifier\n",
    "model = AdaBoostClassifier()"
   ],
   "metadata": {
    "pycharm": {
     "name": "#%%\n"
    },
    "id": "JPS9U7oE2Zpr"
   }
  },
  {
   "cell_type": "code",
   "execution_count": null,
   "outputs": [
    {
     "data": {
      "text/plain": "AdaBoostClassifier()",
      "text/html": "<style>#sk-container-id-7 {color: black;background-color: white;}#sk-container-id-7 pre{padding: 0;}#sk-container-id-7 div.sk-toggleable {background-color: white;}#sk-container-id-7 label.sk-toggleable__label {cursor: pointer;display: block;width: 100%;margin-bottom: 0;padding: 0.3em;box-sizing: border-box;text-align: center;}#sk-container-id-7 label.sk-toggleable__label-arrow:before {content: \"▸\";float: left;margin-right: 0.25em;color: #696969;}#sk-container-id-7 label.sk-toggleable__label-arrow:hover:before {color: black;}#sk-container-id-7 div.sk-estimator:hover label.sk-toggleable__label-arrow:before {color: black;}#sk-container-id-7 div.sk-toggleable__content {max-height: 0;max-width: 0;overflow: hidden;text-align: left;background-color: #f0f8ff;}#sk-container-id-7 div.sk-toggleable__content pre {margin: 0.2em;color: black;border-radius: 0.25em;background-color: #f0f8ff;}#sk-container-id-7 input.sk-toggleable__control:checked~div.sk-toggleable__content {max-height: 200px;max-width: 100%;overflow: auto;}#sk-container-id-7 input.sk-toggleable__control:checked~label.sk-toggleable__label-arrow:before {content: \"▾\";}#sk-container-id-7 div.sk-estimator input.sk-toggleable__control:checked~label.sk-toggleable__label {background-color: #d4ebff;}#sk-container-id-7 div.sk-label input.sk-toggleable__control:checked~label.sk-toggleable__label {background-color: #d4ebff;}#sk-container-id-7 input.sk-hidden--visually {border: 0;clip: rect(1px 1px 1px 1px);clip: rect(1px, 1px, 1px, 1px);height: 1px;margin: -1px;overflow: hidden;padding: 0;position: absolute;width: 1px;}#sk-container-id-7 div.sk-estimator {font-family: monospace;background-color: #f0f8ff;border: 1px dotted black;border-radius: 0.25em;box-sizing: border-box;margin-bottom: 0.5em;}#sk-container-id-7 div.sk-estimator:hover {background-color: #d4ebff;}#sk-container-id-7 div.sk-parallel-item::after {content: \"\";width: 100%;border-bottom: 1px solid gray;flex-grow: 1;}#sk-container-id-7 div.sk-label:hover label.sk-toggleable__label {background-color: #d4ebff;}#sk-container-id-7 div.sk-serial::before {content: \"\";position: absolute;border-left: 1px solid gray;box-sizing: border-box;top: 0;bottom: 0;left: 50%;z-index: 0;}#sk-container-id-7 div.sk-serial {display: flex;flex-direction: column;align-items: center;background-color: white;padding-right: 0.2em;padding-left: 0.2em;position: relative;}#sk-container-id-7 div.sk-item {position: relative;z-index: 1;}#sk-container-id-7 div.sk-parallel {display: flex;align-items: stretch;justify-content: center;background-color: white;position: relative;}#sk-container-id-7 div.sk-item::before, #sk-container-id-7 div.sk-parallel-item::before {content: \"\";position: absolute;border-left: 1px solid gray;box-sizing: border-box;top: 0;bottom: 0;left: 50%;z-index: -1;}#sk-container-id-7 div.sk-parallel-item {display: flex;flex-direction: column;z-index: 1;position: relative;background-color: white;}#sk-container-id-7 div.sk-parallel-item:first-child::after {align-self: flex-end;width: 50%;}#sk-container-id-7 div.sk-parallel-item:last-child::after {align-self: flex-start;width: 50%;}#sk-container-id-7 div.sk-parallel-item:only-child::after {width: 0;}#sk-container-id-7 div.sk-dashed-wrapped {border: 1px dashed gray;margin: 0 0.4em 0.5em 0.4em;box-sizing: border-box;padding-bottom: 0.4em;background-color: white;}#sk-container-id-7 div.sk-label label {font-family: monospace;font-weight: bold;display: inline-block;line-height: 1.2em;}#sk-container-id-7 div.sk-label-container {text-align: center;}#sk-container-id-7 div.sk-container {/* jupyter's `normalize.less` sets `[hidden] { display: none; }` but bootstrap.min.css set `[hidden] { display: none !important; }` so we also need the `!important` here to be able to override the default hidden behavior on the sphinx rendered scikit-learn.org. See: https://github.com/scikit-learn/scikit-learn/issues/21755 */display: inline-block !important;position: relative;}#sk-container-id-7 div.sk-text-repr-fallback {display: none;}</style><div id=\"sk-container-id-7\" class=\"sk-top-container\"><div class=\"sk-text-repr-fallback\"><pre>AdaBoostClassifier()</pre><b>In a Jupyter environment, please rerun this cell to show the HTML representation or trust the notebook. <br />On GitHub, the HTML representation is unable to render, please try loading this page with nbviewer.org.</b></div><div class=\"sk-container\" hidden><div class=\"sk-item\"><div class=\"sk-estimator sk-toggleable\"><input class=\"sk-toggleable__control sk-hidden--visually\" id=\"sk-estimator-id-11\" type=\"checkbox\" checked><label for=\"sk-estimator-id-11\" class=\"sk-toggleable__label sk-toggleable__label-arrow\">AdaBoostClassifier</label><div class=\"sk-toggleable__content\"><pre>AdaBoostClassifier()</pre></div></div></div></div></div>"
     },
     "execution_count": 42,
     "metadata": {},
     "output_type": "execute_result"
    }
   ],
   "source": [
    "model.fit(X_train, y_train)"
   ],
   "metadata": {
    "pycharm": {
     "name": "#%%\n"
    },
    "id": "R1XZAFLV2Zpr",
    "outputId": "0d326889-1f22-4bfd-abb4-7b2068cd213f"
   }
  },
  {
   "cell_type": "code",
   "execution_count": null,
   "outputs": [
    {
     "data": {
      "text/plain": "AdaBoostClassifier()",
      "text/html": "<style>#sk-container-id-8 {color: black;background-color: white;}#sk-container-id-8 pre{padding: 0;}#sk-container-id-8 div.sk-toggleable {background-color: white;}#sk-container-id-8 label.sk-toggleable__label {cursor: pointer;display: block;width: 100%;margin-bottom: 0;padding: 0.3em;box-sizing: border-box;text-align: center;}#sk-container-id-8 label.sk-toggleable__label-arrow:before {content: \"▸\";float: left;margin-right: 0.25em;color: #696969;}#sk-container-id-8 label.sk-toggleable__label-arrow:hover:before {color: black;}#sk-container-id-8 div.sk-estimator:hover label.sk-toggleable__label-arrow:before {color: black;}#sk-container-id-8 div.sk-toggleable__content {max-height: 0;max-width: 0;overflow: hidden;text-align: left;background-color: #f0f8ff;}#sk-container-id-8 div.sk-toggleable__content pre {margin: 0.2em;color: black;border-radius: 0.25em;background-color: #f0f8ff;}#sk-container-id-8 input.sk-toggleable__control:checked~div.sk-toggleable__content {max-height: 200px;max-width: 100%;overflow: auto;}#sk-container-id-8 input.sk-toggleable__control:checked~label.sk-toggleable__label-arrow:before {content: \"▾\";}#sk-container-id-8 div.sk-estimator input.sk-toggleable__control:checked~label.sk-toggleable__label {background-color: #d4ebff;}#sk-container-id-8 div.sk-label input.sk-toggleable__control:checked~label.sk-toggleable__label {background-color: #d4ebff;}#sk-container-id-8 input.sk-hidden--visually {border: 0;clip: rect(1px 1px 1px 1px);clip: rect(1px, 1px, 1px, 1px);height: 1px;margin: -1px;overflow: hidden;padding: 0;position: absolute;width: 1px;}#sk-container-id-8 div.sk-estimator {font-family: monospace;background-color: #f0f8ff;border: 1px dotted black;border-radius: 0.25em;box-sizing: border-box;margin-bottom: 0.5em;}#sk-container-id-8 div.sk-estimator:hover {background-color: #d4ebff;}#sk-container-id-8 div.sk-parallel-item::after {content: \"\";width: 100%;border-bottom: 1px solid gray;flex-grow: 1;}#sk-container-id-8 div.sk-label:hover label.sk-toggleable__label {background-color: #d4ebff;}#sk-container-id-8 div.sk-serial::before {content: \"\";position: absolute;border-left: 1px solid gray;box-sizing: border-box;top: 0;bottom: 0;left: 50%;z-index: 0;}#sk-container-id-8 div.sk-serial {display: flex;flex-direction: column;align-items: center;background-color: white;padding-right: 0.2em;padding-left: 0.2em;position: relative;}#sk-container-id-8 div.sk-item {position: relative;z-index: 1;}#sk-container-id-8 div.sk-parallel {display: flex;align-items: stretch;justify-content: center;background-color: white;position: relative;}#sk-container-id-8 div.sk-item::before, #sk-container-id-8 div.sk-parallel-item::before {content: \"\";position: absolute;border-left: 1px solid gray;box-sizing: border-box;top: 0;bottom: 0;left: 50%;z-index: -1;}#sk-container-id-8 div.sk-parallel-item {display: flex;flex-direction: column;z-index: 1;position: relative;background-color: white;}#sk-container-id-8 div.sk-parallel-item:first-child::after {align-self: flex-end;width: 50%;}#sk-container-id-8 div.sk-parallel-item:last-child::after {align-self: flex-start;width: 50%;}#sk-container-id-8 div.sk-parallel-item:only-child::after {width: 0;}#sk-container-id-8 div.sk-dashed-wrapped {border: 1px dashed gray;margin: 0 0.4em 0.5em 0.4em;box-sizing: border-box;padding-bottom: 0.4em;background-color: white;}#sk-container-id-8 div.sk-label label {font-family: monospace;font-weight: bold;display: inline-block;line-height: 1.2em;}#sk-container-id-8 div.sk-label-container {text-align: center;}#sk-container-id-8 div.sk-container {/* jupyter's `normalize.less` sets `[hidden] { display: none; }` but bootstrap.min.css set `[hidden] { display: none !important; }` so we also need the `!important` here to be able to override the default hidden behavior on the sphinx rendered scikit-learn.org. See: https://github.com/scikit-learn/scikit-learn/issues/21755 */display: inline-block !important;position: relative;}#sk-container-id-8 div.sk-text-repr-fallback {display: none;}</style><div id=\"sk-container-id-8\" class=\"sk-top-container\"><div class=\"sk-text-repr-fallback\"><pre>AdaBoostClassifier()</pre><b>In a Jupyter environment, please rerun this cell to show the HTML representation or trust the notebook. <br />On GitHub, the HTML representation is unable to render, please try loading this page with nbviewer.org.</b></div><div class=\"sk-container\" hidden><div class=\"sk-item\"><div class=\"sk-estimator sk-toggleable\"><input class=\"sk-toggleable__control sk-hidden--visually\" id=\"sk-estimator-id-12\" type=\"checkbox\" checked><label for=\"sk-estimator-id-12\" class=\"sk-toggleable__label sk-toggleable__label-arrow\">AdaBoostClassifier</label><div class=\"sk-toggleable__content\"><pre>AdaBoostClassifier()</pre></div></div></div></div></div>"
     },
     "execution_count": 43,
     "metadata": {},
     "output_type": "execute_result"
    }
   ],
   "source": [
    "model.fit(X_train, y_train)"
   ],
   "metadata": {
    "pycharm": {
     "name": "#%%\n"
    },
    "id": "0pjvFkEy2Zpr",
    "outputId": "6ac0c520-3b69-4742-edf0-d0940f082b30"
   }
  },
  {
   "cell_type": "code",
   "execution_count": null,
   "outputs": [],
   "source": [
    "y_pred = model.predict(X_test)"
   ],
   "metadata": {
    "pycharm": {
     "name": "#%%\n"
    },
    "id": "Ov6_xxf62Zpr"
   }
  },
  {
   "cell_type": "code",
   "execution_count": null,
   "outputs": [
    {
     "data": {
      "text/plain": "0.5367483296213809"
     },
     "execution_count": 45,
     "metadata": {},
     "output_type": "execute_result"
    }
   ],
   "source": [
    "from sklearn.metrics import accuracy_score\n",
    "accuracy_score(y_test, y_pred)"
   ],
   "metadata": {
    "pycharm": {
     "name": "#%%\n"
    },
    "id": "c259xtyL2Zpr",
    "outputId": "ecc49875-5f66-4450-d048-fa918d31102b"
   }
  },
  {
   "cell_type": "code",
   "execution_count": null,
   "outputs": [],
   "source": [
    "grid_param = {\n",
    "    'n_estimators' : [90,100,130,150],\n",
    "    'learning_rate':[0.001, 0.01, 0.1, 0.5]\n",
    "}"
   ],
   "metadata": {
    "pycharm": {
     "name": "#%%\n"
    },
    "id": "CQnw93oy2Zps"
   }
  },
  {
   "cell_type": "code",
   "execution_count": null,
   "outputs": [],
   "source": [
    "from sklearn.model_selection import GridSearchCV\n",
    "\n",
    "grid = GridSearchCV(param_grid=grid_param, estimator=model,\n",
    "                    cv=3,\n",
    "                    verbose=2,\n",
    "                    n_jobs=-1)"
   ],
   "metadata": {
    "pycharm": {
     "name": "#%%\n"
    },
    "id": "zhltyd4o2Zps"
   }
  },
  {
   "cell_type": "code",
   "execution_count": null,
   "outputs": [
    {
     "name": "stdout",
     "output_type": "stream",
     "text": [
      "Fitting 3 folds for each of 16 candidates, totalling 48 fits\n"
     ]
    },
    {
     "data": {
      "text/plain": "GridSearchCV(cv=3, estimator=AdaBoostClassifier(), n_jobs=-1,\n             param_grid={'learning_rate': [0.001, 0.01, 0.1, 0.5],\n                         'n_estimators': [90, 100, 130, 150]},\n             verbose=2)",
      "text/html": "<style>#sk-container-id-9 {color: black;background-color: white;}#sk-container-id-9 pre{padding: 0;}#sk-container-id-9 div.sk-toggleable {background-color: white;}#sk-container-id-9 label.sk-toggleable__label {cursor: pointer;display: block;width: 100%;margin-bottom: 0;padding: 0.3em;box-sizing: border-box;text-align: center;}#sk-container-id-9 label.sk-toggleable__label-arrow:before {content: \"▸\";float: left;margin-right: 0.25em;color: #696969;}#sk-container-id-9 label.sk-toggleable__label-arrow:hover:before {color: black;}#sk-container-id-9 div.sk-estimator:hover label.sk-toggleable__label-arrow:before {color: black;}#sk-container-id-9 div.sk-toggleable__content {max-height: 0;max-width: 0;overflow: hidden;text-align: left;background-color: #f0f8ff;}#sk-container-id-9 div.sk-toggleable__content pre {margin: 0.2em;color: black;border-radius: 0.25em;background-color: #f0f8ff;}#sk-container-id-9 input.sk-toggleable__control:checked~div.sk-toggleable__content {max-height: 200px;max-width: 100%;overflow: auto;}#sk-container-id-9 input.sk-toggleable__control:checked~label.sk-toggleable__label-arrow:before {content: \"▾\";}#sk-container-id-9 div.sk-estimator input.sk-toggleable__control:checked~label.sk-toggleable__label {background-color: #d4ebff;}#sk-container-id-9 div.sk-label input.sk-toggleable__control:checked~label.sk-toggleable__label {background-color: #d4ebff;}#sk-container-id-9 input.sk-hidden--visually {border: 0;clip: rect(1px 1px 1px 1px);clip: rect(1px, 1px, 1px, 1px);height: 1px;margin: -1px;overflow: hidden;padding: 0;position: absolute;width: 1px;}#sk-container-id-9 div.sk-estimator {font-family: monospace;background-color: #f0f8ff;border: 1px dotted black;border-radius: 0.25em;box-sizing: border-box;margin-bottom: 0.5em;}#sk-container-id-9 div.sk-estimator:hover {background-color: #d4ebff;}#sk-container-id-9 div.sk-parallel-item::after {content: \"\";width: 100%;border-bottom: 1px solid gray;flex-grow: 1;}#sk-container-id-9 div.sk-label:hover label.sk-toggleable__label {background-color: #d4ebff;}#sk-container-id-9 div.sk-serial::before {content: \"\";position: absolute;border-left: 1px solid gray;box-sizing: border-box;top: 0;bottom: 0;left: 50%;z-index: 0;}#sk-container-id-9 div.sk-serial {display: flex;flex-direction: column;align-items: center;background-color: white;padding-right: 0.2em;padding-left: 0.2em;position: relative;}#sk-container-id-9 div.sk-item {position: relative;z-index: 1;}#sk-container-id-9 div.sk-parallel {display: flex;align-items: stretch;justify-content: center;background-color: white;position: relative;}#sk-container-id-9 div.sk-item::before, #sk-container-id-9 div.sk-parallel-item::before {content: \"\";position: absolute;border-left: 1px solid gray;box-sizing: border-box;top: 0;bottom: 0;left: 50%;z-index: -1;}#sk-container-id-9 div.sk-parallel-item {display: flex;flex-direction: column;z-index: 1;position: relative;background-color: white;}#sk-container-id-9 div.sk-parallel-item:first-child::after {align-self: flex-end;width: 50%;}#sk-container-id-9 div.sk-parallel-item:last-child::after {align-self: flex-start;width: 50%;}#sk-container-id-9 div.sk-parallel-item:only-child::after {width: 0;}#sk-container-id-9 div.sk-dashed-wrapped {border: 1px dashed gray;margin: 0 0.4em 0.5em 0.4em;box-sizing: border-box;padding-bottom: 0.4em;background-color: white;}#sk-container-id-9 div.sk-label label {font-family: monospace;font-weight: bold;display: inline-block;line-height: 1.2em;}#sk-container-id-9 div.sk-label-container {text-align: center;}#sk-container-id-9 div.sk-container {/* jupyter's `normalize.less` sets `[hidden] { display: none; }` but bootstrap.min.css set `[hidden] { display: none !important; }` so we also need the `!important` here to be able to override the default hidden behavior on the sphinx rendered scikit-learn.org. See: https://github.com/scikit-learn/scikit-learn/issues/21755 */display: inline-block !important;position: relative;}#sk-container-id-9 div.sk-text-repr-fallback {display: none;}</style><div id=\"sk-container-id-9\" class=\"sk-top-container\"><div class=\"sk-text-repr-fallback\"><pre>GridSearchCV(cv=3, estimator=AdaBoostClassifier(), n_jobs=-1,\n             param_grid={&#x27;learning_rate&#x27;: [0.001, 0.01, 0.1, 0.5],\n                         &#x27;n_estimators&#x27;: [90, 100, 130, 150]},\n             verbose=2)</pre><b>In a Jupyter environment, please rerun this cell to show the HTML representation or trust the notebook. <br />On GitHub, the HTML representation is unable to render, please try loading this page with nbviewer.org.</b></div><div class=\"sk-container\" hidden><div class=\"sk-item sk-dashed-wrapped\"><div class=\"sk-label-container\"><div class=\"sk-label sk-toggleable\"><input class=\"sk-toggleable__control sk-hidden--visually\" id=\"sk-estimator-id-13\" type=\"checkbox\" ><label for=\"sk-estimator-id-13\" class=\"sk-toggleable__label sk-toggleable__label-arrow\">GridSearchCV</label><div class=\"sk-toggleable__content\"><pre>GridSearchCV(cv=3, estimator=AdaBoostClassifier(), n_jobs=-1,\n             param_grid={&#x27;learning_rate&#x27;: [0.001, 0.01, 0.1, 0.5],\n                         &#x27;n_estimators&#x27;: [90, 100, 130, 150]},\n             verbose=2)</pre></div></div></div><div class=\"sk-parallel\"><div class=\"sk-parallel-item\"><div class=\"sk-item\"><div class=\"sk-label-container\"><div class=\"sk-label sk-toggleable\"><input class=\"sk-toggleable__control sk-hidden--visually\" id=\"sk-estimator-id-14\" type=\"checkbox\" ><label for=\"sk-estimator-id-14\" class=\"sk-toggleable__label sk-toggleable__label-arrow\">estimator: AdaBoostClassifier</label><div class=\"sk-toggleable__content\"><pre>AdaBoostClassifier()</pre></div></div></div><div class=\"sk-serial\"><div class=\"sk-item\"><div class=\"sk-estimator sk-toggleable\"><input class=\"sk-toggleable__control sk-hidden--visually\" id=\"sk-estimator-id-15\" type=\"checkbox\" ><label for=\"sk-estimator-id-15\" class=\"sk-toggleable__label sk-toggleable__label-arrow\">AdaBoostClassifier</label><div class=\"sk-toggleable__content\"><pre>AdaBoostClassifier()</pre></div></div></div></div></div></div></div></div></div></div>"
     },
     "execution_count": 48,
     "metadata": {},
     "output_type": "execute_result"
    }
   ],
   "source": [
    "grid.fit(X_train, y_train)"
   ],
   "metadata": {
    "pycharm": {
     "name": "#%%\n"
    },
    "id": "cAR-y_7L2Zps",
    "outputId": "e0b01040-6808-4ac8-8cf4-ef515b13a20f"
   }
  },
  {
   "cell_type": "code",
   "execution_count": null,
   "outputs": [
    {
     "data": {
      "text/plain": "{'learning_rate': 0.01, 'n_estimators': 90}"
     },
     "execution_count": 49,
     "metadata": {},
     "output_type": "execute_result"
    }
   ],
   "source": [
    "grid.best_params_"
   ],
   "metadata": {
    "pycharm": {
     "name": "#%%\n"
    },
    "id": "CWKtl_f82Zps",
    "outputId": "5325c1dc-bd14-4073-c093-f60e63bbf367"
   }
  },
  {
   "cell_type": "code",
   "execution_count": null,
   "outputs": [],
   "source": [
    "model_better = AdaBoostClassifier(learning_rate=0.01,\n",
    "                                  n_estimators=90)"
   ],
   "metadata": {
    "pycharm": {
     "name": "#%%\n"
    },
    "id": "g9zi0-z62Zps"
   }
  },
  {
   "cell_type": "code",
   "execution_count": null,
   "outputs": [
    {
     "data": {
      "text/plain": "AdaBoostClassifier(learning_rate=0.01, n_estimators=90)",
      "text/html": "<style>#sk-container-id-10 {color: black;background-color: white;}#sk-container-id-10 pre{padding: 0;}#sk-container-id-10 div.sk-toggleable {background-color: white;}#sk-container-id-10 label.sk-toggleable__label {cursor: pointer;display: block;width: 100%;margin-bottom: 0;padding: 0.3em;box-sizing: border-box;text-align: center;}#sk-container-id-10 label.sk-toggleable__label-arrow:before {content: \"▸\";float: left;margin-right: 0.25em;color: #696969;}#sk-container-id-10 label.sk-toggleable__label-arrow:hover:before {color: black;}#sk-container-id-10 div.sk-estimator:hover label.sk-toggleable__label-arrow:before {color: black;}#sk-container-id-10 div.sk-toggleable__content {max-height: 0;max-width: 0;overflow: hidden;text-align: left;background-color: #f0f8ff;}#sk-container-id-10 div.sk-toggleable__content pre {margin: 0.2em;color: black;border-radius: 0.25em;background-color: #f0f8ff;}#sk-container-id-10 input.sk-toggleable__control:checked~div.sk-toggleable__content {max-height: 200px;max-width: 100%;overflow: auto;}#sk-container-id-10 input.sk-toggleable__control:checked~label.sk-toggleable__label-arrow:before {content: \"▾\";}#sk-container-id-10 div.sk-estimator input.sk-toggleable__control:checked~label.sk-toggleable__label {background-color: #d4ebff;}#sk-container-id-10 div.sk-label input.sk-toggleable__control:checked~label.sk-toggleable__label {background-color: #d4ebff;}#sk-container-id-10 input.sk-hidden--visually {border: 0;clip: rect(1px 1px 1px 1px);clip: rect(1px, 1px, 1px, 1px);height: 1px;margin: -1px;overflow: hidden;padding: 0;position: absolute;width: 1px;}#sk-container-id-10 div.sk-estimator {font-family: monospace;background-color: #f0f8ff;border: 1px dotted black;border-radius: 0.25em;box-sizing: border-box;margin-bottom: 0.5em;}#sk-container-id-10 div.sk-estimator:hover {background-color: #d4ebff;}#sk-container-id-10 div.sk-parallel-item::after {content: \"\";width: 100%;border-bottom: 1px solid gray;flex-grow: 1;}#sk-container-id-10 div.sk-label:hover label.sk-toggleable__label {background-color: #d4ebff;}#sk-container-id-10 div.sk-serial::before {content: \"\";position: absolute;border-left: 1px solid gray;box-sizing: border-box;top: 0;bottom: 0;left: 50%;z-index: 0;}#sk-container-id-10 div.sk-serial {display: flex;flex-direction: column;align-items: center;background-color: white;padding-right: 0.2em;padding-left: 0.2em;position: relative;}#sk-container-id-10 div.sk-item {position: relative;z-index: 1;}#sk-container-id-10 div.sk-parallel {display: flex;align-items: stretch;justify-content: center;background-color: white;position: relative;}#sk-container-id-10 div.sk-item::before, #sk-container-id-10 div.sk-parallel-item::before {content: \"\";position: absolute;border-left: 1px solid gray;box-sizing: border-box;top: 0;bottom: 0;left: 50%;z-index: -1;}#sk-container-id-10 div.sk-parallel-item {display: flex;flex-direction: column;z-index: 1;position: relative;background-color: white;}#sk-container-id-10 div.sk-parallel-item:first-child::after {align-self: flex-end;width: 50%;}#sk-container-id-10 div.sk-parallel-item:last-child::after {align-self: flex-start;width: 50%;}#sk-container-id-10 div.sk-parallel-item:only-child::after {width: 0;}#sk-container-id-10 div.sk-dashed-wrapped {border: 1px dashed gray;margin: 0 0.4em 0.5em 0.4em;box-sizing: border-box;padding-bottom: 0.4em;background-color: white;}#sk-container-id-10 div.sk-label label {font-family: monospace;font-weight: bold;display: inline-block;line-height: 1.2em;}#sk-container-id-10 div.sk-label-container {text-align: center;}#sk-container-id-10 div.sk-container {/* jupyter's `normalize.less` sets `[hidden] { display: none; }` but bootstrap.min.css set `[hidden] { display: none !important; }` so we also need the `!important` here to be able to override the default hidden behavior on the sphinx rendered scikit-learn.org. See: https://github.com/scikit-learn/scikit-learn/issues/21755 */display: inline-block !important;position: relative;}#sk-container-id-10 div.sk-text-repr-fallback {display: none;}</style><div id=\"sk-container-id-10\" class=\"sk-top-container\"><div class=\"sk-text-repr-fallback\"><pre>AdaBoostClassifier(learning_rate=0.01, n_estimators=90)</pre><b>In a Jupyter environment, please rerun this cell to show the HTML representation or trust the notebook. <br />On GitHub, the HTML representation is unable to render, please try loading this page with nbviewer.org.</b></div><div class=\"sk-container\" hidden><div class=\"sk-item\"><div class=\"sk-estimator sk-toggleable\"><input class=\"sk-toggleable__control sk-hidden--visually\" id=\"sk-estimator-id-16\" type=\"checkbox\" checked><label for=\"sk-estimator-id-16\" class=\"sk-toggleable__label sk-toggleable__label-arrow\">AdaBoostClassifier</label><div class=\"sk-toggleable__content\"><pre>AdaBoostClassifier(learning_rate=0.01, n_estimators=90)</pre></div></div></div></div></div>"
     },
     "execution_count": 51,
     "metadata": {},
     "output_type": "execute_result"
    }
   ],
   "source": [
    "model_better.fit(X_train, y_train)"
   ],
   "metadata": {
    "pycharm": {
     "name": "#%%\n"
    },
    "id": "XjizUhdg2Zps",
    "outputId": "61ff6288-db10-4eb4-ddb8-e364bfd8a4f0"
   }
  },
  {
   "cell_type": "code",
   "execution_count": null,
   "outputs": [],
   "source": [
    "y_ada_pred = model_better.predict(X_test)"
   ],
   "metadata": {
    "pycharm": {
     "name": "#%%\n"
    },
    "id": "Pn_bmefl2Zps"
   }
  },
  {
   "cell_type": "code",
   "execution_count": null,
   "outputs": [
    {
     "data": {
      "text/plain": "0.5567928730512249"
     },
     "execution_count": 53,
     "metadata": {},
     "output_type": "execute_result"
    }
   ],
   "source": [
    "accuracy_score(y_test, y_ada_pred)"
   ],
   "metadata": {
    "pycharm": {
     "name": "#%%\n"
    },
    "id": "iP5PUGZ-2Zpt",
    "outputId": "00798a2c-6729-47e5-cf10-5c29d08aa7f2"
   }
  },
  {
   "cell_type": "markdown",
   "source": [],
   "metadata": {
    "collapsed": false,
    "pycharm": {
     "name": "#%% md\n"
    },
    "id": "NSaX_9Gy2Zpt"
   }
  },
  {
   "cell_type": "markdown",
   "source": [
    "# Gradient Boosting"
   ],
   "metadata": {
    "collapsed": false,
    "pycharm": {
     "name": "#%% md\n"
    },
    "id": "9ydJwvb72Zpt"
   }
  },
  {
   "cell_type": "code",
   "execution_count": 16,
   "outputs": [],
   "source": [
    "from sklearn.ensemble import GradientBoostingClassifier\n",
    "\n",
    "model_gbm = GradientBoostingClassifier()"
   ],
   "metadata": {
    "pycharm": {
     "name": "#%%\n"
    },
    "id": "UEgavIQw2Zpt"
   }
  },
  {
   "cell_type": "code",
   "execution_count": 17,
   "outputs": [
    {
     "output_type": "execute_result",
     "data": {
      "text/plain": [
       "GradientBoostingClassifier()"
      ]
     },
     "metadata": {},
     "execution_count": 17
    }
   ],
   "source": [
    "model_gbm.fit(X_train, y_train)"
   ],
   "metadata": {
    "pycharm": {
     "name": "#%%\n"
    },
    "colab": {
     "base_uri": "https://localhost:8080/"
    },
    "id": "MSvFX0fP2Zpt",
    "outputId": "78c5d202-cbcb-414c-f79d-472c9982a7e1"
   }
  },
  {
   "cell_type": "code",
   "execution_count": 18,
   "outputs": [],
   "source": [
    "y_pred_gbm = model_gbm.predict(X_test)"
   ],
   "metadata": {
    "pycharm": {
     "name": "#%%\n"
    },
    "id": "1UUKXgSj2Zpt"
   }
  },
  {
   "cell_type": "code",
   "execution_count": 19,
   "outputs": [
    {
     "output_type": "execute_result",
     "data": {
      "text/plain": [
       "0.5968819599109132"
      ]
     },
     "metadata": {},
     "execution_count": 19
    }
   ],
   "source": [
    "accuracy_score(y_test, y_pred_gbm)"
   ],
   "metadata": {
    "pycharm": {
     "name": "#%%\n"
    },
    "colab": {
     "base_uri": "https://localhost:8080/"
    },
    "id": "eo5oGjow2Zpt",
    "outputId": "1d06d43d-6151-4e33-ea9d-568e15d9293e"
   }
  },
  {
   "cell_type": "markdown",
   "source": [
    "# XGBoost Classifier"
   ],
   "metadata": {
    "collapsed": false,
    "pycharm": {
     "name": "#%% md\n"
    },
    "id": "IgZEw2iF2Zpu"
   }
  },
  {
   "cell_type": "code",
   "execution_count": 20,
   "outputs": [
    {
     "output_type": "execute_result",
     "data": {
      "text/plain": [
       "XGBClassifier(objective='multi:softprob')"
      ]
     },
     "metadata": {},
     "execution_count": 20
    }
   ],
   "source": [
    "from xgboost import XGBClassifier\n",
    "\n",
    "model_xgb = XGBClassifier()\n",
    "\n",
    "model_xgb.fit(X_train, y_train)"
   ],
   "metadata": {
    "pycharm": {
     "name": "#%%\n"
    },
    "colab": {
     "base_uri": "https://localhost:8080/"
    },
    "id": "aas1n-rh2Zpu",
    "outputId": "085ab4f0-b57c-4681-b233-a9e248389a3f"
   }
  },
  {
   "cell_type": "code",
   "execution_count": 21,
   "outputs": [],
   "source": [
    "y_pred_xgb = model_xgb.predict(X_test)"
   ],
   "metadata": {
    "pycharm": {
     "name": "#%%\n"
    },
    "id": "1WprSEke2Zpu"
   }
  },
  {
   "cell_type": "code",
   "execution_count": 22,
   "outputs": [
    {
     "output_type": "execute_result",
     "data": {
      "text/plain": [
       "0.6347438752783965"
      ]
     },
     "metadata": {},
     "execution_count": 22
    }
   ],
   "source": [
    "accuracy_score(y_test, y_pred_xgb)"
   ],
   "metadata": {
    "pycharm": {
     "name": "#%%\n"
    },
    "colab": {
     "base_uri": "https://localhost:8080/"
    },
    "id": "OcQvBI2u2Zpu",
    "outputId": "9b2a6bdd-6384-4e40-d40e-2caf609371c3"
   }
  },
  {
   "cell_type": "markdown",
   "source": [],
   "metadata": {
    "collapsed": false,
    "pycharm": {
     "name": "#%% md\n"
    },
    "id": "eEnL_poH2Zpu"
   }
  },
  {
   "cell_type": "markdown",
   "source": [
    "> ## Hyperparameter Tuning"
   ],
   "metadata": {
    "collapsed": false,
    "pycharm": {
     "name": "#%% md\n"
    },
    "id": "br3RFUyI2Zpu"
   }
  },
  {
   "cell_type": "markdown",
   "source": [
    "**GridSearch CV**"
   ],
   "metadata": {
    "collapsed": false,
    "pycharm": {
     "name": "#%% md\n"
    },
    "id": "RSCw_RZk2Zpu"
   }
  },
  {
   "cell_type": "code",
   "execution_count": null,
   "outputs": [],
   "source": [
    "grid_param = {\n",
    "    'learning_rate': [0.01, 0.001,0.1, 0.0001],\n",
    "    'n_estimators': [50,100,150, 200],\n",
    "    'max_depth': range(2,20,1),\n",
    "    'min_samples_leaf': range(1,10,1),\n",
    "    'min_samples_split': range(2,10,1),\n",
    "    'max_features': ['auto', 'log2']\n",
    "}"
   ],
   "metadata": {
    "pycharm": {
     "name": "#%%\n"
    },
    "id": "zfurO_1H2Zpu"
   }
  },
  {
   "cell_type": "code",
   "execution_count": null,
   "outputs": [],
   "source": [
    "grid = GridSearchCV(estimator=model_gbm, param_grid=grid_param, cv=3, verbose=2, n_jobs=-1)"
   ],
   "metadata": {
    "pycharm": {
     "name": "#%%\n"
    },
    "id": "dH7oKCTi2Zpv"
   }
  },
  {
   "cell_type": "code",
   "execution_count": null,
   "outputs": [
    {
     "name": "stdout",
     "output_type": "stream",
     "text": [
      "Fitting 3 folds for each of 41472 candidates, totalling 124416 fits\n"
     ]
    },
    {
     "ename": "KeyboardInterrupt",
     "evalue": "",
     "output_type": "error",
     "traceback": [
      "\u001B[1;31m---------------------------------------------------------------------------\u001B[0m",
      "\u001B[1;31mKeyboardInterrupt\u001B[0m                         Traceback (most recent call last)",
      "Input \u001B[1;32mIn [80]\u001B[0m, in \u001B[0;36m<cell line: 1>\u001B[1;34m()\u001B[0m\n\u001B[1;32m----> 1\u001B[0m \u001B[43mgrid\u001B[49m\u001B[38;5;241;43m.\u001B[39;49m\u001B[43mfit\u001B[49m\u001B[43m(\u001B[49m\u001B[43mX_train\u001B[49m\u001B[43m,\u001B[49m\u001B[43m \u001B[49m\u001B[43my_train\u001B[49m\u001B[43m)\u001B[49m\n",
      "File \u001B[1;32m~\\anaconda3\\envs\\EDA\\lib\\site-packages\\sklearn\\model_selection\\_search.py:875\u001B[0m, in \u001B[0;36mBaseSearchCV.fit\u001B[1;34m(self, X, y, groups, **fit_params)\u001B[0m\n\u001B[0;32m    869\u001B[0m     results \u001B[38;5;241m=\u001B[39m \u001B[38;5;28mself\u001B[39m\u001B[38;5;241m.\u001B[39m_format_results(\n\u001B[0;32m    870\u001B[0m         all_candidate_params, n_splits, all_out, all_more_results\n\u001B[0;32m    871\u001B[0m     )\n\u001B[0;32m    873\u001B[0m     \u001B[38;5;28;01mreturn\u001B[39;00m results\n\u001B[1;32m--> 875\u001B[0m \u001B[38;5;28;43mself\u001B[39;49m\u001B[38;5;241;43m.\u001B[39;49m\u001B[43m_run_search\u001B[49m\u001B[43m(\u001B[49m\u001B[43mevaluate_candidates\u001B[49m\u001B[43m)\u001B[49m\n\u001B[0;32m    877\u001B[0m \u001B[38;5;66;03m# multimetric is determined here because in the case of a callable\u001B[39;00m\n\u001B[0;32m    878\u001B[0m \u001B[38;5;66;03m# self.scoring the return type is only known after calling\u001B[39;00m\n\u001B[0;32m    879\u001B[0m first_test_score \u001B[38;5;241m=\u001B[39m all_out[\u001B[38;5;241m0\u001B[39m][\u001B[38;5;124m\"\u001B[39m\u001B[38;5;124mtest_scores\u001B[39m\u001B[38;5;124m\"\u001B[39m]\n",
      "File \u001B[1;32m~\\anaconda3\\envs\\EDA\\lib\\site-packages\\sklearn\\model_selection\\_search.py:1379\u001B[0m, in \u001B[0;36mGridSearchCV._run_search\u001B[1;34m(self, evaluate_candidates)\u001B[0m\n\u001B[0;32m   1377\u001B[0m \u001B[38;5;28;01mdef\u001B[39;00m \u001B[38;5;21m_run_search\u001B[39m(\u001B[38;5;28mself\u001B[39m, evaluate_candidates):\n\u001B[0;32m   1378\u001B[0m     \u001B[38;5;124;03m\"\"\"Search all candidates in param_grid\"\"\"\u001B[39;00m\n\u001B[1;32m-> 1379\u001B[0m     \u001B[43mevaluate_candidates\u001B[49m\u001B[43m(\u001B[49m\u001B[43mParameterGrid\u001B[49m\u001B[43m(\u001B[49m\u001B[38;5;28;43mself\u001B[39;49m\u001B[38;5;241;43m.\u001B[39;49m\u001B[43mparam_grid\u001B[49m\u001B[43m)\u001B[49m\u001B[43m)\u001B[49m\n",
      "File \u001B[1;32m~\\anaconda3\\envs\\EDA\\lib\\site-packages\\sklearn\\model_selection\\_search.py:822\u001B[0m, in \u001B[0;36mBaseSearchCV.fit.<locals>.evaluate_candidates\u001B[1;34m(candidate_params, cv, more_results)\u001B[0m\n\u001B[0;32m    814\u001B[0m \u001B[38;5;28;01mif\u001B[39;00m \u001B[38;5;28mself\u001B[39m\u001B[38;5;241m.\u001B[39mverbose \u001B[38;5;241m>\u001B[39m \u001B[38;5;241m0\u001B[39m:\n\u001B[0;32m    815\u001B[0m     \u001B[38;5;28mprint\u001B[39m(\n\u001B[0;32m    816\u001B[0m         \u001B[38;5;124m\"\u001B[39m\u001B[38;5;124mFitting \u001B[39m\u001B[38;5;132;01m{0}\u001B[39;00m\u001B[38;5;124m folds for each of \u001B[39m\u001B[38;5;132;01m{1}\u001B[39;00m\u001B[38;5;124m candidates,\u001B[39m\u001B[38;5;124m\"\u001B[39m\n\u001B[0;32m    817\u001B[0m         \u001B[38;5;124m\"\u001B[39m\u001B[38;5;124m totalling \u001B[39m\u001B[38;5;132;01m{2}\u001B[39;00m\u001B[38;5;124m fits\u001B[39m\u001B[38;5;124m\"\u001B[39m\u001B[38;5;241m.\u001B[39mformat(\n\u001B[0;32m    818\u001B[0m             n_splits, n_candidates, n_candidates \u001B[38;5;241m*\u001B[39m n_splits\n\u001B[0;32m    819\u001B[0m         )\n\u001B[0;32m    820\u001B[0m     )\n\u001B[1;32m--> 822\u001B[0m out \u001B[38;5;241m=\u001B[39m \u001B[43mparallel\u001B[49m\u001B[43m(\u001B[49m\n\u001B[0;32m    823\u001B[0m \u001B[43m    \u001B[49m\u001B[43mdelayed\u001B[49m\u001B[43m(\u001B[49m\u001B[43m_fit_and_score\u001B[49m\u001B[43m)\u001B[49m\u001B[43m(\u001B[49m\n\u001B[0;32m    824\u001B[0m \u001B[43m        \u001B[49m\u001B[43mclone\u001B[49m\u001B[43m(\u001B[49m\u001B[43mbase_estimator\u001B[49m\u001B[43m)\u001B[49m\u001B[43m,\u001B[49m\n\u001B[0;32m    825\u001B[0m \u001B[43m        \u001B[49m\u001B[43mX\u001B[49m\u001B[43m,\u001B[49m\n\u001B[0;32m    826\u001B[0m \u001B[43m        \u001B[49m\u001B[43my\u001B[49m\u001B[43m,\u001B[49m\n\u001B[0;32m    827\u001B[0m \u001B[43m        \u001B[49m\u001B[43mtrain\u001B[49m\u001B[38;5;241;43m=\u001B[39;49m\u001B[43mtrain\u001B[49m\u001B[43m,\u001B[49m\n\u001B[0;32m    828\u001B[0m \u001B[43m        \u001B[49m\u001B[43mtest\u001B[49m\u001B[38;5;241;43m=\u001B[39;49m\u001B[43mtest\u001B[49m\u001B[43m,\u001B[49m\n\u001B[0;32m    829\u001B[0m \u001B[43m        \u001B[49m\u001B[43mparameters\u001B[49m\u001B[38;5;241;43m=\u001B[39;49m\u001B[43mparameters\u001B[49m\u001B[43m,\u001B[49m\n\u001B[0;32m    830\u001B[0m \u001B[43m        \u001B[49m\u001B[43msplit_progress\u001B[49m\u001B[38;5;241;43m=\u001B[39;49m\u001B[43m(\u001B[49m\u001B[43msplit_idx\u001B[49m\u001B[43m,\u001B[49m\u001B[43m \u001B[49m\u001B[43mn_splits\u001B[49m\u001B[43m)\u001B[49m\u001B[43m,\u001B[49m\n\u001B[0;32m    831\u001B[0m \u001B[43m        \u001B[49m\u001B[43mcandidate_progress\u001B[49m\u001B[38;5;241;43m=\u001B[39;49m\u001B[43m(\u001B[49m\u001B[43mcand_idx\u001B[49m\u001B[43m,\u001B[49m\u001B[43m \u001B[49m\u001B[43mn_candidates\u001B[49m\u001B[43m)\u001B[49m\u001B[43m,\u001B[49m\n\u001B[0;32m    832\u001B[0m \u001B[43m        \u001B[49m\u001B[38;5;241;43m*\u001B[39;49m\u001B[38;5;241;43m*\u001B[39;49m\u001B[43mfit_and_score_kwargs\u001B[49m\u001B[43m,\u001B[49m\n\u001B[0;32m    833\u001B[0m \u001B[43m    \u001B[49m\u001B[43m)\u001B[49m\n\u001B[0;32m    834\u001B[0m \u001B[43m    \u001B[49m\u001B[38;5;28;43;01mfor\u001B[39;49;00m\u001B[43m \u001B[49m\u001B[43m(\u001B[49m\u001B[43mcand_idx\u001B[49m\u001B[43m,\u001B[49m\u001B[43m \u001B[49m\u001B[43mparameters\u001B[49m\u001B[43m)\u001B[49m\u001B[43m,\u001B[49m\u001B[43m \u001B[49m\u001B[43m(\u001B[49m\u001B[43msplit_idx\u001B[49m\u001B[43m,\u001B[49m\u001B[43m \u001B[49m\u001B[43m(\u001B[49m\u001B[43mtrain\u001B[49m\u001B[43m,\u001B[49m\u001B[43m \u001B[49m\u001B[43mtest\u001B[49m\u001B[43m)\u001B[49m\u001B[43m)\u001B[49m\u001B[43m \u001B[49m\u001B[38;5;129;43;01min\u001B[39;49;00m\u001B[43m \u001B[49m\u001B[43mproduct\u001B[49m\u001B[43m(\u001B[49m\n\u001B[0;32m    835\u001B[0m \u001B[43m        \u001B[49m\u001B[38;5;28;43menumerate\u001B[39;49m\u001B[43m(\u001B[49m\u001B[43mcandidate_params\u001B[49m\u001B[43m)\u001B[49m\u001B[43m,\u001B[49m\u001B[43m \u001B[49m\u001B[38;5;28;43menumerate\u001B[39;49m\u001B[43m(\u001B[49m\u001B[43mcv\u001B[49m\u001B[38;5;241;43m.\u001B[39;49m\u001B[43msplit\u001B[49m\u001B[43m(\u001B[49m\u001B[43mX\u001B[49m\u001B[43m,\u001B[49m\u001B[43m \u001B[49m\u001B[43my\u001B[49m\u001B[43m,\u001B[49m\u001B[43m \u001B[49m\u001B[43mgroups\u001B[49m\u001B[43m)\u001B[49m\u001B[43m)\u001B[49m\n\u001B[0;32m    836\u001B[0m \u001B[43m    \u001B[49m\u001B[43m)\u001B[49m\n\u001B[0;32m    837\u001B[0m \u001B[43m\u001B[49m\u001B[43m)\u001B[49m\n\u001B[0;32m    839\u001B[0m \u001B[38;5;28;01mif\u001B[39;00m \u001B[38;5;28mlen\u001B[39m(out) \u001B[38;5;241m<\u001B[39m \u001B[38;5;241m1\u001B[39m:\n\u001B[0;32m    840\u001B[0m     \u001B[38;5;28;01mraise\u001B[39;00m \u001B[38;5;167;01mValueError\u001B[39;00m(\n\u001B[0;32m    841\u001B[0m         \u001B[38;5;124m\"\u001B[39m\u001B[38;5;124mNo fits were performed. \u001B[39m\u001B[38;5;124m\"\u001B[39m\n\u001B[0;32m    842\u001B[0m         \u001B[38;5;124m\"\u001B[39m\u001B[38;5;124mWas the CV iterator empty? \u001B[39m\u001B[38;5;124m\"\u001B[39m\n\u001B[0;32m    843\u001B[0m         \u001B[38;5;124m\"\u001B[39m\u001B[38;5;124mWere there no candidates?\u001B[39m\u001B[38;5;124m\"\u001B[39m\n\u001B[0;32m    844\u001B[0m     )\n",
      "File \u001B[1;32m~\\anaconda3\\envs\\EDA\\lib\\site-packages\\joblib\\parallel.py:1056\u001B[0m, in \u001B[0;36mParallel.__call__\u001B[1;34m(self, iterable)\u001B[0m\n\u001B[0;32m   1053\u001B[0m     \u001B[38;5;28mself\u001B[39m\u001B[38;5;241m.\u001B[39m_iterating \u001B[38;5;241m=\u001B[39m \u001B[38;5;28;01mFalse\u001B[39;00m\n\u001B[0;32m   1055\u001B[0m \u001B[38;5;28;01mwith\u001B[39;00m \u001B[38;5;28mself\u001B[39m\u001B[38;5;241m.\u001B[39m_backend\u001B[38;5;241m.\u001B[39mretrieval_context():\n\u001B[1;32m-> 1056\u001B[0m     \u001B[38;5;28;43mself\u001B[39;49m\u001B[38;5;241;43m.\u001B[39;49m\u001B[43mretrieve\u001B[49m\u001B[43m(\u001B[49m\u001B[43m)\u001B[49m\n\u001B[0;32m   1057\u001B[0m \u001B[38;5;66;03m# Make sure that we get a last message telling us we are done\u001B[39;00m\n\u001B[0;32m   1058\u001B[0m elapsed_time \u001B[38;5;241m=\u001B[39m time\u001B[38;5;241m.\u001B[39mtime() \u001B[38;5;241m-\u001B[39m \u001B[38;5;28mself\u001B[39m\u001B[38;5;241m.\u001B[39m_start_time\n",
      "File \u001B[1;32m~\\anaconda3\\envs\\EDA\\lib\\site-packages\\joblib\\parallel.py:935\u001B[0m, in \u001B[0;36mParallel.retrieve\u001B[1;34m(self)\u001B[0m\n\u001B[0;32m    933\u001B[0m \u001B[38;5;28;01mtry\u001B[39;00m:\n\u001B[0;32m    934\u001B[0m     \u001B[38;5;28;01mif\u001B[39;00m \u001B[38;5;28mgetattr\u001B[39m(\u001B[38;5;28mself\u001B[39m\u001B[38;5;241m.\u001B[39m_backend, \u001B[38;5;124m'\u001B[39m\u001B[38;5;124msupports_timeout\u001B[39m\u001B[38;5;124m'\u001B[39m, \u001B[38;5;28;01mFalse\u001B[39;00m):\n\u001B[1;32m--> 935\u001B[0m         \u001B[38;5;28mself\u001B[39m\u001B[38;5;241m.\u001B[39m_output\u001B[38;5;241m.\u001B[39mextend(\u001B[43mjob\u001B[49m\u001B[38;5;241;43m.\u001B[39;49m\u001B[43mget\u001B[49m\u001B[43m(\u001B[49m\u001B[43mtimeout\u001B[49m\u001B[38;5;241;43m=\u001B[39;49m\u001B[38;5;28;43mself\u001B[39;49m\u001B[38;5;241;43m.\u001B[39;49m\u001B[43mtimeout\u001B[49m\u001B[43m)\u001B[49m)\n\u001B[0;32m    936\u001B[0m     \u001B[38;5;28;01melse\u001B[39;00m:\n\u001B[0;32m    937\u001B[0m         \u001B[38;5;28mself\u001B[39m\u001B[38;5;241m.\u001B[39m_output\u001B[38;5;241m.\u001B[39mextend(job\u001B[38;5;241m.\u001B[39mget())\n",
      "File \u001B[1;32m~\\anaconda3\\envs\\EDA\\lib\\site-packages\\joblib\\_parallel_backends.py:542\u001B[0m, in \u001B[0;36mLokyBackend.wrap_future_result\u001B[1;34m(future, timeout)\u001B[0m\n\u001B[0;32m    539\u001B[0m \u001B[38;5;124;03m\"\"\"Wrapper for Future.result to implement the same behaviour as\u001B[39;00m\n\u001B[0;32m    540\u001B[0m \u001B[38;5;124;03mAsyncResults.get from multiprocessing.\"\"\"\u001B[39;00m\n\u001B[0;32m    541\u001B[0m \u001B[38;5;28;01mtry\u001B[39;00m:\n\u001B[1;32m--> 542\u001B[0m     \u001B[38;5;28;01mreturn\u001B[39;00m \u001B[43mfuture\u001B[49m\u001B[38;5;241;43m.\u001B[39;49m\u001B[43mresult\u001B[49m\u001B[43m(\u001B[49m\u001B[43mtimeout\u001B[49m\u001B[38;5;241;43m=\u001B[39;49m\u001B[43mtimeout\u001B[49m\u001B[43m)\u001B[49m\n\u001B[0;32m    543\u001B[0m \u001B[38;5;28;01mexcept\u001B[39;00m CfTimeoutError \u001B[38;5;28;01mas\u001B[39;00m e:\n\u001B[0;32m    544\u001B[0m     \u001B[38;5;28;01mraise\u001B[39;00m \u001B[38;5;167;01mTimeoutError\u001B[39;00m \u001B[38;5;28;01mfrom\u001B[39;00m \u001B[38;5;21;01me\u001B[39;00m\n",
      "File \u001B[1;32m~\\anaconda3\\envs\\EDA\\lib\\concurrent\\futures\\_base.py:453\u001B[0m, in \u001B[0;36mFuture.result\u001B[1;34m(self, timeout)\u001B[0m\n\u001B[0;32m    450\u001B[0m \u001B[38;5;28;01melif\u001B[39;00m \u001B[38;5;28mself\u001B[39m\u001B[38;5;241m.\u001B[39m_state \u001B[38;5;241m==\u001B[39m FINISHED:\n\u001B[0;32m    451\u001B[0m     \u001B[38;5;28;01mreturn\u001B[39;00m \u001B[38;5;28mself\u001B[39m\u001B[38;5;241m.\u001B[39m__get_result()\n\u001B[1;32m--> 453\u001B[0m \u001B[38;5;28;43mself\u001B[39;49m\u001B[38;5;241;43m.\u001B[39;49m\u001B[43m_condition\u001B[49m\u001B[38;5;241;43m.\u001B[39;49m\u001B[43mwait\u001B[49m\u001B[43m(\u001B[49m\u001B[43mtimeout\u001B[49m\u001B[43m)\u001B[49m\n\u001B[0;32m    455\u001B[0m \u001B[38;5;28;01mif\u001B[39;00m \u001B[38;5;28mself\u001B[39m\u001B[38;5;241m.\u001B[39m_state \u001B[38;5;129;01min\u001B[39;00m [CANCELLED, CANCELLED_AND_NOTIFIED]:\n\u001B[0;32m    456\u001B[0m     \u001B[38;5;28;01mraise\u001B[39;00m CancelledError()\n",
      "File \u001B[1;32m~\\anaconda3\\envs\\EDA\\lib\\threading.py:320\u001B[0m, in \u001B[0;36mCondition.wait\u001B[1;34m(self, timeout)\u001B[0m\n\u001B[0;32m    318\u001B[0m \u001B[38;5;28;01mtry\u001B[39;00m:    \u001B[38;5;66;03m# restore state no matter what (e.g., KeyboardInterrupt)\u001B[39;00m\n\u001B[0;32m    319\u001B[0m     \u001B[38;5;28;01mif\u001B[39;00m timeout \u001B[38;5;129;01mis\u001B[39;00m \u001B[38;5;28;01mNone\u001B[39;00m:\n\u001B[1;32m--> 320\u001B[0m         \u001B[43mwaiter\u001B[49m\u001B[38;5;241;43m.\u001B[39;49m\u001B[43macquire\u001B[49m\u001B[43m(\u001B[49m\u001B[43m)\u001B[49m\n\u001B[0;32m    321\u001B[0m         gotit \u001B[38;5;241m=\u001B[39m \u001B[38;5;28;01mTrue\u001B[39;00m\n\u001B[0;32m    322\u001B[0m     \u001B[38;5;28;01melse\u001B[39;00m:\n",
      "\u001B[1;31mKeyboardInterrupt\u001B[0m: "
     ]
    }
   ],
   "source": [
    "grid.fit(X_train, y_train)"
   ],
   "metadata": {
    "pycharm": {
     "name": "#%%\n"
    },
    "id": "tUEijvWs2Zpv",
    "outputId": "173c5d7a-ef2a-4a1a-afeb-4d3c2c903e42"
   }
  },
  {
   "cell_type": "markdown",
   "source": [],
   "metadata": {
    "collapsed": false,
    "pycharm": {
     "name": "#%% md\n"
    },
    "id": "iFpaZ38-2Zpv"
   }
  },
  {
   "cell_type": "markdown",
   "source": [
    "**Optuna**"
   ],
   "metadata": {
    "collapsed": false,
    "pycharm": {
     "name": "#%% md\n"
    },
    "id": "ZzIN3aSX2Zpv"
   }
  },
  {
   "cell_type": "code",
   "execution_count": 33,
   "outputs": [],
   "source": [
    "\n",
    "def objective_classification(trial, data=X, target=y):\n",
    "    train_X, test_x, train_y, test_y = train_test_split(data, target, test_size=0.20, random_state=42)\n",
    "\n",
    "    param = {\n",
    "        'tree_method' :'gpu_hist',\n",
    "        'verbosity' : 3,\n",
    "        'objective' : 'binary:logistics',\n",
    "        'booster': trial.suggest_categorical('booster', ['dart', 'gbtree', 'gblinear']),\n",
    "        'lambda' : trial.suggest_float('lambda', 1e-4, 1),\n",
    "        'alpha' : trial.suggest_float('alpha', 1e-4, 1),\n",
    "        'subsample' : trial.suggest_float('subsample', .1, .5),\n",
    "        'colsample_bytree' : trial.suggest_float('colsample_bytree', .1,.5)\n",
    "    }\n",
    "\n",
    "    if param['booster'] in ['gbtree', 'dart']:\n",
    "        param['gamma'] : trial.suggest_float('gamma', 1e-3, 4)\n",
    "        param['eta'] : trial.suggest_float('eta', 0.001, 5)\n",
    "\n",
    "    xgb_classification = XGBClassifier(**param)\n",
    "    xgb_classification.fit(train_X, train_y, eval_set= [(test_x, test_y)])\n",
    "    pred = xgb_classification.predict(test_x)\n",
    "    accuracy = xgb_classification.score(test_x, test_y)\n",
    "\n",
    "    return accuracy"
   ],
   "metadata": {
    "pycharm": {
     "name": "#%%\n"
    },
    "id": "JKelnHs22Zpv"
   }
  },
  {
   "cell_type": "code",
   "execution_count": 36,
   "outputs": [
    {
     "output_type": "stream",
     "name": "stderr",
     "text": [
      "\u001B[32m[I 2022-11-22 06:01:48,145]\u001B[0m A new study created in memory with name: no-name-2c6659e5-11ad-4c4e-8c59-8db23bc1a37d\u001B[0m\n"
     ]
    }
   ],
   "source": [
    "import optuna\n",
    "\n",
    "xgb_classification_optuna = optuna.create_study(direction='maximize')\n"
   ],
   "metadata": {
    "pycharm": {
     "name": "#%%\n"
    },
    "colab": {
     "base_uri": "https://localhost:8080/"
    },
    "id": "ekeJQxAL2Zpv",
    "outputId": "bf6d32c9-b89b-4bf2-978c-b812269bd907"
   }
  },
  {
   "cell_type": "code",
   "execution_count": 37,
   "outputs": [
    {
     "output_type": "stream",
     "name": "stdout",
     "text": [
      "[0]\tvalidation_0-merror:0.558824\n",
      "[1]\tvalidation_0-merror:0.558824\n",
      "[2]\tvalidation_0-merror:0.555147\n",
      "[3]\tvalidation_0-merror:0.551471\n",
      "[4]\tvalidation_0-merror:0.544118\n",
      "[5]\tvalidation_0-merror:0.536765\n",
      "[6]\tvalidation_0-merror:0.511029\n",
      "[7]\tvalidation_0-merror:0.507353\n",
      "[8]\tvalidation_0-merror:0.492647\n",
      "[9]\tvalidation_0-merror:0.5\n",
      "[10]\tvalidation_0-merror:0.492647\n",
      "[11]\tvalidation_0-merror:0.496324\n",
      "[12]\tvalidation_0-merror:0.496324\n",
      "[13]\tvalidation_0-merror:0.5\n",
      "[14]\tvalidation_0-merror:0.503676\n",
      "[15]\tvalidation_0-merror:0.5\n",
      "[16]\tvalidation_0-merror:0.496324\n",
      "[17]\tvalidation_0-merror:0.488971\n",
      "[18]\tvalidation_0-merror:0.485294\n",
      "[19]\tvalidation_0-merror:0.481618\n",
      "[20]\tvalidation_0-merror:0.488971\n",
      "[21]\tvalidation_0-merror:0.492647\n",
      "[22]\tvalidation_0-merror:0.496324\n",
      "[23]\tvalidation_0-merror:0.496324\n",
      "[24]\tvalidation_0-merror:0.492647\n",
      "[25]\tvalidation_0-merror:0.496324\n",
      "[26]\tvalidation_0-merror:0.492647\n",
      "[27]\tvalidation_0-merror:0.492647\n",
      "[28]\tvalidation_0-merror:0.492647\n",
      "[29]\tvalidation_0-merror:0.488971\n",
      "[30]\tvalidation_0-merror:0.488971\n",
      "[31]\tvalidation_0-merror:0.492647\n",
      "[32]\tvalidation_0-merror:0.492647\n",
      "[33]\tvalidation_0-merror:0.496324\n",
      "[34]\tvalidation_0-merror:0.496324\n",
      "[35]\tvalidation_0-merror:0.5\n",
      "[36]\tvalidation_0-merror:0.5\n",
      "[37]\tvalidation_0-merror:0.5\n",
      "[38]\tvalidation_0-merror:0.496324\n",
      "[39]\tvalidation_0-merror:0.5\n",
      "[40]\tvalidation_0-merror:0.503676\n",
      "[41]\tvalidation_0-merror:0.507353\n",
      "[42]\tvalidation_0-merror:0.503676\n",
      "[43]\tvalidation_0-merror:0.503676\n",
      "[44]\tvalidation_0-merror:0.5\n",
      "[45]\tvalidation_0-merror:0.496324\n",
      "[46]\tvalidation_0-merror:0.496324\n",
      "[47]\tvalidation_0-merror:0.492647\n",
      "[48]\tvalidation_0-merror:0.496324\n",
      "[49]\tvalidation_0-merror:0.496324\n",
      "[50]\tvalidation_0-merror:0.496324\n",
      "[51]\tvalidation_0-merror:0.496324\n",
      "[52]\tvalidation_0-merror:0.496324\n",
      "[53]\tvalidation_0-merror:0.496324\n",
      "[54]\tvalidation_0-merror:0.496324\n",
      "[55]\tvalidation_0-merror:0.496324\n",
      "[56]\tvalidation_0-merror:0.496324\n",
      "[57]\tvalidation_0-merror:0.492647\n",
      "[58]\tvalidation_0-merror:0.488971\n",
      "[59]\tvalidation_0-merror:0.492647\n",
      "[60]\tvalidation_0-merror:0.496324\n",
      "[61]\tvalidation_0-merror:0.496324\n",
      "[62]\tvalidation_0-merror:0.496324\n",
      "[63]\tvalidation_0-merror:0.5\n",
      "[64]\tvalidation_0-merror:0.5\n",
      "[65]\tvalidation_0-merror:0.496324\n",
      "[66]\tvalidation_0-merror:0.496324\n",
      "[67]\tvalidation_0-merror:0.496324\n",
      "[68]\tvalidation_0-merror:0.496324\n",
      "[69]\tvalidation_0-merror:0.496324\n",
      "[70]\tvalidation_0-merror:0.496324\n",
      "[71]\tvalidation_0-merror:0.496324\n",
      "[72]\tvalidation_0-merror:0.496324\n",
      "[73]\tvalidation_0-merror:0.496324\n",
      "[74]\tvalidation_0-merror:0.496324\n",
      "[75]\tvalidation_0-merror:0.496324\n",
      "[76]\tvalidation_0-merror:0.496324\n",
      "[77]\tvalidation_0-merror:0.496324\n",
      "[78]\tvalidation_0-merror:0.496324\n",
      "[79]\tvalidation_0-merror:0.492647\n",
      "[80]\tvalidation_0-merror:0.492647\n",
      "[81]\tvalidation_0-merror:0.488971\n",
      "[82]\tvalidation_0-merror:0.488971\n",
      "[83]\tvalidation_0-merror:0.488971\n",
      "[84]\tvalidation_0-merror:0.485294\n",
      "[85]\tvalidation_0-merror:0.485294\n",
      "[86]\tvalidation_0-merror:0.485294\n",
      "[87]\tvalidation_0-merror:0.488971\n",
      "[88]\tvalidation_0-merror:0.485294\n",
      "[89]\tvalidation_0-merror:0.485294\n",
      "[90]\tvalidation_0-merror:0.485294\n",
      "[91]\tvalidation_0-merror:0.485294\n",
      "[92]\tvalidation_0-merror:0.485294\n",
      "[93]\tvalidation_0-merror:0.485294\n",
      "[94]\tvalidation_0-merror:0.485294\n",
      "[95]\tvalidation_0-merror:0.485294\n",
      "[96]\tvalidation_0-merror:0.485294\n",
      "[97]\tvalidation_0-merror:0.485294\n",
      "[98]\tvalidation_0-merror:0.485294\n",
      "[99]\tvalidation_0-merror:0.488971\n",
      "[06:01:50] ======== Monitor: Learner ========\n"
     ]
    },
    {
     "output_type": "stream",
     "name": "stderr",
     "text": [
      "\u001B[32m[I 2022-11-22 06:01:50,762]\u001B[0m Trial 0 finished with value: 0.5110294117647058 and parameters: {'booster': 'gblinear', 'lambda': 0.18098741286589848, 'alpha': 0.5515082657988692, 'subsample': 0.3328741557582109, 'colsample_bytree': 0.36675322003192934}. Best is trial 0 with value: 0.5110294117647058.\u001B[0m\n"
     ]
    },
    {
     "output_type": "stream",
     "name": "stdout",
     "text": [
      "[06:01:50] EvalOneIter: 0.014045s, 100 calls @ 140us\n",
      "[06:01:50] GetGradient: 0.0128566s, 100 calls @ 128us\n",
      "[06:01:50] PredictRaw: 0.00231974s, 100 calls @ 23us\n",
      "[06:01:50] UpdateOneIter: 0.234814s, 100 calls @ 2348us\n",
      "[06:01:50] ======== Monitor: GBLinear ========\n",
      "[06:01:50] DoBoost: 0.217388s, 100 calls @ 2173us\n",
      "[06:01:50] PredictBatch: 0.00621381s, 202 calls @ 30us\n",
      "[06:01:50] PredictBatchInternal: 0.153028s, 203 calls @ 753us\n",
      "[0]\tvalidation_0-merror:0.584559\n",
      "[1]\tvalidation_0-merror:0.507353\n",
      "[2]\tvalidation_0-merror:0.477941\n",
      "[3]\tvalidation_0-merror:0.477941\n",
      "[4]\tvalidation_0-merror:0.5\n",
      "[5]\tvalidation_0-merror:0.470588\n",
      "[6]\tvalidation_0-merror:0.470588\n",
      "[7]\tvalidation_0-merror:0.455882\n",
      "[8]\tvalidation_0-merror:0.481618\n",
      "[9]\tvalidation_0-merror:0.477941\n",
      "[10]\tvalidation_0-merror:0.481618\n",
      "[11]\tvalidation_0-merror:0.477941\n",
      "[12]\tvalidation_0-merror:0.459559\n",
      "[13]\tvalidation_0-merror:0.470588\n",
      "[14]\tvalidation_0-merror:0.452206\n",
      "[15]\tvalidation_0-merror:0.466912\n",
      "[16]\tvalidation_0-merror:0.470588\n",
      "[17]\tvalidation_0-merror:0.463235\n",
      "[18]\tvalidation_0-merror:0.452206\n",
      "[19]\tvalidation_0-merror:0.448529\n",
      "[20]\tvalidation_0-merror:0.452206\n",
      "[21]\tvalidation_0-merror:0.455882\n",
      "[22]\tvalidation_0-merror:0.448529\n",
      "[23]\tvalidation_0-merror:0.4375\n",
      "[24]\tvalidation_0-merror:0.433824\n",
      "[25]\tvalidation_0-merror:0.441176\n",
      "[26]\tvalidation_0-merror:0.433824\n",
      "[27]\tvalidation_0-merror:0.430147\n",
      "[28]\tvalidation_0-merror:0.430147\n",
      "[29]\tvalidation_0-merror:0.422794\n",
      "[30]\tvalidation_0-merror:0.415441\n",
      "[31]\tvalidation_0-merror:0.422794\n",
      "[32]\tvalidation_0-merror:0.411765\n",
      "[33]\tvalidation_0-merror:0.419118\n",
      "[34]\tvalidation_0-merror:0.430147\n",
      "[35]\tvalidation_0-merror:0.433824\n",
      "[36]\tvalidation_0-merror:0.430147\n",
      "[37]\tvalidation_0-merror:0.433824\n",
      "[38]\tvalidation_0-merror:0.433824\n",
      "[39]\tvalidation_0-merror:0.430147\n",
      "[40]\tvalidation_0-merror:0.430147\n",
      "[41]\tvalidation_0-merror:0.430147\n",
      "[42]\tvalidation_0-merror:0.426471\n",
      "[43]\tvalidation_0-merror:0.426471\n",
      "[44]\tvalidation_0-merror:0.415441\n",
      "[45]\tvalidation_0-merror:0.415441\n",
      "[46]\tvalidation_0-merror:0.415441\n",
      "[47]\tvalidation_0-merror:0.422794\n",
      "[48]\tvalidation_0-merror:0.415441\n",
      "[49]\tvalidation_0-merror:0.419118\n",
      "[50]\tvalidation_0-merror:0.422794\n",
      "[51]\tvalidation_0-merror:0.422794\n",
      "[52]\tvalidation_0-merror:0.419118\n",
      "[53]\tvalidation_0-merror:0.422794\n",
      "[54]\tvalidation_0-merror:0.419118\n",
      "[55]\tvalidation_0-merror:0.422794\n",
      "[56]\tvalidation_0-merror:0.426471\n",
      "[57]\tvalidation_0-merror:0.411765\n",
      "[58]\tvalidation_0-merror:0.419118\n",
      "[59]\tvalidation_0-merror:0.422794\n",
      "[60]\tvalidation_0-merror:0.433824\n",
      "[61]\tvalidation_0-merror:0.433824\n",
      "[62]\tvalidation_0-merror:0.419118\n",
      "[63]\tvalidation_0-merror:0.426471\n",
      "[64]\tvalidation_0-merror:0.415441\n",
      "[65]\tvalidation_0-merror:0.430147\n",
      "[66]\tvalidation_0-merror:0.430147\n",
      "[67]\tvalidation_0-merror:0.441176\n",
      "[68]\tvalidation_0-merror:0.433824\n",
      "[69]\tvalidation_0-merror:0.433824\n",
      "[70]\tvalidation_0-merror:0.433824\n",
      "[71]\tvalidation_0-merror:0.426471\n",
      "[72]\tvalidation_0-merror:0.433824\n",
      "[73]\tvalidation_0-merror:0.430147\n",
      "[74]\tvalidation_0-merror:0.433824\n",
      "[75]\tvalidation_0-merror:0.433824\n",
      "[76]\tvalidation_0-merror:0.433824\n",
      "[77]\tvalidation_0-merror:0.430147\n",
      "[78]\tvalidation_0-merror:0.430147\n",
      "[79]\tvalidation_0-merror:0.411765\n",
      "[80]\tvalidation_0-merror:0.411765\n",
      "[81]\tvalidation_0-merror:0.415441\n",
      "[82]\tvalidation_0-merror:0.415441\n",
      "[83]\tvalidation_0-merror:0.415441\n",
      "[84]\tvalidation_0-merror:0.415441\n",
      "[85]\tvalidation_0-merror:0.426471\n",
      "[86]\tvalidation_0-merror:0.422794\n",
      "[87]\tvalidation_0-merror:0.426471\n",
      "[88]\tvalidation_0-merror:0.422794\n",
      "[89]\tvalidation_0-merror:0.426471\n",
      "[90]\tvalidation_0-merror:0.426471\n",
      "[91]\tvalidation_0-merror:0.426471\n",
      "[92]\tvalidation_0-merror:0.415441\n",
      "[93]\tvalidation_0-merror:0.400735\n",
      "[94]\tvalidation_0-merror:0.404412\n",
      "[95]\tvalidation_0-merror:0.411765\n",
      "[96]\tvalidation_0-merror:0.419118\n",
      "[97]\tvalidation_0-merror:0.419118\n",
      "[98]\tvalidation_0-merror:0.419118\n",
      "[99]\tvalidation_0-merror:0.422794\n",
      "[06:01:52] ======== Monitor: Learner ========\n",
      "[06:01:52] EvalOneIter: 0.00633456s, 100 calls @ 63us\n",
      "[06:01:52] GetGradient: 0.015782s, 100 calls @ 157us\n",
      "[06:01:52] PredictRaw: 0.0142097s, 100 calls @ 142us\n",
      "[06:01:52] UpdateOneIter: 1.99752s, 100 calls @ 19975us\n",
      "[06:01:52] ======== Monitor: GBTree ========\n",
      "[06:01:52] BoostNewTrees: 1.95881s, 100 calls @ 19588us\n",
      "[06:01:52] CommitModel: 0.00826751s, 100 calls @ 82us\n",
      "[06:01:52] ======== Monitor:  ========\n",
      "[06:01:52] DevicePredictInternal: 0.0084904s, 202 calls @ 42us\n",
      "[06:01:52] PredictFromCache: 0.0149779s, 199 calls @ 75us\n",
      "[06:01:52] ======== Monitor: updater_gpu_hist ========\n",
      "[06:01:52] BinningCompression: 0.000442628s, 1 calls @ 442us\n",
      "[06:01:52] InitData: 0.0104082s, 600 calls @ 17us\n",
      "[06:01:52] InitDataOnce: 0.0102884s, 1 calls @ 10288us\n"
     ]
    },
    {
     "output_type": "stream",
     "name": "stderr",
     "text": [
      "\u001B[32m[I 2022-11-22 06:01:52,952]\u001B[0m Trial 1 finished with value: 0.5772058823529411 and parameters: {'booster': 'gbtree', 'lambda': 0.8221920128943397, 'alpha': 0.3944385097201932, 'subsample': 0.48457789520215344, 'colsample_bytree': 0.10169604465711268}. Best is trial 1 with value: 0.5772058823529411.\u001B[0m\n"
     ]
    },
    {
     "output_type": "stream",
     "name": "stdout",
     "text": [
      "[06:01:52] Quantiles: 0.00220163s, 1 calls @ 2201us\n",
      "[06:01:52] Update: 1.93227s, 600 calls @ 3220us\n",
      "[06:01:52] ======== NCCL Statistics========\n",
      "[06:01:52] AllReduce calls: 2705\n",
      "[06:01:52] AllReduce total MB communicated: 40\n",
      "[06:01:52] ======== Monitor: HistCutMatrix ========\n",
      "[06:01:52] ======== Monitor: DeviceShard0 ========\n",
      "[06:01:52] AllReduce: 0.0077834s, 2105 calls @ 3us\n",
      "[06:01:52] BuildHist: 0.0380165s, 1505 calls @ 25us\n",
      "[06:01:52] EvaluateSplits: 0.0728091s, 1505 calls @ 48us\n",
      "[06:01:52] FinalisePosition: 0.00556777s, 600 calls @ 9us\n",
      "[06:01:52] InitRoot: 1.70284s, 600 calls @ 2838us\n",
      "[06:01:52] Reset: 0.0625476s, 600 calls @ 104us\n",
      "[06:01:52] UpdatePosition: 0.0340463s, 1505 calls @ 22us\n",
      "[06:01:52] ======== Monitor: HistCutMatrix ========\n",
      "[0]\tvalidation_0-merror:0.558824\n",
      "[1]\tvalidation_0-merror:0.558824\n",
      "[2]\tvalidation_0-merror:0.555147\n",
      "[3]\tvalidation_0-merror:0.551471\n",
      "[4]\tvalidation_0-merror:0.544118\n",
      "[5]\tvalidation_0-merror:0.536765\n",
      "[6]\tvalidation_0-merror:0.511029\n",
      "[7]\tvalidation_0-merror:0.507353\n",
      "[8]\tvalidation_0-merror:0.492647\n",
      "[9]\tvalidation_0-merror:0.5\n",
      "[10]\tvalidation_0-merror:0.492647\n",
      "[11]\tvalidation_0-merror:0.496324\n",
      "[12]\tvalidation_0-merror:0.496324\n",
      "[13]\tvalidation_0-merror:0.5\n",
      "[14]\tvalidation_0-merror:0.503676\n",
      "[15]\tvalidation_0-merror:0.5\n",
      "[16]\tvalidation_0-merror:0.496324\n",
      "[17]\tvalidation_0-merror:0.488971\n",
      "[18]\tvalidation_0-merror:0.485294\n",
      "[19]\tvalidation_0-merror:0.481618\n",
      "[20]\tvalidation_0-merror:0.488971\n",
      "[21]\tvalidation_0-merror:0.492647\n",
      "[22]\tvalidation_0-merror:0.496324\n",
      "[23]\tvalidation_0-merror:0.496324\n",
      "[24]\tvalidation_0-merror:0.492647\n",
      "[25]\tvalidation_0-merror:0.496324\n",
      "[26]\tvalidation_0-merror:0.492647\n",
      "[27]\tvalidation_0-merror:0.492647\n",
      "[28]\tvalidation_0-merror:0.492647\n",
      "[29]\tvalidation_0-merror:0.488971\n",
      "[30]\tvalidation_0-merror:0.488971\n",
      "[31]\tvalidation_0-merror:0.492647\n",
      "[32]\tvalidation_0-merror:0.492647\n",
      "[33]\tvalidation_0-merror:0.496324\n",
      "[34]\tvalidation_0-merror:0.496324\n",
      "[35]\tvalidation_0-merror:0.5\n",
      "[36]\tvalidation_0-merror:0.5\n",
      "[37]\tvalidation_0-merror:0.5\n",
      "[38]\tvalidation_0-merror:0.496324\n",
      "[39]\tvalidation_0-merror:0.5\n",
      "[40]\tvalidation_0-merror:0.503676\n",
      "[41]\tvalidation_0-merror:0.507353\n",
      "[42]\tvalidation_0-merror:0.503676\n",
      "[43]\tvalidation_0-merror:0.503676\n",
      "[44]\tvalidation_0-merror:0.5\n",
      "[45]\tvalidation_0-merror:0.496324\n",
      "[46]\tvalidation_0-merror:0.496324\n",
      "[47]\tvalidation_0-merror:0.492647\n",
      "[48]\tvalidation_0-merror:0.496324\n",
      "[49]\tvalidation_0-merror:0.496324\n",
      "[50]\tvalidation_0-merror:0.496324\n",
      "[51]\tvalidation_0-merror:0.496324\n",
      "[52]\tvalidation_0-merror:0.496324\n",
      "[53]\tvalidation_0-merror:0.496324\n",
      "[54]\tvalidation_0-merror:0.496324\n",
      "[55]\tvalidation_0-merror:0.496324\n",
      "[56]\tvalidation_0-merror:0.496324\n",
      "[57]\tvalidation_0-merror:0.492647\n",
      "[58]\tvalidation_0-merror:0.488971\n",
      "[59]\tvalidation_0-merror:0.492647\n",
      "[60]\tvalidation_0-merror:0.496324\n",
      "[61]\tvalidation_0-merror:0.496324\n",
      "[62]\tvalidation_0-merror:0.496324\n",
      "[63]\tvalidation_0-merror:0.5\n",
      "[64]\tvalidation_0-merror:0.5\n",
      "[65]\tvalidation_0-merror:0.496324\n",
      "[66]\tvalidation_0-merror:0.496324\n",
      "[67]\tvalidation_0-merror:0.496324\n",
      "[68]\tvalidation_0-merror:0.496324\n",
      "[69]\tvalidation_0-merror:0.496324\n",
      "[70]\tvalidation_0-merror:0.496324\n",
      "[71]\tvalidation_0-merror:0.496324\n",
      "[72]\tvalidation_0-merror:0.496324\n",
      "[73]\tvalidation_0-merror:0.496324\n",
      "[74]\tvalidation_0-merror:0.496324\n",
      "[75]\tvalidation_0-merror:0.496324\n",
      "[76]\tvalidation_0-merror:0.496324\n",
      "[77]\tvalidation_0-merror:0.496324\n",
      "[78]\tvalidation_0-merror:0.496324\n",
      "[79]\tvalidation_0-merror:0.492647\n",
      "[80]\tvalidation_0-merror:0.492647\n",
      "[81]\tvalidation_0-merror:0.488971\n",
      "[82]\tvalidation_0-merror:0.488971\n",
      "[83]\tvalidation_0-merror:0.488971\n",
      "[84]\tvalidation_0-merror:0.485294\n",
      "[85]\tvalidation_0-merror:0.485294\n",
      "[86]\tvalidation_0-merror:0.485294\n",
      "[87]\tvalidation_0-merror:0.488971\n",
      "[88]\tvalidation_0-merror:0.485294\n",
      "[89]\tvalidation_0-merror:0.485294\n",
      "[90]\tvalidation_0-merror:0.485294\n",
      "[91]\tvalidation_0-merror:0.485294\n",
      "[92]\tvalidation_0-merror:0.485294\n",
      "[93]\tvalidation_0-merror:0.485294\n",
      "[94]\tvalidation_0-merror:0.485294\n",
      "[95]\tvalidation_0-merror:0.485294\n",
      "[96]\tvalidation_0-merror:0.485294\n",
      "[97]\tvalidation_0-merror:0.485294\n",
      "[98]\tvalidation_0-merror:0.485294\n",
      "[99]\tvalidation_0-merror:0.488971\n",
      "[06:01:53] ======== Monitor: Learner ========\n"
     ]
    },
    {
     "output_type": "stream",
     "name": "stderr",
     "text": [
      "\u001B[32m[I 2022-11-22 06:01:53,396]\u001B[0m Trial 2 finished with value: 0.5110294117647058 and parameters: {'booster': 'gblinear', 'lambda': 0.5902116888822966, 'alpha': 0.8395880132393589, 'subsample': 0.108881734654726, 'colsample_bytree': 0.4260418960773614}. Best is trial 1 with value: 0.5772058823529411.\u001B[0m\n"
     ]
    },
    {
     "output_type": "stream",
     "name": "stdout",
     "text": [
      "[06:01:53] EvalOneIter: 0.00916976s, 100 calls @ 91us\n",
      "[06:01:53] GetGradient: 0.0338153s, 100 calls @ 338us\n",
      "[06:01:53] PredictRaw: 0.00147114s, 100 calls @ 14us\n",
      "[06:01:53] UpdateOneIter: 0.235737s, 100 calls @ 2357us\n",
      "[06:01:53] ======== Monitor: GBLinear ========\n",
      "[06:01:53] DoBoost: 0.200102s, 100 calls @ 2001us\n",
      "[06:01:53] PredictBatch: 0.00468627s, 202 calls @ 23us\n",
      "[06:01:53] PredictBatchInternal: 0.140041s, 203 calls @ 689us\n",
      "[0]\tvalidation_0-merror:0.485294\n",
      "[1]\tvalidation_0-merror:0.485294\n",
      "[2]\tvalidation_0-merror:0.470588\n",
      "[3]\tvalidation_0-merror:0.433824\n",
      "[4]\tvalidation_0-merror:0.430147\n",
      "[5]\tvalidation_0-merror:0.426471\n",
      "[6]\tvalidation_0-merror:0.430147\n",
      "[7]\tvalidation_0-merror:0.419118\n",
      "[8]\tvalidation_0-merror:0.408088\n",
      "[9]\tvalidation_0-merror:0.411765\n",
      "[10]\tvalidation_0-merror:0.400735\n",
      "[11]\tvalidation_0-merror:0.400735\n",
      "[12]\tvalidation_0-merror:0.404412\n",
      "[13]\tvalidation_0-merror:0.408088\n",
      "[14]\tvalidation_0-merror:0.397059\n",
      "[15]\tvalidation_0-merror:0.393382\n",
      "[16]\tvalidation_0-merror:0.389706\n",
      "[17]\tvalidation_0-merror:0.393382\n",
      "[18]\tvalidation_0-merror:0.408088\n",
      "[19]\tvalidation_0-merror:0.393382\n",
      "[20]\tvalidation_0-merror:0.393382\n",
      "[21]\tvalidation_0-merror:0.397059\n",
      "[22]\tvalidation_0-merror:0.404412\n",
      "[23]\tvalidation_0-merror:0.411765\n",
      "[24]\tvalidation_0-merror:0.408088\n",
      "[25]\tvalidation_0-merror:0.393382\n",
      "[26]\tvalidation_0-merror:0.404412\n",
      "[27]\tvalidation_0-merror:0.393382\n",
      "[28]\tvalidation_0-merror:0.389706\n",
      "[29]\tvalidation_0-merror:0.386029\n",
      "[30]\tvalidation_0-merror:0.378676\n",
      "[31]\tvalidation_0-merror:0.382353\n",
      "[32]\tvalidation_0-merror:0.367647\n",
      "[33]\tvalidation_0-merror:0.352941\n",
      "[34]\tvalidation_0-merror:0.367647\n",
      "[35]\tvalidation_0-merror:0.360294\n",
      "[36]\tvalidation_0-merror:0.363971\n",
      "[37]\tvalidation_0-merror:0.375\n",
      "[38]\tvalidation_0-merror:0.375\n",
      "[39]\tvalidation_0-merror:0.378676\n",
      "[40]\tvalidation_0-merror:0.378676\n",
      "[41]\tvalidation_0-merror:0.360294\n",
      "[42]\tvalidation_0-merror:0.363971\n",
      "[43]\tvalidation_0-merror:0.356618\n",
      "[44]\tvalidation_0-merror:0.352941\n",
      "[45]\tvalidation_0-merror:0.356618\n",
      "[46]\tvalidation_0-merror:0.352941\n",
      "[47]\tvalidation_0-merror:0.356618\n",
      "[48]\tvalidation_0-merror:0.360294\n",
      "[49]\tvalidation_0-merror:0.363971\n",
      "[50]\tvalidation_0-merror:0.360294\n",
      "[51]\tvalidation_0-merror:0.352941\n",
      "[52]\tvalidation_0-merror:0.345588\n",
      "[53]\tvalidation_0-merror:0.341912\n",
      "[54]\tvalidation_0-merror:0.345588\n",
      "[55]\tvalidation_0-merror:0.345588\n",
      "[56]\tvalidation_0-merror:0.349265\n",
      "[57]\tvalidation_0-merror:0.352941\n",
      "[58]\tvalidation_0-merror:0.360294\n",
      "[59]\tvalidation_0-merror:0.360294\n",
      "[60]\tvalidation_0-merror:0.356618\n",
      "[61]\tvalidation_0-merror:0.360294\n",
      "[62]\tvalidation_0-merror:0.371324\n",
      "[63]\tvalidation_0-merror:0.363971\n",
      "[64]\tvalidation_0-merror:0.360294\n",
      "[65]\tvalidation_0-merror:0.356618\n",
      "[66]\tvalidation_0-merror:0.360294\n",
      "[67]\tvalidation_0-merror:0.363971\n",
      "[68]\tvalidation_0-merror:0.360294\n",
      "[69]\tvalidation_0-merror:0.363971\n",
      "[70]\tvalidation_0-merror:0.367647\n",
      "[71]\tvalidation_0-merror:0.356618\n",
      "[72]\tvalidation_0-merror:0.356618\n",
      "[73]\tvalidation_0-merror:0.352941\n",
      "[74]\tvalidation_0-merror:0.367647\n",
      "[75]\tvalidation_0-merror:0.356618\n",
      "[76]\tvalidation_0-merror:0.345588\n",
      "[77]\tvalidation_0-merror:0.345588\n",
      "[78]\tvalidation_0-merror:0.356618\n",
      "[79]\tvalidation_0-merror:0.352941\n",
      "[80]\tvalidation_0-merror:0.349265\n",
      "[81]\tvalidation_0-merror:0.341912\n",
      "[82]\tvalidation_0-merror:0.349265\n",
      "[83]\tvalidation_0-merror:0.349265\n",
      "[84]\tvalidation_0-merror:0.345588\n",
      "[85]\tvalidation_0-merror:0.360294\n",
      "[86]\tvalidation_0-merror:0.360294\n",
      "[87]\tvalidation_0-merror:0.352941\n",
      "[88]\tvalidation_0-merror:0.360294\n",
      "[89]\tvalidation_0-merror:0.363971\n",
      "[90]\tvalidation_0-merror:0.367647\n",
      "[91]\tvalidation_0-merror:0.356618\n",
      "[92]\tvalidation_0-merror:0.360294\n",
      "[93]\tvalidation_0-merror:0.363971\n",
      "[94]\tvalidation_0-merror:0.363971\n",
      "[95]\tvalidation_0-merror:0.360294\n",
      "[96]\tvalidation_0-merror:0.356618\n",
      "[97]\tvalidation_0-merror:0.356618\n",
      "[98]\tvalidation_0-merror:0.360294\n",
      "[99]\tvalidation_0-merror:0.345588\n",
      "[06:01:55] ======== Monitor: Learner ========\n",
      "[06:01:55] EvalOneIter: 0.00569383s, 100 calls @ 56us\n",
      "[06:01:55] GetGradient: 0.0046432s, 100 calls @ 46us\n",
      "[06:01:55] PredictRaw: 0.00283512s, 100 calls @ 28us\n",
      "[06:01:55] UpdateOneIter: 1.94946s, 100 calls @ 19494us\n",
      "[06:01:55] ======== Monitor: GBTree ========\n",
      "[06:01:55] BoostNewTrees: 1.93383s, 100 calls @ 19338us\n",
      "[06:01:55] CommitModel: 0.00765423s, 100 calls @ 76us\n",
      "[06:01:55] ======== Monitor:  ========\n"
     ]
    },
    {
     "output_type": "stream",
     "name": "stderr",
     "text": [
      "\u001B[32m[I 2022-11-22 06:01:55,505]\u001B[0m Trial 3 finished with value: 0.6544117647058824 and parameters: {'booster': 'gbtree', 'lambda': 0.4478803101788083, 'alpha': 0.2978299774523648, 'subsample': 0.2010710960091524, 'colsample_bytree': 0.41923489136034187}. Best is trial 3 with value: 0.6544117647058824.\u001B[0m\n"
     ]
    },
    {
     "output_type": "stream",
     "name": "stdout",
     "text": [
      "[06:01:55] DevicePredictInternal: 0.00794334s, 202 calls @ 39us\n",
      "[06:01:55] PredictFromCache: 0.00346275s, 199 calls @ 17us\n",
      "[06:01:55] ======== Monitor: updater_gpu_hist ========\n",
      "[06:01:55] BinningCompression: 0.000397994s, 1 calls @ 397us\n",
      "[06:01:55] InitData: 0.0103001s, 600 calls @ 17us\n",
      "[06:01:55] InitDataOnce: 0.0101649s, 1 calls @ 10164us\n",
      "[06:01:55] Quantiles: 0.00168687s, 1 calls @ 1686us\n",
      "[06:01:55] Update: 1.90847s, 600 calls @ 3180us\n",
      "[06:01:55] ======== NCCL Statistics========\n",
      "[06:01:55] AllReduce calls: 2627\n",
      "[06:01:55] AllReduce total MB communicated: 38\n",
      "[06:01:55] ======== Monitor: HistCutMatrix ========\n",
      "[06:01:55] ======== Monitor: DeviceShard0 ========\n",
      "[06:01:55] AllReduce: 0.0074916s, 2027 calls @ 3us\n",
      "[06:01:55] BuildHist: 0.0407801s, 1427 calls @ 28us\n",
      "[06:01:55] EvaluateSplits: 0.0626734s, 1427 calls @ 43us\n",
      "[06:01:55] FinalisePosition: 0.00552633s, 600 calls @ 9us\n",
      "[06:01:55] InitRoot: 1.69009s, 600 calls @ 2816us\n",
      "[06:01:55] Reset: 0.0626826s, 600 calls @ 104us\n",
      "[06:01:55] UpdatePosition: 0.0306067s, 1427 calls @ 21us\n",
      "[06:01:55] ======== Monitor: HistCutMatrix ========\n",
      "[0]\tvalidation_0-merror:0.558824\n",
      "[1]\tvalidation_0-merror:0.558824\n",
      "[2]\tvalidation_0-merror:0.555147\n",
      "[3]\tvalidation_0-merror:0.551471\n",
      "[4]\tvalidation_0-merror:0.544118\n",
      "[5]\tvalidation_0-merror:0.536765\n",
      "[6]\tvalidation_0-merror:0.511029\n",
      "[7]\tvalidation_0-merror:0.507353\n",
      "[8]\tvalidation_0-merror:0.492647\n",
      "[9]\tvalidation_0-merror:0.5\n",
      "[10]\tvalidation_0-merror:0.492647\n",
      "[11]\tvalidation_0-merror:0.496324\n",
      "[12]\tvalidation_0-merror:0.496324\n",
      "[13]\tvalidation_0-merror:0.5\n",
      "[14]\tvalidation_0-merror:0.503676\n",
      "[15]\tvalidation_0-merror:0.5\n",
      "[16]\tvalidation_0-merror:0.496324\n",
      "[17]\tvalidation_0-merror:0.488971\n",
      "[18]\tvalidation_0-merror:0.485294\n",
      "[19]\tvalidation_0-merror:0.481618\n",
      "[20]\tvalidation_0-merror:0.488971\n",
      "[21]\tvalidation_0-merror:0.492647\n",
      "[22]\tvalidation_0-merror:0.496324\n",
      "[23]\tvalidation_0-merror:0.496324\n",
      "[24]\tvalidation_0-merror:0.492647\n",
      "[25]\tvalidation_0-merror:0.496324\n",
      "[26]\tvalidation_0-merror:0.492647\n",
      "[27]\tvalidation_0-merror:0.492647\n",
      "[28]\tvalidation_0-merror:0.492647\n",
      "[29]\tvalidation_0-merror:0.488971\n",
      "[30]\tvalidation_0-merror:0.488971\n",
      "[31]\tvalidation_0-merror:0.492647\n",
      "[32]\tvalidation_0-merror:0.492647\n",
      "[33]\tvalidation_0-merror:0.496324\n",
      "[34]\tvalidation_0-merror:0.496324\n",
      "[35]\tvalidation_0-merror:0.5\n",
      "[36]\tvalidation_0-merror:0.5\n",
      "[37]\tvalidation_0-merror:0.5\n",
      "[38]\tvalidation_0-merror:0.496324\n",
      "[39]\tvalidation_0-merror:0.5\n",
      "[40]\tvalidation_0-merror:0.503676\n",
      "[41]\tvalidation_0-merror:0.507353\n",
      "[42]\tvalidation_0-merror:0.503676\n",
      "[43]\tvalidation_0-merror:0.503676\n",
      "[44]\tvalidation_0-merror:0.5\n",
      "[45]\tvalidation_0-merror:0.496324\n",
      "[46]\tvalidation_0-merror:0.496324\n",
      "[47]\tvalidation_0-merror:0.492647\n",
      "[48]\tvalidation_0-merror:0.496324\n",
      "[49]\tvalidation_0-merror:0.496324\n",
      "[50]\tvalidation_0-merror:0.496324\n",
      "[51]\tvalidation_0-merror:0.496324\n",
      "[52]\tvalidation_0-merror:0.496324\n",
      "[53]\tvalidation_0-merror:0.496324\n",
      "[54]\tvalidation_0-merror:0.496324\n",
      "[55]\tvalidation_0-merror:0.496324\n",
      "[56]\tvalidation_0-merror:0.496324\n",
      "[57]\tvalidation_0-merror:0.492647\n",
      "[58]\tvalidation_0-merror:0.488971\n",
      "[59]\tvalidation_0-merror:0.492647\n",
      "[60]\tvalidation_0-merror:0.496324\n",
      "[61]\tvalidation_0-merror:0.496324\n",
      "[62]\tvalidation_0-merror:0.496324\n",
      "[63]\tvalidation_0-merror:0.5\n",
      "[64]\tvalidation_0-merror:0.5\n",
      "[65]\tvalidation_0-merror:0.496324\n",
      "[66]\tvalidation_0-merror:0.496324\n",
      "[67]\tvalidation_0-merror:0.496324\n",
      "[68]\tvalidation_0-merror:0.496324\n",
      "[69]\tvalidation_0-merror:0.496324\n",
      "[70]\tvalidation_0-merror:0.496324\n",
      "[71]\tvalidation_0-merror:0.496324\n",
      "[72]\tvalidation_0-merror:0.496324\n",
      "[73]\tvalidation_0-merror:0.496324\n",
      "[74]\tvalidation_0-merror:0.496324\n",
      "[75]\tvalidation_0-merror:0.496324\n",
      "[76]\tvalidation_0-merror:0.496324\n",
      "[77]\tvalidation_0-merror:0.496324\n",
      "[78]\tvalidation_0-merror:0.496324\n",
      "[79]\tvalidation_0-merror:0.492647\n",
      "[80]\tvalidation_0-merror:0.492647\n",
      "[81]\tvalidation_0-merror:0.488971\n",
      "[82]\tvalidation_0-merror:0.488971\n",
      "[83]\tvalidation_0-merror:0.488971\n",
      "[84]\tvalidation_0-merror:0.485294\n",
      "[85]\tvalidation_0-merror:0.485294\n",
      "[86]\tvalidation_0-merror:0.485294\n",
      "[87]\tvalidation_0-merror:0.488971\n",
      "[88]\tvalidation_0-merror:0.485294\n",
      "[89]\tvalidation_0-merror:0.485294\n",
      "[90]\tvalidation_0-merror:0.485294\n",
      "[91]\tvalidation_0-merror:0.485294\n",
      "[92]\tvalidation_0-merror:0.485294\n",
      "[93]\tvalidation_0-merror:0.485294\n",
      "[94]\tvalidation_0-merror:0.485294\n",
      "[95]\tvalidation_0-merror:0.485294\n",
      "[96]\tvalidation_0-merror:0.485294\n",
      "[97]\tvalidation_0-merror:0.485294\n",
      "[98]\tvalidation_0-merror:0.485294\n",
      "[99]\tvalidation_0-merror:0.488971\n",
      "[06:01:55] ======== Monitor: Learner ========\n"
     ]
    },
    {
     "output_type": "stream",
     "name": "stderr",
     "text": [
      "\u001B[32m[I 2022-11-22 06:01:55,949]\u001B[0m Trial 4 finished with value: 0.5110294117647058 and parameters: {'booster': 'gblinear', 'lambda': 0.9716423399378046, 'alpha': 0.2858168457730356, 'subsample': 0.47592717260901374, 'colsample_bytree': 0.4518406803109598}. Best is trial 3 with value: 0.6544117647058824.\u001B[0m\n"
     ]
    },
    {
     "output_type": "stream",
     "name": "stdout",
     "text": [
      "[06:01:55] EvalOneIter: 0.0106071s, 100 calls @ 106us\n",
      "[06:01:55] GetGradient: 0.00931021s, 100 calls @ 93us\n",
      "[06:01:55] PredictRaw: 0.00703507s, 100 calls @ 70us\n",
      "[06:01:55] UpdateOneIter: 0.244655s, 100 calls @ 2446us\n",
      "[06:01:55] ======== Monitor: GBLinear ========\n",
      "[06:01:55] DoBoost: 0.223481s, 100 calls @ 2234us\n",
      "[06:01:55] PredictBatch: 0.00711182s, 202 calls @ 35us\n",
      "[06:01:55] PredictBatchInternal: 0.161872s, 203 calls @ 797us\n",
      "[06:01:56] INFO: /workspace/src/gbm/gbtree.cc:479: drop 0 trees, weight = 1\n",
      "[0]\tvalidation_0-merror:0.430147\n",
      "[06:01:56] INFO: /workspace/src/gbm/gbtree.cc:479: drop 0 trees, weight = 1\n",
      "[1]\tvalidation_0-merror:0.393382\n",
      "[06:01:56] INFO: /workspace/src/gbm/gbtree.cc:479: drop 0 trees, weight = 1\n",
      "[2]\tvalidation_0-merror:0.386029\n",
      "[06:01:56] INFO: /workspace/src/gbm/gbtree.cc:479: drop 0 trees, weight = 1\n",
      "[3]\tvalidation_0-merror:0.400735\n",
      "[06:01:56] INFO: /workspace/src/gbm/gbtree.cc:479: drop 0 trees, weight = 1\n",
      "[4]\tvalidation_0-merror:0.400735\n",
      "[06:01:56] INFO: /workspace/src/gbm/gbtree.cc:479: drop 0 trees, weight = 1\n",
      "[5]\tvalidation_0-merror:0.382353\n",
      "[06:01:56] INFO: /workspace/src/gbm/gbtree.cc:479: drop 0 trees, weight = 1\n",
      "[6]\tvalidation_0-merror:0.389706\n",
      "[06:01:56] INFO: /workspace/src/gbm/gbtree.cc:479: drop 0 trees, weight = 1\n",
      "[7]\tvalidation_0-merror:0.389706\n",
      "[06:01:56] INFO: /workspace/src/gbm/gbtree.cc:479: drop 0 trees, weight = 1\n",
      "[8]\tvalidation_0-merror:0.400735\n",
      "[06:01:56] INFO: /workspace/src/gbm/gbtree.cc:479: drop 0 trees, weight = 1\n",
      "[9]\tvalidation_0-merror:0.397059\n",
      "[06:01:56] INFO: /workspace/src/gbm/gbtree.cc:479: drop 0 trees, weight = 1\n",
      "[10]\tvalidation_0-merror:0.386029\n",
      "[06:01:56] INFO: /workspace/src/gbm/gbtree.cc:479: drop 0 trees, weight = 1\n",
      "[11]\tvalidation_0-merror:0.378676\n",
      "[06:01:56] INFO: /workspace/src/gbm/gbtree.cc:479: drop 0 trees, weight = 1\n",
      "[12]\tvalidation_0-merror:0.393382\n",
      "[06:01:56] INFO: /workspace/src/gbm/gbtree.cc:479: drop 0 trees, weight = 1\n",
      "[13]\tvalidation_0-merror:0.371324\n",
      "[06:01:56] INFO: /workspace/src/gbm/gbtree.cc:479: drop 0 trees, weight = 1\n",
      "[14]\tvalidation_0-merror:0.371324\n",
      "[06:01:56] INFO: /workspace/src/gbm/gbtree.cc:479: drop 0 trees, weight = 1\n",
      "[15]\tvalidation_0-merror:0.371324\n",
      "[06:01:56] INFO: /workspace/src/gbm/gbtree.cc:479: drop 0 trees, weight = 1\n",
      "[16]\tvalidation_0-merror:0.375\n",
      "[06:01:56] INFO: /workspace/src/gbm/gbtree.cc:479: drop 0 trees, weight = 1\n",
      "[17]\tvalidation_0-merror:0.375\n",
      "[06:01:56] INFO: /workspace/src/gbm/gbtree.cc:479: drop 0 trees, weight = 1\n",
      "[18]\tvalidation_0-merror:0.360294\n",
      "[06:01:56] INFO: /workspace/src/gbm/gbtree.cc:479: drop 0 trees, weight = 1\n",
      "[19]\tvalidation_0-merror:0.363971\n",
      "[06:01:56] INFO: /workspace/src/gbm/gbtree.cc:479: drop 0 trees, weight = 1\n",
      "[20]\tvalidation_0-merror:0.375\n",
      "[06:01:56] INFO: /workspace/src/gbm/gbtree.cc:479: drop 0 trees, weight = 1\n",
      "[21]\tvalidation_0-merror:0.371324\n",
      "[06:01:56] INFO: /workspace/src/gbm/gbtree.cc:479: drop 0 trees, weight = 1\n",
      "[22]\tvalidation_0-merror:0.363971\n",
      "[06:01:56] INFO: /workspace/src/gbm/gbtree.cc:479: drop 0 trees, weight = 1\n",
      "[23]\tvalidation_0-merror:0.356618\n",
      "[06:01:56] INFO: /workspace/src/gbm/gbtree.cc:479: drop 0 trees, weight = 1\n",
      "[24]\tvalidation_0-merror:0.363971\n",
      "[06:01:56] INFO: /workspace/src/gbm/gbtree.cc:479: drop 0 trees, weight = 1\n",
      "[25]\tvalidation_0-merror:0.356618\n",
      "[06:01:56] INFO: /workspace/src/gbm/gbtree.cc:479: drop 0 trees, weight = 1\n",
      "[26]\tvalidation_0-merror:0.367647\n",
      "[06:01:56] INFO: /workspace/src/gbm/gbtree.cc:479: drop 0 trees, weight = 1\n",
      "[27]\tvalidation_0-merror:0.371324\n",
      "[06:01:56] INFO: /workspace/src/gbm/gbtree.cc:479: drop 0 trees, weight = 1\n",
      "[28]\tvalidation_0-merror:0.367647\n",
      "[06:01:56] INFO: /workspace/src/gbm/gbtree.cc:479: drop 0 trees, weight = 1\n",
      "[29]\tvalidation_0-merror:0.356618\n",
      "[06:01:56] INFO: /workspace/src/gbm/gbtree.cc:479: drop 0 trees, weight = 1\n",
      "[30]\tvalidation_0-merror:0.360294\n",
      "[06:01:56] INFO: /workspace/src/gbm/gbtree.cc:479: drop 0 trees, weight = 1\n",
      "[31]\tvalidation_0-merror:0.371324\n",
      "[06:01:56] INFO: /workspace/src/gbm/gbtree.cc:479: drop 0 trees, weight = 1\n",
      "[32]\tvalidation_0-merror:0.375\n",
      "[06:01:56] INFO: /workspace/src/gbm/gbtree.cc:479: drop 0 trees, weight = 1\n",
      "[33]\tvalidation_0-merror:0.371324\n",
      "[06:01:56] INFO: /workspace/src/gbm/gbtree.cc:479: drop 0 trees, weight = 1\n",
      "[34]\tvalidation_0-merror:0.378676\n",
      "[06:01:56] INFO: /workspace/src/gbm/gbtree.cc:479: drop 0 trees, weight = 1\n",
      "[35]\tvalidation_0-merror:0.367647\n",
      "[06:01:56] INFO: /workspace/src/gbm/gbtree.cc:479: drop 0 trees, weight = 1\n",
      "[36]\tvalidation_0-merror:0.378676\n",
      "[06:01:56] INFO: /workspace/src/gbm/gbtree.cc:479: drop 0 trees, weight = 1\n",
      "[37]\tvalidation_0-merror:0.378676\n",
      "[06:01:57] INFO: /workspace/src/gbm/gbtree.cc:479: drop 0 trees, weight = 1\n",
      "[38]\tvalidation_0-merror:0.378676\n",
      "[06:01:57] INFO: /workspace/src/gbm/gbtree.cc:479: drop 0 trees, weight = 1\n",
      "[39]\tvalidation_0-merror:0.375\n",
      "[06:01:57] INFO: /workspace/src/gbm/gbtree.cc:479: drop 0 trees, weight = 1\n",
      "[40]\tvalidation_0-merror:0.378676\n",
      "[06:01:57] INFO: /workspace/src/gbm/gbtree.cc:479: drop 0 trees, weight = 1\n",
      "[41]\tvalidation_0-merror:0.378676\n",
      "[06:01:57] INFO: /workspace/src/gbm/gbtree.cc:479: drop 0 trees, weight = 1\n",
      "[42]\tvalidation_0-merror:0.375\n",
      "[06:01:57] INFO: /workspace/src/gbm/gbtree.cc:479: drop 0 trees, weight = 1\n",
      "[43]\tvalidation_0-merror:0.367647\n",
      "[06:01:57] INFO: /workspace/src/gbm/gbtree.cc:479: drop 0 trees, weight = 1\n",
      "[44]\tvalidation_0-merror:0.367647\n",
      "[06:01:57] INFO: /workspace/src/gbm/gbtree.cc:479: drop 0 trees, weight = 1\n",
      "[45]\tvalidation_0-merror:0.360294\n",
      "[06:01:57] INFO: /workspace/src/gbm/gbtree.cc:479: drop 0 trees, weight = 1\n",
      "[46]\tvalidation_0-merror:0.371324\n",
      "[06:01:57] INFO: /workspace/src/gbm/gbtree.cc:479: drop 0 trees, weight = 1\n",
      "[47]\tvalidation_0-merror:0.375\n",
      "[06:01:57] INFO: /workspace/src/gbm/gbtree.cc:479: drop 0 trees, weight = 1\n",
      "[48]\tvalidation_0-merror:0.375\n",
      "[06:01:57] INFO: /workspace/src/gbm/gbtree.cc:479: drop 0 trees, weight = 1\n",
      "[49]\tvalidation_0-merror:0.371324\n",
      "[06:01:57] INFO: /workspace/src/gbm/gbtree.cc:479: drop 0 trees, weight = 1\n",
      "[50]\tvalidation_0-merror:0.363971\n",
      "[06:01:57] INFO: /workspace/src/gbm/gbtree.cc:479: drop 0 trees, weight = 1\n",
      "[51]\tvalidation_0-merror:0.360294\n",
      "[06:01:57] INFO: /workspace/src/gbm/gbtree.cc:479: drop 0 trees, weight = 1\n",
      "[52]\tvalidation_0-merror:0.356618\n",
      "[06:01:57] INFO: /workspace/src/gbm/gbtree.cc:479: drop 0 trees, weight = 1\n",
      "[53]\tvalidation_0-merror:0.360294\n",
      "[06:01:57] INFO: /workspace/src/gbm/gbtree.cc:479: drop 0 trees, weight = 1\n",
      "[54]\tvalidation_0-merror:0.360294\n",
      "[06:01:57] INFO: /workspace/src/gbm/gbtree.cc:479: drop 0 trees, weight = 1\n",
      "[55]\tvalidation_0-merror:0.356618\n",
      "[06:01:57] INFO: /workspace/src/gbm/gbtree.cc:479: drop 0 trees, weight = 1\n",
      "[56]\tvalidation_0-merror:0.356618\n",
      "[06:01:57] INFO: /workspace/src/gbm/gbtree.cc:479: drop 0 trees, weight = 1\n",
      "[57]\tvalidation_0-merror:0.363971\n",
      "[06:01:57] INFO: /workspace/src/gbm/gbtree.cc:479: drop 0 trees, weight = 1\n",
      "[58]\tvalidation_0-merror:0.367647\n",
      "[06:01:57] INFO: /workspace/src/gbm/gbtree.cc:479: drop 0 trees, weight = 1\n",
      "[59]\tvalidation_0-merror:0.371324\n",
      "[06:01:57] INFO: /workspace/src/gbm/gbtree.cc:479: drop 0 trees, weight = 1\n",
      "[60]\tvalidation_0-merror:0.371324\n",
      "[06:01:57] INFO: /workspace/src/gbm/gbtree.cc:479: drop 0 trees, weight = 1\n",
      "[61]\tvalidation_0-merror:0.375\n",
      "[06:01:57] INFO: /workspace/src/gbm/gbtree.cc:479: drop 0 trees, weight = 1\n",
      "[62]\tvalidation_0-merror:0.378676\n",
      "[06:01:57] INFO: /workspace/src/gbm/gbtree.cc:479: drop 0 trees, weight = 1\n",
      "[63]\tvalidation_0-merror:0.389706\n",
      "[06:01:57] INFO: /workspace/src/gbm/gbtree.cc:479: drop 0 trees, weight = 1\n",
      "[64]\tvalidation_0-merror:0.378676\n",
      "[06:01:57] INFO: /workspace/src/gbm/gbtree.cc:479: drop 0 trees, weight = 1\n",
      "[65]\tvalidation_0-merror:0.386029\n",
      "[06:01:58] INFO: /workspace/src/gbm/gbtree.cc:479: drop 0 trees, weight = 1\n",
      "[66]\tvalidation_0-merror:0.375\n",
      "[06:01:58] INFO: /workspace/src/gbm/gbtree.cc:479: drop 0 trees, weight = 1\n",
      "[67]\tvalidation_0-merror:0.382353\n",
      "[06:01:58] INFO: /workspace/src/gbm/gbtree.cc:479: drop 0 trees, weight = 1\n",
      "[68]\tvalidation_0-merror:0.371324\n",
      "[06:01:58] INFO: /workspace/src/gbm/gbtree.cc:479: drop 0 trees, weight = 1\n",
      "[69]\tvalidation_0-merror:0.367647\n",
      "[06:01:58] INFO: /workspace/src/gbm/gbtree.cc:479: drop 0 trees, weight = 1\n",
      "[70]\tvalidation_0-merror:0.375\n",
      "[06:01:58] INFO: /workspace/src/gbm/gbtree.cc:479: drop 0 trees, weight = 1\n",
      "[71]\tvalidation_0-merror:0.382353\n",
      "[06:01:58] INFO: /workspace/src/gbm/gbtree.cc:479: drop 0 trees, weight = 1\n",
      "[72]\tvalidation_0-merror:0.375\n",
      "[06:01:58] INFO: /workspace/src/gbm/gbtree.cc:479: drop 0 trees, weight = 1\n",
      "[73]\tvalidation_0-merror:0.389706\n",
      "[06:01:58] INFO: /workspace/src/gbm/gbtree.cc:479: drop 0 trees, weight = 1\n",
      "[74]\tvalidation_0-merror:0.389706\n",
      "[06:01:58] INFO: /workspace/src/gbm/gbtree.cc:479: drop 0 trees, weight = 1\n",
      "[75]\tvalidation_0-merror:0.386029\n",
      "[06:01:58] INFO: /workspace/src/gbm/gbtree.cc:479: drop 0 trees, weight = 1\n",
      "[76]\tvalidation_0-merror:0.389706\n",
      "[06:01:58] INFO: /workspace/src/gbm/gbtree.cc:479: drop 0 trees, weight = 1\n",
      "[77]\tvalidation_0-merror:0.389706\n",
      "[06:01:58] INFO: /workspace/src/gbm/gbtree.cc:479: drop 0 trees, weight = 1\n",
      "[78]\tvalidation_0-merror:0.386029\n",
      "[06:01:58] INFO: /workspace/src/gbm/gbtree.cc:479: drop 0 trees, weight = 1\n",
      "[79]\tvalidation_0-merror:0.386029\n",
      "[06:01:58] INFO: /workspace/src/gbm/gbtree.cc:479: drop 0 trees, weight = 1\n",
      "[80]\tvalidation_0-merror:0.386029\n",
      "[06:01:58] INFO: /workspace/src/gbm/gbtree.cc:479: drop 0 trees, weight = 1\n",
      "[81]\tvalidation_0-merror:0.382353\n",
      "[06:01:58] INFO: /workspace/src/gbm/gbtree.cc:479: drop 0 trees, weight = 1\n",
      "[82]\tvalidation_0-merror:0.382353\n",
      "[06:01:58] INFO: /workspace/src/gbm/gbtree.cc:479: drop 0 trees, weight = 1\n",
      "[83]\tvalidation_0-merror:0.386029\n",
      "[06:01:58] INFO: /workspace/src/gbm/gbtree.cc:479: drop 0 trees, weight = 1\n",
      "[84]\tvalidation_0-merror:0.378676\n",
      "[06:01:58] INFO: /workspace/src/gbm/gbtree.cc:479: drop 0 trees, weight = 1\n",
      "[85]\tvalidation_0-merror:0.393382\n",
      "[06:01:58] INFO: /workspace/src/gbm/gbtree.cc:479: drop 0 trees, weight = 1\n",
      "[86]\tvalidation_0-merror:0.386029\n",
      "[06:01:58] INFO: /workspace/src/gbm/gbtree.cc:479: drop 0 trees, weight = 1\n",
      "[87]\tvalidation_0-merror:0.397059\n",
      "[06:01:58] INFO: /workspace/src/gbm/gbtree.cc:479: drop 0 trees, weight = 1\n",
      "[88]\tvalidation_0-merror:0.397059\n",
      "[06:01:59] INFO: /workspace/src/gbm/gbtree.cc:479: drop 0 trees, weight = 1\n",
      "[89]\tvalidation_0-merror:0.386029\n",
      "[06:01:59] INFO: /workspace/src/gbm/gbtree.cc:479: drop 0 trees, weight = 1\n",
      "[90]\tvalidation_0-merror:0.386029\n",
      "[06:01:59] INFO: /workspace/src/gbm/gbtree.cc:479: drop 0 trees, weight = 1\n",
      "[91]\tvalidation_0-merror:0.382353\n",
      "[06:01:59] INFO: /workspace/src/gbm/gbtree.cc:479: drop 0 trees, weight = 1\n",
      "[92]\tvalidation_0-merror:0.389706\n",
      "[06:01:59] INFO: /workspace/src/gbm/gbtree.cc:479: drop 0 trees, weight = 1\n",
      "[93]\tvalidation_0-merror:0.393382\n",
      "[06:01:59] INFO: /workspace/src/gbm/gbtree.cc:479: drop 0 trees, weight = 1\n",
      "[94]\tvalidation_0-merror:0.389706\n",
      "[06:01:59] INFO: /workspace/src/gbm/gbtree.cc:479: drop 0 trees, weight = 1\n",
      "[95]\tvalidation_0-merror:0.389706\n",
      "[06:01:59] INFO: /workspace/src/gbm/gbtree.cc:479: drop 0 trees, weight = 1\n",
      "[96]\tvalidation_0-merror:0.375\n",
      "[06:01:59] INFO: /workspace/src/gbm/gbtree.cc:479: drop 0 trees, weight = 1\n",
      "[97]\tvalidation_0-merror:0.389706\n",
      "[06:01:59] INFO: /workspace/src/gbm/gbtree.cc:479: drop 0 trees, weight = 1\n",
      "[98]\tvalidation_0-merror:0.378676\n",
      "[06:01:59] INFO: /workspace/src/gbm/gbtree.cc:479: drop 0 trees, weight = 1\n",
      "[99]\tvalidation_0-merror:0.371324\n"
     ]
    },
    {
     "output_type": "stream",
     "name": "stderr",
     "text": [
      "\u001B[32m[I 2022-11-22 06:01:59,572]\u001B[0m Trial 5 finished with value: 0.6286764705882353 and parameters: {'booster': 'dart', 'lambda': 0.20344661773852638, 'alpha': 0.5907741002118502, 'subsample': 0.28147601514313325, 'colsample_bytree': 0.4761568944368687}. Best is trial 3 with value: 0.6544117647058824.\u001B[0m\n"
     ]
    },
    {
     "output_type": "stream",
     "name": "stdout",
     "text": [
      "[06:01:59] ======== Monitor: Learner ========\n",
      "[06:01:59] EvalOneIter: 0.297143s, 100 calls @ 2971us\n",
      "[06:01:59] GetGradient: 0.00697381s, 100 calls @ 69us\n",
      "[06:01:59] PredictRaw: 1.15106s, 100 calls @ 11510us\n",
      "[06:01:59] UpdateOneIter: 3.10281s, 100 calls @ 31028us\n",
      "[06:01:59] ======== Monitor: GBTree ========\n",
      "[06:01:59] BoostNewTrees: 1.92977s, 100 calls @ 19297us\n",
      "[06:01:59] CommitModel: 0.0145921s, 100 calls @ 145us\n",
      "[06:01:59] ======== Monitor:  ========\n",
      "[06:01:59] ======== Monitor: updater_gpu_hist ========\n",
      "[06:01:59] BinningCompression: 0.000391925s, 1 calls @ 391us\n",
      "[06:01:59] InitData: 0.0103414s, 600 calls @ 17us\n",
      "[06:01:59] InitDataOnce: 0.0102281s, 1 calls @ 10228us\n",
      "[06:01:59] Quantiles: 0.00172393s, 1 calls @ 1723us\n",
      "[06:01:59] Update: 1.90617s, 600 calls @ 3176us\n",
      "[06:01:59] ======== NCCL Statistics========\n",
      "[06:01:59] AllReduce calls: 2747\n",
      "[06:01:59] AllReduce total MB communicated: 40\n",
      "[06:01:59] ======== Monitor: HistCutMatrix ========\n",
      "[06:01:59] ======== Monitor: DeviceShard0 ========\n",
      "[06:01:59] AllReduce: 0.00741069s, 2147 calls @ 3us\n",
      "[06:01:59] BuildHist: 0.042509s, 1547 calls @ 27us\n",
      "[06:01:59] EvaluateSplits: 0.0675972s, 1547 calls @ 43us\n",
      "[06:01:59] FinalisePosition: 0.00539829s, 600 calls @ 8us\n",
      "[06:01:59] InitRoot: 1.68548s, 600 calls @ 2809us\n",
      "[06:01:59] Reset: 0.0566829s, 600 calls @ 94us\n",
      "[06:01:59] UpdatePosition: 0.0326426s, 1547 calls @ 21us\n",
      "[06:01:59] ======== Monitor: HistCutMatrix ========\n",
      "[0]\tvalidation_0-merror:0.558824\n",
      "[1]\tvalidation_0-merror:0.558824\n",
      "[2]\tvalidation_0-merror:0.555147\n",
      "[3]\tvalidation_0-merror:0.551471\n",
      "[4]\tvalidation_0-merror:0.544118\n",
      "[5]\tvalidation_0-merror:0.536765\n",
      "[6]\tvalidation_0-merror:0.511029\n",
      "[7]\tvalidation_0-merror:0.507353\n",
      "[8]\tvalidation_0-merror:0.492647\n",
      "[9]\tvalidation_0-merror:0.5\n",
      "[10]\tvalidation_0-merror:0.492647\n",
      "[11]\tvalidation_0-merror:0.496324\n",
      "[12]\tvalidation_0-merror:0.496324\n",
      "[13]\tvalidation_0-merror:0.5\n",
      "[14]\tvalidation_0-merror:0.503676\n",
      "[15]\tvalidation_0-merror:0.5\n",
      "[16]\tvalidation_0-merror:0.496324\n",
      "[17]\tvalidation_0-merror:0.488971\n",
      "[18]\tvalidation_0-merror:0.485294\n",
      "[19]\tvalidation_0-merror:0.481618\n",
      "[20]\tvalidation_0-merror:0.488971\n",
      "[21]\tvalidation_0-merror:0.492647\n",
      "[22]\tvalidation_0-merror:0.496324\n",
      "[23]\tvalidation_0-merror:0.496324\n",
      "[24]\tvalidation_0-merror:0.492647\n",
      "[25]\tvalidation_0-merror:0.496324\n",
      "[26]\tvalidation_0-merror:0.492647\n",
      "[27]\tvalidation_0-merror:0.492647\n",
      "[28]\tvalidation_0-merror:0.492647\n",
      "[29]\tvalidation_0-merror:0.488971\n",
      "[30]\tvalidation_0-merror:0.488971\n",
      "[31]\tvalidation_0-merror:0.492647\n",
      "[32]\tvalidation_0-merror:0.492647\n",
      "[33]\tvalidation_0-merror:0.496324\n",
      "[34]\tvalidation_0-merror:0.496324\n",
      "[35]\tvalidation_0-merror:0.5\n",
      "[36]\tvalidation_0-merror:0.5\n",
      "[37]\tvalidation_0-merror:0.5\n",
      "[38]\tvalidation_0-merror:0.496324\n",
      "[39]\tvalidation_0-merror:0.5\n",
      "[40]\tvalidation_0-merror:0.503676\n",
      "[41]\tvalidation_0-merror:0.507353\n",
      "[42]\tvalidation_0-merror:0.503676\n",
      "[43]\tvalidation_0-merror:0.503676\n",
      "[44]\tvalidation_0-merror:0.5\n",
      "[45]\tvalidation_0-merror:0.496324\n",
      "[46]\tvalidation_0-merror:0.496324\n",
      "[47]\tvalidation_0-merror:0.492647\n",
      "[48]\tvalidation_0-merror:0.496324\n",
      "[49]\tvalidation_0-merror:0.496324\n",
      "[50]\tvalidation_0-merror:0.496324\n",
      "[51]\tvalidation_0-merror:0.496324\n",
      "[52]\tvalidation_0-merror:0.496324\n",
      "[53]\tvalidation_0-merror:0.496324\n",
      "[54]\tvalidation_0-merror:0.496324\n",
      "[55]\tvalidation_0-merror:0.496324\n",
      "[56]\tvalidation_0-merror:0.496324\n",
      "[57]\tvalidation_0-merror:0.492647\n",
      "[58]\tvalidation_0-merror:0.488971\n",
      "[59]\tvalidation_0-merror:0.492647\n",
      "[60]\tvalidation_0-merror:0.496324\n",
      "[61]\tvalidation_0-merror:0.496324\n",
      "[62]\tvalidation_0-merror:0.496324\n",
      "[63]\tvalidation_0-merror:0.5\n",
      "[64]\tvalidation_0-merror:0.5\n",
      "[65]\tvalidation_0-merror:0.496324\n",
      "[66]\tvalidation_0-merror:0.496324\n",
      "[67]\tvalidation_0-merror:0.496324\n",
      "[68]\tvalidation_0-merror:0.496324\n",
      "[69]\tvalidation_0-merror:0.496324\n",
      "[70]\tvalidation_0-merror:0.496324\n",
      "[71]\tvalidation_0-merror:0.496324\n",
      "[72]\tvalidation_0-merror:0.496324\n",
      "[73]\tvalidation_0-merror:0.496324\n",
      "[74]\tvalidation_0-merror:0.496324\n",
      "[75]\tvalidation_0-merror:0.496324\n",
      "[76]\tvalidation_0-merror:0.496324\n",
      "[77]\tvalidation_0-merror:0.496324\n",
      "[78]\tvalidation_0-merror:0.496324\n",
      "[79]\tvalidation_0-merror:0.492647\n",
      "[80]\tvalidation_0-merror:0.492647\n",
      "[81]\tvalidation_0-merror:0.488971\n",
      "[82]\tvalidation_0-merror:0.488971\n",
      "[83]\tvalidation_0-merror:0.488971\n",
      "[84]\tvalidation_0-merror:0.485294\n",
      "[85]\tvalidation_0-merror:0.485294\n",
      "[86]\tvalidation_0-merror:0.485294\n",
      "[87]\tvalidation_0-merror:0.488971\n",
      "[88]\tvalidation_0-merror:0.485294\n",
      "[89]\tvalidation_0-merror:0.485294\n",
      "[90]\tvalidation_0-merror:0.485294\n",
      "[91]\tvalidation_0-merror:0.485294\n",
      "[92]\tvalidation_0-merror:0.485294\n",
      "[93]\tvalidation_0-merror:0.485294\n",
      "[94]\tvalidation_0-merror:0.485294\n",
      "[95]\tvalidation_0-merror:0.485294\n",
      "[96]\tvalidation_0-merror:0.485294\n",
      "[97]\tvalidation_0-merror:0.485294\n",
      "[98]\tvalidation_0-merror:0.485294\n",
      "[99]\tvalidation_0-merror:0.488971\n",
      "[06:01:59] ======== Monitor: Learner ========\n",
      "[06:01:59] EvalOneIter: 0.0113256s, 100 calls @ 113us\n",
      "[06:01:59] GetGradient: 0.00966926s, 100 calls @ 96us\n",
      "[06:01:59] PredictRaw: 0.00156443s, 100 calls @ 15us\n",
      "[06:01:59] UpdateOneIter: 0.195985s, 100 calls @ 1959us"
     ]
    },
    {
     "output_type": "stream",
     "name": "stderr",
     "text": [
      "\u001B[32m[I 2022-11-22 06:02:00,000]\u001B[0m Trial 6 finished with value: 0.5110294117647058 and parameters: {'booster': 'gblinear', 'lambda': 0.5436839462780053, 'alpha': 0.0979524167504841, 'subsample': 0.17875381558330916, 'colsample_bytree': 0.4187422152040121}. Best is trial 3 with value: 0.6544117647058824.\u001B[0m\n"
     ]
    },
    {
     "output_type": "stream",
     "name": "stdout",
     "text": [
      "\n",
      "[06:01:59] ======== Monitor: GBLinear ========\n",
      "[06:01:59] DoBoost: 0.184452s, 100 calls @ 1844us\n",
      "[06:01:59] PredictBatch: 0.00539962s, 202 calls @ 26us\n",
      "[06:01:59] PredictBatchInternal: 0.126213s, 203 calls @ 621us\n",
      "[06:02:00] INFO: /workspace/src/gbm/gbtree.cc:479: drop 0 trees, weight = 1\n",
      "[0]\tvalidation_0-merror:0.606618\n",
      "[06:02:00] INFO: /workspace/src/gbm/gbtree.cc:479: drop 0 trees, weight = 1\n",
      "[1]\tvalidation_0-merror:0.558824\n",
      "[06:02:00] INFO: /workspace/src/gbm/gbtree.cc:479: drop 0 trees, weight = 1\n",
      "[2]\tvalidation_0-merror:0.536765\n",
      "[06:02:00] INFO: /workspace/src/gbm/gbtree.cc:479: drop 0 trees, weight = 1\n",
      "[3]\tvalidation_0-merror:0.529412\n",
      "[06:02:00] INFO: /workspace/src/gbm/gbtree.cc:479: drop 0 trees, weight = 1\n",
      "[4]\tvalidation_0-merror:0.533088\n",
      "[06:02:00] INFO: /workspace/src/gbm/gbtree.cc:479: drop 0 trees, weight = 1\n",
      "[5]\tvalidation_0-merror:0.525735\n",
      "[06:02:00] INFO: /workspace/src/gbm/gbtree.cc:479: drop 0 trees, weight = 1\n",
      "[6]\tvalidation_0-merror:0.470588\n",
      "[06:02:00] INFO: /workspace/src/gbm/gbtree.cc:479: drop 0 trees, weight = 1\n",
      "[7]\tvalidation_0-merror:0.485294\n",
      "[06:02:00] INFO: /workspace/src/gbm/gbtree.cc:479: drop 0 trees, weight = 1\n",
      "[8]\tvalidation_0-merror:0.481618\n",
      "[06:02:00] INFO: /workspace/src/gbm/gbtree.cc:479: drop 0 trees, weight = 1\n",
      "[9]\tvalidation_0-merror:0.496324\n",
      "[06:02:00] INFO: /workspace/src/gbm/gbtree.cc:479: drop 0 trees, weight = 1\n",
      "[10]\tvalidation_0-merror:0.485294\n",
      "[06:02:00] INFO: /workspace/src/gbm/gbtree.cc:479: drop 0 trees, weight = 1\n",
      "[11]\tvalidation_0-merror:0.511029\n",
      "[06:02:00] INFO: /workspace/src/gbm/gbtree.cc:479: drop 0 trees, weight = 1\n",
      "[12]\tvalidation_0-merror:0.496324\n",
      "[06:02:00] INFO: /workspace/src/gbm/gbtree.cc:479: drop 0 trees, weight = 1\n",
      "[13]\tvalidation_0-merror:0.477941\n",
      "[06:02:00] INFO: /workspace/src/gbm/gbtree.cc:479: drop 0 trees, weight = 1\n",
      "[14]\tvalidation_0-merror:0.463235\n",
      "[06:02:00] INFO: /workspace/src/gbm/gbtree.cc:479: drop 0 trees, weight = 1\n",
      "[15]\tvalidation_0-merror:0.474265\n",
      "[06:02:00] INFO: /workspace/src/gbm/gbtree.cc:479: drop 0 trees, weight = 1\n",
      "[16]\tvalidation_0-merror:0.492647\n",
      "[06:02:00] INFO: /workspace/src/gbm/gbtree.cc:479: drop 0 trees, weight = 1\n",
      "[17]\tvalidation_0-merror:0.492647\n",
      "[06:02:00] INFO: /workspace/src/gbm/gbtree.cc:479: drop 0 trees, weight = 1\n",
      "[18]\tvalidation_0-merror:0.488971\n",
      "[06:02:00] INFO: /workspace/src/gbm/gbtree.cc:479: drop 0 trees, weight = 1\n",
      "[19]\tvalidation_0-merror:0.474265\n",
      "[06:02:00] INFO: /workspace/src/gbm/gbtree.cc:479: drop 0 trees, weight = 1\n",
      "[20]\tvalidation_0-merror:0.466912\n",
      "[06:02:00] INFO: /workspace/src/gbm/gbtree.cc:479: drop 0 trees, weight = 1\n",
      "[21]\tvalidation_0-merror:0.477941\n",
      "[06:02:00] INFO: /workspace/src/gbm/gbtree.cc:479: drop 0 trees, weight = 1\n",
      "[22]\tvalidation_0-merror:0.485294\n",
      "[06:02:00] INFO: /workspace/src/gbm/gbtree.cc:479: drop 0 trees, weight = 1\n",
      "[23]\tvalidation_0-merror:0.470588\n",
      "[06:02:00] INFO: /workspace/src/gbm/gbtree.cc:479: drop 0 trees, weight = 1\n",
      "[24]\tvalidation_0-merror:0.459559\n",
      "[06:02:00] INFO: /workspace/src/gbm/gbtree.cc:479: drop 0 trees, weight = 1\n",
      "[25]\tvalidation_0-merror:0.448529\n",
      "[06:02:00] INFO: /workspace/src/gbm/gbtree.cc:479: drop 0 trees, weight = 1\n",
      "[26]\tvalidation_0-merror:0.441176\n",
      "[06:02:00] INFO: /workspace/src/gbm/gbtree.cc:479: drop 0 trees, weight = 1\n",
      "[27]\tvalidation_0-merror:0.430147\n",
      "[06:02:00] INFO: /workspace/src/gbm/gbtree.cc:479: drop 0 trees, weight = 1\n",
      "[28]\tvalidation_0-merror:0.419118\n",
      "[06:02:00] INFO: /workspace/src/gbm/gbtree.cc:479: drop 0 trees, weight = 1\n",
      "[29]\tvalidation_0-merror:0.419118\n",
      "[06:02:00] INFO: /workspace/src/gbm/gbtree.cc:479: drop 0 trees, weight = 1\n",
      "[30]\tvalidation_0-merror:0.415441\n",
      "[06:02:00] INFO: /workspace/src/gbm/gbtree.cc:479: drop 0 trees, weight = 1\n",
      "[31]\tvalidation_0-merror:0.411765\n",
      "[06:02:00] INFO: /workspace/src/gbm/gbtree.cc:479: drop 0 trees, weight = 1\n",
      "[32]\tvalidation_0-merror:0.422794\n",
      "[06:02:00] INFO: /workspace/src/gbm/gbtree.cc:479: drop 0 trees, weight = 1\n",
      "[33]\tvalidation_0-merror:0.430147\n",
      "[06:02:00] INFO: /workspace/src/gbm/gbtree.cc:479: drop 0 trees, weight = 1\n",
      "[34]\tvalidation_0-merror:0.430147\n",
      "[06:02:00] INFO: /workspace/src/gbm/gbtree.cc:479: drop 0 trees, weight = 1\n",
      "[35]\tvalidation_0-merror:0.422794\n",
      "[06:02:00] INFO: /workspace/src/gbm/gbtree.cc:479: drop 0 trees, weight = 1\n",
      "[36]\tvalidation_0-merror:0.419118\n",
      "[06:02:01] INFO: /workspace/src/gbm/gbtree.cc:479: drop 0 trees, weight = 1\n",
      "[37]\tvalidation_0-merror:0.430147\n",
      "[06:02:01] INFO: /workspace/src/gbm/gbtree.cc:479: drop 0 trees, weight = 1\n",
      "[38]\tvalidation_0-merror:0.426471\n",
      "[06:02:01] INFO: /workspace/src/gbm/gbtree.cc:479: drop 0 trees, weight = 1\n",
      "[39]\tvalidation_0-merror:0.426471\n",
      "[06:02:01] INFO: /workspace/src/gbm/gbtree.cc:479: drop 0 trees, weight = 1\n",
      "[40]\tvalidation_0-merror:0.411765\n",
      "[06:02:01] INFO: /workspace/src/gbm/gbtree.cc:479: drop 0 trees, weight = 1\n",
      "[41]\tvalidation_0-merror:0.419118\n",
      "[06:02:01] INFO: /workspace/src/gbm/gbtree.cc:479: drop 0 trees, weight = 1\n",
      "[42]\tvalidation_0-merror:0.426471\n",
      "[06:02:01] INFO: /workspace/src/gbm/gbtree.cc:479: drop 0 trees, weight = 1\n",
      "[43]\tvalidation_0-merror:0.422794\n",
      "[06:02:01] INFO: /workspace/src/gbm/gbtree.cc:479: drop 0 trees, weight = 1\n",
      "[44]\tvalidation_0-merror:0.430147\n",
      "[06:02:01] INFO: /workspace/src/gbm/gbtree.cc:479: drop 0 trees, weight = 1\n",
      "[45]\tvalidation_0-merror:0.426471\n",
      "[06:02:01] INFO: /workspace/src/gbm/gbtree.cc:479: drop 0 trees, weight = 1\n",
      "[46]\tvalidation_0-merror:0.4375\n",
      "[06:02:01] INFO: /workspace/src/gbm/gbtree.cc:479: drop 0 trees, weight = 1\n",
      "[47]\tvalidation_0-merror:0.433824\n",
      "[06:02:01] INFO: /workspace/src/gbm/gbtree.cc:479: drop 0 trees, weight = 1\n",
      "[48]\tvalidation_0-merror:0.430147\n",
      "[06:02:01] INFO: /workspace/src/gbm/gbtree.cc:479: drop 0 trees, weight = 1\n",
      "[49]\tvalidation_0-merror:0.419118\n",
      "[06:02:01] INFO: /workspace/src/gbm/gbtree.cc:479: drop 0 trees, weight = 1\n",
      "[50]\tvalidation_0-merror:0.419118\n",
      "[06:02:01] INFO: /workspace/src/gbm/gbtree.cc:479: drop 0 trees, weight = 1\n",
      "[51]\tvalidation_0-merror:0.430147\n",
      "[06:02:01] INFO: /workspace/src/gbm/gbtree.cc:479: drop 0 trees, weight = 1\n",
      "[52]\tvalidation_0-merror:0.433824\n",
      "[06:02:01] INFO: /workspace/src/gbm/gbtree.cc:479: drop 0 trees, weight = 1\n",
      "[53]\tvalidation_0-merror:0.430147\n",
      "[06:02:01] INFO: /workspace/src/gbm/gbtree.cc:479: drop 0 trees, weight = 1\n",
      "[54]\tvalidation_0-merror:0.426471\n",
      "[06:02:01] INFO: /workspace/src/gbm/gbtree.cc:479: drop 0 trees, weight = 1\n",
      "[55]\tvalidation_0-merror:0.430147\n",
      "[06:02:01] INFO: /workspace/src/gbm/gbtree.cc:479: drop 0 trees, weight = 1\n",
      "[56]\tvalidation_0-merror:0.426471\n",
      "[06:02:01] INFO: /workspace/src/gbm/gbtree.cc:479: drop 0 trees, weight = 1\n",
      "[57]\tvalidation_0-merror:0.433824\n",
      "[06:02:01] INFO: /workspace/src/gbm/gbtree.cc:479: drop 0 trees, weight = 1\n",
      "[58]\tvalidation_0-merror:0.426471\n",
      "[06:02:01] INFO: /workspace/src/gbm/gbtree.cc:479: drop 0 trees, weight = 1\n",
      "[59]\tvalidation_0-merror:0.433824\n",
      "[06:02:01] INFO: /workspace/src/gbm/gbtree.cc:479: drop 0 trees, weight = 1\n",
      "[60]\tvalidation_0-merror:0.430147\n",
      "[06:02:01] INFO: /workspace/src/gbm/gbtree.cc:479: drop 0 trees, weight = 1\n",
      "[61]\tvalidation_0-merror:0.426471\n",
      "[06:02:01] INFO: /workspace/src/gbm/gbtree.cc:479: drop 0 trees, weight = 1\n",
      "[62]\tvalidation_0-merror:0.426471\n",
      "[06:02:01] INFO: /workspace/src/gbm/gbtree.cc:479: drop 0 trees, weight = 1\n",
      "[63]\tvalidation_0-merror:0.430147\n",
      "[06:02:01] INFO: /workspace/src/gbm/gbtree.cc:479: drop 0 trees, weight = 1\n",
      "[64]\tvalidation_0-merror:0.433824\n",
      "[06:02:01] INFO: /workspace/src/gbm/gbtree.cc:479: drop 0 trees, weight = 1\n",
      "[65]\tvalidation_0-merror:0.441176\n",
      "[06:02:02] INFO: /workspace/src/gbm/gbtree.cc:479: drop 0 trees, weight = 1\n",
      "[66]\tvalidation_0-merror:0.433824\n",
      "[06:02:02] INFO: /workspace/src/gbm/gbtree.cc:479: drop 0 trees, weight = 1\n",
      "[67]\tvalidation_0-merror:0.433824\n",
      "[06:02:02] INFO: /workspace/src/gbm/gbtree.cc:479: drop 0 trees, weight = 1\n",
      "[68]\tvalidation_0-merror:0.433824\n",
      "[06:02:02] INFO: /workspace/src/gbm/gbtree.cc:479: drop 0 trees, weight = 1\n",
      "[69]\tvalidation_0-merror:0.422794\n",
      "[06:02:02] INFO: /workspace/src/gbm/gbtree.cc:479: drop 0 trees, weight = 1\n",
      "[70]\tvalidation_0-merror:0.422794\n",
      "[06:02:02] INFO: /workspace/src/gbm/gbtree.cc:479: drop 0 trees, weight = 1\n",
      "[71]\tvalidation_0-merror:0.419118\n",
      "[06:02:02] INFO: /workspace/src/gbm/gbtree.cc:479: drop 0 trees, weight = 1\n",
      "[72]\tvalidation_0-merror:0.415441\n",
      "[06:02:02] INFO: /workspace/src/gbm/gbtree.cc:479: drop 0 trees, weight = 1\n",
      "[73]\tvalidation_0-merror:0.419118\n",
      "[06:02:02] INFO: /workspace/src/gbm/gbtree.cc:479: drop 0 trees, weight = 1\n",
      "[74]\tvalidation_0-merror:0.430147\n",
      "[06:02:02] INFO: /workspace/src/gbm/gbtree.cc:479: drop 0 trees, weight = 1\n",
      "[75]\tvalidation_0-merror:0.422794\n",
      "[06:02:02] INFO: /workspace/src/gbm/gbtree.cc:479: drop 0 trees, weight = 1\n",
      "[76]\tvalidation_0-merror:0.415441\n",
      "[06:02:02] INFO: /workspace/src/gbm/gbtree.cc:479: drop 0 trees, weight = 1\n",
      "[77]\tvalidation_0-merror:0.408088\n",
      "[06:02:02] INFO: /workspace/src/gbm/gbtree.cc:479: drop 0 trees, weight = 1\n",
      "[78]\tvalidation_0-merror:0.408088\n",
      "[06:02:02] INFO: /workspace/src/gbm/gbtree.cc:479: drop 0 trees, weight = 1\n",
      "[79]\tvalidation_0-merror:0.415441\n",
      "[06:02:02] INFO: /workspace/src/gbm/gbtree.cc:479: drop 0 trees, weight = 1\n",
      "[80]\tvalidation_0-merror:0.404412\n",
      "[06:02:02] INFO: /workspace/src/gbm/gbtree.cc:479: drop 0 trees, weight = 1\n",
      "[81]\tvalidation_0-merror:0.408088\n",
      "[06:02:02] INFO: /workspace/src/gbm/gbtree.cc:479: drop 0 trees, weight = 1\n",
      "[82]\tvalidation_0-merror:0.408088\n",
      "[06:02:02] INFO: /workspace/src/gbm/gbtree.cc:479: drop 0 trees, weight = 1\n",
      "[83]\tvalidation_0-merror:0.400735\n",
      "[06:02:02] INFO: /workspace/src/gbm/gbtree.cc:479: drop 0 trees, weight = 1\n",
      "[84]\tvalidation_0-merror:0.400735\n",
      "[06:02:02] INFO: /workspace/src/gbm/gbtree.cc:479: drop 0 trees, weight = 1\n",
      "[85]\tvalidation_0-merror:0.397059\n",
      "[06:02:02] INFO: /workspace/src/gbm/gbtree.cc:479: drop 0 trees, weight = 1\n",
      "[86]\tvalidation_0-merror:0.411765\n",
      "[06:02:02] INFO: /workspace/src/gbm/gbtree.cc:479: drop 0 trees, weight = 1\n",
      "[87]\tvalidation_0-merror:0.419118\n",
      "[06:02:02] INFO: /workspace/src/gbm/gbtree.cc:479: drop 0 trees, weight = 1\n",
      "[88]\tvalidation_0-merror:0.404412\n",
      "[06:02:02] INFO: /workspace/src/gbm/gbtree.cc:479: drop 0 trees, weight = 1\n",
      "[89]\tvalidation_0-merror:0.411765\n",
      "[06:02:03] INFO: /workspace/src/gbm/gbtree.cc:479: drop 0 trees, weight = 1\n",
      "[90]\tvalidation_0-merror:0.404412\n",
      "[06:02:03] INFO: /workspace/src/gbm/gbtree.cc:479: drop 0 trees, weight = 1\n",
      "[91]\tvalidation_0-merror:0.411765\n",
      "[06:02:03] INFO: /workspace/src/gbm/gbtree.cc:479: drop 0 trees, weight = 1\n",
      "[92]\tvalidation_0-merror:0.400735\n",
      "[06:02:03] INFO: /workspace/src/gbm/gbtree.cc:479: drop 0 trees, weight = 1\n",
      "[93]\tvalidation_0-merror:0.404412\n",
      "[06:02:03] INFO: /workspace/src/gbm/gbtree.cc:479: drop 0 trees, weight = 1\n",
      "[94]\tvalidation_0-merror:0.408088\n",
      "[06:02:03] INFO: /workspace/src/gbm/gbtree.cc:479: drop 0 trees, weight = 1\n",
      "[95]\tvalidation_0-merror:0.393382\n",
      "[06:02:03] INFO: /workspace/src/gbm/gbtree.cc:479: drop 0 trees, weight = 1\n",
      "[96]\tvalidation_0-merror:0.393382\n",
      "[06:02:03] INFO: /workspace/src/gbm/gbtree.cc:479: drop 0 trees, weight = 1\n",
      "[97]\tvalidation_0-merror:0.397059\n",
      "[06:02:03] INFO: /workspace/src/gbm/gbtree.cc:479: drop 0 trees, weight = 1\n",
      "[98]\tvalidation_0-merror:0.408088\n",
      "[06:02:03] INFO: /workspace/src/gbm/gbtree.cc:479: drop 0 trees, weight = 1\n",
      "[99]\tvalidation_0-merror:0.408088\n"
     ]
    },
    {
     "output_type": "stream",
     "name": "stderr",
     "text": [
      "\u001B[32m[I 2022-11-22 06:02:03,482]\u001B[0m Trial 7 finished with value: 0.5919117647058824 and parameters: {'booster': 'dart', 'lambda': 0.5640261682535397, 'alpha': 0.09879868967819129, 'subsample': 0.12229700871506483, 'colsample_bytree': 0.17439070765505277}. Best is trial 3 with value: 0.6544117647058824.\u001B[0m\n"
     ]
    },
    {
     "output_type": "stream",
     "name": "stdout",
     "text": [
      "[06:02:03] ======== Monitor: Learner ========\n",
      "[06:02:03] EvalOneIter: 0.263502s, 100 calls @ 2635us\n",
      "[06:02:03] GetGradient: 0.00686968s, 100 calls @ 68us\n",
      "[06:02:03] PredictRaw: 1.0309s, 100 calls @ 10308us\n",
      "[06:02:03] UpdateOneIter: 2.95306s, 100 calls @ 29530us\n",
      "[06:02:03] ======== Monitor: GBTree ========\n",
      "[06:02:03] BoostNewTrees: 1.90029s, 100 calls @ 19002us\n",
      "[06:02:03] CommitModel: 0.0145693s, 100 calls @ 145us\n",
      "[06:02:03] ======== Monitor:  ========\n",
      "[06:02:03] ======== Monitor: updater_gpu_hist ========\n",
      "[06:02:03] BinningCompression: 0.000350426s, 1 calls @ 350us\n",
      "[06:02:03] InitData: 0.0155724s, 600 calls @ 25us\n",
      "[06:02:03] InitDataOnce: 0.0154172s, 1 calls @ 15417us\n",
      "[06:02:03] Quantiles: 0.00167355s, 1 calls @ 1673us\n",
      "[06:02:03] Update: 1.87575s, 600 calls @ 3126us\n",
      "[06:02:03] ======== NCCL Statistics========\n",
      "[06:02:03] AllReduce calls: 2405\n",
      "[06:02:03] AllReduce total MB communicated: 34\n",
      "[06:02:03] ======== Monitor: HistCutMatrix ========\n",
      "[06:02:03] ======== Monitor: DeviceShard0 ========\n",
      "[06:02:03] AllReduce: 0.00619871s, 1805 calls @ 3us\n",
      "[06:02:03] BuildHist: 0.0304533s, 1205 calls @ 25us\n",
      "[06:02:03] EvaluateSplits: 0.0507461s, 1205 calls @ 42us\n",
      "[06:02:03] FinalisePosition: 0.00518486s, 600 calls @ 8us\n",
      "[06:02:03] InitRoot: 1.68821s, 600 calls @ 2813us\n",
      "[06:02:03] Reset: 0.0557596s, 600 calls @ 92us\n",
      "[06:02:03] UpdatePosition: 0.0251098s, 1205 calls @ 20us\n",
      "[06:02:03] ======== Monitor: HistCutMatrix ========\n",
      "[0]\tvalidation_0-merror:0.558824\n",
      "[1]\tvalidation_0-merror:0.558824\n",
      "[2]\tvalidation_0-merror:0.555147\n",
      "[3]\tvalidation_0-merror:0.551471\n",
      "[4]\tvalidation_0-merror:0.544118\n",
      "[5]\tvalidation_0-merror:0.536765\n",
      "[6]\tvalidation_0-merror:0.511029\n",
      "[7]\tvalidation_0-merror:0.507353\n",
      "[8]\tvalidation_0-merror:0.492647\n",
      "[9]\tvalidation_0-merror:0.5\n",
      "[10]\tvalidation_0-merror:0.492647\n",
      "[11]\tvalidation_0-merror:0.496324\n",
      "[12]\tvalidation_0-merror:0.496324\n",
      "[13]\tvalidation_0-merror:0.5\n",
      "[14]\tvalidation_0-merror:0.503676\n",
      "[15]\tvalidation_0-merror:0.5\n",
      "[16]\tvalidation_0-merror:0.496324\n",
      "[17]\tvalidation_0-merror:0.488971\n",
      "[18]\tvalidation_0-merror:0.485294\n",
      "[19]\tvalidation_0-merror:0.481618\n",
      "[20]\tvalidation_0-merror:0.488971\n",
      "[21]\tvalidation_0-merror:0.492647\n",
      "[22]\tvalidation_0-merror:0.496324\n",
      "[23]\tvalidation_0-merror:0.496324\n",
      "[24]\tvalidation_0-merror:0.492647\n",
      "[25]\tvalidation_0-merror:0.496324\n",
      "[26]\tvalidation_0-merror:0.492647\n",
      "[27]\tvalidation_0-merror:0.492647\n",
      "[28]\tvalidation_0-merror:0.492647\n",
      "[29]\tvalidation_0-merror:0.488971\n",
      "[30]\tvalidation_0-merror:0.488971\n",
      "[31]\tvalidation_0-merror:0.492647\n",
      "[32]\tvalidation_0-merror:0.492647\n",
      "[33]\tvalidation_0-merror:0.496324\n",
      "[34]\tvalidation_0-merror:0.496324\n",
      "[35]\tvalidation_0-merror:0.5\n",
      "[36]\tvalidation_0-merror:0.5\n",
      "[37]\tvalidation_0-merror:0.5\n",
      "[38]\tvalidation_0-merror:0.496324\n",
      "[39]\tvalidation_0-merror:0.5\n",
      "[40]\tvalidation_0-merror:0.503676\n",
      "[41]\tvalidation_0-merror:0.507353\n",
      "[42]\tvalidation_0-merror:0.503676\n",
      "[43]\tvalidation_0-merror:0.503676\n",
      "[44]\tvalidation_0-merror:0.5\n",
      "[45]\tvalidation_0-merror:0.496324\n",
      "[46]\tvalidation_0-merror:0.496324\n",
      "[47]\tvalidation_0-merror:0.492647\n",
      "[48]\tvalidation_0-merror:0.496324\n",
      "[49]\tvalidation_0-merror:0.496324\n",
      "[50]\tvalidation_0-merror:0.496324\n",
      "[51]\tvalidation_0-merror:0.496324\n",
      "[52]\tvalidation_0-merror:0.496324\n",
      "[53]\tvalidation_0-merror:0.496324\n",
      "[54]\tvalidation_0-merror:0.496324\n",
      "[55]\tvalidation_0-merror:0.496324\n",
      "[56]\tvalidation_0-merror:0.496324\n",
      "[57]\tvalidation_0-merror:0.492647\n",
      "[58]\tvalidation_0-merror:0.488971\n",
      "[59]\tvalidation_0-merror:0.492647\n",
      "[60]\tvalidation_0-merror:0.496324\n",
      "[61]\tvalidation_0-merror:0.496324\n",
      "[62]\tvalidation_0-merror:0.496324\n",
      "[63]\tvalidation_0-merror:0.5\n",
      "[64]\tvalidation_0-merror:0.5\n",
      "[65]\tvalidation_0-merror:0.496324\n",
      "[66]\tvalidation_0-merror:0.496324\n",
      "[67]\tvalidation_0-merror:0.496324\n",
      "[68]\tvalidation_0-merror:0.496324\n",
      "[69]\tvalidation_0-merror:0.496324\n",
      "[70]\tvalidation_0-merror:0.496324\n",
      "[71]\tvalidation_0-merror:0.496324\n",
      "[72]\tvalidation_0-merror:0.496324\n",
      "[73]\tvalidation_0-merror:0.496324\n",
      "[74]\tvalidation_0-merror:0.496324\n",
      "[75]\tvalidation_0-merror:0.496324\n",
      "[76]\tvalidation_0-merror:0.496324\n",
      "[77]\tvalidation_0-merror:0.496324\n",
      "[78]\tvalidation_0-merror:0.496324\n",
      "[79]\tvalidation_0-merror:0.492647\n",
      "[80]\tvalidation_0-merror:0.492647\n",
      "[81]\tvalidation_0-merror:0.488971\n",
      "[82]\tvalidation_0-merror:0.488971\n",
      "[83]\tvalidation_0-merror:0.488971\n",
      "[84]\tvalidation_0-merror:0.485294\n",
      "[85]\tvalidation_0-merror:0.485294\n",
      "[86]\tvalidation_0-merror:0.485294\n",
      "[87]\tvalidation_0-merror:0.488971\n",
      "[88]\tvalidation_0-merror:0.485294\n",
      "[89]\tvalidation_0-merror:0.485294\n",
      "[90]\tvalidation_0-merror:0.485294\n",
      "[91]\tvalidation_0-merror:0.485294\n",
      "[92]\tvalidation_0-merror:0.485294\n",
      "[93]\tvalidation_0-merror:0.485294\n",
      "[94]\tvalidation_0-merror:0.485294\n",
      "[95]\tvalidation_0-merror:0.485294\n",
      "[96]\tvalidation_0-merror:0.485294\n",
      "[97]\tvalidation_0-merror:0.485294\n",
      "[98]\tvalidation_0-merror:0.485294\n",
      "[99]\tvalidation_0-merror:0.488971\n",
      "[06:02:03] ======== Monitor: Learner ========\n",
      "[06:02:03] EvalOneIter: 0.0121575s, 100 calls @ 121us\n",
      "[06:02:03] GetGradient: 0.00929701s, 100 calls @ 92us\n",
      "[06:02:03] PredictRaw: 0.00151669s, 100 calls @ 15us\n",
      "[06:02:03] UpdateOneIter: 0.189142s, 100 calls @ 1891us\n",
      "[06:02:03] ======== Monitor: GBLinear ========\n",
      "[06:02:03] DoBoost: 0.178024s, 100 calls @ 1780us\n",
      "[06:02:03] PredictBatch: 0.00535857s, 202 calls @ 26us\n",
      "[06:02:03] PredictBatchInternal: 0.125006s, 203 calls @ 615us\n"
     ]
    },
    {
     "output_type": "stream",
     "name": "stderr",
     "text": [
      "\u001B[32m[I 2022-11-22 06:02:03,904]\u001B[0m Trial 8 finished with value: 0.5110294117647058 and parameters: {'booster': 'gblinear', 'lambda': 0.9039978585610617, 'alpha': 0.48301176776484467, 'subsample': 0.35327675090407984, 'colsample_bytree': 0.1584585549064244}. Best is trial 3 with value: 0.6544117647058824.\u001B[0m\n"
     ]
    },
    {
     "output_type": "stream",
     "name": "stdout",
     "text": [
      "[06:02:03] INFO: /workspace/src/gbm/gbtree.cc:479: drop 0 trees, weight = 1\n",
      "[0]\tvalidation_0-merror:0.496324\n",
      "[06:02:03] INFO: /workspace/src/gbm/gbtree.cc:479: drop 0 trees, weight = 1\n",
      "[1]\tvalidation_0-merror:0.466912\n",
      "[06:02:04] INFO: /workspace/src/gbm/gbtree.cc:479: drop 0 trees, weight = 1\n",
      "[2]\tvalidation_0-merror:0.455882\n",
      "[06:02:04] INFO: /workspace/src/gbm/gbtree.cc:479: drop 0 trees, weight = 1\n",
      "[3]\tvalidation_0-merror:0.422794\n",
      "[06:02:04] INFO: /workspace/src/gbm/gbtree.cc:479: drop 0 trees, weight = 1\n",
      "[4]\tvalidation_0-merror:0.419118\n",
      "[06:02:04] INFO: /workspace/src/gbm/gbtree.cc:479: drop 0 trees, weight = 1\n",
      "[5]\tvalidation_0-merror:0.389706\n",
      "[06:02:04] INFO: /workspace/src/gbm/gbtree.cc:479: drop 0 trees, weight = 1\n",
      "[6]\tvalidation_0-merror:0.415441\n",
      "[06:02:04] INFO: /workspace/src/gbm/gbtree.cc:479: drop 0 trees, weight = 1\n",
      "[7]\tvalidation_0-merror:0.411765\n",
      "[06:02:04] INFO: /workspace/src/gbm/gbtree.cc:479: drop 0 trees, weight = 1\n",
      "[8]\tvalidation_0-merror:0.408088\n",
      "[06:02:04] INFO: /workspace/src/gbm/gbtree.cc:479: drop 0 trees, weight = 1\n",
      "[9]\tvalidation_0-merror:0.393382\n",
      "[06:02:04] INFO: /workspace/src/gbm/gbtree.cc:479: drop 0 trees, weight = 1\n",
      "[10]\tvalidation_0-merror:0.378676\n",
      "[06:02:04] INFO: /workspace/src/gbm/gbtree.cc:479: drop 0 trees, weight = 1\n",
      "[11]\tvalidation_0-merror:0.400735\n",
      "[06:02:04] INFO: /workspace/src/gbm/gbtree.cc:479: drop 0 trees, weight = 1\n",
      "[12]\tvalidation_0-merror:0.389706\n",
      "[06:02:04] INFO: /workspace/src/gbm/gbtree.cc:479: drop 0 trees, weight = 1\n",
      "[13]\tvalidation_0-merror:0.382353\n",
      "[06:02:04] INFO: /workspace/src/gbm/gbtree.cc:479: drop 0 trees, weight = 1\n",
      "[14]\tvalidation_0-merror:0.367647\n",
      "[06:02:04] INFO: /workspace/src/gbm/gbtree.cc:479: drop 0 trees, weight = 1\n",
      "[15]\tvalidation_0-merror:0.367647\n",
      "[06:02:04] INFO: /workspace/src/gbm/gbtree.cc:479: drop 0 trees, weight = 1\n",
      "[16]\tvalidation_0-merror:0.356618\n",
      "[06:02:04] INFO: /workspace/src/gbm/gbtree.cc:479: drop 0 trees, weight = 1\n",
      "[17]\tvalidation_0-merror:0.360294\n",
      "[06:02:04] INFO: /workspace/src/gbm/gbtree.cc:479: drop 0 trees, weight = 1\n",
      "[18]\tvalidation_0-merror:0.360294\n",
      "[06:02:04] INFO: /workspace/src/gbm/gbtree.cc:479: drop 0 trees, weight = 1\n",
      "[19]\tvalidation_0-merror:0.360294\n",
      "[06:02:04] INFO: /workspace/src/gbm/gbtree.cc:479: drop 0 trees, weight = 1\n",
      "[20]\tvalidation_0-merror:0.378676\n",
      "[06:02:04] INFO: /workspace/src/gbm/gbtree.cc:479: drop 0 trees, weight = 1\n",
      "[21]\tvalidation_0-merror:0.378676\n",
      "[06:02:04] INFO: /workspace/src/gbm/gbtree.cc:479: drop 0 trees, weight = 1\n",
      "[22]\tvalidation_0-merror:0.386029\n",
      "[06:02:04] INFO: /workspace/src/gbm/gbtree.cc:479: drop 0 trees, weight = 1\n",
      "[23]\tvalidation_0-merror:0.386029\n",
      "[06:02:04] INFO: /workspace/src/gbm/gbtree.cc:479: drop 0 trees, weight = 1\n",
      "[24]\tvalidation_0-merror:0.375\n",
      "[06:02:04] INFO: /workspace/src/gbm/gbtree.cc:479: drop 0 trees, weight = 1\n",
      "[25]\tvalidation_0-merror:0.386029\n",
      "[06:02:04] INFO: /workspace/src/gbm/gbtree.cc:479: drop 0 trees, weight = 1\n",
      "[26]\tvalidation_0-merror:0.378676\n",
      "[06:02:04] INFO: /workspace/src/gbm/gbtree.cc:479: drop 0 trees, weight = 1\n",
      "[27]\tvalidation_0-merror:0.375\n",
      "[06:02:04] INFO: /workspace/src/gbm/gbtree.cc:479: drop 0 trees, weight = 1\n",
      "[28]\tvalidation_0-merror:0.375\n",
      "[06:02:04] INFO: /workspace/src/gbm/gbtree.cc:479: drop 0 trees, weight = 1\n",
      "[29]\tvalidation_0-merror:0.375\n",
      "[06:02:04] INFO: /workspace/src/gbm/gbtree.cc:479: drop 0 trees, weight = 1\n",
      "[30]\tvalidation_0-merror:0.367647\n",
      "[06:02:04] INFO: /workspace/src/gbm/gbtree.cc:479: drop 0 trees, weight = 1\n",
      "[31]\tvalidation_0-merror:0.360294\n",
      "[06:02:04] INFO: /workspace/src/gbm/gbtree.cc:479: drop 0 trees, weight = 1\n",
      "[32]\tvalidation_0-merror:0.367647\n",
      "[06:02:04] INFO: /workspace/src/gbm/gbtree.cc:479: drop 0 trees, weight = 1\n",
      "[33]\tvalidation_0-merror:0.356618\n",
      "[06:02:04] INFO: /workspace/src/gbm/gbtree.cc:479: drop 0 trees, weight = 1\n",
      "[34]\tvalidation_0-merror:0.352941\n",
      "[06:02:04] INFO: /workspace/src/gbm/gbtree.cc:479: drop 0 trees, weight = 1\n",
      "[35]\tvalidation_0-merror:0.363971\n",
      "[06:02:04] INFO: /workspace/src/gbm/gbtree.cc:479: drop 0 trees, weight = 1\n",
      "[36]\tvalidation_0-merror:0.367647\n",
      "[06:02:04] INFO: /workspace/src/gbm/gbtree.cc:479: drop 0 trees, weight = 1\n",
      "[37]\tvalidation_0-merror:0.367647\n",
      "[06:02:04] INFO: /workspace/src/gbm/gbtree.cc:479: drop 0 trees, weight = 1\n",
      "[38]\tvalidation_0-merror:0.375\n",
      "[06:02:05] INFO: /workspace/src/gbm/gbtree.cc:479: drop 0 trees, weight = 1\n",
      "[39]\tvalidation_0-merror:0.367647\n",
      "[06:02:05] INFO: /workspace/src/gbm/gbtree.cc:479: drop 0 trees, weight = 1\n",
      "[40]\tvalidation_0-merror:0.356618\n",
      "[06:02:05] INFO: /workspace/src/gbm/gbtree.cc:479: drop 0 trees, weight = 1\n",
      "[41]\tvalidation_0-merror:0.363971\n",
      "[06:02:05] INFO: /workspace/src/gbm/gbtree.cc:479: drop 0 trees, weight = 1\n",
      "[42]\tvalidation_0-merror:0.378676\n",
      "[06:02:05] INFO: /workspace/src/gbm/gbtree.cc:479: drop 0 trees, weight = 1\n",
      "[43]\tvalidation_0-merror:0.367647\n",
      "[06:02:05] INFO: /workspace/src/gbm/gbtree.cc:479: drop 0 trees, weight = 1\n",
      "[44]\tvalidation_0-merror:0.363971\n",
      "[06:02:05] INFO: /workspace/src/gbm/gbtree.cc:479: drop 0 trees, weight = 1\n",
      "[45]\tvalidation_0-merror:0.363971\n",
      "[06:02:05] INFO: /workspace/src/gbm/gbtree.cc:479: drop 0 trees, weight = 1\n",
      "[46]\tvalidation_0-merror:0.371324\n",
      "[06:02:05] INFO: /workspace/src/gbm/gbtree.cc:479: drop 0 trees, weight = 1\n",
      "[47]\tvalidation_0-merror:0.363971\n",
      "[06:02:05] INFO: /workspace/src/gbm/gbtree.cc:479: drop 0 trees, weight = 1\n",
      "[48]\tvalidation_0-merror:0.363971\n",
      "[06:02:05] INFO: /workspace/src/gbm/gbtree.cc:479: drop 0 trees, weight = 1\n",
      "[49]\tvalidation_0-merror:0.371324\n",
      "[06:02:05] INFO: /workspace/src/gbm/gbtree.cc:479: drop 0 trees, weight = 1\n",
      "[50]\tvalidation_0-merror:0.378676\n",
      "[06:02:05] INFO: /workspace/src/gbm/gbtree.cc:479: drop 0 trees, weight = 1\n",
      "[51]\tvalidation_0-merror:0.378676\n",
      "[06:02:05] INFO: /workspace/src/gbm/gbtree.cc:479: drop 0 trees, weight = 1\n",
      "[52]\tvalidation_0-merror:0.363971\n",
      "[06:02:05] INFO: /workspace/src/gbm/gbtree.cc:479: drop 0 trees, weight = 1\n",
      "[53]\tvalidation_0-merror:0.378676\n",
      "[06:02:05] INFO: /workspace/src/gbm/gbtree.cc:479: drop 0 trees, weight = 1\n",
      "[54]\tvalidation_0-merror:0.382353\n",
      "[06:02:05] INFO: /workspace/src/gbm/gbtree.cc:479: drop 0 trees, weight = 1\n",
      "[55]\tvalidation_0-merror:0.378676\n",
      "[06:02:05] INFO: /workspace/src/gbm/gbtree.cc:479: drop 0 trees, weight = 1\n",
      "[56]\tvalidation_0-merror:0.375\n",
      "[06:02:05] INFO: /workspace/src/gbm/gbtree.cc:479: drop 0 trees, weight = 1\n",
      "[57]\tvalidation_0-merror:0.378676\n",
      "[06:02:05] INFO: /workspace/src/gbm/gbtree.cc:479: drop 0 trees, weight = 1\n",
      "[58]\tvalidation_0-merror:0.367647\n",
      "[06:02:05] INFO: /workspace/src/gbm/gbtree.cc:479: drop 0 trees, weight = 1\n",
      "[59]\tvalidation_0-merror:0.375\n",
      "[06:02:05] INFO: /workspace/src/gbm/gbtree.cc:479: drop 0 trees, weight = 1\n",
      "[60]\tvalidation_0-merror:0.375\n",
      "[06:02:05] INFO: /workspace/src/gbm/gbtree.cc:479: drop 0 trees, weight = 1\n",
      "[61]\tvalidation_0-merror:0.367647\n",
      "[06:02:05] INFO: /workspace/src/gbm/gbtree.cc:479: drop 0 trees, weight = 1\n",
      "[62]\tvalidation_0-merror:0.367647\n",
      "[06:02:05] INFO: /workspace/src/gbm/gbtree.cc:479: drop 0 trees, weight = 1\n",
      "[63]\tvalidation_0-merror:0.367647\n",
      "[06:02:05] INFO: /workspace/src/gbm/gbtree.cc:479: drop 0 trees, weight = 1\n",
      "[64]\tvalidation_0-merror:0.367647\n",
      "[06:02:05] INFO: /workspace/src/gbm/gbtree.cc:479: drop 0 trees, weight = 1\n",
      "[65]\tvalidation_0-merror:0.371324\n",
      "[06:02:06] INFO: /workspace/src/gbm/gbtree.cc:479: drop 0 trees, weight = 1\n",
      "[66]\tvalidation_0-merror:0.378676\n",
      "[06:02:06] INFO: /workspace/src/gbm/gbtree.cc:479: drop 0 trees, weight = 1\n",
      "[67]\tvalidation_0-merror:0.386029\n",
      "[06:02:06] INFO: /workspace/src/gbm/gbtree.cc:479: drop 0 trees, weight = 1\n",
      "[68]\tvalidation_0-merror:0.382353\n",
      "[06:02:06] INFO: /workspace/src/gbm/gbtree.cc:479: drop 0 trees, weight = 1\n",
      "[69]\tvalidation_0-merror:0.378676\n",
      "[06:02:06] INFO: /workspace/src/gbm/gbtree.cc:479: drop 0 trees, weight = 1\n",
      "[70]\tvalidation_0-merror:0.382353\n",
      "[06:02:06] INFO: /workspace/src/gbm/gbtree.cc:479: drop 0 trees, weight = 1\n",
      "[71]\tvalidation_0-merror:0.375\n",
      "[06:02:06] INFO: /workspace/src/gbm/gbtree.cc:479: drop 0 trees, weight = 1\n",
      "[72]\tvalidation_0-merror:0.371324\n",
      "[06:02:06] INFO: /workspace/src/gbm/gbtree.cc:479: drop 0 trees, weight = 1\n",
      "[73]\tvalidation_0-merror:0.375\n",
      "[06:02:06] INFO: /workspace/src/gbm/gbtree.cc:479: drop 0 trees, weight = 1\n",
      "[74]\tvalidation_0-merror:0.382353\n",
      "[06:02:06] INFO: /workspace/src/gbm/gbtree.cc:479: drop 0 trees, weight = 1\n",
      "[75]\tvalidation_0-merror:0.375\n",
      "[06:02:06] INFO: /workspace/src/gbm/gbtree.cc:479: drop 0 trees, weight = 1\n",
      "[76]\tvalidation_0-merror:0.375\n",
      "[06:02:06] INFO: /workspace/src/gbm/gbtree.cc:479: drop 0 trees, weight = 1\n",
      "[77]\tvalidation_0-merror:0.375\n",
      "[06:02:06] INFO: /workspace/src/gbm/gbtree.cc:479: drop 0 trees, weight = 1\n",
      "[78]\tvalidation_0-merror:0.375\n",
      "[06:02:06] INFO: /workspace/src/gbm/gbtree.cc:479: drop 0 trees, weight = 1\n",
      "[79]\tvalidation_0-merror:0.378676\n",
      "[06:02:06] INFO: /workspace/src/gbm/gbtree.cc:479: drop 0 trees, weight = 1\n",
      "[80]\tvalidation_0-merror:0.382353\n",
      "[06:02:06] INFO: /workspace/src/gbm/gbtree.cc:479: drop 0 trees, weight = 1\n",
      "[81]\tvalidation_0-merror:0.375\n",
      "[06:02:06] INFO: /workspace/src/gbm/gbtree.cc:479: drop 0 trees, weight = 1\n",
      "[82]\tvalidation_0-merror:0.375\n",
      "[06:02:06] INFO: /workspace/src/gbm/gbtree.cc:479: drop 0 trees, weight = 1\n",
      "[83]\tvalidation_0-merror:0.389706\n",
      "[06:02:06] INFO: /workspace/src/gbm/gbtree.cc:479: drop 0 trees, weight = 1\n",
      "[84]\tvalidation_0-merror:0.397059\n",
      "[06:02:06] INFO: /workspace/src/gbm/gbtree.cc:479: drop 0 trees, weight = 1\n",
      "[85]\tvalidation_0-merror:0.397059\n",
      "[06:02:06] INFO: /workspace/src/gbm/gbtree.cc:479: drop 0 trees, weight = 1\n",
      "[86]\tvalidation_0-merror:0.408088\n",
      "[06:02:06] INFO: /workspace/src/gbm/gbtree.cc:479: drop 0 trees, weight = 1\n",
      "[87]\tvalidation_0-merror:0.408088\n",
      "[06:02:06] INFO: /workspace/src/gbm/gbtree.cc:479: drop 0 trees, weight = 1\n",
      "[88]\tvalidation_0-merror:0.415441\n",
      "[06:02:06] INFO: /workspace/src/gbm/gbtree.cc:479: drop 0 trees, weight = 1\n",
      "[89]\tvalidation_0-merror:0.400735\n",
      "[06:02:07] INFO: /workspace/src/gbm/gbtree.cc:479: drop 0 trees, weight = 1\n",
      "[90]\tvalidation_0-merror:0.404412\n",
      "[06:02:07] INFO: /workspace/src/gbm/gbtree.cc:479: drop 0 trees, weight = 1\n",
      "[91]\tvalidation_0-merror:0.400735\n",
      "[06:02:07] INFO: /workspace/src/gbm/gbtree.cc:479: drop 0 trees, weight = 1\n",
      "[92]\tvalidation_0-merror:0.397059\n",
      "[06:02:07] INFO: /workspace/src/gbm/gbtree.cc:479: drop 0 trees, weight = 1\n",
      "[93]\tvalidation_0-merror:0.400735\n",
      "[06:02:07] INFO: /workspace/src/gbm/gbtree.cc:479: drop 0 trees, weight = 1\n",
      "[94]\tvalidation_0-merror:0.400735\n",
      "[06:02:07] INFO: /workspace/src/gbm/gbtree.cc:479: drop 0 trees, weight = 1\n",
      "[95]\tvalidation_0-merror:0.397059\n",
      "[06:02:07] INFO: /workspace/src/gbm/gbtree.cc:479: drop 0 trees, weight = 1\n",
      "[96]\tvalidation_0-merror:0.397059\n",
      "[06:02:07] INFO: /workspace/src/gbm/gbtree.cc:479: drop 0 trees, weight = 1\n",
      "[97]\tvalidation_0-merror:0.408088\n",
      "[06:02:07] INFO: /workspace/src/gbm/gbtree.cc:479: drop 0 trees, weight = 1\n",
      "[98]\tvalidation_0-merror:0.408088\n",
      "[06:02:07] INFO: /workspace/src/gbm/gbtree.cc:479: drop 0 trees, weight = 1\n",
      "[99]\tvalidation_0-merror:0.400735\n"
     ]
    },
    {
     "output_type": "stream",
     "name": "stderr",
     "text": [
      "\u001B[32m[I 2022-11-22 06:02:07,507]\u001B[0m Trial 9 finished with value: 0.5992647058823529 and parameters: {'booster': 'dart', 'lambda': 0.9319178581147933, 'alpha': 0.5135702501050864, 'subsample': 0.30525250394597925, 'colsample_bytree': 0.41282343932124976}. Best is trial 3 with value: 0.6544117647058824.\u001B[0m\n"
     ]
    },
    {
     "output_type": "stream",
     "name": "stdout",
     "text": [
      "[06:02:07] ======== Monitor: Learner ========\n",
      "[06:02:07] EvalOneIter: 0.292093s, 100 calls @ 2920us\n",
      "[06:02:07] GetGradient: 0.00674507s, 100 calls @ 67us\n",
      "[06:02:07] PredictRaw: 1.1588s, 100 calls @ 11587us\n",
      "[06:02:07] UpdateOneIter: 3.11505s, 100 calls @ 31150us\n",
      "[06:02:07] ======== Monitor: GBTree ========\n",
      "[06:02:07] BoostNewTrees: 1.93654s, 100 calls @ 19365us\n",
      "[06:02:07] CommitModel: 0.0125825s, 100 calls @ 125us\n",
      "[06:02:07] ======== Monitor:  ========\n",
      "[06:02:07] ======== Monitor: updater_gpu_hist ========\n",
      "[06:02:07] BinningCompression: 0.000374655s, 1 calls @ 374us\n",
      "[06:02:07] InitData: 0.0156253s, 600 calls @ 26us\n",
      "[06:02:07] InitDataOnce: 0.0155104s, 1 calls @ 15510us\n",
      "[06:02:07] Quantiles: 0.00175203s, 1 calls @ 1752us\n",
      "[06:02:07] Update: 1.91323s, 600 calls @ 3188us\n",
      "[06:02:07] ======== NCCL Statistics========\n",
      "[06:02:07] AllReduce calls: 2755\n",
      "[06:02:07] AllReduce total MB communicated: 41\n",
      "[06:02:07] ======== Monitor: HistCutMatrix ========\n",
      "[06:02:07] ======== Monitor: DeviceShard0 ========\n",
      "[06:02:07] AllReduce: 0.00743855s, 2155 calls @ 3us\n",
      "[06:02:07] BuildHist: 0.0424323s, 1555 calls @ 27us\n",
      "[06:02:07] EvaluateSplits: 0.0680701s, 1555 calls @ 43us\n",
      "[06:02:07] FinalisePosition: 0.00547825s, 600 calls @ 9us\n",
      "[06:02:07] InitRoot: 1.68632s, 600 calls @ 2810us\n",
      "[06:02:07] Reset: 0.0567515s, 600 calls @ 94us\n",
      "[06:02:07] UpdatePosition: 0.0330704s, 1555 calls @ 21us\n",
      "[06:02:07] ======== Monitor: HistCutMatrix ========\n"
     ]
    }
   ],
   "source": [
    "xgb_classification_optuna.optimize(objective_classification, n_trials = 10)"
   ],
   "metadata": {
    "pycharm": {
     "name": "#%%\n"
    },
    "colab": {
     "base_uri": "https://localhost:8080/"
    },
    "id": "M6OJpOfg2Zpw",
    "outputId": "3df90ffd-a751-493f-d42d-bc42011bb616"
   }
  },
  {
   "cell_type": "code",
   "execution_count": 38,
   "outputs": [
    {
     "output_type": "execute_result",
     "data": {
      "text/plain": [
       "FrozenTrial(number=3, values=[0.6544117647058824], datetime_start=datetime.datetime(2022, 11, 22, 6, 1, 53, 399844), datetime_complete=datetime.datetime(2022, 11, 22, 6, 1, 55, 504841), params={'booster': 'gbtree', 'lambda': 0.4478803101788083, 'alpha': 0.2978299774523648, 'subsample': 0.2010710960091524, 'colsample_bytree': 0.41923489136034187}, distributions={'booster': CategoricalDistribution(choices=('dart', 'gbtree', 'gblinear')), 'lambda': FloatDistribution(high=1.0, log=False, low=0.0001, step=None), 'alpha': FloatDistribution(high=1.0, log=False, low=0.0001, step=None), 'subsample': FloatDistribution(high=0.5, log=False, low=0.1, step=None), 'colsample_bytree': FloatDistribution(high=0.5, log=False, low=0.1, step=None)}, user_attrs={}, system_attrs={}, intermediate_values={}, trial_id=3, state=TrialState.COMPLETE, value=None)"
      ]
     },
     "metadata": {},
     "execution_count": 38
    }
   ],
   "source": [
    "xgb_classification_optuna.best_trial"
   ],
   "metadata": {
    "pycharm": {
     "name": "#%%\n"
    },
    "colab": {
     "base_uri": "https://localhost:8080/"
    },
    "id": "Lk414QNl2Zpw",
    "outputId": "69538fd0-2932-4341-cf2a-fa9316e0bdde"
   }
  },
  {
   "cell_type": "code",
   "execution_count": 39,
   "outputs": [],
   "source": [
    "param = xgb_classification_optuna.best_trial.params"
   ],
   "metadata": {
    "pycharm": {
     "name": "#%%\n"
    },
    "id": "E39yc33a2Zpw"
   }
  },
  {
   "cell_type": "code",
   "execution_count": 40,
   "outputs": [
    {
     "output_type": "execute_result",
     "data": {
      "text/plain": [
       "XGBClassifier(alpha=0.2978299774523648, colsample_bytree=0.41923489136034187,\n",
       "              lambda=0.4478803101788083, objective='multi:softprob',\n",
       "              subsample=0.2010710960091524)"
      ]
     },
     "metadata": {},
     "execution_count": 40
    }
   ],
   "source": [
    "xgb_final_clas = XGBClassifier(**param)\n",
    "xgb_final_clas.fit(X_train, y_train)"
   ],
   "metadata": {
    "pycharm": {
     "name": "#%%\n"
    },
    "colab": {
     "base_uri": "https://localhost:8080/"
    },
    "id": "Cipa8AaN2Zpw",
    "outputId": "8b3750b8-708f-416c-e5ea-2d5ea614f128"
   }
  },
  {
   "cell_type": "code",
   "source": [
    "y_pred_optuna = xgb_final_clas.predict(X_test)"
   ],
   "metadata": {
    "id": "LNoyORA84L1o",
    "pycharm": {
     "name": "#%%\n"
    }
   },
   "execution_count": 41,
   "outputs": []
  },
  {
   "cell_type": "code",
   "source": [
    "accuracy_score(y_test, y_pred_optuna)"
   ],
   "metadata": {
    "colab": {
     "base_uri": "https://localhost:8080/"
    },
    "id": "QufGjQut7toQ",
    "outputId": "a41741fb-c6a9-48c7-d708-496f49cd176f",
    "pycharm": {
     "name": "#%%\n"
    }
   },
   "execution_count": 42,
   "outputs": [
    {
     "output_type": "execute_result",
     "data": {
      "text/plain": [
       "0.6191536748329621"
      ]
     },
     "metadata": {},
     "execution_count": 42
    }
   ]
  },
  {
   "cell_type": "code",
   "source": [],
   "metadata": {
    "id": "gCeofLsB71Cf",
    "pycharm": {
     "name": "#%%\n"
    }
   },
   "execution_count": null,
   "outputs": []
  }
 ],
 "metadata": {
  "kernelspec": {
   "display_name": "Python 3",
   "language": "python",
   "name": "python3"
  },
  "language_info": {
   "codemirror_mode": {
    "name": "ipython",
    "version": 2
   },
   "file_extension": ".py",
   "mimetype": "text/x-python",
   "name": "python",
   "nbconvert_exporter": "python",
   "pygments_lexer": "ipython2",
   "version": "2.7.6"
  },
  "colab": {
   "provenance": []
  },
  "accelerator": "GPU",
  "gpuClass": "standard"
 },
 "nbformat": 4,
 "nbformat_minor": 0
}