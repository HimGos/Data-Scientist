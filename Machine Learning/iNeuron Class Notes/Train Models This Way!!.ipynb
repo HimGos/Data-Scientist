{
 "cells": [
  {
   "cell_type": "markdown",
   "source": [
    "# Classification"
   ],
   "metadata": {
    "collapsed": false,
    "pycharm": {
     "name": "#%% md\n"
    }
   }
  },
  {
   "cell_type": "code",
   "execution_count": 1,
   "outputs": [],
   "source": [
    "import matplotlib.pyplot as plt\n",
    "from sklearn.ensemble import RandomForestClassifier\n",
    "from sklearn.tree import DecisionTreeClassifier\n",
    "from sklearn.linear_model import LogisticRegression\n",
    "from sklearn.metrics import accuracy_score, classification_report, precision_score, recall_score, f1_score, roc_auc_score, ConfusionMatrixDisplay\n"
   ],
   "metadata": {
    "collapsed": false,
    "pycharm": {
     "name": "#%%\n"
    }
   }
  },
  {
   "cell_type": "code",
   "execution_count": 3,
   "outputs": [
    {
     "name": "stdout",
     "output_type": "stream",
     "text": [
      "Logistic Regression\n",
      "Decision Tree\n",
      "Random Forest\n"
     ]
    }
   ],
   "source": [
    "models = {\n",
    "    \"Logistic Regression\": LogisticRegression(),\n",
    "    \"Decision Tree\": DecisionTreeClassifier(),\n",
    "    \"Random Forest\": RandomForestClassifier()\n",
    "}\n",
    "\n",
    "for i in range(len(list(models))):\n",
    "    model = list(models.values())[i]\n",
    "    model.fit(X_train, y_train)    #Train Model\n",
    "\n",
    "    # Make Predictions\n",
    "    y_train_pred = model.predict(X_train)\n",
    "    y_test_pred = model.predict(X_test)\n",
    "\n",
    "    # Training Set Performance\n",
    "    model_train_accuracy = accuracy_score(y_train, y_train_pred)        # Calculate Accuracy\n",
    "    model_train_f1 = f1_score(y_train, y_train_pred, average='weighted')  # Calculate F1 Score\n",
    "    model_train_precision = precision_score(y_train, y_train_pred)      # Calculate Precision Score\n",
    "    model_train_recall = recall_score(y_train, y_train_pred)            # Calculate Recall Score\n",
    "    model_train_rocauc_score = roc_auc_score(y_train, y_train_pred)     # Calculate ROC AUC Score\n",
    "\n",
    "    # Test Set Performance\n",
    "    model_test_accuracy = accuracy_score(y_test, y_test_pred)        # Calculate Accuracy\n",
    "    model_test_f1 = f1_score(y_test, y_test_pred, average='weighted')  # Calculate F1 Score\n",
    "    model_test_precision = precision_score(y_test, y_test_pred)      # Calculate Precision Score\n",
    "    model_test_recall = recall_score(y_test, y_test_pred)            # Calculate Recall Score\n",
    "    model_test_rocauc_score = roc_auc_score(y_test, y_test_pred)     # Calculate ROC AUC Score\n",
    "\n",
    "    print(list(models.keys())[i])\n",
    "\n",
    "    print('Model Performance for Training Set')\n",
    "    print(\"- Accuracy: {:.4f}\".format(model_train_accuracy))\n",
    "    print(\"- F1: {:.4f}\".format(model_train_f1))\n",
    "    print(\"- Precision: {:.4f}\".format(model_train_precision))\n",
    "    print(\"- Recall: {:.4f}\".format(model_train_recall))\n",
    "    print(\"- ROC AUC Score: {:.4f}\".format(model_train_rocauc_score))\n",
    "\n",
    "\n",
    "\n",
    "    print('------------------------------------------------')\n",
    "\n",
    "    print('Model Performance for Test Set')\n",
    "    print(\"- Accuracy: {:.4f}\".format(model_test_accuracy))\n",
    "    print(\"- F1: {:.4f}\".format(model_test_f1))\n",
    "    print(\"- Precision: {:.4f}\".format(model_test_precision))\n",
    "    print(\"- Recall: {:.4f}\".format(model_test_recall))\n",
    "    print(\"- ROC AUC Score: {:.4f}\".format(model_test_rocauc_score))\n",
    "\n",
    "\n",
    "\n",
    "    print('='*40)\n",
    "    print('\\n')"
   ],
   "metadata": {
    "collapsed": false,
    "pycharm": {
     "name": "#%%\n"
    }
   }
  },
  {
   "cell_type": "code",
   "execution_count": 4,
   "outputs": [],
   "source": [
    "## Hyperparameter Training\n",
    "\n",
    "# Whichever model gave us good accuracy, we will get hyperparameters of it from sklearn and tweak it further\n",
    "# Random Forest\n",
    "rf_params = {'max_depth':[5,8,15,None,10],\n",
    "             'max_features': [5,7,'auto',8],\n",
    "             'min_samples_split': [2,8,15,20],\n",
    "             'n_estimators': [100,200,500,1000]\n",
    "             }"
   ],
   "metadata": {
    "collapsed": false,
    "pycharm": {
     "name": "#%%\n"
    }
   }
  },
  {
   "cell_type": "code",
   "execution_count": 5,
   "outputs": [
    {
     "data": {
      "text/plain": "{'max_depth': [5, 8, 15, None, 10],\n 'max_features': [5, 7, 'auto', 8],\n 'min_samples_split': [2, 8, 15, 20],\n 'n_estimators': [100, 200, 500, 1000]}"
     },
     "execution_count": 5,
     "metadata": {},
     "output_type": "execute_result"
    }
   ],
   "source": [
    "rf_params"
   ],
   "metadata": {
    "collapsed": false,
    "pycharm": {
     "name": "#%%\n"
    }
   }
  },
  {
   "cell_type": "code",
   "execution_count": 6,
   "outputs": [],
   "source": [
    "# Models list for Hyperparameter Tuning\n",
    "\n",
    "randomcv_models = [\n",
    "    ('RF', RandomForestClassifier(), rf_params)\n",
    "]"
   ],
   "metadata": {
    "collapsed": false,
    "pycharm": {
     "name": "#%%\n"
    }
   }
  },
  {
   "cell_type": "code",
   "execution_count": 7,
   "outputs": [
    {
     "data": {
      "text/plain": "[('RF',\n  RandomForestClassifier(),\n  {'max_depth': [5, 8, 15, None, 10],\n   'max_features': [5, 7, 'auto', 8],\n   'min_samples_split': [2, 8, 15, 20],\n   'n_estimators': [100, 200, 500, 1000]})]"
     },
     "execution_count": 7,
     "metadata": {},
     "output_type": "execute_result"
    }
   ],
   "source": [
    "randomcv_models"
   ],
   "metadata": {
    "collapsed": false,
    "pycharm": {
     "name": "#%%\n"
    }
   }
  },
  {
   "cell_type": "code",
   "execution_count": null,
   "outputs": [],
   "source": [
    "# Training Stage\n",
    "\n",
    "from sklearn.model_selection import RandomizedSearchCV\n",
    "\n",
    "model_param = {}\n",
    "for name, model, params in randomcv_models:\n",
    "    random = RandomizedSearchCV(estimator=model,\n",
    "                                param_distributions=params,\n",
    "                                n_iter=100,\n",
    "                                cv=3,\n",
    "                                verbose=2,\n",
    "                                n_jobs=-1)\n",
    "    random.fit(X_train, y_train)\n",
    "    model_param[name] =  random.best_params_\n",
    "\n",
    "for model_name in model_param:\n",
    "    print(f\"--------------Best Params for {model_name} ---------------\")\n",
    "    print(model_param[model_name])"
   ],
   "metadata": {
    "collapsed": false,
    "pycharm": {
     "name": "#%%\n"
    }
   }
  },
  {
   "cell_type": "markdown",
   "source": [
    "> ## Repeat Model Training step using the model which performed well. Let say Random forest Worked well, then we will use it again this way ...."
   ],
   "metadata": {
    "collapsed": false,
    "pycharm": {
     "name": "#%% md\n"
    }
   }
  },
  {
   "cell_type": "code",
   "execution_count": null,
   "outputs": [],
   "source": [
    "models = {\n",
    "    'Random Forest' : RandomForestClassifier(n_estimators=1000, min_samples_split=2,\n",
    "                                             max_features=7, max_depth=None)\n",
    "}\n",
    "\n",
    "for i in range(len(list(models))):\n",
    "    model = list(models.values())[i]\n",
    "    model.fit(X_train, y_train)   # Train model\n",
    "\n",
    "    # Make Predictions\n",
    "    y_train_pred = model.predict(X_train)\n",
    "    y_test_pred = model.predict(X_test)\n",
    "\n",
    "    # Training Set Performance\n",
    "    model_train_accuracy = accuracy_score(y_train, y_train_pred)\n",
    "    model_train_f1 = f1_score(y_train, y_train_pred, average='weighted')\n",
    "    model_train_precision = precision_score(y_train, y_train_pred)\n",
    "    model_train_recall = recall_score(y_train, y_train_pred)            # Calculate Recall Score\n",
    "    model_train_rocauc_score = roc_auc_score(y_train, y_train_pred)     # Calculate ROC AUC Score\n",
    "\n",
    "    # Test Set Performance\n",
    "    model_test_accuracy = accuracy_score(y_test, y_test_pred)        # Calculate Accuracy\n",
    "    model_test_f1 = f1_score(y_test, y_test_pred, average='weighted')  # Calculate F1 Score\n",
    "    model_test_precision = precision_score(y_test, y_test_pred)      # Calculate Precision Score\n",
    "    model_test_recall = recall_score(y_test, y_test_pred)            # Calculate Recall Score\n",
    "    model_test_rocauc_score = roc_auc_score(y_test, y_test_pred)     # Calculate ROC AUC Score\n",
    "\n",
    "    print(list(models.keys())[i])\n",
    "\n",
    "    print('Model Performance for Training Set')\n",
    "    print(\"- Accuracy: {:.4f}\".format(model_train_accuracy))\n",
    "    print(\"- F1: {:.4f}\".format(model_train_f1))\n",
    "    print(\"- Precision: {:.4f}\".format(model_train_precision))\n",
    "    print(\"- Recall: {:.4f}\".format(model_train_recall))\n",
    "    print(\"- ROC AUC Score: {:.4f}\".format(model_train_rocauc_score))\n",
    "\n",
    "\n",
    "\n",
    "    print('------------------------------------------------')\n",
    "\n",
    "    print('Model Performance for Test Set')\n",
    "    print(\"- Accuracy: {:.4f}\".format(model_test_accuracy))\n",
    "    print(\"- F1: {:.4f}\".format(model_test_f1))\n",
    "    print(\"- Precision: {:.4f}\".format(model_test_precision))\n",
    "    print(\"- Recall: {:.4f}\".format(model_test_recall))\n",
    "    print(\"- ROC AUC Score: {:.4f}\".format(model_test_rocauc_score))\n",
    "\n",
    "\n",
    "\n",
    "    print('='*40)\n",
    "    print('\\n')"
   ],
   "metadata": {
    "collapsed": false,
    "pycharm": {
     "name": "#%%\n"
    }
   }
  },
  {
   "cell_type": "code",
   "execution_count": null,
   "outputs": [],
   "source": [
    "# Plot ROC AUC Curve\n",
    "\n",
    "from sklearn.metrics import roc_auc_score, roc_curve\n",
    "plt.figure()\n",
    "\n",
    "# Add the models to the list that you want to view on the ROC plot\n",
    "auc_models = [\n",
    "    {\n",
    "        'label': 'Random Forest Classifier',\n",
    "        'model': RandomForestClassifier(n_estimators=1000, min_samples_split=2,\n",
    "                                        max_features=7, max_depth=None),\n",
    "        'auc': 0.8325\n",
    "    }\n",
    "]\n",
    "\n",
    "# Create loop through all model\n",
    "for algo in auc_models:\n",
    "    model = algo['model']   # select the model\n",
    "    model.fit(X_train, y_train)   # Train the model\n",
    "\n",
    "    # Compute False positive rate, and True positive rate\n",
    "    fpr, tpr, thresholds =  roc_curve(y_test, model.predict_proba(X_test))[:,1]\n",
    "\n",
    "    # Calculate Area under the curve to display on the plot\n",
    "    plt.plot(fpr, tpr, label='%s ROC (area = %0.2f)' % (algo['label'], algo['auc']))\n",
    "\n",
    "# Custom Settings for the plot\n",
    "plt.plot([0,1], [0,1], 'r--')\n",
    "plt.xlim([0.0, 1.0])\n",
    "plt.ylim([0.0, 1.05])\n",
    "plt.xlabel('1-Specificity (False Positive Rate)')\n",
    "plt.ylabel('Sensitivity (True Positive Rate)')\n",
    "plt.title('Receiver Operating Characteristic')\n",
    "plt.legend(loc='lower right')\n",
    "plt.savefig('auc.png')\n",
    "plt.show()"
   ],
   "metadata": {
    "collapsed": false,
    "pycharm": {
     "name": "#%%\n"
    }
   }
  }
 ],
 "metadata": {
  "kernelspec": {
   "display_name": "Python 3",
   "language": "python",
   "name": "python3"
  },
  "language_info": {
   "codemirror_mode": {
    "name": "ipython",
    "version": 2
   },
   "file_extension": ".py",
   "mimetype": "text/x-python",
   "name": "python",
   "nbconvert_exporter": "python",
   "pygments_lexer": "ipython2",
   "version": "2.7.6"
  }
 },
 "nbformat": 4,
 "nbformat_minor": 0
}