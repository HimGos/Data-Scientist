{
 "cells": [
  {
   "cell_type": "markdown",
   "source": [
    "### Difference b/w Analysis and Analytics"
   ],
   "metadata": {
    "collapsed": false,
    "pycharm": {
     "name": "#%% md\n"
    }
   }
  },
  {
   "cell_type": "markdown",
   "source": [
    "Analysis - Breaking down the data into chunks and then analysing it. We do analysis on PAST. How and/or Why something happened.\n",
    "- Qualitative Analysis -> Explain How or Why?\n",
    "- Quantitative Analysis -> Data + how sales decreased last summer\n",
    "\n",
    "Analytics - Generally refers to future. Focus on exploring potential future events. Application of logical and computational reasoning on the components obtained from analysis. We look for patterns here.\n",
    "- Qualitative Analysis -> Intuition + Analysis\n",
    "- Quantitative Analysis -> Formulas + Algorithms"
   ],
   "metadata": {
    "collapsed": false,
    "pycharm": {
     "name": "#%% md\n"
    }
   }
  },
  {
   "cell_type": "markdown",
   "source": [
    "####"
   ],
   "metadata": {
    "collapsed": false,
    "pycharm": {
     "name": "#%% md\n"
    }
   }
  },
  {
   "cell_type": "markdown",
   "source": [
    "![pic](https://365datascience.com/resources/blog/thumb@1024_2018-04-x1080-analysis_of_an-06-min-1024x576.png \"Analytics & Analysis\")"
   ],
   "metadata": {
    "collapsed": false,
    "pycharm": {
     "name": "#%% md\n"
    }
   }
  },
  {
   "cell_type": "markdown",
   "source": [
    "## Business Intelligence , Machine Learning & Artifical Intelligence"
   ],
   "metadata": {
    "collapsed": false,
    "pycharm": {
     "name": "#%% md\n"
    }
   }
  },
  {
   "cell_type": "markdown",
   "source": [
    "> BI -> The process of Analysis and reporting historical business data. Aims to explain past events using business data. Prelim step of predictive analytics."
   ],
   "metadata": {
    "collapsed": false,
    "pycharm": {
     "name": "#%% md\n"
    }
   }
  },
  {
   "cell_type": "markdown",
   "source": [
    "> ML -> The ability of machines to predict outcomes without being explicitly programmed. ML is about creating and implementing algorithms that let machines receive data and use this data to :\n",
    "> - Make Predictions\n",
    "> - Analyse patterns\n",
    "> - Give recommendations"
   ],
   "metadata": {
    "collapsed": false,
    "pycharm": {
     "name": "#%% md\n"
    }
   }
  },
  {
   "cell_type": "markdown",
   "source": [
    "> AI -> Simulating human knowledge and decision making with computers. ML is the only form of general AI that is being applied."
   ],
   "metadata": {
    "collapsed": false,
    "pycharm": {
     "name": "#%% md\n"
    }
   }
  },
  {
   "cell_type": "markdown",
   "source": [
    "####"
   ],
   "metadata": {
    "collapsed": false,
    "pycharm": {
     "name": "#%% md\n"
    }
   }
  },
  {
   "cell_type": "markdown",
   "source": [
    "## Data Science Infographic"
   ],
   "metadata": {
    "collapsed": false,
    "pycharm": {
     "name": "#%% md\n"
    }
   }
  },
  {
   "cell_type": "markdown",
   "source": [
    "<img alt=\"Complete Pic\" height=\"1200\" src=\"https://i.pinimg.com/originals/65/9f/77/659f77e194ecbc21ff6c013981a9db16.png\" width=\"800\"/>"
   ],
   "metadata": {
    "collapsed": false,
    "pycharm": {
     "name": "#%% md\n"
    }
   }
  },
  {
   "cell_type": "markdown",
   "source": [
    "#####"
   ],
   "metadata": {
    "collapsed": false,
    "pycharm": {
     "name": "#%% md\n"
    }
   }
  },
  {
   "cell_type": "markdown",
   "source": [
    "### When are Traditional Data, Big Data, BI, Traditional Data Science and ML applied?"
   ],
   "metadata": {
    "collapsed": false,
    "pycharm": {
     "name": "#%% md\n"
    }
   }
  },
  {
   "cell_type": "markdown",
   "source": [
    "> **Data** -> ***Information stored in a digital format, which can then be used as a base for performing analyses and decision making.***\n",
    "> - Traditional Data - Structured and can be managed from 1 computer. Like SQL table.\n",
    "> - Big Data - Extremely Large data. It can be in various formats. Can be structured or unstructured. Requires more amount of memory space. Distributed b/w many computers.\n",
    ">\n",
    "> This section is first port of call for business problem solving."
   ],
   "metadata": {
    "collapsed": false,
    "pycharm": {
     "name": "#%% md\n"
    }
   }
  },
  {
   "cell_type": "markdown",
   "source": [
    "> **Data Science** -> A Broad subject combines statistical, mathematical, programming, problem-solving, data management.\n",
    "> - **BI** - After the data has been gathered & organized. Analyze the past data. Includes all technology-driven tools involved in the process of analyzing, understanding and reporting available past data. Results in having **Reports** and **Dashboards**  which helps in making decisions, extracting insights and ideas. Gives you edge over competitors. Understanding past business performance in order to improve future performance.\n",
    "\n",
    "> - **Traditional DS** - From here we start looking into the future after BI reports have been created and discussed. Traditional DS are a set of methods that are derived mainly from statistics and are adapted for business. Perfect for forecasting future performance with great accuracy.\n",
    "\n",
    "> - **Machine Learning** - With maths + significant amount of GPU + AI =  machine is given the ability to predict outcomes from data without being explicitly programmed to. ML is all about algorithms that let machines :- 1. Receive Data  2. Perform Calculations  3. Apply Stats  4. Predictions with unprecedented accuracy."
   ],
   "metadata": {
    "collapsed": false,
    "pycharm": {
     "name": "#%% md\n"
    }
   }
  },
  {
   "cell_type": "markdown",
   "source": [
    "#####"
   ],
   "metadata": {
    "collapsed": false,
    "pycharm": {
     "name": "#%% md\n"
    }
   }
  },
  {
   "cell_type": "markdown",
   "source": [
    "### Purpose of each Data Science fields"
   ],
   "metadata": {
    "collapsed": false,
    "pycharm": {
     "name": "#%% md\n"
    }
   }
  },
  {
   "cell_type": "markdown",
   "source": [
    "> BI analyst translates raw data into metrics and visualizations\n",
    "> Traditional DS uses traditional stats approaches to create predictive model.\n",
    "> ML takes DS into next level by having ability to predict huge amount of data."
   ],
   "metadata": {
    "collapsed": false,
    "pycharm": {
     "name": "#%% md\n"
    }
   }
  },
  {
   "cell_type": "markdown",
   "source": [
    "##"
   ],
   "metadata": {
    "collapsed": false,
    "pycharm": {
     "name": "#%% md\n"
    }
   }
  },
  {
   "cell_type": "markdown",
   "source": [
    "## Traditional Data"
   ],
   "metadata": {
    "collapsed": false,
    "pycharm": {
     "name": "#%% md\n"
    }
   }
  },
  {
   "cell_type": "markdown",
   "source": [
    "> #### ***Techniques***\n",
    "\n",
    "> -  First Data Collection is done where we gather 'Raw Data' (Can't be analysed straight away).\n",
    "> -  Second Data Pre-Processing is done which is a group of operations which makes raw data more understandable and useful for processing. eg. Fixing age from 530 to 30. Some applications of Pre-Processing are :- 1. class labeling  means arranging data by category   2. Data Cleaning means dealing with inconsistent data   3. Dealing with missing values.\n",
    "\n",
    "> -  Approaches specific to working with Traditional Data:- 1. Balancing - We balance unequal number of entries.   2. Shuffling - It's a way to randomize data and then check if data is not misleading.\n",
    "\n",
    "> - Visualizations associated with relational database management systems :- ER Diagram  and  Relational Schema"
   ],
   "metadata": {
    "collapsed": false,
    "pycharm": {
     "name": "#%% md\n"
    }
   }
  },
  {
   "cell_type": "markdown",
   "source": [
    "> ####  ***Real-Life Examples***\n",
    "\n",
    "> **SQL Table**\n",
    "> In SQL Table there are 2 types of data:-\n",
    "> - Categorical - They hold no numeric value, can't be manipulated. eg. customer ID, which seems numerical but we can't make anything out of it.\n",
    "> - Numerical - They hold numerical value, can be manipulated. eg. number of complaints by customer, adding them all can give us some insight.\n",
    "\n",
    "> **Historical Stock Price Data**\n",
    "> Here also there is categorical and numerical data. Stock date is categorical and price point is numerical.\n",
    "\n",
    "\n",
    "> #### ***Tools***\n",
    ">\n",
    "> - Language -> R, Python, SQL, Matlab\n",
    "> - Software -> Excel, IBM SPSS\n",
    "\n",
    "\n",
    "> #### ***Roles & Jobs***\n",
    ">\n",
    "> - Data Architect -> Designs the way daa will be retrieved, processed and consumed.\n",
    "> - Data Engineer -> Processes the obtained data so that it is ready for analysis. Gives clean and organized data.\n",
    "> - Database Admin -> Handles flow of data."
   ],
   "metadata": {
    "collapsed": false,
    "pycharm": {
     "name": "#%% md\n"
    }
   }
  },
  {
   "cell_type": "markdown",
   "source": [
    "###"
   ],
   "metadata": {
    "collapsed": false,
    "pycharm": {
     "name": "#%% md\n"
    }
   }
  },
  {
   "cell_type": "markdown",
   "source": [
    "## Big Data"
   ],
   "metadata": {
    "collapsed": false,
    "pycharm": {
     "name": "#%% md\n"
    }
   }
  },
  {
   "cell_type": "markdown",
   "source": [
    "> #### ***Techniques***\n",
    "\n",
    "> - Data is derived from many sources.\n",
    "> - Data Collection & Pre-Processing is done here too.\n",
    "> - In Pre-Processing things are complex here as it includes number, text, digital images, digital video data, digital audio data.\n",
    "> - Becoz of wide range of data, comes a wider range of data cleansing methods.\n",
    "> - Big Data comes often with many missing values which is major problem.\n",
    "\n",
    "> ***Case Specifics***\n",
    "> - Text Data Mining - Process of deriving valuable, unstructured data from a text. It's like extracting text from various sources like blog, academic paper, excel files, web etc.\n",
    "> - Data Masking - Conceals the original data with random and false data. Keep all confidential information in a secure place."
   ],
   "metadata": {
    "collapsed": false,
    "pycharm": {
     "name": "#%% md\n"
    }
   }
  },
  {
   "cell_type": "markdown",
   "source": [
    "> #### ***Real-Life Examples***\n",
    ">\n",
    "> Companies like Facebook keep record of images, personal textual info, audios, videos that makes lot of variety. Hence company is working real hard on real-time data processing, increasing the velocity of dataset.\n",
    "> Stock prices companies also require it as they are recording data every second of hundreds of assets.\n",
    "\n",
    "\n",
    "> #### ***Tools***\n",
    "\n",
    "> - Language -> R, Python, Java, Scala\n",
    "> - Software -> Hadoop, HBase, MongoDB\n",
    "\n",
    "\n",
    "> #### ***Roles & Jobs***\n",
    ">\n",
    "> - Data Architect -> Designs the way daa will be retrieved, processed and consumed.\n",
    "> - Data Engineer -> Processes the obtained data so that it is ready for analysis. Gives clean and organized data."
   ],
   "metadata": {
    "collapsed": false,
    "pycharm": {
     "name": "#%% md\n"
    }
   }
  },
  {
   "cell_type": "markdown",
   "source": [
    "###"
   ],
   "metadata": {
    "collapsed": false,
    "pycharm": {
     "name": "#%% md\n"
    }
   }
  },
  {
   "cell_type": "markdown",
   "source": [
    "## Business Intelligence (BI)"
   ],
   "metadata": {
    "collapsed": false,
    "pycharm": {
     "name": "#%% md\n"
    }
   }
  },
  {
   "cell_type": "markdown",
   "source": [
    "> #### ***BI Analyst***\n",
    ">\n",
    "> - BI Analyst is an important and interesting job that requires to understand the essence of a business and strengthen that business through the power of the data.\n",
    "> - By this stage Data is beautifully organized and we can see information each entry conveys.\n",
    "> - Here we start applying data skills + business knowledge & intuition to **explain past performance** of company with conviction.\n",
    "> - You can answer How and When questions.\n",
    "> - A good BI Analyst look at problem from various angles.\n",
    ">\n",
    "> We start to convert observations into **Quantifications** which is the process of representing observations as numbers (using visualization). Then further do requires **measures** which is the accumulation of observations to show some information (Simple descriptive stats).\n",
    "\n",
    "\n",
    "> #### ***Extract Info & Present in form of:***\n",
    ">\n",
    "> - Metrics : Aims at gauging business performance or progress. Measure + Business Meaning. eg. Revenue/customer will show how much each customer paid. We extract thousands of metrics if our observation set is huge.\n",
    "> - Key Performance Indicators (KPIs) : Since we don't need to tract of ALL metrics, so we use KPIs. Metrics + Business Objectives. A Metric can be a traffic on website from any user and KPI can be traffic generated only from users who have clicked on a link provided in ad campaign.\n",
    "> - Then whatever metrics, KPI we get, it must be reported via visualization for better and concise understanding of others teammates.\n",
    "\n",
    "\n",
    "> #### ***Real-Life Examples***\n",
    ">\n",
    "> - Useful in Price Optimization : Hotels use price optimization very effectively by increasing price when demand is high. BI allows you to change your strategy in real time.\n",
    "> - Inventory Management : Supplying enough amount of stock to meet demand and reduce wastage and cost.\n",
    "\n",
    "\n",
    "> #### ***Tools***\n",
    "\n",
    "> - Langauge-> R, Python, SQL, Matlab\n",
    "> - Software -> Excel, Power BI, SAS, Qlink, Tableau\n",
    "\n",
    "\n",
    "> #### ***Roles & Jobs***\n",
    ">\n",
    "> - BI Analyst -> Performs analyses and reporting of past historical data.\n",
    "> - BI Consultant ->  'External BI Analyst', they work kinda similar but maybe hired for a project only.\n",
    "> - BI Developer -> Handles advanced programming tools like Python, SQL in order to perform analyses specifically designed for the company."
   ],
   "metadata": {
    "collapsed": false,
    "pycharm": {
     "name": "#%% md\n"
    }
   }
  },
  {
   "cell_type": "markdown",
   "source": [
    "##"
   ],
   "metadata": {
    "collapsed": false,
    "pycharm": {
     "name": "#%% md\n"
    }
   }
  },
  {
   "cell_type": "markdown",
   "source": [
    "## Traditional Methods (DS)"
   ],
   "metadata": {
    "collapsed": false,
    "pycharm": {
     "name": "#%% md\n"
    }
   }
  },
  {
   "cell_type": "markdown",
   "source": [
    "> #### ***Techniques***\n",
    ">\n",
    "> - Once executives have extracted information from the reports, then we use it to predict future values as accurately as possible.\n",
    "> - We stop analysis and start analytics. Predictive Analytics.\n",
    ">\n",
    "> - **Regression** : A model used for quantifying casual relationships among the different variables included in your analysis. Linear Regression.\n",
    "> - **Logistic Regression** : Here the values on the vertical line will be 1s and 0s only. Eg. company uses it for candidate screening as they give 1 to those who perform good 0 to bad ones.\n",
    "> - **Clustering** : When data is divided into few groups then we use cluster analysis.\n",
    "> - **Factor Analysis** : We combine complex data of similar types into a single set which allows us to put dozens of variables into a single variable for further calc.\n",
    "\n",
    "> ***Cluster means grouping observations together. Factor means grouping explanatory variables together.***\n",
    "\n",
    "> - **Time Series** : Useful in economics or finance where we work with prices and time. Eg stock prices or sales volume.\n",
    "> There are tons of more techniques one can use as per the requirement.\n",
    "\n",
    "\n",
    "> #### ***Real-Life Examples***\n",
    ">\n",
    "> - There is a wide range of examples where traditional methods can be used. Some of the are :\n",
    "> - User Experience : Using clustering to find which group likes to see website in one way.\n",
    "> - Sales Forecasting : Every business or financial company does this. Time series analysis is most required here.\n",
    "\n",
    "\n",
    "> #### ***Tools***\n",
    "\n",
    "> - Language -> R, Python, Matlab\n",
    "> - Software -> Excel, IBM SPSS, Eviews, Stata\n",
    "\n",
    "\n",
    "> #### ***Roles & Jobs***\n",
    ">\n",
    "> - Data Scientist -> Employs traditional statistical methods or unconventional machine learning techniques for making predictions.\n",
    "> - Data Analyst -> Prepares more advanced types of analyses. Do the basic part of prediction of DS team."
   ],
   "metadata": {
    "collapsed": false,
    "pycharm": {
     "name": "#%% md\n"
    }
   }
  },
  {
   "cell_type": "markdown",
   "source": [
    "##"
   ],
   "metadata": {
    "collapsed": false,
    "pycharm": {
     "name": "#%% md\n"
    }
   }
  },
  {
   "cell_type": "markdown",
   "source": [
    "## Machine Learning"
   ],
   "metadata": {
    "collapsed": false,
    "pycharm": {
     "name": "#%% md\n"
    }
   }
  },
  {
   "cell_type": "markdown",
   "source": [
    "> #### ***Intro***\n",
    ">\n",
    "> Creating an algorithm, which a computer then uses to find a model that fits the data as best as possible and makes very accurate predictions based on that.\n",
    "> ML can improve complex computational models.\n",
    "\n",
    "\n",
    "> #### ***Types of ML***\n",
    "\n",
    "> - Supervised Learning : Training an algorithm resembles a teacher supervising her students. We worked with **Labelled Data**  which means we know the target prior to shot and associating that shot with target.\n",
    "> - Unsupervised Learning : When we don't have time or resources, we can use this type. We have unlabelled data here. Better to use this type as sometimes we get to see the data which we couldn't see earlier. Then apply supervised learning.\n",
    "> - Reinforcement Learning : We introduce reward system. Maximizes the rewards on wins.\n",
    "\n",
    "\n",
    "> #### ***Popular Approaches of Supervised Learning***\n",
    "\n",
    "> - Support Vector Machines (SVMs)\n",
    "> - Neural Networks\n",
    "> - Deep Learning\n",
    "> - Random Forests\n",
    "> - Bayesian Networks\n",
    "\n",
    "\n",
    "> #### ***Popular Approaches of Unsupervised Learning***\n",
    "\n",
    "> - k-means\n",
    "> - Deep Learning : New & revolutionary approach. Fundamentally different from other approaches. It has broad practical scope of application with extremely high accuracy.\n",
    "\n",
    "\n",
    "> #### ***Real-Life Examples***\n",
    "\n",
    "> - Financial Sector : They have incredible amount of data so they use ML algo to Detect Fraud. Even if they find slightest probability of fraud, machine flags it. (Supervised)\n",
    "> - Retail : Commerce companies automate the process of discounts by seeing the data and predicting when is the right time for discount. This way companies effectively retain their clients. Minimize marketing cost and maximize profits.\n",
    "\n",
    "\n",
    "> #### ***Tools***\n",
    "\n",
    "> - Language -> R, Python, Matlab, Java, JS, C, Scala, C++\n",
    "> - Software -> Azure, Rapiminer\n",
    "\n",
    "\n",
    "> #### ***Roles & Jobs***\n",
    ">\n",
    "> - Data Scientist -> Employs traditional statistical methods or unconventional machine learning techniques for making predictions.\n",
    "> - ML Engineer -> Applies state-of-the-art computational models. Solving and automatic complex DS and Business tasks."
   ],
   "metadata": {
    "collapsed": false,
    "pycharm": {
     "name": "#%% md\n"
    }
   }
  },
  {
   "cell_type": "markdown",
   "source": [
    "#"
   ],
   "metadata": {
    "collapsed": false,
    "pycharm": {
     "name": "#%% md\n"
    }
   }
  },
  {
   "cell_type": "markdown",
   "source": [
    "#"
   ],
   "metadata": {
    "collapsed": false,
    "pycharm": {
     "name": "#%% md\n"
    }
   }
  },
  {
   "cell_type": "markdown",
   "source": [
    "Common Misconceptions :-\n",
    "\n",
    "- 200K lines of data isn't termed as Big Data.\n",
    "- Qualitative analysis like SWOT are not used for Quantitative analysis. Hence are not part of BI.\n",
    "\n",
    "\n",
    "Remember, Storytelling is a crucial skill. Data Scientist should have the ability to express complex mathematical and programming concepts to end users."
   ],
   "metadata": {
    "collapsed": false,
    "pycharm": {
     "name": "#%% md\n"
    }
   }
  }
 ],
 "metadata": {
  "kernelspec": {
   "display_name": "Python 3",
   "language": "python",
   "name": "python3"
  },
  "language_info": {
   "codemirror_mode": {
    "name": "ipython",
    "version": 2
   },
   "file_extension": ".py",
   "mimetype": "text/x-python",
   "name": "python",
   "nbconvert_exporter": "python",
   "pygments_lexer": "ipython2",
   "version": "2.7.6"
  }
 },
 "nbformat": 4,
 "nbformat_minor": 0
}