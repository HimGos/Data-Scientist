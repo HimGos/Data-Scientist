{
 "cells": [
  {
   "cell_type": "code",
   "execution_count": 11,
   "outputs": [],
   "source": [
    "import numpy as np\n",
    "import pandas as pd\n",
    "from scipy.stats import ttest_1samp         # To play with one variable use ttest_1samp"
   ],
   "metadata": {
    "collapsed": false,
    "pycharm": {
     "name": "#%%\n"
    }
   }
  },
  {
   "cell_type": "code",
   "execution_count": 5,
   "metadata": {
    "collapsed": true,
    "pycharm": {
     "name": "#%%\n"
    }
   },
   "outputs": [],
   "source": [
    "ages = [10,12,34,21,23,64,23,67,43,23,35,32,21,23,46,43,21,54,72,89,34,21,10,15,20,19,18,17, 16,71, 80,44]"
   ]
  },
  {
   "cell_type": "code",
   "execution_count": 6,
   "outputs": [
    {
     "data": {
      "text/plain": "32"
     },
     "execution_count": 6,
     "metadata": {},
     "output_type": "execute_result"
    }
   ],
   "source": [
    "len(ages)               # population Data"
   ],
   "metadata": {
    "collapsed": false,
    "pycharm": {
     "name": "#%%\n"
    }
   }
  },
  {
   "cell_type": "code",
   "execution_count": 8,
   "outputs": [
    {
     "data": {
      "text/plain": "35.03125"
     },
     "execution_count": 8,
     "metadata": {},
     "output_type": "execute_result"
    }
   ],
   "source": [
    "np.mean(ages)"
   ],
   "metadata": {
    "collapsed": false,
    "pycharm": {
     "name": "#%%\n"
    }
   }
  },
  {
   "cell_type": "markdown",
   "source": [
    "H0 mean = 35   # Null hypothesis\n",
    "H1 mean != 35 # Alternate Hypothesis"
   ],
   "metadata": {
    "collapsed": false,
    "pycharm": {
     "name": "#%% md\n"
    }
   }
  },
  {
   "cell_type": "code",
   "execution_count": 9,
   "outputs": [],
   "source": [
    "# Sample of data\n",
    "\n",
    "sample_size = 10            # For sample value less than 30 we take t-test\n",
    "\n",
    "age_sample = np.random.choice(ages, sample_size)"
   ],
   "metadata": {
    "collapsed": false,
    "pycharm": {
     "name": "#%%\n"
    }
   }
  },
  {
   "cell_type": "code",
   "execution_count": 10,
   "outputs": [
    {
     "data": {
      "text/plain": "array([23, 16, 46, 44, 34, 43, 71, 19, 54, 10])"
     },
     "execution_count": 10,
     "metadata": {},
     "output_type": "execute_result"
    }
   ],
   "source": [
    "\n",
    "age_sample"
   ],
   "metadata": {
    "collapsed": false,
    "pycharm": {
     "name": "#%%\n"
    }
   }
  },
  {
   "cell_type": "code",
   "execution_count": 12,
   "outputs": [],
   "source": [
    "# We will apply ttest_1samp\n",
    "\n",
    "_,p_value = ttest_1samp(age_sample, np.mean(ages))                # CI is 95 by default"
   ],
   "metadata": {
    "collapsed": false,
    "pycharm": {
     "name": "#%%\n"
    }
   }
  },
  {
   "cell_type": "code",
   "execution_count": 13,
   "outputs": [
    {
     "data": {
      "text/plain": "0.8764268900204052"
     },
     "execution_count": 13,
     "metadata": {},
     "output_type": "execute_result"
    }
   ],
   "source": [
    "p_value"
   ],
   "metadata": {
    "collapsed": false,
    "pycharm": {
     "name": "#%%\n"
    }
   }
  },
  {
   "cell_type": "code",
   "execution_count": 15,
   "outputs": [
    {
     "name": "stdout",
     "output_type": "stream",
     "text": [
      "We fail to reject null hypothesis\n"
     ]
    }
   ],
   "source": [
    "# Checking if we should reject or accept H0\n",
    "\n",
    "if p_value < 0.05 :                                         # 0.05 is significance value\n",
    "    print(\"We are rejecting the null hypothsis\")\n",
    "else:\n",
    "    print(\"We fail to reject null hypothesis\")"
   ],
   "metadata": {
    "collapsed": false,
    "pycharm": {
     "name": "#%%\n"
    }
   }
  },
  {
   "cell_type": "markdown",
   "source": [],
   "metadata": {
    "collapsed": false,
    "pycharm": {
     "name": "#%% md\n"
    }
   }
  },
  {
   "cell_type": "markdown",
   "source": [
    "# Anova (f-test)"
   ],
   "metadata": {
    "collapsed": false,
    "pycharm": {
     "name": "#%% md\n"
    }
   }
  },
  {
   "cell_type": "code",
   "execution_count": 43,
   "outputs": [],
   "source": [
    "import seaborn as sns"
   ],
   "metadata": {
    "collapsed": false,
    "pycharm": {
     "name": "#%%\n"
    }
   }
  },
  {
   "cell_type": "code",
   "execution_count": 44,
   "outputs": [],
   "source": [
    "df = sns.load_dataset('iris')"
   ],
   "metadata": {
    "collapsed": false,
    "pycharm": {
     "name": "#%%\n"
    }
   }
  },
  {
   "cell_type": "code",
   "execution_count": 45,
   "outputs": [],
   "source": [
    "df_anova = df[['petal_width', 'species']]"
   ],
   "metadata": {
    "collapsed": false,
    "pycharm": {
     "name": "#%%\n"
    }
   }
  },
  {
   "cell_type": "code",
   "execution_count": 46,
   "outputs": [],
   "source": [
    "grps = pd.unique(df_anova.species.values)"
   ],
   "metadata": {
    "collapsed": false,
    "pycharm": {
     "name": "#%%\n"
    }
   }
  },
  {
   "cell_type": "code",
   "execution_count": 47,
   "outputs": [
    {
     "data": {
      "text/plain": "array(['setosa', 'versicolor', 'virginica'], dtype=object)"
     },
     "execution_count": 47,
     "metadata": {},
     "output_type": "execute_result"
    }
   ],
   "source": [
    "grps"
   ],
   "metadata": {
    "collapsed": false,
    "pycharm": {
     "name": "#%%\n"
    }
   }
  },
  {
   "cell_type": "code",
   "execution_count": 48,
   "outputs": [],
   "source": [
    "d_data = {i:df_anova['petal_width'][df_anova.species == i] for i in grps}         #Dictionary comprehension"
   ],
   "metadata": {
    "collapsed": false,
    "pycharm": {
     "name": "#%%\n"
    }
   }
  },
  {
   "cell_type": "code",
   "execution_count": 49,
   "outputs": [
    {
     "data": {
      "text/plain": "{'setosa': 0     0.2\n 1     0.2\n 2     0.2\n 3     0.2\n 4     0.2\n 5     0.4\n 6     0.3\n 7     0.2\n 8     0.2\n 9     0.1\n 10    0.2\n 11    0.2\n 12    0.1\n 13    0.1\n 14    0.2\n 15    0.4\n 16    0.4\n 17    0.3\n 18    0.3\n 19    0.3\n 20    0.2\n 21    0.4\n 22    0.2\n 23    0.5\n 24    0.2\n 25    0.2\n 26    0.4\n 27    0.2\n 28    0.2\n 29    0.2\n 30    0.2\n 31    0.4\n 32    0.1\n 33    0.2\n 34    0.2\n 35    0.2\n 36    0.2\n 37    0.1\n 38    0.2\n 39    0.2\n 40    0.3\n 41    0.3\n 42    0.2\n 43    0.6\n 44    0.4\n 45    0.3\n 46    0.2\n 47    0.2\n 48    0.2\n 49    0.2\n Name: petal_width, dtype: float64,\n 'versicolor': 50    1.4\n 51    1.5\n 52    1.5\n 53    1.3\n 54    1.5\n 55    1.3\n 56    1.6\n 57    1.0\n 58    1.3\n 59    1.4\n 60    1.0\n 61    1.5\n 62    1.0\n 63    1.4\n 64    1.3\n 65    1.4\n 66    1.5\n 67    1.0\n 68    1.5\n 69    1.1\n 70    1.8\n 71    1.3\n 72    1.5\n 73    1.2\n 74    1.3\n 75    1.4\n 76    1.4\n 77    1.7\n 78    1.5\n 79    1.0\n 80    1.1\n 81    1.0\n 82    1.2\n 83    1.6\n 84    1.5\n 85    1.6\n 86    1.5\n 87    1.3\n 88    1.3\n 89    1.3\n 90    1.2\n 91    1.4\n 92    1.2\n 93    1.0\n 94    1.3\n 95    1.2\n 96    1.3\n 97    1.3\n 98    1.1\n 99    1.3\n Name: petal_width, dtype: float64,\n 'virginica': 100    2.5\n 101    1.9\n 102    2.1\n 103    1.8\n 104    2.2\n 105    2.1\n 106    1.7\n 107    1.8\n 108    1.8\n 109    2.5\n 110    2.0\n 111    1.9\n 112    2.1\n 113    2.0\n 114    2.4\n 115    2.3\n 116    1.8\n 117    2.2\n 118    2.3\n 119    1.5\n 120    2.3\n 121    2.0\n 122    2.0\n 123    1.8\n 124    2.1\n 125    1.8\n 126    1.8\n 127    1.8\n 128    2.1\n 129    1.6\n 130    1.9\n 131    2.0\n 132    2.2\n 133    1.5\n 134    1.4\n 135    2.3\n 136    2.4\n 137    1.8\n 138    1.8\n 139    2.1\n 140    2.4\n 141    2.3\n 142    1.9\n 143    2.3\n 144    2.5\n 145    2.3\n 146    1.9\n 147    2.0\n 148    2.3\n 149    1.8\n Name: petal_width, dtype: float64}"
     },
     "execution_count": 49,
     "metadata": {},
     "output_type": "execute_result"
    }
   ],
   "source": [
    "d_data"
   ],
   "metadata": {
    "collapsed": false,
    "pycharm": {
     "name": "#%%\n"
    }
   }
  },
  {
   "cell_type": "markdown",
   "source": [],
   "metadata": {
    "collapsed": false,
    "pycharm": {
     "name": "#%% md\n"
    }
   }
  },
  {
   "cell_type": "markdown",
   "source": [
    "> ## One way Anova Test"
   ],
   "metadata": {
    "collapsed": false,
    "pycharm": {
     "name": "#%% md\n"
    }
   }
  },
  {
   "cell_type": "code",
   "execution_count": 53,
   "outputs": [],
   "source": [
    "from scipy import stats\n",
    "\n",
    "F, p_value = stats.f_oneway(d_data['setosa'], d_data['versicolor'], d_data['virginica'])"
   ],
   "metadata": {
    "collapsed": false,
    "pycharm": {
     "name": "#%%\n"
    }
   }
  },
  {
   "cell_type": "code",
   "execution_count": 55,
   "outputs": [
    {
     "name": "stdout",
     "output_type": "stream",
     "text": [
      "4.169445839443116e-85\n"
     ]
    }
   ],
   "source": [
    "print(p_value)"
   ],
   "metadata": {
    "collapsed": false,
    "pycharm": {
     "name": "#%%\n"
    }
   }
  },
  {
   "cell_type": "code",
   "execution_count": 56,
   "outputs": [
    {
     "name": "stdout",
     "output_type": "stream",
     "text": [
      "We reject null hypothesis\n"
     ]
    }
   ],
   "source": [
    "if p_value < 0.05:\n",
    "    print(\"We reject null hypothesis\")\n",
    "else:\n",
    "    print(\"we fail to reject null hypothesis\")"
   ],
   "metadata": {
    "collapsed": false,
    "pycharm": {
     "name": "#%%\n"
    }
   }
  },
  {
   "cell_type": "markdown",
   "source": [
    "H0  =  average mean petal of all special are equal\n",
    "H1 = not equal"
   ],
   "metadata": {
    "collapsed": false,
    "pycharm": {
     "name": "#%% md\n"
    }
   }
  },
  {
   "cell_type": "markdown",
   "source": [],
   "metadata": {
    "collapsed": false,
    "pycharm": {
     "name": "#%% md\n"
    }
   }
  },
  {
   "cell_type": "markdown",
   "source": [
    "# Z test"
   ],
   "metadata": {
    "collapsed": false,
    "pycharm": {
     "name": "#%% md\n"
    }
   }
  },
  {
   "cell_type": "code",
   "execution_count": 58,
   "outputs": [],
   "source": [
    "from statsmodels.stats.weightstats import ztest"
   ],
   "metadata": {
    "collapsed": false,
    "pycharm": {
     "name": "#%%\n"
    }
   }
  },
  {
   "cell_type": "code",
   "execution_count": null,
   "outputs": [],
   "source": [],
   "metadata": {
    "collapsed": false,
    "pycharm": {
     "name": "#%%\n"
    }
   }
  }
 ],
 "metadata": {
  "kernelspec": {
   "display_name": "Python 3",
   "language": "python",
   "name": "python3"
  },
  "language_info": {
   "codemirror_mode": {
    "name": "ipython",
    "version": 2
   },
   "file_extension": ".py",
   "mimetype": "text/x-python",
   "name": "python",
   "nbconvert_exporter": "python",
   "pygments_lexer": "ipython2",
   "version": "2.7.6"
  }
 },
 "nbformat": 4,
 "nbformat_minor": 0
}