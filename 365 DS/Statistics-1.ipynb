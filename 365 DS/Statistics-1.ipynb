{
 "cells": [
  {
   "cell_type": "markdown",
   "source": [
    "# Population & Sample"
   ],
   "metadata": {
    "collapsed": false,
    "pycharm": {
     "name": "#%% md\n"
    }
   }
  },
  {
   "cell_type": "markdown",
   "source": [
    "The first step of any statistical analysis we perform is to determine whether the data we are dealing with is **Population** or **Sample**."
   ],
   "metadata": {
    "collapsed": false,
    "pycharm": {
     "name": "#%% md\n"
    }
   }
  },
  {
   "cell_type": "markdown",
   "source": [
    "> Population is a collection of all items of interest. Denoted by **'N'**.\n",
    "> Numbers we have obtained when using population are called **parameters**."
   ],
   "metadata": {
    "collapsed": false,
    "pycharm": {
     "name": "#%% md\n"
    }
   }
  },
  {
   "cell_type": "markdown",
   "source": [
    "> Sample is a subset of the population. Denoted by **'n'**.\n",
    "> Number we have obtained when using sample are called statistics."
   ],
   "metadata": {
    "collapsed": false,
    "pycharm": {
     "name": "#%% md\n"
    }
   }
  },
  {
   "cell_type": "markdown",
   "source": [
    "Let say you wanna count the total number of students in a university. You can't just go to university and get correct total because some students might be absent or learning from distance or abroad or part time. Hence, ***Populations are hard to define and hard to observe in real life.***\n",
    "\n",
    "A Sample however is much easier to gather. It is less time consuming and less costly. Eg. we can go to canteen of university and take survey of 50 students.... This sample is drawn from the population of university.\n",
    "\n",
    "***Populations are hard to observe & contact. Samples are easy to observe and contact.***\n",
    "\n",
    "You will almost always be working with sample data and make data driven decisions based on it. Samples are key to statistical insights. They have 2 defining characteristics:-\n",
    "- Randomness : A random sample is collected when each member of the sample is chosen from the population strictly by chance.\n",
    "- Representativeness : A representative sample is a subset of the population that accurately reflects the members of the entire population.\n",
    "\n",
    "A sample must be both random and representative for an insight to be precise."
   ],
   "metadata": {
    "collapsed": false,
    "pycharm": {
     "name": "#%% md\n"
    }
   }
  },
  {
   "cell_type": "markdown",
   "source": [],
   "metadata": {
    "collapsed": false,
    "pycharm": {
     "name": "#%% md\n"
    }
   }
  },
  {
   "cell_type": "markdown",
   "source": [],
   "metadata": {
    "collapsed": false,
    "pycharm": {
     "name": "#%% md\n"
    }
   }
  },
  {
   "cell_type": "markdown",
   "source": [
    "# Types of Data"
   ],
   "metadata": {
    "collapsed": false,
    "pycharm": {
     "name": "#%% md\n"
    }
   }
  },
  {
   "cell_type": "markdown",
   "source": [
    "***We classify Data in 2 main ways :- 1. Type  2. Measurement Level***"
   ],
   "metadata": {
    "collapsed": false,
    "pycharm": {
     "name": "#%% md\n"
    }
   }
  },
  {
   "cell_type": "markdown",
   "source": [
    "> **CATEGORICAL Data** : Describe category or groups. Eg, Car brands, Yes/No Questions.\n",
    "\n",
    "> **NUMERICAL Data** : Contains meaningful numbers. Has 2 subsets ->\n",
    "> - **Discrete**   ->  Discrete data can be counted in a finite manner. Eg. How many children I want?  Exam Score?  .... We know a range to expect number in.\n",
    "> - **Continuous** ->  Infinite and impossible to count. Eg. My weight can take any value at some range. It maybe 85.364 Kg, but if I eat something then it will change by some decimal."
   ],
   "metadata": {
    "collapsed": false,
    "pycharm": {
     "name": "#%% md\n"
    }
   }
  },
  {
   "cell_type": "markdown",
   "source": [
    "Discrete examples : Grades at university, Number of objects, physical money.\n",
    "Continuous examples : Height, Area, Distance, Time. All of these vary by infinitely smaller amounts. Time on clock is discrete by time in general isn't."
   ],
   "metadata": {
    "collapsed": false,
    "pycharm": {
     "name": "#%% md\n"
    }
   }
  },
  {
   "cell_type": "markdown",
   "source": [],
   "metadata": {
    "collapsed": false,
    "pycharm": {
     "name": "#%% md\n"
    }
   }
  },
  {
   "cell_type": "markdown",
   "source": [],
   "metadata": {
    "collapsed": false,
    "pycharm": {
     "name": "#%% md\n"
    }
   }
  },
  {
   "cell_type": "markdown",
   "source": [
    "# Levels of Measurement"
   ],
   "metadata": {
    "collapsed": false,
    "pycharm": {
     "name": "#%% md\n"
    }
   }
  },
  {
   "cell_type": "markdown",
   "source": [
    "> **QUALITATIVE** :\n",
    "> - **Nominal**  ->  These variable are the categories like car brands, seasons etc. They aren't in numbers and cannot be ordered.\n",
    "> - **Ordinal**  ->  Consist of categoryies which follow a strict order. Eg. Rating the taste of food, though it can be from disgusting to Delicious but we know we are heading from negative to positive."
   ],
   "metadata": {
    "collapsed": false,
    "pycharm": {
     "name": "#%% md\n"
    }
   }
  },
  {
   "cell_type": "markdown",
   "source": [
    "> **QUANTITATIVE** :\n",
    "> - **Interval**  ->  Represented by number but doesn't have a True 0. Eg. Temperature in C/F, as it doesn't have a true ratio and doesn't have true 0.\n",
    "> - **Ratio**  ->  Represented by number but have a True 0. Eg. Temperature in Kelvin, it can be really a zero.\n",
    ">\n",
    "> Numbers like 2,3,4,10.5 etc can be both interval and ratio."
   ],
   "metadata": {
    "collapsed": false,
    "pycharm": {
     "name": "#%% md\n"
    }
   }
  },
  {
   "cell_type": "markdown",
   "source": [],
   "metadata": {
    "collapsed": false,
    "pycharm": {
     "name": "#%% md\n"
    }
   }
  },
  {
   "cell_type": "markdown",
   "source": [],
   "metadata": {
    "collapsed": false,
    "pycharm": {
     "name": "#%% md\n"
    }
   }
  },
  {
   "cell_type": "markdown",
   "source": [
    "# Data Visualization"
   ],
   "metadata": {
    "collapsed": false,
    "pycharm": {
     "name": "#%% md\n"
    }
   }
  },
  {
   "cell_type": "markdown",
   "source": [
    "It's much easier to visualize data once we know it's type and measurement level."
   ],
   "metadata": {
    "collapsed": false,
    "pycharm": {
     "name": "#%% md\n"
    }
   }
  },
  {
   "cell_type": "markdown",
   "source": [
    "### ***Categorical Variables Representation***  ->\n",
    "\n",
    "- Frequency Distribution Tables.\n",
    "- Bar Charts.\n",
    "- Pie Charts.\n",
    "- Pareto Diagrams."
   ],
   "metadata": {
    "collapsed": false,
    "pycharm": {
     "name": "#%% md\n"
    }
   }
  },
  {
   "cell_type": "markdown",
   "source": [
    "> 1. Frequency Distribution Table concludes of 2 columns... Categorical Variables and Frequency. Frequency is the number of occurrence of each item.\n",
    "> 2. Bar Chart or Column Chart has 2 axis where vertical axis shows Frequency and Horizontal axis represents the Categorical variables.\n",
    "> 3. Pie Chart require the percentage of variables out of 100. These percentage also known as Relative Frequency. Eg. Market Shares are shown by pie charts.\n",
    "> 4. Pareto Diagram is a special type of bar chart where categories are shown in descending order of frequency. Then we put curve on the graph showing the cumulative frequency which is the sum of relative frequencies.\n",
    ">\n",
    "> Pareto Diagram combines the strong sides of the bar and pie charts."
   ],
   "metadata": {
    "collapsed": false,
    "pycharm": {
     "name": "#%% md\n"
    }
   }
  },
  {
   "cell_type": "markdown",
   "source": [
    "### ***Numerical Variables Representation***  ->\n",
    "\n",
    "- Frequency Distribution Tables.\n",
    "- Histogram\n",
    "- Cross Table\n",
    "- Scatter Plot"
   ],
   "metadata": {
    "collapsed": false,
    "pycharm": {
     "name": "#%% md\n"
    }
   }
  },
  {
   "cell_type": "markdown",
   "source": [
    "When working with normal numbers, it's better to group them as per the intervals, it will give us Frequency to easily plot them on charts. Largest-Smallest/No. of desired Freq.\n",
    "Relative Frequency  =  Frequency of variable / Total Frequency\n",
    "\n",
    "Difference between bar chart and histogram is , in histogram both axis are numerical. Usually Horizontal with Intervals and Vertical with Frequency, it can be absolute or relative freq.\n",
    "\n",
    "To show relationship b/w two variable, use Cross Table & Scatter Plots.\n",
    "- Categorical Variables : Use Cross Table. Also known as Side-by-side chart. Eg. showing how much money 3 investors have invested in 3 different stocks.\n",
    "- Numerical Variables : Use Scatter Plot. Eg. How much score 100 students got in English and Maths subject."
   ],
   "metadata": {
    "collapsed": false,
    "pycharm": {
     "name": "#%% md\n"
    }
   }
  },
  {
   "cell_type": "markdown",
   "source": [],
   "metadata": {
    "collapsed": false,
    "pycharm": {
     "name": "#%% md\n"
    }
   }
  },
  {
   "cell_type": "markdown",
   "source": [],
   "metadata": {
    "collapsed": false,
    "pycharm": {
     "name": "#%% md\n"
    }
   }
  },
  {
   "cell_type": "markdown",
   "source": [
    "# Measures of Central Tendency"
   ],
   "metadata": {
    "collapsed": false,
    "pycharm": {
     "name": "#%% md\n"
    }
   }
  },
  {
   "cell_type": "markdown",
   "source": [
    "Measures that describe the data through 'averages'. The most common are the mean, median and mode. There is also geometric mean, harmonic mean, weighted-average mean, etc."
   ],
   "metadata": {
    "collapsed": false,
    "pycharm": {
     "name": "#%% md\n"
    }
   }
  },
  {
   "cell_type": "markdown",
   "source": [
    "> #### ***MEAN***\n",
    "\n",
    ">  Also known as 'Simple Average'. Denoted by **µ** for population and **x̄** for sample.\n",
    ">  Easily affected by outliers.\n",
    ">  Mean is not enough for definite conclusions."
   ],
   "metadata": {
    "collapsed": false,
    "pycharm": {
     "name": "#%% md\n"
    }
   }
  },
  {
   "cell_type": "markdown",
   "source": [
    "> #### ***MEDIAN***\n",
    "\n",
    ">  we have to sort our data in ascending order first.\n",
    ">  n+1 / 2\n",
    ">  Not affected by outliers."
   ],
   "metadata": {
    "collapsed": false,
    "pycharm": {
     "name": "#%% md\n"
    }
   }
  },
  {
   "cell_type": "markdown",
   "source": [
    "> #### ***MODE***\n",
    "\n",
    ">  Mode is the value that occurs most often.\n",
    ">  There maybe NO mode at all in the dataset."
   ],
   "metadata": {
    "collapsed": false,
    "pycharm": {
     "name": "#%% md\n"
    }
   }
  },
  {
   "cell_type": "markdown",
   "source": [
    "Mean, Median and Mode should be used together to get good understanding"
   ],
   "metadata": {
    "collapsed": false,
    "pycharm": {
     "name": "#%% md\n"
    }
   }
  },
  {
   "cell_type": "markdown",
   "source": [],
   "metadata": {
    "collapsed": false,
    "pycharm": {
     "name": "#%% md\n"
    }
   }
  },
  {
   "cell_type": "markdown",
   "source": [],
   "metadata": {
    "collapsed": false,
    "pycharm": {
     "name": "#%% md\n"
    }
   }
  },
  {
   "cell_type": "markdown",
   "source": [
    "# Measure of Asymmetry"
   ],
   "metadata": {
    "collapsed": false,
    "pycharm": {
     "name": "#%% md\n"
    }
   }
  },
  {
   "cell_type": "markdown",
   "source": [
    "Measures that describe the data through the level of symmetry that is observed. The most common are skewness and kurtosis."
   ],
   "metadata": {
    "collapsed": false,
    "pycharm": {
     "name": "#%% md\n"
    }
   }
  },
  {
   "cell_type": "markdown",
   "source": [
    "> #### ***SKEWNESS***\n",
    "\n",
    ">  Skewness indicates whether the data is concentrated on one side.\n",
    ">  **Mean > Median** : Positive Skew or Right Skew. We care about which side the tail is leading to. Right Skew means outliers are on the right.\n",
    ">  **Mean = Median = Mode** :  No Skew / Zero Skew / Symmetrical\n",
    ">  **Mean < Median** : Negative Skew or Left Skew. Outliers are on the left.\n",
    "\n",
    "> Skewness is important because it tells us where the data is situated."
   ],
   "metadata": {
    "collapsed": false,
    "pycharm": {
     "name": "#%% md\n"
    }
   }
  },
  {
   "cell_type": "markdown",
   "source": [
    "![skew](https://www.zarantech.com/blog/wp-content/uploads/2019/03/skewed-curves.png)"
   ],
   "metadata": {
    "collapsed": false,
    "pycharm": {
     "name": "#%% md\n"
    }
   }
  },
  {
   "cell_type": "markdown",
   "source": [],
   "metadata": {
    "collapsed": false,
    "pycharm": {
     "name": "#%% md\n"
    }
   }
  },
  {
   "cell_type": "markdown",
   "source": [],
   "metadata": {
    "collapsed": false,
    "pycharm": {
     "name": "#%% md\n"
    }
   }
  },
  {
   "cell_type": "markdown",
   "source": [
    "# Measures of Variability"
   ],
   "metadata": {
    "collapsed": false,
    "pycharm": {
     "name": "#%% md\n"
    }
   }
  },
  {
   "cell_type": "markdown",
   "source": [
    "Measures that describe the data through the level of dispersion (variability). The most common ones are variance and standard deviation."
   ],
   "metadata": {
    "collapsed": false,
    "pycharm": {
     "name": "#%% md\n"
    }
   }
  },
  {
   "cell_type": "markdown",
   "source": [
    "> ### ***VARIANCE***\n",
    "\n",
    "> Variance measures the dispersion of a set of data points around their mean.\n",
    "\n",
    "> **Population Variance** : σ**2 = ∑ni=1 (xi – μ)**2 / N\n",
    "> - Closer the number to mean, lower the result we will obtain.\n",
    "> - Further the number to mean, larger the difference.\n",
    "\n",
    "> **Sample Variance** : s**2 = Σ(xi−x̄)**2 / n−1\n",
    "> - Sample variance is used when our set of observation is a sample drawn from a bigger population.\n"
   ],
   "metadata": {
    "collapsed": false,
    "pycharm": {
     "name": "#%% md\n"
    }
   }
  },
  {
   "cell_type": "markdown",
   "source": [
    "> ### ***STD Deviation***\n",
    "\n",
    "> Though variance is a common method for data dispersion but in most cases, the figure we obtain is pretty large and hard to compare.\n",
    "\n",
    "> **Population Std Deviation** : Sqrt of population variance\n",
    "> **Sample Std Deviation** : Sqrt of sample variance\n",
    "\n",
    "> Std Deviation is the most common measure of variability for a SINGLE dataset."
   ],
   "metadata": {
    "collapsed": false,
    "pycharm": {
     "name": "#%% md\n"
    }
   }
  },
  {
   "cell_type": "markdown",
   "source": [
    "> ### ***Coefficient of Variation (CV)***\n",
    ">\n",
    "> **Relative Std Dev = Std Dev / Mean**\n",
    "> **Population Formula** : cv = σ/μ\n",
    "> **Sample Formula** : cv = S/x̄\n",
    "\n",
    ">  Comparing cv of TWO or MORE dataset."
   ],
   "metadata": {
    "collapsed": false,
    "pycharm": {
     "name": "#%% md\n"
    }
   }
  },
  {
   "cell_type": "markdown",
   "source": [
    "# ***STEPS to Follow*** :\n",
    "- Figure out data is a SAMPLE or POPULATION?\n",
    "- Then find the mean\n",
    "- Find the sample variance\n",
    "- Find Sample Std Deviation\n",
    "- Find Coefficients\n",
    "\n",
    "Professionals prefer using ***Std Deviation*** as the preferred measure of variability."
   ],
   "metadata": {
    "collapsed": false,
    "pycharm": {
     "name": "#%% md\n"
    }
   }
  },
  {
   "cell_type": "markdown",
   "source": [],
   "metadata": {
    "collapsed": false,
    "pycharm": {
     "name": "#%% md\n"
    }
   }
  },
  {
   "cell_type": "markdown",
   "source": [],
   "metadata": {
    "collapsed": false,
    "pycharm": {
     "name": "#%% md\n"
    }
   }
  },
  {
   "cell_type": "markdown",
   "source": [
    "# Covariance"
   ],
   "metadata": {
    "collapsed": false,
    "pycharm": {
     "name": "#%% md\n"
    }
   }
  },
  {
   "cell_type": "markdown",
   "source": [
    "So far we have covered univariate measures. Now we will work with measures that require more than one variable. Eg. House price depends upon Size."
   ],
   "metadata": {
    "collapsed": false,
    "pycharm": {
     "name": "#%% md\n"
    }
   }
  },
  {
   "cell_type": "markdown",
   "source": [
    "**Scatter Plot** requires covariance where two variables are correlated and the main statistic to measure this correlation is called covariance."
   ],
   "metadata": {
    "collapsed": false,
    "pycharm": {
     "name": "#%% md\n"
    }
   }
  },
  {
   "cell_type": "markdown",
   "source": [
    "> Covariance gives a sense of direction :\n",
    "> - `>0, the two variables move together\n",
    "> - <0, the two variables move in opposite directions\n",
    "> - =0, the two variables are independent\n",
    ">\n",
    ">\n",
    "> Problem with covariance is that it's value can be totally different and out of scale!"
   ],
   "metadata": {
    "collapsed": false,
    "pycharm": {
     "name": "#%% md\n"
    }
   }
  },
  {
   "cell_type": "markdown",
   "source": [],
   "metadata": {
    "collapsed": false,
    "pycharm": {
     "name": "#%% md\n"
    }
   }
  },
  {
   "cell_type": "markdown",
   "source": [
    "# Correlation"
   ],
   "metadata": {
    "collapsed": false,
    "pycharm": {
     "name": "#%% md\n"
    }
   }
  },
  {
   "cell_type": "markdown",
   "source": [
    "Correlation adjusts covariance, so that the relationship b/w two variables become easy and intuitive to interpret.\n",
    "\n",
    "cor = cov(x,y) / std(x) * std(y)\n",
    "\n",
    "correlation value stands between -1 and 1"
   ],
   "metadata": {
    "collapsed": false,
    "pycharm": {
     "name": "#%% md\n"
    }
   }
  },
  {
   "cell_type": "markdown",
   "source": [
    "> correlation coeff. = 1\n",
    "> - The entire variability of one variable is explained by the other. Also known as, Perfect Positive Correlation. Eg. Size of house determines price.\n",
    ">\n",
    "> correlation coeff. = 0\n",
    "> - Absolutely independent variables. Eg. House price in london and coffee price in brazil.\n",
    ">\n",
    "> correlation coeff. = -1 (-1,0)\n",
    "> - Negative Correlation among variables eg, ice-cream and warm jacket, one sells more in summer while other one makes loss."
   ],
   "metadata": {
    "collapsed": false,
    "pycharm": {
     "name": "#%% md\n"
    }
   }
  },
  {
   "cell_type": "markdown",
   "source": [
    "cov(x,y) = cov(y,x)  , symmetrical with respect to both variables.\n",
    "\n",
    "CAUSALITY :- ***It's important to understand the direction of casual relationships***\n",
    "- It's a asymmetric relation (x causes y is different from y causes x)"
   ],
   "metadata": {
    "collapsed": false,
    "pycharm": {
     "name": "#%% md\n"
    }
   }
  },
  {
   "cell_type": "code",
   "execution_count": null,
   "outputs": [],
   "source": [],
   "metadata": {
    "collapsed": false,
    "pycharm": {
     "name": "#%%\n"
    }
   }
  }
 ],
 "metadata": {
  "kernelspec": {
   "display_name": "Python 3",
   "language": "python",
   "name": "python3"
  },
  "language_info": {
   "codemirror_mode": {
    "name": "ipython",
    "version": 2
   },
   "file_extension": ".py",
   "mimetype": "text/x-python",
   "name": "python",
   "nbconvert_exporter": "python",
   "pygments_lexer": "ipython2",
   "version": "2.7.6"
  }
 },
 "nbformat": 4,
 "nbformat_minor": 0
}